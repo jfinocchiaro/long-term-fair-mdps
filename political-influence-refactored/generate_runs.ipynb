{
 "cells": [
  {
   "cell_type": "code",
   "execution_count": null,
   "metadata": {},
   "outputs": [],
   "source": [
    "#import libraries\n",
    "import warnings\n",
    "warnings.filterwarnings(\"ignore\")\n",
    "\n",
    "import numpy as np\n",
    "import matplotlib\n",
    "from matplotlib import pyplot as plt \n",
    "import random\n",
    "import pickle as pkls\n",
    "import pandas as pd\n",
    "\n",
    "#local files being imported\n",
    "import platform_opt\n",
    "from players import *\n",
    "import sims\n",
    "import sims_copy\n",
    "from statistics import variance\n",
    "#Note: when indexed as a list: group $A$ is 0, group $B$ is 1.\n",
    "#      when indexed as a dict: group $A$ is -1, group $B$ is 1."
   ]
  },
  {
   "cell_type": "code",
   "execution_count": 2,
   "metadata": {},
   "outputs": [],
   "source": [
    "# SIMULATION PARAMETERS AGNOSTIC TO DATA\n",
    "T = 5                 # max number of timesteps\n",
    "M = 100000            # size of unit mass\n",
    "\n",
    "#load parameters from dataset\n",
    "dataset_name = 'twitter_abortion'\n",
    "pi,beta_dist,P,v,c,q = sims.get_params(dataset_name)"
   ]
  },
  {
   "cell_type": "markdown",
   "metadata": {},
   "source": [
    "Don't run this next cell if you already know what the theta params are"
   ]
  },
  {
   "cell_type": "code",
   "execution_count": null,
   "metadata": {},
   "outputs": [],
   "source": [
    "#how to show articles at timestep 1\n",
    "#epsilon for additive constraints (difference in expected exposure bounded by epsilon)\n",
    "epsilon = 1e-2\n",
    "\n",
    "#params for ratio constraints\n",
    "delta_low = 0.7\n",
    "delta_high = 1.5\n",
    "    \n",
    "theta_additive = platform_opt.opt_additive(pi, q, T, epsilon,c,v,beta_dist, exposure_e=0.1) #constrained with exposure equality\n",
    "#theta_opt = platform_opt.opt_unconstrained(pi, q, T, epsilon,c,v,beta_dist) #unconstrained to optimize clicks\n",
    "theta_ratio = platform_opt.opt_ratios(pi, q, T, c,v,beta_dist,delta_low, delta_high, exposure_e=0.1) #constrained with exposure equality\n",
    "\n",
    "theta_opt = {1:0., -1:1.}\n",
    "theta_half = {1: 0.5, -1: 0.5}\n",
    "\n",
    "print(theta_ratio)\n",
    "print(theta_additive)"
   ]
  },
  {
   "cell_type": "markdown",
   "metadata": {},
   "source": [
    "Run this if loading theta from previous runs."
   ]
  },
  {
   "cell_type": "code",
   "execution_count": 3,
   "metadata": {},
   "outputs": [],
   "source": [
    "#since the optimization in the following cell only needs to be run once per set of parameters\n",
    "\n",
    "\n",
    "#T = 5, delta_low = 0.7, delta_high = 1.5, dataset_name = twitter_abortion, epsilon = 1e-2, exposure_e = 0.1\n",
    "theta_ratio = {1: 0.2834815147245223, -1: 0.6107897012879441}\n",
    "theta_additive = {1: 0.09999999999481513, -1: 0.5971257773943613}\n",
    "theta_opt = {1:0., -1:1.}\n",
    "theta_half = {1: 0.5, -1: 0.5}"
   ]
  },
  {
   "cell_type": "code",
   "execution_count": 4,
   "metadata": {},
   "outputs": [],
   "source": [
    "trials_to_run = {'additive':theta_additive, 'half':theta_half, 'opt':theta_opt, 'ratio':theta_ratio}\n",
    "num_trials = 5"
   ]
  },
  {
   "cell_type": "markdown",
   "metadata": {},
   "source": [
    "given number of trials and which types of interventions we want to test, returns the outputs "
   ]
  },
  {
   "cell_type": "code",
   "execution_count": null,
   "metadata": {},
   "outputs": [],
   "source": [
    "trials = [sims.runModel_samepop(T, pi, M, P, beta_dist, v,c,q, trials_to_run) for ix in range(num_trials)]\n",
    "avg = sims.average_dfs(trials) #dict of dataframes"
   ]
  },
  {
   "cell_type": "markdown",
   "metadata": {},
   "source": [
    "new way of saving the trials.  trials is a list of dicts of dataframes; dicts indexed by theta_type, and dataframes have number of players, shown, click, and share"
   ]
  },
  {
   "cell_type": "code",
   "execution_count": null,
   "metadata": {},
   "outputs": [],
   "source": [
    "sims.saveRuns(trials, 'same_init_runs/' + str(dataset_name) + '/trials.pkl')\n",
    "sims.saveRuns(avg, 'same_init_runs/' + str(dataset_name) + '/averages.pkl')"
   ]
  },
  {
   "cell_type": "markdown",
   "metadata": {},
   "source": [
    "new way to unpickle data"
   ]
  },
  {
   "cell_type": "code",
   "execution_count": 5,
   "metadata": {},
   "outputs": [],
   "source": [
    "trials = sims.loadRuns('same_init_runs/' + str(dataset_name) + '/trials.pkl') #path not right\n",
    "avg = sims.loadRuns('same_init_runs/' + str(dataset_name) + '/averages.pkl')\n"
   ]
  },
  {
   "cell_type": "code",
   "execution_count": null,
   "metadata": {},
   "outputs": [],
   "source": [
    "#average intergroup exposure and share\n",
    "#normalized by number of impressions/clicks in model\n",
    "#higher is better here\n",
    "\n",
    "print('Intergroup exposure')\n",
    "for theta_type in trials_to_run.keys():\n",
    "    print(theta_type)\n",
    "    print(np.sum([avg[theta_type]['shown'][i][(1,-1)] for i in range(len(avg[theta_type]['shown'].index))]))\n",
    "    print(np.sum([avg[theta_type]['shown'][i][(-1,1)] for i in range(len(avg[theta_type]['shown'].index))]))\n",
    "    #print(np.abs(np.sum([avg[theta_type]['shown'][i][(1,-1)] for i in range(len(avg[theta_type]['shown'].index))]) \\\n",
    "    #             - np.sum([avg[theta_type]['shown'][i][(-1,1)] for i in range(len(avg[theta_type]['shown'].index))])))\n",
    "    #this absolute difference being high isn't bad: it means that the algo is compensating for class imbalance.\n",
    "    \n",
    "print('\\nIntergroup shares')\n",
    "for theta_type in trials_to_run.keys():\n",
    "    print(theta_type)\n",
    "    print(np.sum([avg[theta_type]['share'][i][(1,-1)] for i in range(len(avg[theta_type]['share'].index))]))\n",
    "    print(np.sum([avg[theta_type]['share'][i][(-1,1)] for i in range(len(avg[theta_type]['share'].index))]))\n",
    "    #print(np.abs(np.sum([avg[theta_type]['share'][i][(1,-1)] for i in range(len(avg[theta_type]['share'].index))]) \\\n",
    "    #             - np.sum([avg[theta_type]['share'][i][(-1,1)] for i in range(len(avg[theta_type]['share'].index))])))\n",
    "    #this absolute difference being high isn't bad: it means that the algo is compensating for class imbalance.\n",
    "    \n"
   ]
  },
  {
   "cell_type": "code",
   "execution_count": null,
   "metadata": {},
   "outputs": [],
   "source": [
    "num_trials = len(avg['opt']['players_list'])\n",
    "hehe= []\n",
    "\n",
    "for theta_type in trials_to_run.keys():\n",
    "    plt.plot(avg[theta_type]['players_list'])\n",
    "    hehe.append(theta_type)\n",
    "\n",
    "plt.title(\"Number of players remaining in the model (avg over %i trials)\" % (num_trials))\n",
    "plt.ylabel(\"Number of players shown an article\")\n",
    "plt.xlabel(\"timestep $t$\")\n",
    "plt.yscale('log')\n",
    "plt.xlim((0,T))\n",
    "plt.ylim((1, M))\n",
    "plt.legend(hehe)\n",
    "#plt.legend(('Exposure-constrained $\\\\theta_{add}$', 'Unconstrained $\\\\tilde \\\\theta$', 'Half-exposure $\\\\theta_g = 1/2$'))\n",
    "plt.show()"
   ]
  },
  {
   "cell_type": "code",
   "execution_count": null,
   "metadata": {},
   "outputs": [],
   "source": [
    "#calculate boxplot data\n",
    "ig_shares = {}\n",
    "ig_shown = {}\n",
    "for theta_type in trials_to_run.keys():\n",
    "    ig_shares[theta_type] = []\n",
    "    ig_shown[theta_type] = []\n",
    "    for i in range(num_trials):\n",
    "        ig_shown[theta_type].append(np.sum([trials[i][theta_type]['shown'][j][(1,-1)] \\\n",
    "                                        + trials[i][theta_type]['shown'][j][(-1,1)] for j in range(T)]))\n",
    "        ig_shares[theta_type].append(np.sum([trials[i][theta_type]['share'][j][(1,-1)] \\\n",
    "                                        + trials[i][theta_type]['share'][j][(-1,1)] for j in range(T)]))\n",
    "    \n",
    "\n",
    "        \n",
    "# plot data\n",
    "fig1, (ax1, ax2) = plt.subplots(1,2)\n",
    "\n",
    "ax1.set_title('Intergroup Exposure of articles')\n",
    "ax1.boxplot([value for key,value in ig_shown.items()], labels=ig_shown.keys())\n",
    "\n",
    "ax2.set_title('Intergroup Sharing of articles')\n",
    "ax2.boxplot([value for key,value in ig_shares.items()], labels=ig_shares.keys())\n",
    "\n",
    "plt.setp(ax1.xaxis.get_majorticklabels(), rotation=45)\n",
    "plt.setp(ax2.xaxis.get_majorticklabels(), rotation=45)"
   ]
  },
  {
   "cell_type": "code",
   "execution_count": 19,
   "metadata": {},
   "outputs": [
    {
     "data": {
      "image/png": "[encoded data removed]",
      "text/plain": [
       "<Figure size 432x288 with 1 Axes>"
      ]
     },
     "metadata": {
      "needs_background": "light"
     },
     "output_type": "display_data"
    }
   ],
   "source": [
    "pof = {}\n",
    "for theta_type in trials_to_run.keys():\n",
    "    pof[theta_type] = [(trials[i]['opt']['players_list'].sum() / trials[i][theta_type]['players_list'].sum()) for i in range(num_trials)]\n",
    "\n",
    "del(pof['opt'])\n",
    "\n",
    "fig1, ax1 = plt.subplots()\n",
    "\n",
    "ax1.set_title('Price of Fairness')\n",
    "ax1.boxplot([value for key,value in pof.items()], labels=pof.keys())\n",
    "\n",
    "plt.savefig('figures/pof.png')"
   ]
  },
  {
   "cell_type": "code",
   "execution_count": 20,
   "metadata": {},
   "outputs": [
    {
     "data": {
      "text/plain": [
       "[None, None, None, None, None, None, None, None]"
      ]
     },
     "execution_count": 20,
     "metadata": {},
     "output_type": "execute_result"
    },
    {
     "data": {
      "image/png": "[encoded data removed]",
      "text/plain": [
       "<Figure size 432x288 with 2 Axes>"
      ]
     },
     "metadata": {
      "needs_background": "light"
     },
     "output_type": "display_data"
    }
   ],
   "source": [
    "#calculate boxplots for difference in exposure \n",
    "#should be close to 0\n",
    "# if np.abs removed, positive means article B shown more\n",
    "#calculate boxplot data\n",
    "ig_shares = {}\n",
    "ig_shown = {}\n",
    "for theta_type in trials_to_run.keys():\n",
    "    ig_shares[theta_type] = []\n",
    "    ig_shown[theta_type] = []\n",
    "    for i in range(num_trials):\n",
    "        ig_shown[theta_type].append(np.abs(np.sum([trials[i][theta_type]['shown'][j][(1,-1)] \\\n",
    "                                        - trials[i][theta_type]['shown'][j][(-1,1)] for j in range(T)])))\n",
    "        ig_shares[theta_type].append(np.abs(np.sum([trials[i][theta_type]['share'][j][(1,-1)] \\\n",
    "                                        - trials[i][theta_type]['share'][j][(-1,1)] for j in range(T)])))\n",
    "    \n",
    "\n",
    "        \n",
    "# plot data\n",
    "fig1, (ax1, ax2) = plt.subplots(1,2)\n",
    "\n",
    "ax1.set_title('Disparity in exposure of articles')\n",
    "ax1.boxplot([value for key,value in ig_shown.items()], labels=ig_shown.keys())\n",
    "\n",
    "ax2.set_title('Disparity in sharing of articles')\n",
    "ax2.boxplot([value for key,value in ig_shares.items()], labels=ig_shares.keys())\n",
    "\n",
    "plt.setp(ax1.xaxis.get_majorticklabels(), rotation=45)\n",
    "plt.setp(ax2.xaxis.get_majorticklabels(), rotation=45)"
   ]
  },
  {
   "cell_type": "markdown",
   "metadata": {},
   "source": [
    "Set of experiments to understand impact of additive epsilon.  Replicate with ratio epsilon"
   ]
  },
  {
   "cell_type": "code",
   "execution_count": 22,
   "metadata": {},
   "outputs": [],
   "source": [
    "T=5\n",
    "theta_A = {}\n",
    "theta_B = {}\n",
    "delta_low = 0.7\n",
    "delta_high= 1.5\n",
    "for exp in [0., 0.01, 0.05, 0.1, 0.2, 0.25]:\n",
    "    #theta_fair = platform_opt.constrained(pi, q, T, c,v,beta_dist, delta_low, delta_high, exposure_e=exp) #constrained with exposure equality \n",
    "    theta_fair = platform_opt.opt_ratios(pi, q, T, c,v,beta_dist, delta_low, delta_high, exposure_e=exp) #constrained with exposure equality \n",
    "    theta_A[exp] = theta_fair[-1]\n",
    "    theta_B[exp] = theta_fair[1]\n",
    "    \n",
    "list_A = sorted(theta_A.items()) # sorted by key, return a list of tuples\n",
    "eps_A, thetaA = zip(*list_A) # unpack a list of pairs into two tuples\n",
    "\n",
    "list_B = sorted(theta_B.items()) # sorted by key, return a list of tuples\n",
    "eps_B, thetaB = zip(*list_B) # unpack a list of pairs into two tuples\n",
    "\n"
   ]
  },
  {
   "cell_type": "code",
   "execution_count": 23,
   "metadata": {},
   "outputs": [
    {
     "data": {
      "image/png": "[encoded data removed]",
      "text/plain": [
       "<Figure size 432x288 with 1 Axes>"
      ]
     },
     "metadata": {
      "needs_background": "light"
     },
     "output_type": "display_data"
    }
   ],
   "source": [
    "plt.plot(eps_A, thetaA, 'bo')\n",
    "plt.plot(eps_B, thetaB, 'gx')\n",
    "plt.xlim((-0.01,0.27))\n",
    "plt.ylim((-0.05,1.05))\n",
    "plt.title('$\\\\theta_A$ and $\\\\theta_B$ imposing exposure constraints; T = %i' % (T))\n",
    "plt.legend(['$\\\\theta_A$', '$\\\\theta_B$'])\n",
    "plt.xlabel('$\\\\gamma : \\\\theta_g \\\\in [\\\\gamma, 1-\\\\gamma]$')\n",
    "plt.ylabel('$\\\\theta_g$')\n",
    "plt.show()"
   ]
  },
  {
   "cell_type": "markdown",
   "metadata": {},
   "source": [
    "experiment with ratio constraint parameters"
   ]
  },
  {
   "cell_type": "code",
   "execution_count": 41,
   "metadata": {},
   "outputs": [],
   "source": [
    "T=5\n",
    "theta_A = {}\n",
    "theta_B = {}\n",
    "exposure_e = 0.1\n",
    "for delta_low in [0.5, 0.7, 0.9, 0.95]:\n",
    "    for delta_high in [1.1, 1.5, 2.]:\n",
    "        theta_ratio = platform_opt.opt_ratios(pi, q, T, c,v,beta_dist, delta_low, delta_high, exposure_e=exposure_e) #constrained with exposure equality \n",
    "        theta_A[(delta_low, delta_high)] = theta_ratio[-1]\n",
    "        theta_B[(delta_low, delta_high)] = theta_ratio[1]\n",
    "    \n",
    "list_A = sorted(theta_A.items()) # sorted by key, return a list of tuples\n",
    "hold_A, thetaA = zip(*list_A) # unpack a list of pairs into two tuples\n",
    "delta_low_A, delta_high_A = zip(*hold_A)\n",
    "\n",
    "list_B = sorted(theta_B.items()) # sorted by key, return a list of tuples\n",
    "hold_B, thetaB = zip(*list_B) # unpack a list of pairs into two tuples\n",
    "delta_low_B, delta_high_B = zip(*hold_B)\n",
    "\n"
   ]
  },
  {
   "cell_type": "code",
   "execution_count": 42,
   "metadata": {},
   "outputs": [
    {
     "name": "stdout",
     "output_type": "stream",
     "text": [
      "[((0.5, 1.1), 0.5663659478305321), ((0.5, 1.5), 0.9000000000282394), ((0.5, 2.0), 0.899999999786876), ((0.7, 1.1), 0.5663659479009843), ((0.7, 1.5), 0.9000000000396997), ((0.7, 2.0), 0.8999999994842953), ((0.9, 1.1), 0.5663659476119738), ((0.9, 1.5), 0.9000000000672496), ((0.9, 2.0), 0.9000000000046633), ((0.95, 1.1), 0.5663659473823354), ((0.95, 1.5), 0.9000000000727995), ((0.95, 2.0), 0.9000000000025876)]\n"
     ]
    },
    {
     "data": {
      "image/png": "[encoded data removed]",
      "text/plain": [
       "<Figure size 432x288 with 1 Axes>"
      ]
     },
     "metadata": {
      "needs_background": "light"
     },
     "output_type": "display_data"
    }
   ],
   "source": [
    "fig = plt.figure()\n",
    "ax = fig.add_subplot(projection='3d')\n",
    "ax.scatter(delta_low_A, delta_high_A, thetaA)\n",
    "ax.scatter(delta_low_B, delta_high_B, thetaB)\n",
    "\n",
    "ax.set_xlabel('$\\\\delta_{low}$')\n",
    "ax.set_ylabel('$\\\\delta_{high}$')\n",
    "ax.set_zlabel('$\\\\theta_A$')\n",
    "\n",
    "plt.show()"
   ]
  },
  {
   "cell_type": "markdown",
   "metadata": {},
   "source": [
    "heatmap varying homophily constraint"
   ]
  },
  {
   "cell_type": "code",
   "execution_count": null,
   "metadata": {},
   "outputs": [],
   "source": [
    "import numpy as np\n",
    "import seaborn as sns\n",
    "import pickle as pkl\n",
    "import pandas as pd\n",
    "\n",
    "#heatmap varying q_A and q_B\n",
    "num_trials = 25\n",
    "M = 100000\n",
    "pi= {-1: 0.5, 1: 0.5}\n",
    "\n",
    "T = 5\n",
    "add_epsilon = 0.001        \n",
    "delta_low = 0.7\n",
    "delta_high = 1.5\n",
    "c = {(1,1): 1., (-1,1): 1., (1,-1): 1., (-1,-1): 1.}\n",
    "v = {( 1,  1):   2000.,\n",
    "     (-1,  1):   500.,\n",
    "     ( 1, -1):   500.,\n",
    "     (-1, -1):   2000. }\n",
    "\n",
    "beta_dist = {(1,1) : (1., 9.),\n",
    "                    (-1,1) : (1., 29.),\n",
    "                    (1,-1) : (1., 29.),\n",
    "                    (-1,-1): (1., 9.)}\n",
    "\n",
    "P = {}\n",
    "for a in [-1,1]:\n",
    "    for g in [-1,1]:\n",
    "        P[(a,g)] = beta_dist[(a,g)][0] / (beta_dist[(a,g)][0] +  beta_dist[(a,g)][1])\n",
    "\n",
    "\n",
    "share_list = []\n",
    "ig_share_list = [] #intergroup shares\n",
    "\n",
    "st = 0.1\n",
    "n = np.arange(0.5, 1.01, step=st).shape[0]\n",
    "data = np.zeros(n)\n",
    "ig_data = np.zeros(n)\n",
    "\n",
    "\n",
    "\n",
    "\n",
    "for k,q_A in enumerate(np.arange(0.5, 1.01, step=st)):\n",
    "    q = {-1: q_A, 1: q_A}\n",
    "    theta_fair = platform_opt.opt_constrained(pi, q, T, epsilon,c,v,beta_dist, exposure_e=0.0)\n",
    "    for i in range(num_trials):\n",
    "        players_in_model_fair, shown_d_fair, click_d_fair, share_d_fair = sims.runModel(theta_fair, T, pi, M, P, beta_dist, v,c,q)\n",
    "        share_list.append(sum([share_d_fair[key] for key in share_d_fair.keys()]))\n",
    "        ig_share_list.append(sum([share_d_fair[key] for key in share_d_fair.keys() if key[0] == -key[1]]))\n",
    "\n",
    "\n",
    "    data[k] = np.mean(share_list)\n",
    "    ig_data[k] = np.mean(ig_share_list)\n",
    "\n"
   ]
  },
  {
   "cell_type": "code",
   "execution_count": null,
   "metadata": {},
   "outputs": [],
   "source": [
    "#fig, (ax1,ax2) = plt.subplots(1,2)\n",
    "sns.set()\n",
    "df = pd.DataFrame({\"Total Shares\": data, \"Intergroup Shares\": ig_data, \"$q_A = q_B$\" : np.round(np.arange(0.5, 1.01, step=st), 2)})\n",
    "\n",
    "ax = sns.factorplot(data = df, x = \"$q_A = q_B$\", y = \"Total Shares\", log=True)\n",
    "plt.title(\"Effect of homophily on total number of shares\")\n",
    "plt.savefig('figures/homophily_shares.png')\n",
    "plt.show()\n",
    "\n",
    "ax = sns.factorplot(data = df, x = \"$q_A = q_B$\", y = \"Intergroup Shares\", log=True)\n",
    "plt.title(\"Effect of homophily on number of intergroup shares\")\n",
    "plt.savefig('figures/homophily_ig_shares.png')\n",
    "plt.show()\n"
   ]
  },
  {
   "cell_type": "code",
   "execution_count": null,
   "metadata": {},
   "outputs": [],
   "source": [
    "sims.saveRuns(df, 'same_init_runs/homophily_shares.pkl')"
   ]
  },
  {
   "cell_type": "code",
   "execution_count": null,
   "metadata": {},
   "outputs": [],
   "source": [
    "#varying psi\n",
    "#import numpy as np\n",
    "#import seaborn as sns\n",
    "\n",
    "#heatmap varying Psi\n",
    "num_trials = 25\n",
    "M = 10000\n",
    "pi= {-1: 0.5, 1: 0.5}\n",
    "\n",
    "T = 6\n",
    "epsilon = 0.001        \n",
    "c = {(1,1): 1., (-1,1): 1., (1,-1): 1., (-1,-1): 1.}\n",
    "\n",
    "#beta_dist = {(1,1) : (0.9541492709534125, 1.345006644515015),\n",
    "#                    (-1,1) : (0.1822515775580026, 2.7574965182522644),\n",
    "#                    (1,-1) : (0.09576097403924465, 3.09136619146736),\n",
    "#                    (-1,-1): (0.8828729918440646, 1.6247070146941363)}\n",
    "\n",
    "beta_dist = {(1,1) : (1., 9.),\n",
    "                    (-1,1) : (1., 29.),\n",
    "                    (1,-1) : (1., 29.),\n",
    "                    (-1,-1): (1., 9.)}\n",
    "\n",
    "P = {}\n",
    "for a in [-1,1]:\n",
    "    for g in [-1,1]:\n",
    "        P[(a,g)] = beta_dist[(a,g)][0] / (beta_dist[(a,g)][0] +  beta_dist[(a,g)][1])\n",
    "\n",
    "q = {1: 0.8, -1: 0.8}\n",
    "\n",
    "share_list = []\n",
    "ig_share_list = [] #intergroup shares\n",
    "\n",
    "st = 500\n",
    "rng_min = 500\n",
    "rng_max = 2501\n",
    "n = np.arange(rng_min, rng_max, step=st).shape[0]\n",
    "data_psi = np.zeros((n,n))\n",
    "ig_data_psi = np.zeros((n,n))\n",
    "\n",
    "\n",
    "for k,intra in enumerate(np.arange(rng_min, rng_max, step=st)):\n",
    "    for j,inter in enumerate(np.arange(rng_min, rng_max, step=st)):\n",
    "        v = {(1,1): intra, (-1,1): inter, (1,-1): inter, (-1,-1):intra }\n",
    "        #print('v: ' + str(v))\n",
    "        theta_fair = platform_opt.opt_constrained(pi, q, T, epsilon,c,v,beta_dist, exposure_e=0.0)\n",
    "        #print('Theta:  ' + str(theta_fair))\n",
    "        for i in range(num_trials):\n",
    "            players_in_model_fair, shown_d_fair, click_d_fair, share_d_fair = sims.runModel(theta_fair, T, pi, M, P, beta_dist, v,c,q)\n",
    "            share_list.append(sum([share_d_fair[key] for key in share_d_fair.keys()]) / sum(players_in_model_fair))\n",
    "            ig_share_list.append(sum([share_d_fair[key] for key in share_d_fair.keys() if key[0] == -key[1]]) / sum(players_in_model_fair))\n",
    "                     \n",
    "        data_psi[k,j] = np.mean(share_list)\n",
    "        ig_data_psi[k,j] = np.mean(ig_share_list)\n",
    "                    \n"
   ]
  },
  {
   "cell_type": "code",
   "execution_count": null,
   "metadata": {},
   "outputs": [],
   "source": [
    "import seaborn as sns \n",
    "print(data_psi)\n",
    "\n",
    "sns.set()\n",
    "ax = sns.heatmap(data_psi,cmap=\"Blues\", xticklabels=[np.round(x,2) for x in np.arange(rng_min, rng_max, step=st)], yticklabels=[np.round(x,2) for x in np.arange(rng_min, rng_max, step=st)])\n",
    "plt.title(\"Effect on $\\\\psi$ on share rate\")\n",
    "plt.xlabel(\"intergroup $v$ value\")\n",
    "plt.ylabel(\"intragroup $v$ value\")\n",
    "plt.savefig('figures/heatmap_psi.png')\n",
    "plt.show()\n",
    "\n",
    "\n",
    "\n",
    "sns.set()\n",
    "ax = sns.heatmap(ig_data_psi,cmap=\"Blues\", xticklabels=[np.round(x,2) for x in np.arange(rng_min, rng_max, step=st)], yticklabels=[np.round(x,2) for x in np.arange(rng_min, rng_max, step=st)])\n",
    "plt.title(\"Effect on $\\\\psi$ on intergroup shares\")\n",
    "plt.xlabel(\"intergroup $v$ value\")\n",
    "plt.ylabel(\"intragroup $v$ value\")\n",
    "plt.savefig('figures/heatmap_psi_intergroup.png')\n",
    "plt.show()\n"
   ]
  },
  {
   "cell_type": "code",
   "execution_count": null,
   "metadata": {},
   "outputs": [],
   "source": [
    "sims.saveRuns(data_psi, 'simulation_data/heatmap_psi.pkl')\n",
    "sims.saveRuns(ig_data_psi, 'simulation_data/heatmap_psi_intergroup.pkl')"
   ]
  },
  {
   "cell_type": "code",
   "execution_count": null,
   "metadata": {},
   "outputs": [],
   "source": []
  }
 ],
 "metadata": {
  "kernelspec": {
   "display_name": "Python 3",
   "language": "python",
   "name": "python3"
  },
  "language_info": {
   "codemirror_mode": {
    "name": "ipython",
    "version": 3
   },
   "file_extension": ".py",
   "mimetype": "text/x-python",
   "name": "python",
   "nbconvert_exporter": "python",
   "pygments_lexer": "ipython3",
   "version": "3.8.3"
  }
 },
 "nbformat": 4,
 "nbformat_minor": 4
}

{
 "cells": [
  {
   "cell_type": "code",
   "execution_count": 1,
   "metadata": {},
   "outputs": [],
   "source": [
    "#import libraries\n",
    "import warnings\n",
    "warnings.filterwarnings(\"ignore\")\n",
    "\n",
    "import numpy as np\n",
    "import matplotlib\n",
    "from matplotlib import pyplot as plt \n",
    "import random\n",
    "import pickle as pkls\n",
    "import pandas as pd\n",
    "\n",
    "#local files being imported\n",
    "import platform_opt\n",
    "from players import *\n",
    "import sims\n",
    "import sims_copy\n",
    "from statistics import variance\n",
    "#Note: when indexed as a list: group $A$ is 0, group $B$ is 1.\n",
    "#      when indexed as a dict: group $A$ is -1, group $B$ is 1."
   ]
  },
  {
   "cell_type": "code",
   "execution_count": 2,
   "metadata": {},
   "outputs": [],
   "source": [
    "# SIMULATION PARAMETERS AGNOSTIC TO DATA\n",
    "T = 5                 # max number of timesteps\n",
    "M = 100000            # size of unit mass\n",
    "\n",
    "#load parameters from dataset\n",
    "dataset_name = 'twitter_abortion'\n",
    "pi,beta_dist,P,v,c,q = sims.get_params(dataset_name)"
   ]
  },
  {
   "cell_type": "markdown",
   "metadata": {},
   "source": [
    "Don't run this next cell if you already know what the theta params are"
   ]
  },
  {
   "cell_type": "code",
   "execution_count": 3,
   "metadata": {},
   "outputs": [
    {
     "name": "stdout",
     "output_type": "stream",
     "text": [
      "{-1: 0.1, 1: 0.3263292349913845}\n",
      "{-1: 9.242537803114345e-31, 1: 1.0}\n",
      "{-1: 0.10000000000000002, 1: 0.9000000000000004}\n"
     ]
    }
   ],
   "source": [
    "#how to show articles at timestep 1\n",
    "#epsilon for additive constraints (difference in expected exposure bounded by epsilon)\n",
    "epsilon = 0.3\n",
    "\n",
    "#params for ratio constraints\n",
    "delta_low = 0.2\n",
    "delta_high = 2\n",
    "    \n",
    "theta_additive = platform_opt.opt('additive',pi, q, T, c,v,beta_dist,epsilon=epsilon, exposure_e=0.1) #constrained with exposure equality\n",
    "theta_opt = platform_opt.opt('unconstrained', pi, q, T, c,v,beta_dist) #unconstrained to optimize clicks\n",
    "theta_ratio = platform_opt.opt('ratio',pi, q, T, c,v,beta_dist,delta_low=delta_low, delta_high=delta_high, exposure_e=0.1) #constrained with exposure equality\n",
    "\n",
    "#theta_opt = {1:1., -1:0.}\n",
    "theta_half = {1: 0.5, -1: 0.5}\n",
    "\n",
    "print(theta_additive)\n",
    "print(theta_opt)\n",
    "print(theta_ratio)"
   ]
  },
  {
   "cell_type": "markdown",
   "metadata": {},
   "source": [
    "Run this if loading theta from previous runs."
   ]
  },
  {
   "cell_type": "code",
   "execution_count": 4,
   "metadata": {},
   "outputs": [],
   "source": [
    "#since the optimization in the following cell only needs to be run once per set of parameters\n",
    "\n",
    "\n",
    "#T = 5, delta_low = 0.7, delta_high = 1.5, dataset_name = twitter_abortion, epsilon = 1e-2, exposure_e = 0.1\n",
    "theta_ratio = {1: 0.2834815147245223, -1: 0.6107897012879441}\n",
    "theta_additive = {1: 0.09999999999481513, -1: 0.5971257773943613}\n",
    "theta_opt = {1:0., -1:1.}\n",
    "theta_half = {1: 0.5, -1: 0.5}"
   ]
  },
  {
   "cell_type": "code",
   "execution_count": 5,
   "metadata": {},
   "outputs": [],
   "source": [
    "trials_to_run = {'additive':theta_additive, 'half':theta_half, 'opt':theta_opt, 'ratio':theta_ratio}\n",
    "num_trials = 10"
   ]
  },
  {
   "cell_type": "markdown",
   "metadata": {},
   "source": [
    "given number of trials and which types of interventions we want to test, returns the outputs "
   ]
  },
  {
   "cell_type": "code",
   "execution_count": 6,
   "metadata": {},
   "outputs": [],
   "source": [
    "trials = [sims.runModel_samepop(T, pi, M, P, beta_dist, v,c,q, trials_to_run) for ix in range(num_trials)]\n",
    "avg = sims.average_dfs(trials) #dict of dataframes"
   ]
  },
  {
   "cell_type": "markdown",
   "metadata": {},
   "source": [
    "new way of saving the trials.  trials is a list of dicts of dataframes; dicts indexed by theta_type, and dataframes have number of players, shown, click, and share"
   ]
  },
  {
   "cell_type": "code",
   "execution_count": 7,
   "metadata": {},
   "outputs": [],
   "source": [
    "sims.saveRuns(trials, 'same_init_runs/' + str(dataset_name) + '/trials.pkl')\n",
    "sims.saveRuns(avg, 'same_init_runs/' + str(dataset_name) + '/averages.pkl')"
   ]
  },
  {
   "cell_type": "markdown",
   "metadata": {},
   "source": [
    "new way to unpickle data"
   ]
  },
  {
   "cell_type": "code",
   "execution_count": 8,
   "metadata": {},
   "outputs": [],
   "source": [
    "trials = sims.loadRuns('same_init_runs/' + str(dataset_name) + '/trials.pkl') #path not right\n",
    "avg = sims.loadRuns('same_init_runs/' + str(dataset_name) + '/averages.pkl')\n"
   ]
  },
  {
   "cell_type": "code",
   "execution_count": 9,
   "metadata": {},
   "outputs": [
    {
     "name": "stdout",
     "output_type": "stream",
     "text": [
      "Intergroup exposure\n",
      "additive\n",
      "33724.40000000001\n",
      "38427.5\n",
      "half\n",
      "19050.199999999997\n",
      "32198.4\n",
      "opt\n",
      "37420.200000000004\n",
      "63433.2\n",
      "ratio\n",
      "27004.700000000004\n",
      "39126.4\n",
      "\n",
      "Intergroup shares\n",
      "additive\n",
      "1111.8\n",
      "120.3\n",
      "half\n",
      "615.9\n",
      "106.8\n",
      "opt\n",
      "1236.0\n",
      "207.0\n",
      "ratio\n",
      "887.8000000000001\n",
      "136.5\n"
     ]
    }
   ],
   "source": [
    "#average intergroup exposure and share\n",
    "#normalized by number of impressions/clicks in model\n",
    "#higher is better here\n",
    "\n",
    "print('Intergroup exposure')\n",
    "for theta_type in trials_to_run.keys():\n",
    "    print(theta_type)\n",
    "    print(np.sum([avg[theta_type]['shown'][i][(1,-1)] for i in range(len(avg[theta_type]['shown'].index))]))\n",
    "    print(np.sum([avg[theta_type]['shown'][i][(-1,1)] for i in range(len(avg[theta_type]['shown'].index))]))\n",
    "    #print(np.abs(np.sum([avg[theta_type]['shown'][i][(1,-1)] for i in range(len(avg[theta_type]['shown'].index))]) \\\n",
    "    #             - np.sum([avg[theta_type]['shown'][i][(-1,1)] for i in range(len(avg[theta_type]['shown'].index))])))\n",
    "    #this absolute difference being high isn't bad: it means that the algo is compensating for class imbalance.\n",
    "    \n",
    "print('\\nIntergroup shares')\n",
    "for theta_type in trials_to_run.keys():\n",
    "    print(theta_type)\n",
    "    print(np.sum([avg[theta_type]['share'][i][(1,-1)] for i in range(len(avg[theta_type]['share'].index))]))\n",
    "    print(np.sum([avg[theta_type]['share'][i][(-1,1)] for i in range(len(avg[theta_type]['share'].index))]))\n",
    "    #print(np.abs(np.sum([avg[theta_type]['share'][i][(1,-1)] for i in range(len(avg[theta_type]['share'].index))]) \\\n",
    "    #             - np.sum([avg[theta_type]['share'][i][(-1,1)] for i in range(len(avg[theta_type]['share'].index))])))\n",
    "    #this absolute difference being high isn't bad: it means that the algo is compensating for class imbalance.\n",
    "    \n"
   ]
  },
  {
   "cell_type": "code",
   "execution_count": 10,
   "metadata": {},
   "outputs": [
    {
     "data": {
      "image/png": "[encoded data removed]",
      "text/plain": [
       "<Figure size 432x288 with 1 Axes>"
      ]
     },
     "metadata": {
      "needs_background": "light"
     },
     "output_type": "display_data"
    }
   ],
   "source": [
    "num_trials = len(avg['opt']['players_list'])\n",
    "hehe= []\n",
    "\n",
    "for theta_type in trials_to_run.keys():\n",
    "    plt.plot(avg[theta_type]['players_list'])\n",
    "    hehe.append(theta_type)\n",
    "\n",
    "plt.title(\"Number of players remaining in the model (avg over %i trials)\" % (num_trials))\n",
    "plt.ylabel(\"Number of players shown an article\")\n",
    "plt.xlabel(\"timestep $t$\")\n",
    "plt.yscale('log')\n",
    "plt.xlim((0,T))\n",
    "plt.ylim((1, M))\n",
    "plt.legend(hehe)\n",
    "#plt.legend(('Exposure-constrained $\\\\theta_{add}$', 'Unconstrained $\\\\tilde \\\\theta$', 'Half-exposure $\\\\theta_g = 1/2$'))\n",
    "plt.show()"
   ]
  },
  {
   "cell_type": "code",
   "execution_count": 11,
   "metadata": {},
   "outputs": [
    {
     "data": {
      "text/plain": [
       "[None, None, None, None, None, None, None, None]"
      ]
     },
     "execution_count": 11,
     "metadata": {},
     "output_type": "execute_result"
    },
    {
     "data": {
      "image/png": "[encoded data removed]",
      "text/plain": [
       "<Figure size 432x288 with 2 Axes>"
      ]
     },
     "metadata": {
      "needs_background": "light"
     },
     "output_type": "display_data"
    }
   ],
   "source": [
    "#calculate boxplot data\n",
    "ig_shares = {}\n",
    "ig_shown = {}\n",
    "for theta_type in trials_to_run.keys():\n",
    "    ig_shares[theta_type] = []\n",
    "    ig_shown[theta_type] = []\n",
    "    for i in range(num_trials):\n",
    "        ig_shown[theta_type].append(np.sum([trials[i][theta_type]['shown'][j][(1,-1)] \\\n",
    "                                        + trials[i][theta_type]['shown'][j][(-1,1)] for j in range(T)]))\n",
    "        ig_shares[theta_type].append(np.sum([trials[i][theta_type]['share'][j][(1,-1)] \\\n",
    "                                        + trials[i][theta_type]['share'][j][(-1,1)] for j in range(T)]))\n",
    "    \n",
    "\n",
    "        \n",
    "# plot data\n",
    "fig1, (ax1, ax2) = plt.subplots(1,2)\n",
    "\n",
    "ax1.set_title('Intergroup Exposure of articles')\n",
    "ax1.boxplot([value for key,value in ig_shown.items()], labels=ig_shown.keys())\n",
    "\n",
    "ax2.set_title('Intergroup Sharing of articles')\n",
    "ax2.boxplot([value for key,value in ig_shares.items()], labels=ig_shares.keys())\n",
    "\n",
    "plt.setp(ax1.xaxis.get_majorticklabels(), rotation=45)\n",
    "plt.setp(ax2.xaxis.get_majorticklabels(), rotation=45)"
   ]
  },
  {
   "cell_type": "code",
   "execution_count": 12,
   "metadata": {},
   "outputs": [
    {
     "data": {
      "image/png": "[encoded data removed]",
      "text/plain": [
       "<Figure size 432x288 with 1 Axes>"
      ]
     },
     "metadata": {
      "needs_background": "light"
     },
     "output_type": "display_data"
    }
   ],
   "source": [
    "pof = {}\n",
    "for theta_type in trials_to_run.keys():\n",
    "    pof[theta_type] = [(trials[i]['opt']['players_list'].sum() / trials[i][theta_type]['players_list'].sum()) for i in range(num_trials)]\n",
    "\n",
    "del(pof['opt'])\n",
    "\n",
    "fig1, ax1 = plt.subplots()\n",
    "\n",
    "ax1.set_title('Price of Fairness')\n",
    "ax1.boxplot([value for key,value in pof.items()], labels=pof.keys())\n",
    "\n",
    "plt.savefig('figures/pof.png')"
   ]
  },
  {
   "cell_type": "code",
   "execution_count": 13,
   "metadata": {},
   "outputs": [
    {
     "data": {
      "text/plain": [
       "[None, None, None, None, None, None, None, None]"
      ]
     },
     "execution_count": 13,
     "metadata": {},
     "output_type": "execute_result"
    },
    {
     "data": {
      "image/png": "[encoded data removed]",
      "text/plain": [
       "<Figure size 432x288 with 2 Axes>"
      ]
     },
     "metadata": {
      "needs_background": "light"
     },
     "output_type": "display_data"
    }
   ],
   "source": [
    "#calculate boxplots for difference in exposure \n",
    "#should be close to 0\n",
    "# if np.abs removed, positive means article B shown more\n",
    "#calculate boxplot data\n",
    "ig_shares = {}\n",
    "ig_shown = {}\n",
    "for theta_type in trials_to_run.keys():\n",
    "    ig_shares[theta_type] = []\n",
    "    ig_shown[theta_type] = []\n",
    "    for i in range(num_trials):\n",
    "        ig_shown[theta_type].append(np.abs(np.sum([trials[i][theta_type]['shown'][j][(1,-1)] \\\n",
    "                                        - trials[i][theta_type]['shown'][j][(-1,1)] for j in range(T)])))\n",
    "        ig_shares[theta_type].append(np.abs(np.sum([trials[i][theta_type]['share'][j][(1,-1)] \\\n",
    "                                        - trials[i][theta_type]['share'][j][(-1,1)] for j in range(T)])))\n",
    "    \n",
    "\n",
    "        \n",
    "# plot data\n",
    "fig1, (ax1, ax2) = plt.subplots(1,2)\n",
    "\n",
    "ax1.set_title('Disparity in exposure of articles')\n",
    "ax1.boxplot([value for key,value in ig_shown.items()], labels=ig_shown.keys())\n",
    "\n",
    "ax2.set_title('Disparity in sharing of articles')\n",
    "ax2.boxplot([value for key,value in ig_shares.items()], labels=ig_shares.keys())\n",
    "\n",
    "plt.setp(ax1.xaxis.get_majorticklabels(), rotation=45)\n",
    "plt.setp(ax2.xaxis.get_majorticklabels(), rotation=45)"
   ]
  },
  {
   "cell_type": "markdown",
   "metadata": {},
   "source": [
    "### Set of experiments to understand impact of additive epsilon.  Replicate with ratio epsilon"
   ]
  },
  {
   "cell_type": "code",
   "execution_count": 14,
   "metadata": {},
   "outputs": [],
   "source": [
    "T=5\n",
    "theta_A = {}\n",
    "theta_B = {}\n",
    "delta_low = 0.7\n",
    "delta_high= 1.5\n",
    "for exp in [0., 0.01, 0.05, 0.1, 0.2, 0.25]:\n",
    "    #theta_fair = platform_opt.constrained(pi, q, T, c,v,beta_dist, delta_low, delta_high, exposure_e=exp) #constrained with exposure equality \n",
    "    theta_fair = platform_opt.opt('additive',pi, q, T, c,v,beta_dist,epsilon=epsilon, exposure_e=exp) #constrained with exposure equality \n",
    "    theta_A[exp] = theta_fair[-1]\n",
    "    theta_B[exp] = theta_fair[1]\n",
    "    \n",
    "list_A = sorted(theta_A.items()) # sorted by key, return a list of tuples\n",
    "eps_A, thetaA = zip(*list_A) # unpack a list of pairs into two tuples\n",
    "\n",
    "list_B = sorted(theta_B.items()) # sorted by key, return a list of tuples\n",
    "eps_B, thetaB = zip(*list_B) # unpack a list of pairs into two tuples\n",
    "\n"
   ]
  },
  {
   "cell_type": "code",
   "execution_count": 15,
   "metadata": {},
   "outputs": [
    {
     "data": {
      "image/png": "[encoded data removed]",
      "text/plain": [
       "<Figure size 432x288 with 1 Axes>"
      ]
     },
     "metadata": {
      "needs_background": "light"
     },
     "output_type": "display_data"
    }
   ],
   "source": [
    "plt.plot(eps_A, thetaA, 'bo')\n",
    "plt.plot(eps_B, thetaB, 'gx')\n",
    "plt.xlim((-0.01,0.27))\n",
    "plt.ylim((-0.05,1.05))\n",
    "plt.title('$\\\\theta_A$ and $\\\\theta_B$ imposing exposure constraints; T = %i' % (T))\n",
    "plt.legend(['$\\\\theta_A$', '$\\\\theta_B$'])\n",
    "plt.xlabel('$\\\\gamma : \\\\theta_g \\\\in [\\\\gamma, 1-\\\\gamma]$')\n",
    "plt.ylabel('$\\\\theta_g$')\n",
    "plt.show()"
   ]
  },
  {
   "cell_type": "markdown",
   "metadata": {},
   "source": [
    "experiment with ratio constraint parameters"
   ]
  },
  {
   "cell_type": "code",
   "execution_count": null,
   "metadata": {},
   "outputs": [],
   "source": [
    "# I have tried something and I changed code everything and nothing was changing, until I realized, \n",
    "# ratio works if delta_low is btwn 0.1 and 0.3 and high is 2, meaning there \n",
    "# are different pairs of delta high and low that are not compartible."
   ]
  },
  {
   "cell_type": "code",
   "execution_count": 23,
   "metadata": {},
   "outputs": [
    {
     "ename": "TypeError",
     "evalue": "'NoneType' object is not subscriptable",
     "output_type": "error",
     "traceback": [
      "\u001b[0;31m---------------------------------------------------------------------------\u001b[0m",
      "\u001b[0;31mTypeError\u001b[0m                                 Traceback (most recent call last)",
      "\u001b[0;32m<ipython-input-23-e965ab913a10>\u001b[0m in \u001b[0;36m<module>\u001b[0;34m\u001b[0m\n\u001b[0;32m----> 1\u001b[0;31m \u001b[0mplatform_opt\u001b[0m\u001b[0;34m.\u001b[0m\u001b[0mopt\u001b[0m\u001b[0;34m(\u001b[0m\u001b[0;34m'ratio'\u001b[0m\u001b[0;34m,\u001b[0m\u001b[0mpi\u001b[0m\u001b[0;34m,\u001b[0m \u001b[0mq\u001b[0m\u001b[0;34m,\u001b[0m \u001b[0mT\u001b[0m\u001b[0;34m,\u001b[0m \u001b[0mc\u001b[0m\u001b[0;34m,\u001b[0m\u001b[0mv\u001b[0m\u001b[0;34m,\u001b[0m\u001b[0mbeta_dist\u001b[0m\u001b[0;34m,\u001b[0m\u001b[0mdelta_low\u001b[0m\u001b[0;34m=\u001b[0m\u001b[0;36m0.9\u001b[0m\u001b[0;34m,\u001b[0m \u001b[0mdelta_high\u001b[0m\u001b[0;34m=\u001b[0m\u001b[0;36m1.5\u001b[0m\u001b[0;34m)\u001b[0m\u001b[0;34m\u001b[0m\u001b[0;34m\u001b[0m\u001b[0m\n\u001b[0m",
      "\u001b[0;32m~/Desktop/Online WG/long-term-fair-mdps/political-influence-refactored/platform_opt.py\u001b[0m in \u001b[0;36mopt\u001b[0;34m(policy, pi, q, T, c, v, F, epsilon, exposure_e, delta_low, delta_high, u)\u001b[0m\n\u001b[1;32m     87\u001b[0m         \u001b[0mth\u001b[0m \u001b[0;34m=\u001b[0m \u001b[0;34m{\u001b[0m\u001b[0;34m}\u001b[0m\u001b[0;34m\u001b[0m\u001b[0;34m\u001b[0m\u001b[0m\n\u001b[1;32m     88\u001b[0m \u001b[0;34m\u001b[0m\u001b[0m\n\u001b[0;32m---> 89\u001b[0;31m         \u001b[0mth\u001b[0m\u001b[0;34m[\u001b[0m\u001b[0;34m-\u001b[0m\u001b[0;36m1\u001b[0m\u001b[0;34m]\u001b[0m \u001b[0;34m=\u001b[0m \u001b[0mmax\u001b[0m\u001b[0;34m(\u001b[0m\u001b[0mmin\u001b[0m\u001b[0;34m(\u001b[0m\u001b[0mtheta\u001b[0m\u001b[0;34m.\u001b[0m\u001b[0mvalue\u001b[0m\u001b[0;34m[\u001b[0m\u001b[0;36m1\u001b[0m\u001b[0;34m]\u001b[0m\u001b[0;34m,\u001b[0m \u001b[0;36m1.\u001b[0m\u001b[0;34m)\u001b[0m\u001b[0;34m,\u001b[0m \u001b[0;36m0.\u001b[0m\u001b[0;34m)\u001b[0m\u001b[0;34m\u001b[0m\u001b[0;34m\u001b[0m\u001b[0m\n\u001b[0m\u001b[1;32m     90\u001b[0m         \u001b[0mth\u001b[0m\u001b[0;34m[\u001b[0m\u001b[0;36m1\u001b[0m\u001b[0;34m]\u001b[0m \u001b[0;34m=\u001b[0m \u001b[0mmax\u001b[0m\u001b[0;34m(\u001b[0m\u001b[0mmin\u001b[0m\u001b[0;34m(\u001b[0m\u001b[0mtheta\u001b[0m\u001b[0;34m.\u001b[0m\u001b[0mvalue\u001b[0m\u001b[0;34m[\u001b[0m\u001b[0;36m0\u001b[0m\u001b[0;34m]\u001b[0m\u001b[0;34m,\u001b[0m \u001b[0;36m1.\u001b[0m\u001b[0;34m)\u001b[0m\u001b[0;34m,\u001b[0m \u001b[0;36m0.\u001b[0m\u001b[0;34m)\u001b[0m\u001b[0;34m\u001b[0m\u001b[0;34m\u001b[0m\u001b[0m\n\u001b[1;32m     91\u001b[0m     \u001b[0;32melse\u001b[0m\u001b[0;34m:\u001b[0m\u001b[0;34m\u001b[0m\u001b[0;34m\u001b[0m\u001b[0m\n",
      "\u001b[0;31mTypeError\u001b[0m: 'NoneType' object is not subscriptable"
     ]
    }
   ],
   "source": [
    "platform_opt.opt('ratio',pi, q, T, c,v,beta_dist,delta_low=0.9, delta_high=1.5)"
   ]
  },
  {
   "cell_type": "code",
   "execution_count": 16,
   "metadata": {},
   "outputs": [
    {
     "ename": "TypeError",
     "evalue": "'NoneType' object is not subscriptable",
     "output_type": "error",
     "traceback": [
      "\u001b[0;31m---------------------------------------------------------------------------\u001b[0m",
      "\u001b[0;31mTypeError\u001b[0m                                 Traceback (most recent call last)",
      "\u001b[0;32m<ipython-input-16-137de3002004>\u001b[0m in \u001b[0;36m<module>\u001b[0;34m\u001b[0m\n\u001b[1;32m      5\u001b[0m \u001b[0;32mfor\u001b[0m \u001b[0mdelta_low\u001b[0m \u001b[0;32min\u001b[0m \u001b[0;34m[\u001b[0m\u001b[0;36m0.5\u001b[0m\u001b[0;34m,\u001b[0m \u001b[0;36m0.7\u001b[0m\u001b[0;34m,\u001b[0m \u001b[0;36m0.9\u001b[0m\u001b[0;34m,\u001b[0m \u001b[0;36m0.95\u001b[0m\u001b[0;34m]\u001b[0m\u001b[0;34m:\u001b[0m\u001b[0;34m\u001b[0m\u001b[0;34m\u001b[0m\u001b[0m\n\u001b[1;32m      6\u001b[0m     \u001b[0;32mfor\u001b[0m \u001b[0mdelta_high\u001b[0m \u001b[0;32min\u001b[0m \u001b[0;34m[\u001b[0m\u001b[0;36m1.1\u001b[0m\u001b[0;34m,\u001b[0m \u001b[0;36m1.5\u001b[0m\u001b[0;34m,\u001b[0m \u001b[0;36m2.\u001b[0m\u001b[0;34m]\u001b[0m\u001b[0;34m:\u001b[0m\u001b[0;34m\u001b[0m\u001b[0;34m\u001b[0m\u001b[0m\n\u001b[0;32m----> 7\u001b[0;31m         \u001b[0mtheta_ratio\u001b[0m \u001b[0;34m=\u001b[0m \u001b[0mplatform_opt\u001b[0m\u001b[0;34m.\u001b[0m\u001b[0mopt\u001b[0m\u001b[0;34m(\u001b[0m\u001b[0;34m'ratio'\u001b[0m\u001b[0;34m,\u001b[0m\u001b[0mpi\u001b[0m\u001b[0;34m,\u001b[0m \u001b[0mq\u001b[0m\u001b[0;34m,\u001b[0m \u001b[0mT\u001b[0m\u001b[0;34m,\u001b[0m \u001b[0mc\u001b[0m\u001b[0;34m,\u001b[0m\u001b[0mv\u001b[0m\u001b[0;34m,\u001b[0m\u001b[0mbeta_dist\u001b[0m\u001b[0;34m,\u001b[0m\u001b[0mdelta_low\u001b[0m\u001b[0;34m=\u001b[0m\u001b[0mdelta_low\u001b[0m\u001b[0;34m,\u001b[0m \u001b[0mdelta_high\u001b[0m\u001b[0;34m=\u001b[0m\u001b[0mdelta_high\u001b[0m\u001b[0;34m)\u001b[0m \u001b[0;31m#constrained with exposure equality\u001b[0m\u001b[0;34m\u001b[0m\u001b[0;34m\u001b[0m\u001b[0m\n\u001b[0m\u001b[1;32m      8\u001b[0m         \u001b[0mtheta_A\u001b[0m\u001b[0;34m[\u001b[0m\u001b[0;34m(\u001b[0m\u001b[0mdelta_low\u001b[0m\u001b[0;34m,\u001b[0m \u001b[0mdelta_high\u001b[0m\u001b[0;34m)\u001b[0m\u001b[0;34m]\u001b[0m \u001b[0;34m=\u001b[0m \u001b[0mtheta_ratio\u001b[0m\u001b[0;34m[\u001b[0m\u001b[0;34m-\u001b[0m\u001b[0;36m1\u001b[0m\u001b[0;34m]\u001b[0m\u001b[0;34m\u001b[0m\u001b[0;34m\u001b[0m\u001b[0m\n\u001b[1;32m      9\u001b[0m         \u001b[0mtheta_B\u001b[0m\u001b[0;34m[\u001b[0m\u001b[0;34m(\u001b[0m\u001b[0mdelta_low\u001b[0m\u001b[0;34m,\u001b[0m \u001b[0mdelta_high\u001b[0m\u001b[0;34m)\u001b[0m\u001b[0;34m]\u001b[0m \u001b[0;34m=\u001b[0m \u001b[0mtheta_ratio\u001b[0m\u001b[0;34m[\u001b[0m\u001b[0;36m1\u001b[0m\u001b[0;34m]\u001b[0m\u001b[0;34m\u001b[0m\u001b[0;34m\u001b[0m\u001b[0m\n",
      "\u001b[0;32m~/Desktop/Online WG/long-term-fair-mdps/political-influence-refactored/platform_opt.py\u001b[0m in \u001b[0;36mopt\u001b[0;34m(policy, pi, q, T, c, v, F, epsilon, exposure_e, delta_low, delta_high, u)\u001b[0m\n\u001b[1;32m     87\u001b[0m         \u001b[0mth\u001b[0m \u001b[0;34m=\u001b[0m \u001b[0;34m{\u001b[0m\u001b[0;34m}\u001b[0m\u001b[0;34m\u001b[0m\u001b[0;34m\u001b[0m\u001b[0m\n\u001b[1;32m     88\u001b[0m \u001b[0;34m\u001b[0m\u001b[0m\n\u001b[0;32m---> 89\u001b[0;31m         \u001b[0mth\u001b[0m\u001b[0;34m[\u001b[0m\u001b[0;34m-\u001b[0m\u001b[0;36m1\u001b[0m\u001b[0;34m]\u001b[0m \u001b[0;34m=\u001b[0m \u001b[0mmax\u001b[0m\u001b[0;34m(\u001b[0m\u001b[0mmin\u001b[0m\u001b[0;34m(\u001b[0m\u001b[0mtheta\u001b[0m\u001b[0;34m.\u001b[0m\u001b[0mvalue\u001b[0m\u001b[0;34m[\u001b[0m\u001b[0;36m1\u001b[0m\u001b[0;34m]\u001b[0m\u001b[0;34m,\u001b[0m \u001b[0;36m1.\u001b[0m\u001b[0;34m)\u001b[0m\u001b[0;34m,\u001b[0m \u001b[0;36m0.\u001b[0m\u001b[0;34m)\u001b[0m\u001b[0;34m\u001b[0m\u001b[0;34m\u001b[0m\u001b[0m\n\u001b[0m\u001b[1;32m     90\u001b[0m         \u001b[0mth\u001b[0m\u001b[0;34m[\u001b[0m\u001b[0;36m1\u001b[0m\u001b[0;34m]\u001b[0m \u001b[0;34m=\u001b[0m \u001b[0mmax\u001b[0m\u001b[0;34m(\u001b[0m\u001b[0mmin\u001b[0m\u001b[0;34m(\u001b[0m\u001b[0mtheta\u001b[0m\u001b[0;34m.\u001b[0m\u001b[0mvalue\u001b[0m\u001b[0;34m[\u001b[0m\u001b[0;36m0\u001b[0m\u001b[0;34m]\u001b[0m\u001b[0;34m,\u001b[0m \u001b[0;36m1.\u001b[0m\u001b[0;34m)\u001b[0m\u001b[0;34m,\u001b[0m \u001b[0;36m0.\u001b[0m\u001b[0;34m)\u001b[0m\u001b[0;34m\u001b[0m\u001b[0;34m\u001b[0m\u001b[0m\n\u001b[1;32m     91\u001b[0m     \u001b[0;32melse\u001b[0m\u001b[0;34m:\u001b[0m\u001b[0;34m\u001b[0m\u001b[0;34m\u001b[0m\u001b[0m\n",
      "\u001b[0;31mTypeError\u001b[0m: 'NoneType' object is not subscriptable"
     ]
    }
   ],
   "source": [
    "T=5\n",
    "theta_A = {}\n",
    "theta_B = {}\n",
    "exposure_e = 0.1\n",
    "for delta_low in [0.5, 0.7, 0.9, 0.95]:\n",
    "    for delta_high in [1.1, 1.5, 2.]:\n",
    "        theta_ratio = platform_opt.opt('ratio',pi, q, T, c,v,beta_dist,delta_low=delta_low, delta_high=delta_high) #constrained with exposure equality\n",
    "        theta_A[(delta_low, delta_high)] = theta_ratio[-1]\n",
    "        theta_B[(delta_low, delta_high)] = theta_ratio[1]\n",
    "    \n",
    "list_A = sorted(theta_A.items()) # sorted by key, return a list of tuples\n",
    "hold_A, thetaA = zip(*list_A) # unpack a list of pairs into two tuples\n",
    "delta_low_A, delta_high_A = zip(*hold_A)\n",
    "\n",
    "list_B = sorted(theta_B.items()) # sorted by key, return a list of tuples\n",
    "hold_B, thetaB = zip(*list_B) # unpack a list of pairs into two tuples\n",
    "delta_low_B, delta_high_B = zip(*hold_B)\n",
    "\n"
   ]
  },
  {
   "cell_type": "code",
   "execution_count": null,
   "metadata": {},
   "outputs": [],
   "source": [
    "# Creating figure\n",
    "fig = plt.figure(figsize = (16, 9))\n",
    "ax = plt.axes(projection =\"3d\")\n",
    "   \n",
    "# Add x, y gridlines \n",
    "ax.grid(b = True, color ='grey', \n",
    "        linestyle ='-.', linewidth = 0.1, \n",
    "        alpha = 0.1) \n",
    " \n",
    "# Creating color map\n",
    "my_cmap = plt.get_cmap('Dark2')\n",
    " \n",
    "# Creating plot\n",
    "scttA = ax.scatter3D(delta_low_A, delta_high_A, thetaA,\n",
    "                    alpha = 1,\n",
    "                    c = (delta_low_A + delta_high_A + thetaA), \n",
    "                    cmap = my_cmap, \n",
    "                    marker ='^')\n",
    "\n",
    "scttB = ax.scatter3D(delta_low_B, delta_high_B, thetaB,\n",
    "                    alpha = 1,\n",
    "                    c = (delta_low_B + delta_high_B + thetaB), \n",
    "                    cmap = my_cmap, \n",
    "                    marker ='^')\n",
    "\n",
    "plt.title(\"3D Scatter Plot of Mystery Data\\n\", size=14) \n",
    "plt.title(\"3D Scatter Plot of Mystery Data\\n\", size=14) \n",
    "ax.set_xlabel('$\\\\delta_{low}$', size=14) \n",
    "ax.set_ylabel('$\\\\delta_{high}$', size=14) \n",
    "ax.set_zlabel('$\\\\theta_A$', size=14) \n",
    "\n",
    "fig.colorbar(scttA, ax = ax, shrink = 0.5, aspect = 8)\n",
    "fig.colorbar(scttB, ax = ax, shrink = 0.5, aspect = 8)\n",
    "  \n",
    "\n",
    "plt.savefig(\"./fig/myst3d.pdf\", bbox_inches='tight')\n",
    "plt.show()\n",
    "\n",
    "\n",
    "\n",
    "\n",
    "plt.show()"
   ]
  },
  {
   "cell_type": "code",
   "execution_count": null,
   "metadata": {},
   "outputs": [],
   "source": [
    "fig = plt.figure()\n",
    "ax = fig.add_subplot(projection='3d')\n",
    "ax.scatter(delta_low_A, delta_high_A, thetaA)\n",
    "ax.scatter(delta_low_B, delta_high_B, thetaB)\n",
    "\n",
    "ax.set_xlabel('$\\\\delta_{low}$')\n",
    "ax.set_ylabel('$\\\\delta_{high}$')\n",
    "ax.set_zlabel('$\\\\theta_A$')\n",
    "\n",
    "plt.show()"
   ]
  },
  {
   "cell_type": "markdown",
   "metadata": {},
   "source": [
    "heatmap varying homophily constraint"
   ]
  },
  {
   "cell_type": "code",
   "execution_count": null,
   "metadata": {},
   "outputs": [],
   "source": [
    "import numpy as np\n",
    "import seaborn as sns\n",
    "import pickle as pkl\n",
    "import pandas as pd\n",
    "\n",
    "#heatmap varying q_A and q_B\n",
    "num_trials = 25\n",
    "M = 100000\n",
    "pi= {-1: 0.5, 1: 0.5}\n",
    "\n",
    "T = 5\n",
    "add_epsilon = 0.001        \n",
    "delta_low = 0.7\n",
    "delta_high = 1.5\n",
    "c = {(1,1): 1., (-1,1): 1., (1,-1): 1., (-1,-1): 1.}\n",
    "v = {( 1,  1):   2000.,\n",
    "     (-1,  1):   500.,\n",
    "     ( 1, -1):   500.,\n",
    "     (-1, -1):   2000. }\n",
    "\n",
    "beta_dist = {(1,1) : (1., 9.),\n",
    "                    (-1,1) : (1., 29.),\n",
    "                    (1,-1) : (1., 29.),\n",
    "                    (-1,-1): (1., 9.)}\n",
    "\n",
    "P = {}\n",
    "for a in [-1,1]:\n",
    "    for g in [-1,1]:\n",
    "        P[(a,g)] = beta_dist[(a,g)][0] / (beta_dist[(a,g)][0] +  beta_dist[(a,g)][1])\n",
    "\n",
    "\n",
    "share_list = []\n",
    "ig_share_list = [] #intergroup shares\n",
    "\n",
    "st = 0.1\n",
    "n = np.arange(0.5, 1.01, step=st).shape[0]\n",
    "data = np.zeros(n)\n",
    "ig_data = np.zeros(n)\n",
    "\n",
    "\n",
    "\n",
    "\n",
    "for k,q_A in enumerate(np.arange(0.5, 1.01, step=st)):\n",
    "    q = {-1: q_A, 1: q_A}\n",
    "    theta_fair = platform_opt.opt_constrained(pi, q, T, epsilon,c,v,beta_dist, exposure_e=0.0)\n",
    "    for i in range(num_trials):\n",
    "        players_in_model_fair, shown_d_fair, click_d_fair, share_d_fair = sims.runModel(theta_fair, T, pi, M, P, beta_dist, v,c,q)\n",
    "        share_list.append(sum([share_d_fair[key] for key in share_d_fair.keys()]))\n",
    "        ig_share_list.append(sum([share_d_fair[key] for key in share_d_fair.keys() if key[0] == -key[1]]))\n",
    "\n",
    "\n",
    "    data[k] = np.mean(share_list)\n",
    "    ig_data[k] = np.mean(ig_share_list)\n",
    "\n"
   ]
  },
  {
   "cell_type": "code",
   "execution_count": null,
   "metadata": {},
   "outputs": [],
   "source": [
    "#fig, (ax1,ax2) = plt.subplots(1,2)\n",
    "sns.set()\n",
    "df = pd.DataFrame({\"Total Shares\": data, \"Intergroup Shares\": ig_data, \"$q_A = q_B$\" : np.round(np.arange(0.5, 1.01, step=st), 2)})\n",
    "\n",
    "ax = sns.factorplot(data = df, x = \"$q_A = q_B$\", y = \"Total Shares\", log=True)\n",
    "plt.title(\"Effect of homophily on total number of shares\")\n",
    "plt.savefig('figures/homophily_shares.png')\n",
    "plt.show()\n",
    "\n",
    "ax = sns.factorplot(data = df, x = \"$q_A = q_B$\", y = \"Intergroup Shares\", log=True)\n",
    "plt.title(\"Effect of homophily on number of intergroup shares\")\n",
    "plt.savefig('figures/homophily_ig_shares.png')\n",
    "plt.show()\n"
   ]
  },
  {
   "cell_type": "code",
   "execution_count": null,
   "metadata": {},
   "outputs": [],
   "source": [
    "sims.saveRuns(df, 'same_init_runs/homophily_shares.pkl')"
   ]
  },
  {
   "cell_type": "code",
   "execution_count": null,
   "metadata": {},
   "outputs": [],
   "source": [
    "#varying psi\n",
    "#import numpy as np\n",
    "#import seaborn as sns\n",
    "\n",
    "#heatmap varying Psi\n",
    "num_trials = 25\n",
    "M = 10000\n",
    "pi= {-1: 0.5, 1: 0.5}\n",
    "\n",
    "T = 6\n",
    "epsilon = 0.001        \n",
    "c = {(1,1): 1., (-1,1): 1., (1,-1): 1., (-1,-1): 1.}\n",
    "\n",
    "#beta_dist = {(1,1) : (0.9541492709534125, 1.345006644515015),\n",
    "#                    (-1,1) : (0.1822515775580026, 2.7574965182522644),\n",
    "#                    (1,-1) : (0.09576097403924465, 3.09136619146736),\n",
    "#                    (-1,-1): (0.8828729918440646, 1.6247070146941363)}\n",
    "\n",
    "beta_dist = {(1,1) : (1., 9.),\n",
    "                    (-1,1) : (1., 29.),\n",
    "                    (1,-1) : (1., 29.),\n",
    "                    (-1,-1): (1., 9.)}\n",
    "\n",
    "P = {}\n",
    "for a in [-1,1]:\n",
    "    for g in [-1,1]:\n",
    "        P[(a,g)] = beta_dist[(a,g)][0] / (beta_dist[(a,g)][0] +  beta_dist[(a,g)][1])\n",
    "\n",
    "q = {1: 0.8, -1: 0.8}\n",
    "\n",
    "share_list = []\n",
    "ig_share_list = [] #intergroup shares\n",
    "\n",
    "st = 500\n",
    "rng_min = 500\n",
    "rng_max = 2501\n",
    "n = np.arange(rng_min, rng_max, step=st).shape[0]\n",
    "data_psi = np.zeros((n,n))\n",
    "ig_data_psi = np.zeros((n,n))\n",
    "\n",
    "\n",
    "for k,intra in enumerate(np.arange(rng_min, rng_max, step=st)):\n",
    "    for j,inter in enumerate(np.arange(rng_min, rng_max, step=st)):\n",
    "        v = {(1,1): intra, (-1,1): inter, (1,-1): inter, (-1,-1):intra }\n",
    "        #print('v: ' + str(v))\n",
    "        theta_fair = platform_opt.opt_constrained(pi, q, T, epsilon,c,v,beta_dist, exposure_e=0.0)\n",
    "        #print('Theta:  ' + str(theta_fair))\n",
    "        for i in range(num_trials):\n",
    "            players_in_model_fair, shown_d_fair, click_d_fair, share_d_fair = sims.runModel(theta_fair, T, pi, M, P, beta_dist, v,c,q)\n",
    "            share_list.append(sum([share_d_fair[key] for key in share_d_fair.keys()]) / sum(players_in_model_fair))\n",
    "            ig_share_list.append(sum([share_d_fair[key] for key in share_d_fair.keys() if key[0] == -key[1]]) / sum(players_in_model_fair))\n",
    "                     \n",
    "        data_psi[k,j] = np.mean(share_list)\n",
    "        ig_data_psi[k,j] = np.mean(ig_share_list)\n",
    "                    \n"
   ]
  },
  {
   "cell_type": "code",
   "execution_count": null,
   "metadata": {},
   "outputs": [],
   "source": [
    "import seaborn as sns \n",
    "print(data_psi)\n",
    "\n",
    "sns.set()\n",
    "ax = sns.heatmap(data_psi,cmap=\"Blues\", xticklabels=[np.round(x,2) for x in np.arange(rng_min, rng_max, step=st)], yticklabels=[np.round(x,2) for x in np.arange(rng_min, rng_max, step=st)])\n",
    "plt.title(\"Effect on $\\\\psi$ on share rate\")\n",
    "plt.xlabel(\"intergroup $v$ value\")\n",
    "plt.ylabel(\"intragroup $v$ value\")\n",
    "plt.savefig('figures/heatmap_psi.png')\n",
    "plt.show()\n",
    "\n",
    "\n",
    "\n",
    "sns.set()\n",
    "ax = sns.heatmap(ig_data_psi,cmap=\"Blues\", xticklabels=[np.round(x,2) for x in np.arange(rng_min, rng_max, step=st)], yticklabels=[np.round(x,2) for x in np.arange(rng_min, rng_max, step=st)])\n",
    "plt.title(\"Effect on $\\\\psi$ on intergroup shares\")\n",
    "plt.xlabel(\"intergroup $v$ value\")\n",
    "plt.ylabel(\"intragroup $v$ value\")\n",
    "plt.savefig('figures/heatmap_psi_intergroup.png')\n",
    "plt.show()\n"
   ]
  },
  {
   "cell_type": "code",
   "execution_count": null,
   "metadata": {},
   "outputs": [],
   "source": [
    "sims.saveRuns(data_psi, 'simulation_data/heatmap_psi.pkl')\n",
    "sims.saveRuns(ig_data_psi, 'simulation_data/heatmap_psi_intergroup.pkl')"
   ]
  },
  {
   "cell_type": "code",
   "execution_count": null,
   "metadata": {},
   "outputs": [],
   "source": []
  }
 ],
 "metadata": {
  "kernelspec": {
   "display_name": "Python 3",
   "language": "python",
   "name": "python3"
  },
  "language_info": {
   "codemirror_mode": {
    "name": "ipython",
    "version": 3
   },
   "file_extension": ".py",
   "mimetype": "text/x-python",
   "name": "python",
   "nbconvert_exporter": "python",
   "pygments_lexer": "ipython3",
   "version": "3.7.1"
  }
 },
 "nbformat": 4,
 "nbformat_minor": 4
}

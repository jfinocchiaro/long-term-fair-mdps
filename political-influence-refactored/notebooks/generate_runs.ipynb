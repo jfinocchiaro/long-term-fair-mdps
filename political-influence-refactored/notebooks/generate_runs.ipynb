{
 "cells": [
  {
   "cell_type": "code",
   "execution_count": 1,
   "metadata": {},
   "outputs": [],
   "source": [
    "#import libraries\n",
    "import warnings\n",
    "warnings.filterwarnings(\"ignore\")\n",
    "\n",
    "import numpy as np\n",
    "import matplotlib\n",
    "from matplotlib import pyplot as plt \n",
    "import random\n",
    "import pickle as pkls\n",
    "import pandas as pd\n",
    "import seaborn as sns\n",
    "\n",
    "#local files being imported\n",
    "import sys\n",
    "sys.path.insert(0, '../src')\n",
    "import platform_opt\n",
    "from players import *\n",
    "import sims\n",
    "import sims_copy\n",
    "from statistics import variance\n",
    "#Note: when indexed as a list: group $A$ is 0, group $B$ is 1.\n",
    "#      when indexed as a dict: group $A$ is -1, group $B$ is 1."
   ]
  },
  {
   "cell_type": "code",
   "execution_count": 2,
   "metadata": {},
   "outputs": [],
   "source": [
    "# SIMULATION PARAMETERS AGNOSTIC TO DATA\n",
    "T = 10                 # max number of timesteps\n",
    "M = 100000            # size of unit mass\n",
    "\n",
    "#load parameters from dataset\n",
    "dataset_name = 'twitter_abortion'\n",
    "pi,beta_dist,P,v,c,q = sims.get_params(dataset_name)"
   ]
  },
  {
   "cell_type": "markdown",
   "metadata": {},
   "source": [
    "Don't run this next cell if you already know what the theta params are"
   ]
  },
  {
   "cell_type": "code",
   "execution_count": 3,
   "metadata": {},
   "outputs": [
    {
     "name": "stdout",
     "output_type": "stream",
     "text": [
      "{-1: 0.05, 1: 0.22694132943125175}\n",
      "{-1: 0.05, 1: 0.95}\n",
      "{-1: 0.08346568442898067, 1: 0.9499999999999996}\n"
     ]
    }
   ],
   "source": [
    "#how to show articles at timestep 1\n",
    "#epsilon for additive constraints (difference in expected exposure bounded by epsilon)\n",
    "epsilon = 0.25\n",
    "\n",
    "#params for ratio constraints\n",
    "delta_low = 0.25\n",
    "delta_high = 2\n",
    "    \n",
    "theta_additive = platform_opt.opt('additive',pi, q, T, c,v,beta_dist,epsilon=epsilon, exposure_e=0.05) #constrained with exposure equality\n",
    "theta_opt = platform_opt.opt('unconstrained', pi, q, T, c,v,beta_dist, exposure_e = 0.05) #unconstrained to optimize clicks\n",
    "theta_ratio = platform_opt.opt('ratio',pi, q, T, c,v,beta_dist,delta_low=delta_low, delta_high=delta_high, exposure_e=0.05) #constrained with exposure equality\n",
    "\n",
    "#theta_opt = {1:1., -1:0.}\n",
    "theta_half = {1: 0.5, -1: 0.5}\n",
    "\n",
    "print(theta_additive)\n",
    "print(theta_opt)\n",
    "print(theta_ratio)"
   ]
  },
  {
   "cell_type": "markdown",
   "metadata": {},
   "source": [
    "Run this if loading theta from previous runs."
   ]
  },
  {
   "cell_type": "code",
   "execution_count": 4,
   "metadata": {},
   "outputs": [],
   "source": [
    "#since the optimization in the following cell only needs to be run once per set of parameters\n",
    "\n",
    "# dataset = 'twitter_abortion', delta_low = 0.25, delta_high=2, additive epsilon = 0.25, exposure_e = 0.05, T = 10, M = 100000 c_{gs} = 1, v_{g,s} = 2000/200\n",
    "theta_additive = {-1: 0.049999999961021876, 1: 0.22694132946782486}\n",
    "theta_half = {1: 0.5, -1: 0.5}\n",
    "theta_opt = {-1: 0.05000000309726387, 1: 0.9499999982820164}\n",
    "theta_ratio = {-1: 0.08346568445886182, 1: 0.9500000000344594}\n",
    "\n"
   ]
  },
  {
   "cell_type": "code",
   "execution_count": 5,
   "metadata": {},
   "outputs": [],
   "source": [
    "trials_to_run = {'half':theta_half, 'opt':theta_opt, 'ratio':theta_ratio} #'additive':theta_additive\n",
    "num_trials = 25"
   ]
  },
  {
   "cell_type": "markdown",
   "metadata": {},
   "source": [
    "given number of trials and which types of interventions we want to test, returns the outputs "
   ]
  },
  {
   "cell_type": "code",
   "execution_count": 6,
   "metadata": {},
   "outputs": [],
   "source": [
    "trials = [sims.runModel_samepop(T, pi, M, P, beta_dist, v,c,q, trials_to_run) for ix in range(num_trials)]\n",
    "avg = sims.average_dfs(trials) #dict of dataframes"
   ]
  },
  {
   "cell_type": "code",
   "execution_count": null,
   "metadata": {},
   "outputs": [],
   "source": []
  },
  {
   "cell_type": "markdown",
   "metadata": {},
   "source": [
    "new way of saving the trials.  trials is a list of dicts of dataframes; dicts indexed by theta_type, and dataframes have number of players, shown, click, and share"
   ]
  },
  {
   "cell_type": "code",
   "execution_count": 7,
   "metadata": {},
   "outputs": [],
   "source": [
    "sims.saveRuns(trials, '../same_init_runs/' + str(dataset_name) + '/trials.pkl')\n",
    "sims.saveRuns(avg, '../same_init_runs/' + str(dataset_name) + '/averages.pkl')"
   ]
  },
  {
   "cell_type": "markdown",
   "metadata": {},
   "source": [
    "new way to unpickle data"
   ]
  },
  {
   "cell_type": "code",
   "execution_count": 8,
   "metadata": {},
   "outputs": [],
   "source": [
    "trials = sims.loadRuns('../same_init_runs/' + str(dataset_name) + '/trials.pkl') #path not right\n",
    "avg = sims.loadRuns('../same_init_runs/' + str(dataset_name) + '/averages.pkl')\n"
   ]
  },
  {
   "cell_type": "code",
   "execution_count": 9,
   "metadata": {},
   "outputs": [
    {
     "name": "stdout",
     "output_type": "stream",
     "text": [
      "Intergroup exposure\n",
      "half\n",
      "19036.24\n",
      "32247.96\n",
      "opt\n",
      "2528.04\n",
      "4067.56\n",
      "ratio\n",
      "2549.28\n",
      "6138.04\n",
      "\n",
      "Intergroup shares\n",
      "half\n",
      "638.24\n",
      "125.64\n",
      "opt\n",
      "74.92\n",
      "49.64\n",
      "ratio\n",
      "77.04\n",
      "55.480000000000004\n"
     ]
    }
   ],
   "source": [
    "#average intergroup exposure and share\n",
    "#normalized by number of impressions/clicks in model\n",
    "#higher is better here\n",
    "\n",
    "print('Intergroup exposure')\n",
    "for theta_type in trials_to_run.keys():\n",
    "    print(theta_type)\n",
    "    print(np.sum([avg[theta_type]['shown'][i][(1,-1)] for i in range(len(avg[theta_type]['shown'].index))]))\n",
    "    print(np.sum([avg[theta_type]['shown'][i][(-1,1)] for i in range(len(avg[theta_type]['shown'].index))]))\n",
    "    \n",
    "print('\\nIntergroup shares')\n",
    "for theta_type in trials_to_run.keys():\n",
    "    print(theta_type)\n",
    "    print(np.sum([avg[theta_type]['share'][i][(1,-1)] for i in range(len(avg[theta_type]['share'].index))]))\n",
    "    print(np.sum([avg[theta_type]['share'][i][(-1,1)] for i in range(len(avg[theta_type]['share'].index))]))\n",
    "    \n"
   ]
  },
  {
   "cell_type": "code",
   "execution_count": 11,
   "metadata": {},
   "outputs": [
    {
     "data": {
      "image/png": "[encoded data removed]",
      "text/plain": [
       "<Figure size 432x288 with 1 Axes>"
      ]
     },
     "metadata": {},
     "output_type": "display_data"
    }
   ],
   "source": [
    "num_trials = len(trials)\n",
    "sns.set(style=\"whitegrid\")\n",
    "\n",
    "avg_opt = avg['opt']\n",
    "avg_half = avg['half']\n",
    "avg_ratio = avg['ratio']\n",
    "# avg_additive = avg['additive']\n",
    "\n",
    "mk=sns.color_palette('mako', n_colors=4)\n",
    "\n",
    "fig, ax = plt.subplots()\n",
    "# Set the scale of the x-and y-axes\n",
    "ax.set(xlabel='Time step', yscale=\"log\", ylim=(1,10e5 +1), xlim=(0, T))\n",
    "   \n",
    "sns.lineplot(data=avg_opt, x=range(T), y='players_list', label='$\\\\theta_{opt}$', color=mk[0])\n",
    "sns.lineplot(data=avg_half, x=range(T), y='players_list', label='$\\\\theta_{half}$', color=mk[1])\n",
    "sns.lineplot(data=avg_ratio, x=range(T), y='players_list', label='$\\\\theta_{ratio}$', color=mk[2])\n",
    "#sns.lineplot(data=avg_additive, x=range(T), y='players_list',color=mk[3])\n",
    "\n",
    "ax.set(ylabel='Number of players in model', title = \"Number of players remaining in the model (avg over %i trials)\" % (num_trials))\n",
    "plt.savefig('../figures/' + str(dataset_name) + '_num_players_in_model.pdf')\n",
    "plt.show()"
   ]
  },
  {
   "cell_type": "code",
   "execution_count": 12,
   "metadata": {},
   "outputs": [
    {
     "data": {
      "image/png": "[encoded data removed]",
      "text/plain": [
       "<Figure size 432x288 with 1 Axes>"
      ]
     },
     "metadata": {},
     "output_type": "display_data"
    }
   ],
   "source": [
    "sns.set(style=\"whitegrid\")\n",
    "mk=sns.color_palette('mako', n_colors=4)\n",
    "\n",
    "pof = {}\n",
    "for theta_type in trials_to_run.keys():\n",
    "    pof[theta_type] = [(trials[i]['opt']['players_list'].sum() / trials[i][theta_type]['players_list'].sum()) for i in range(num_trials)]\n",
    "\n",
    "del(pof['opt'])\n",
    "boxplot_pof = pd.DataFrame(data=pof)\n",
    "\n",
    "fig, ax = plt.subplots()\n",
    "sns.boxplot(x=\"variable\", y=\"value\", data=pd.melt(boxplot_pof), color=mk[3])\n",
    "ax.set(xlabel='Policy for $\\\\theta$', ylabel=\"Clicks($\\\\theta_{opt}$) / Clicks($\\\\theta$)\", title='Price of fairness($\\\\theta$)')\n",
    "plt.setp(ax.xaxis.get_majorticklabels(), rotation=45)\n",
    "plt.savefig('../figures/' + str(dataset_name) + '_pof_boxplot.pdf')"
   ]
  },
  {
   "cell_type": "code",
   "execution_count": 13,
   "metadata": {},
   "outputs": [
    {
     "data": {
      "image/png": "[encoded data removed]",
      "text/plain": [
       "<Figure size 432x288 with 1 Axes>"
      ]
     },
     "metadata": {},
     "output_type": "display_data"
    },
    {
     "data": {
      "image/png": "[encoded data removed]",
      "text/plain": [
       "<Figure size 432x288 with 1 Axes>"
      ]
     },
     "metadata": {},
     "output_type": "display_data"
    }
   ],
   "source": [
    "#calculate boxplot data\n",
    "sns.set(style=\"whitegrid\")\n",
    "mk=sns.color_palette('mako', n_colors=4)\n",
    "\n",
    "ig_shares = {}\n",
    "ig_shown = {}\n",
    "for theta_type in trials_to_run.keys():\n",
    "    ig_shares[theta_type] = []\n",
    "    ig_shown[theta_type] = []\n",
    "    for i in range(num_trials):\n",
    "        ig_shown[theta_type].append(np.sum([trials[i][theta_type]['shown'][j][(1,-1)] \\\n",
    "                                        + trials[i][theta_type]['shown'][j][(-1,1)] for j in range(T)]))\n",
    "        ig_shares[theta_type].append(np.sum([trials[i][theta_type]['share'][j][(1,-1)] \\\n",
    "                                        + trials[i][theta_type]['share'][j][(-1,1)] for j in range(T)]))\n",
    "    \n",
    "boxplot_shown = pd.DataFrame(data=ig_shown)\n",
    "boxplot_share = pd.DataFrame(data=ig_shares)\n",
    "        \n",
    "# plot data\n",
    "fig, ax = plt.subplots()\n",
    "sns.boxplot(x=\"variable\", y=\"value\", data=pd.melt(boxplot_shown), color=mk[3])\n",
    "ax.set(xlabel='Policy for $\\\\theta$', ylabel=\"Intergroup exposure instances\", title='Intergroup Exposure of articles by $\\\\theta$ policy')\n",
    "plt.setp(ax.xaxis.get_majorticklabels(), rotation=45)\n",
    "plt.savefig('../figures/' + str(dataset_name) + 'intergroup_exposure_boxplot.pdf')\n",
    "\n",
    "fig, ax = plt.subplots()\n",
    "sns.boxplot(x=\"variable\", y=\"value\", data=pd.melt(boxplot_share), color=mk[3])\n",
    "ax.set(xlabel='Policy for $\\\\theta$', ylabel=\"Intergroup like instances\", title='Intergroup liking of articles by $\\\\theta$ policy')\n",
    "plt.setp(ax.xaxis.get_majorticklabels(), rotation=45)\n",
    "plt.savefig('../figures/' + str(dataset_name) + 'intergroup_likes_boxplot.pdf')"
   ]
  },
  {
   "cell_type": "code",
   "execution_count": 14,
   "metadata": {},
   "outputs": [
    {
     "data": {
      "image/png": "[encoded data removed]",
      "text/plain": [
       "<Figure size 432x288 with 1 Axes>"
      ]
     },
     "metadata": {},
     "output_type": "display_data"
    },
    {
     "data": {
      "image/png": "[encoded data removed]",
      "text/plain": [
       "<Figure size 432x288 with 1 Axes>"
      ]
     },
     "metadata": {},
     "output_type": "display_data"
    }
   ],
   "source": [
    "sns.set(style=\"whitegrid\")\n",
    "mk=sns.color_palette('mako', n_colors=4)\n",
    "\n",
    "#calculate boxplots for difference in exposure \n",
    "#should be close to 0\n",
    "# if np.abs removed, positive means article B shown more\n",
    "#calculate boxplot data\n",
    "ig_shares = {}\n",
    "ig_shown = {}\n",
    "for theta_type in trials_to_run.keys():\n",
    "    ig_shares[theta_type] = []\n",
    "    ig_shown[theta_type] = []\n",
    "    for i in range(num_trials):\n",
    "        ig_shown[theta_type].append(np.abs(np.sum([trials[i][theta_type]['shown'][j][(1,-1)] \\\n",
    "                                        - trials[i][theta_type]['shown'][j][(-1,1)] for j in range(T)])))\n",
    "        ig_shares[theta_type].append(np.abs(np.sum([trials[i][theta_type]['share'][j][(1,-1)] \\\n",
    "                                        - trials[i][theta_type]['share'][j][(-1,1)] for j in range(T)])))\n",
    "    \n",
    "        \n",
    "# plot data\n",
    "fig, ax = plt.subplots()\n",
    "sns.boxplot(x=\"variable\", y=\"value\", data=pd.melt(boxplot_shown), color=mk[3])\n",
    "ax.set(xlabel='Policy for $\\\\theta$', ylabel=\"$|$Article A exposures - Article B exposures $|$\", title='Disparity in exposure of articles')\n",
    "plt.setp(ax.xaxis.get_majorticklabels(), rotation=45)\n",
    "plt.savefig('../figures/' + str(dataset_name) + '_dis_exposure_boxplot.pdf')\n",
    "\n",
    "fig, ax = plt.subplots()\n",
    "sns.boxplot(x=\"variable\", y=\"value\", data=pd.melt(boxplot_share), color=mk[3])\n",
    "ax.set(xlabel='Policy for $\\\\theta$', ylabel=\"$|$Article A likes - Article B likes $|$\", title='Disparity in sharing of articles')\n",
    "plt.setp(ax.xaxis.get_majorticklabels(), rotation=45)\n",
    "plt.savefig('../figures/' + str(dataset_name) + '_dis_likes_boxplot.pdf')"
   ]
  },
  {
   "cell_type": "markdown",
   "metadata": {},
   "source": [
    "### Set of experiments to understand impact of threshold epsilon."
   ]
  },
  {
   "cell_type": "code",
   "execution_count": 15,
   "metadata": {},
   "outputs": [
    {
     "name": "stdout",
     "output_type": "stream",
     "text": [
      "({-1: 4.71546159300076e-31, 1: 0.9999999999999998}, 0.0)\n",
      "({-1: 0.010000000000000004, 1: 0.9899999999999998}, 0.01)\n",
      "({-1: 0.05000000000000002, 1: 0.9499999999999997}, 0.05)\n",
      "({-1: 0.10000000000000003, 1: 0.8999999999999998}, 0.1)\n",
      "({-1: 0.15000000000000002, 1: 0.8499999999999998}, 0.15)\n",
      "({-1: 0.20000000000000007, 1: 0.8}, 0.2)\n"
     ]
    }
   ],
   "source": [
    "T=10\n",
    "theta_A = {}\n",
    "theta_B = {}\n",
    "delta_low = 0.25\n",
    "delta_high= 2.\n",
    "dataset_name = 'symmetric'\n",
    "pi,beta_dist,P,v,c,q = sims.get_params(dataset_name)\n",
    "\n",
    "for exp in [0., 0.01, 0.05, 0.1, 0.15, 0.2]:\n",
    "    theta_fair = platform_opt.opt('ratio',pi, q, T, c,v,beta_dist,delta_low=delta_low, delta_high=delta_high, exposure_e=exp) #constrained with exposure equality \n",
    "    theta_A[exp] = theta_fair[1]\n",
    "    theta_B[exp] = theta_fair[-1]\n",
    "    print((theta_fair, exp))\n",
    "    \n",
    "    \n",
    "list_A = sorted(theta_A.items()) # sorted by key, return a list of tuples\n",
    "list_B = sorted(theta_B.items()) # sorted by key, return a list of tuples\n",
    "\n",
    "\n"
   ]
  },
  {
   "cell_type": "code",
   "execution_count": 16,
   "metadata": {},
   "outputs": [
    {
     "name": "stdout",
     "output_type": "stream",
     "text": [
      "[(0.0, 0.9999999999999998), (0.01, 0.9899999999999998), (0.05, 0.9499999999999997), (0.1, 0.8999999999999998), (0.15, 0.8499999999999998), (0.2, 0.8)]\n"
     ]
    },
    {
     "data": {
      "image/png": "[encoded data removed]",
      "text/plain": [
       "<Figure size 432x288 with 1 Axes>"
      ]
     },
     "metadata": {},
     "output_type": "display_data"
    }
   ],
   "source": [
    "sns.set(style=\"whitegrid\")\n",
    "mk=sns.color_palette('mako', n_colors=4)\n",
    "\n",
    "fig,ax = plt.subplots()\n",
    "\n",
    "eps_A, thetaA = zip(*list_A) # unpack a list of pairs into two tuples\n",
    "eps_B, thetaB = zip(*list_B) # unpack a list of pairs into two tuples\n",
    "\n",
    "print(list_A)\n",
    "\n",
    "sns.scatterplot(x=eps_A, y=thetaA, color=mk[0])\n",
    "sns.scatterplot(x=eps_B, y=thetaB, color=mk[3])\n",
    "ax.set(xlabel='$\\\\gamma : \\\\theta_g \\\\in [\\\\gamma, 1-\\\\gamma]$', ylabel='$\\\\theta_g$', xlim=(-0.01,0.22), ylim=(-0.05,1.05))\n",
    "ax.set(title='$\\\\theta_A$ and $\\\\theta_B$ imposing linear exposure constraints')\n",
    "ax.legend(['$\\\\theta_A$', '$\\\\theta_B$'])\n",
    "plt.savefig('../figures/' + str(dataset_name) + '_linear_exposure_constraints.png')\n",
    "plt.show()"
   ]
  },
  {
   "cell_type": "code",
   "execution_count": 17,
   "metadata": {},
   "outputs": [],
   "source": [
    "sims.saveRuns((list_A, list_B), '../same_init_runs/' + str(dataset_name) + '_vary_linear_exposure.pkl')"
   ]
  },
  {
   "cell_type": "code",
   "execution_count": 18,
   "metadata": {},
   "outputs": [],
   "source": [
    "list_A, list_B = sims.loadRuns('../same_init_runs/' + str(dataset_name) + '_vary_linear_exposure.pkl')"
   ]
  },
  {
   "cell_type": "markdown",
   "metadata": {},
   "source": [
    "### Experiment with ratio constraint parameters"
   ]
  },
  {
   "cell_type": "code",
   "execution_count": 19,
   "metadata": {},
   "outputs": [],
   "source": [
    "# I have tried something and I changed code everything and nothing was changing, until I realized, \n",
    "# ratio works if delta_low is btwn 0.1 and 0.3 and high is up to 2, meaning there \n",
    "# are different pairs of delta high and low that are not compartible."
   ]
  },
  {
   "cell_type": "code",
   "execution_count": 20,
   "metadata": {},
   "outputs": [
    {
     "data": {
      "text/plain": [
       "{-1: 4.71546159300076e-31, 1: 0.9999999999999998}"
      ]
     },
     "execution_count": 20,
     "metadata": {},
     "output_type": "execute_result"
    }
   ],
   "source": [
    "T=10\n",
    "dataset_name = 'symmetric'\n",
    "pi,beta_dist,P,v,c,q = sims.get_params(dataset_name)\n",
    "platform_opt.opt('ratio',pi, q, T, c,v,beta_dist,delta_low=0.25, delta_high=2.)"
   ]
  },
  {
   "cell_type": "code",
   "execution_count": 26,
   "metadata": {},
   "outputs": [
    {
     "name": "stdout",
     "output_type": "stream",
     "text": [
      "(0.1, 1.1)\n",
      "(0.1, 1.5)\n",
      "(0.1, 2.0)\n",
      "(0.1, 2.5)\n",
      "(0.15, 1.1)\n",
      "(0.15, 1.5)\n",
      "(0.15, 2.0)\n",
      "(0.15, 2.5)\n",
      "(0.25, 1.1)\n",
      "(0.25, 1.5)\n",
      "(0.25, 2.0)\n",
      "(0.25, 2.5)\n",
      "(0.5, 1.1)\n",
      "(0.5, 1.5)\n",
      "(0.5, 2.0)\n",
      "(0.5, 2.5)\n"
     ]
    }
   ],
   "source": [
    "T=10\n",
    "theta_A = {}\n",
    "theta_B = {}\n",
    "exposure_e = 0.05\n",
    "for delta_low in [0.1, 0.15, 0.25,0.5]:\n",
    "    for delta_high in [1.1, 1.5, 2., 2.5]:\n",
    "        print((delta_low,delta_high))\n",
    "        theta_ratio = platform_opt.opt('ratio',pi, q, T, c,v,beta_dist,delta_low=delta_low, delta_high=delta_high,exposure_e=0.01)\n",
    "        theta_A[(delta_low, delta_high)] = theta_ratio[1]\n",
    "        theta_B[(delta_low, delta_high)] = theta_ratio[-1]\n",
    "    \n",
    "list_A = sorted(theta_A.items()) # sorted by key, return a list of tuples\n",
    "hold_A, thetaA = zip(*list_A) # unpack a list of pairs into two tuples\n",
    "delta_low_A, delta_high_A = zip(*hold_A)\n",
    "\n",
    "list_B = sorted(theta_B.items()) # sorted by key, return a list of tuples\n",
    "hold_B, thetaB = zip(*list_B) # unpack a list of pairs into two tuples\n",
    "delta_low_B, delta_high_B = zip(*hold_B)\n",
    "\n"
   ]
  },
  {
   "cell_type": "code",
   "execution_count": null,
   "metadata": {},
   "outputs": [],
   "source": [
    "sns.set(style=\"whitegrid\")\n",
    "mk=sns.color_palette('mako', n_colors=4)\n",
    "\n",
    "ser = pd.Series(list(theta_A.values()),\n",
    "                  index=pd.MultiIndex.from_tuples(theta_A.keys()))\n",
    "df = ser.unstack().fillna(0)\n",
    "\n",
    "print(df)\n",
    "\n",
    "ax = sns.heatmap(df,cmap='mako', vmin=0.8, vmax=1)\n",
    "plt.title(\"$\\\\theta_A$ as a function of $\\\\delta_{low}$ and $\\\\delta_{high}$\")\n",
    "plt.xlabel(\"$\\\\delta_{high}$\")\n",
    "plt.ylabel(\"$\\\\delta_{low}$\")\n",
    "plt.savefig('../figures/' + str(dataset_name) +'_heatmap_theta_A_ratio_params.pdf')\n",
    "plt.show()\n",
    "\n",
    "sns.set(style=\"whitegrid\")\n",
    "ser = pd.Series(list(theta_B.values()),\n",
    "                  index=pd.MultiIndex.from_tuples(theta_B.keys()))\n",
    "df = ser.unstack().fillna(0)\n",
    "\n",
    "ax = sns.heatmap(df,cmap='mako', vmin=0, vmax=.2)\n",
    "plt.title(\"$\\\\theta_B$ as a function of $\\\\delta_{low}$ and $\\\\delta_{high}$\")\n",
    "plt.xlabel(\"$\\\\delta_{high}$\")\n",
    "plt.ylabel(\"$\\\\delta_{low}$\")\n",
    "plt.savefig('../figures/' + str(dataset_name) +'_heatmap_theta_B_ratio_params.pdf')\n",
    "plt.show()"
   ]
  },
  {
   "cell_type": "markdown",
   "metadata": {},
   "source": [
    "### heatmap varying homophily constraint"
   ]
  },
  {
   "cell_type": "code",
   "execution_count": null,
   "metadata": {},
   "outputs": [],
   "source": [
    "import numpy as np\n",
    "import seaborn as sns\n",
    "import pickle as pkl\n",
    "import pandas as pd\n",
    "\n",
    "#heatmap varying q_A and q_B\n",
    "num_trials = 25\n",
    "M = 100000\n",
    "\n",
    "\n",
    "T = 5\n",
    "add_epsilon = 0.05       \n",
    "delta_low = 0.25\n",
    "delta_high = 2.\n",
    "\n",
    "dataset_name = 'symmetric'\n",
    "pi,beta_dist,P,v,c,q = sims.get_params(dataset_name)\n",
    "\n",
    "\n",
    "share_list = []\n",
    "ig_share_list = [] #intergroup shares\n",
    "\n",
    "st = 0.1\n",
    "n = np.arange(0.5, 1.01, step=st).shape[0]\n",
    "data = np.zeros(n)\n",
    "ig_data = np.zeros(n)\n",
    "\n",
    "\n",
    "\n",
    "\n",
    "for k,q_A in enumerate(np.arange(0.5, 1.01, step=st)):\n",
    "    q = {-1: q_A, 1: q_A}\n",
    "    theta_fair = platform_opt.opt('ratio',pi, q, T, c,v,beta_dist,delta_low=delta_low, delta_high=delta_high, exposure_e=0.0)\n",
    "    for i in range(num_trials):\n",
    "        players_in_model_fair, shown_d_fair, click_d_fair, share_d_fair = sims.runModel(theta_fair, T, pi, M, P, beta_dist, v,c,q)\n",
    "        share_list.append(sum([share_d_fair[key] for key in share_d_fair.keys()]))\n",
    "        ig_share_list.append(sum([share_d_fair[key] for key in share_d_fair.keys() if key[0] == -key[1]]))\n",
    "\n",
    "\n",
    "    data[k] = np.mean(share_list)\n",
    "    ig_data[k] = np.mean(ig_share_list)\n",
    "\n",
    "df = pd.DataFrame({\"Total Shares\": data, \"Intergroup Shares\": ig_data, \"$q_A = q_B$\" : np.round(np.arange(0.5, 1.01, step=st), 2)})"
   ]
  },
  {
   "cell_type": "code",
   "execution_count": null,
   "metadata": {},
   "outputs": [],
   "source": [
    "sims.saveRuns(df, '../same_init_runs/' + str(dataset_name) + '_homophily_shares.pkl')"
   ]
  },
  {
   "cell_type": "code",
   "execution_count": null,
   "metadata": {},
   "outputs": [],
   "source": [
    "df = sims.loadRuns('../same_init_runs/' + str(dataset_name) + '_homophily_shares.pkl')"
   ]
  },
  {
   "cell_type": "code",
   "execution_count": null,
   "metadata": {
    "scrolled": true
   },
   "outputs": [],
   "source": [
    "sns.set(style=\"whitegrid\")\n",
    "mk=sns.color_palette('mako', n_colors=4)\n",
    "\n",
    "\n",
    "ax = sns.factorplot(data = df, x = \"$q_A = q_B$\", y = \"Total Shares\", log=True, color=mk[3])\n",
    "plt.title(\"Effect of homophily on total number of shares\")\n",
    "plt.savefig('../figures/' + str(dataset_name) + '_homophily_shares.pdf')\n",
    "plt.show()\n",
    "\n",
    "ax = sns.factorplot(data = df, x = \"$q_A = q_B$\", y = \"Intergroup Shares\", log=True, color=mk[3])\n",
    "plt.title(\"Effect of homophily on number of intergroup shares\")\n",
    "plt.savefig('../figures/' + str(dataset_name) + '_homophily_ig_shares.pdf')\n",
    "plt.show()\n"
   ]
  },
  {
   "cell_type": "code",
   "execution_count": null,
   "metadata": {},
   "outputs": [],
   "source": [
    "#varying psi\n",
    "#import numpy as np\n",
    "#import seaborn as sns\n",
    "\n",
    "#heatmap varying Psi\n",
    "num_trials = 25\n",
    "M = 100000\n",
    "pi= {-1: 0.5, 1: 0.5}\n",
    "\n",
    "T = 5\n",
    "epsilon = 0.25        \n",
    "dataset_name = 'symmetric'\n",
    "pi,beta_dist,P,v,c,q = sims.get_params(dataset_name)\n",
    "\n",
    "share_list = []\n",
    "ig_share_list = [] #intergroup shares\n",
    "\n",
    "st = 500\n",
    "rng_min = 500\n",
    "rng_max = 2501\n",
    "n = np.arange(rng_min, rng_max, step=st).shape[0]\n",
    "data_psi = np.zeros((n,n))\n",
    "ig_data_psi = np.zeros((n,n))\n",
    "\n",
    "\n",
    "for k,intra in enumerate(np.arange(rng_min, rng_max, step=st)):\n",
    "    for j,inter in enumerate(np.arange(rng_min, rng_max, step=st)):\n",
    "        v = {(1,1): intra, (-1,1): inter, (1,-1): inter, (-1,-1):intra }\n",
    "        #print('v: ' + str(v))\n",
    "        theta_fair = platform_opt.opt('ratio',pi, q, T, c,v,beta_dist,delta_low=delta_low, delta_high=delta_high, exposure_e=0.05)\n",
    "        #print('Theta:  ' + str(theta_fair))\n",
    "        for i in range(num_trials):\n",
    "            players_in_model_fair, shown_d_fair, click_d_fair, share_d_fair = sims.runModel(theta_fair, T, pi, M, P, beta_dist, v,c,q)\n",
    "            share_list.append(sum([share_d_fair[key] for key in share_d_fair.keys()]) / sum(players_in_model_fair))\n",
    "            ig_share_list.append(sum([share_d_fair[key] for key in share_d_fair.keys() if key[0] == -key[1]]) / sum(players_in_model_fair))\n",
    "                     \n",
    "        data_psi[k,j] = np.mean(share_list)\n",
    "        ig_data_psi[k,j] = np.mean(ig_share_list)\n",
    "        print(k,j)          \n"
   ]
  },
  {
   "cell_type": "code",
   "execution_count": null,
   "metadata": {},
   "outputs": [],
   "source": [
    "sims.saveRuns(data_psi, '../simulation_data/' + str(dataset_name) + '_heatmap_psi.pkl')\n",
    "sims.saveRuns(ig_data_psi, '../simulation_data/' + str(dataset_name) + '_heatmap_psi_intergroup.pkl')"
   ]
  },
  {
   "cell_type": "code",
   "execution_count": null,
   "metadata": {},
   "outputs": [],
   "source": [
    "data_psi = sims.loadRuns('../simulation_data/' + str(dataset_name) + '_heatmap_psi.pkl')\n",
    "ig_data_psi = sims.loadRuns('../simulation_data/' + str(dataset_name) + '_heatmap_psi_intergroup.pkl')"
   ]
  },
  {
   "cell_type": "code",
   "execution_count": null,
   "metadata": {},
   "outputs": [],
   "source": [
    "import seaborn as sns \n",
    "print(data_psi)\n",
    "\n",
    "sns.set()\n",
    "ax = sns.heatmap(data_psi,cmap='mako', xticklabels=[np.round(x,2) for x in np.arange(rng_min, rng_max, step=st)], yticklabels=[np.round(x,2) for x in np.arange(rng_min, rng_max, step=st)])\n",
    "plt.title(\"Effect on $\\\\psi$ on share rate\")\n",
    "plt.xlabel(\"Intergroup $v$ value\")\n",
    "plt.ylabel(\"Intragroup $v$ value\")\n",
    "plt.savefig('../figures/' + str(dataset_name) + '_heatmap_psi.pdf')\n",
    "plt.show()\n",
    "\n",
    "\n",
    "\n",
    "sns.set()\n",
    "ax = sns.heatmap(ig_data_psi,cmap=\"mako\", xticklabels=[np.round(x,2) for x in np.arange(rng_min, rng_max, step=st)], yticklabels=[np.round(x,2) for x in np.arange(rng_min, rng_max, step=st)])\n",
    "plt.title(\"Effect on $\\\\psi$ on intergroup shares\")\n",
    "plt.xlabel(\"Intergroup $v$ value\")\n",
    "plt.ylabel(\"Intragroup $v$ value\")\n",
    "plt.savefig('../figures/' + str(dataset_name) + '_heatmap_psi_intergroup.pdf')\n",
    "plt.show()\n"
   ]
  },
  {
   "cell_type": "code",
   "execution_count": null,
   "metadata": {},
   "outputs": [],
   "source": []
  },
  {
   "cell_type": "code",
   "execution_count": null,
   "metadata": {},
   "outputs": [],
   "source": []
  }
 ],
 "metadata": {
  "kernelspec": {
   "display_name": "Python 3",
   "language": "python",
   "name": "python3"
  },
  "language_info": {
   "codemirror_mode": {
    "name": "ipython",
    "version": 3
   },
   "file_extension": ".py",
   "mimetype": "text/x-python",
   "name": "python",
   "nbconvert_exporter": "python",
   "pygments_lexer": "ipython3",
   "version": "3.7.1"
  }
 },
 "nbformat": 4,
 "nbformat_minor": 4
}

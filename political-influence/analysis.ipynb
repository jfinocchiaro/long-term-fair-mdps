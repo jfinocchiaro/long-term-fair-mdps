{
 "cells": [
  {
   "cell_type": "code",
   "execution_count": 3,
   "metadata": {},
   "outputs": [],
   "source": [
    "#import libraries\n",
    "import numpy as np\n",
    "import matplotlib\n",
    "from matplotlib import pyplot as plt \n",
    "import random\n",
    "import pickle as pkls\n",
    "\n",
    "#local files being imported\n",
    "import platform_opt\n",
    "from players import *\n",
    "import sims\n",
    "from statistics import variance\n",
    "#Note: when indexed as a list: group $A$ is 0, group $B$ is 1.\n",
    "#      when indexed as a dict: group $A$ is -1, group $B$ is 1."
   ]
  },
  {
   "cell_type": "code",
   "execution_count": 4,
   "metadata": {},
   "outputs": [],
   "source": [
    "# SIMULATION PARAMETERS AGNOSTIC TO DATA\n",
    "T = 14                 # max number of timesteps\n",
    "M = 100000            # size of unit mass"
   ]
  },
  {
   "cell_type": "code",
   "execution_count": 5,
   "metadata": {},
   "outputs": [],
   "source": [
    "pi,beta_dist,P,v,c,q = sims.get_params('facebook')\n",
    "\n",
    "#theta_hat and theta_tilde learned with T = 15, epsilon = 0.05\n",
    "#since the optimization in the following cell only needs to be run once per set of parameters\n",
    "\n",
    "#T = 14, epsilon = 1e-4\n",
    "theta_fair = {1: 0.0, -1: 0.810973068866342}\n",
    "theta_opt = {1: 4.316992360088821e-11, -1: 0.9999999999745947}\n",
    "theta_half = {1: 0.5, -1: 0.5}\n",
    "\n",
    "#T = 12, epsilon = 1e-10\n",
    "theta_fair = {1: 0.0, -1: 0.8248699654379131}\n",
    "theta_opt ={1: 4.2866804763043903e-11, -1: 0.9999999999746445}\n",
    "theta_half = {1: 0.5, -1: 0.5}\n",
    "\n",
    "#T = 14, epsilon = 1e-10\n",
    "theta_fair = {1: 0.0, -1: 0.8109288469677634}\n",
    "theta_opt = {1: 4.316992360088821e-11, -1: 0.9999999999745947}\n",
    "theta_half = {1: 0.5, -1: 0.5}"
   ]
  },
  {
   "cell_type": "code",
   "execution_count": 6,
   "metadata": {},
   "outputs": [
    {
     "name": "stdout",
     "output_type": "stream",
     "text": [
      "{1: 0.09999999961561624, -1: 0.7173311968010447}\n"
     ]
    }
   ],
   "source": [
    "#how to show articles at timestep 1\n",
    "epsilon = 1e-4\n",
    "    \n",
    "theta_fair = platform_opt.opt_constrained(pi, q, T, epsilon,c,v,beta_dist, exposure_e=0.1) #constrained with exposure equality\n",
    "#theta_opt = platform_opt.opt_unconstrained(pi, q, T, epsilon,c,v,beta_dist) #unconstrained to optimize clicks\n",
    "\n",
    "print(theta_fair)"
   ]
  },
  {
   "cell_type": "code",
   "execution_count": 4,
   "metadata": {},
   "outputs": [],
   "source": [
    "#run the experiments multiple times for paper results\n",
    "num_trials = 50\n",
    "\n",
    "players_list_fair = []\n",
    "shown_fair = []\n",
    "click_fair = []\n",
    "share_fair = []\n",
    "pof_fair = []\n",
    "\n",
    "players_list_opt = []\n",
    "shown_opt = []\n",
    "click_opt = []\n",
    "share_opt = []\n",
    "pof_opt = []\n",
    "\n",
    "players_list_half = []\n",
    "shown_half = []\n",
    "click_half = []\n",
    "share_half = []\n",
    "pof_half = []\n",
    "\n",
    "for i in range(num_trials):\n",
    "    players_in_model_fair, shown_d_fair, click_d_fair, share_d_fair = sims.runModel(theta_fair, T, pi, M, P, beta_dist, v,c,q)\n",
    "    players_in_model_opt, shown_d_opt, click_d_opt, share_d_opt = sims.runModel(theta_opt, T, pi, M, P, beta_dist, v,c,q)\n",
    "    players_in_model_half, shown_d_half, click_d_half, share_d_half = sims.runModel(theta_half, T, pi, M, P, beta_dist, v,c,q)\n",
    "    \n",
    "    players_list_fair.append(players_in_model_fair + ([0] * (T - len(players_in_model_fair))))\n",
    "    shown_fair.append(shown_d_fair)\n",
    "    click_fair.append(click_d_fair)\n",
    "    share_fair.append(share_d_fair)\n",
    "    pof_fair.append(sum(players_in_model_fair[1:]))\n",
    "    \n",
    "    players_list_opt.append(players_in_model_opt + ([0] * (T - len(players_in_model_opt))))\n",
    "    shown_opt.append(shown_d_opt)\n",
    "    click_opt.append(click_d_opt)\n",
    "    share_opt.append(share_d_opt)\n",
    "    pof_opt.append(sum(players_in_model_opt[1:]))\n",
    "    \n",
    "    \n",
    "    players_list_half.append(players_in_model_half + ([0] * (T - len(players_in_model_half))))\n",
    "    shown_half.append(shown_d_half)\n",
    "    click_half.append(click_d_half)\n",
    "    share_half.append(share_d_half)\n",
    "    pof_half.append(sum(players_in_model_half[1:]))\n"
   ]
  },
  {
   "cell_type": "code",
   "execution_count": 5,
   "metadata": {},
   "outputs": [],
   "source": [
    "#pickle the data if needed\n",
    "sims.saveRuns(players_list_fair, 'simulation_data/players_list_fair.pkl')\n",
    "sims.saveRuns(shown_fair, 'simulation_data/shown_fair.pkl')\n",
    "sims.saveRuns(click_fair, 'simulation_data/click_fair.pkl')\n",
    "sims.saveRuns(share_fair, 'simulation_data/share_fair.pkl')\n",
    "sims.saveRuns(pof_fair, 'simulation_data/pof_fair.pkl')\n",
    "\n",
    "sims.saveRuns(players_list_opt, 'simulation_data/players_list_opt.pkl')\n",
    "sims.saveRuns(shown_opt, 'simulation_data/shown_opt.pkl')\n",
    "sims.saveRuns(click_opt, 'simulation_data/click_opt.pkl')\n",
    "sims.saveRuns(share_opt, 'simulation_data/share_opt.pkl')\n",
    "sims.saveRuns(pof_opt, 'simulation_data/pof_opt.pkl')\n",
    "\n",
    "sims.saveRuns(players_list_half, 'simulation_data/players_list_half.pkl')\n",
    "sims.saveRuns(shown_half, 'simulation_data/shown_half.pkl')\n",
    "sims.saveRuns(click_half, 'simulation_data/click_half.pkl')\n",
    "sims.saveRuns(share_half, 'simulation_data/share_half.pkl')\n",
    "sims.saveRuns(pof_half, 'simulation_data/pof_half.pkl')"
   ]
  },
  {
   "cell_type": "code",
   "execution_count": 4,
   "metadata": {},
   "outputs": [],
   "source": [
    "#unpickle the data as needed\n",
    "#pickle the data if needed\n",
    "players_list_fair = sims.loadRuns('simulation_data/players_list_fair.pkl')\n",
    "shown_fair = sims.loadRuns('simulation_data/shown_fair.pkl')\n",
    "click_fair = sims.loadRuns('simulation_data/click_fair.pkl')\n",
    "share_fair = sims.loadRuns('simulation_data/share_fair.pkl')\n",
    "pof_fair = sims.loadRuns('simulation_data/pof_fair.pkl')\n",
    "\n",
    "players_list_opt = sims.loadRuns('simulation_data/players_list_opt.pkl')\n",
    "shown_opt = sims.loadRuns('simulation_data/shown_opt.pkl')\n",
    "click_opt = sims.loadRuns('simulation_data/click_opt.pkl')\n",
    "share_opt = sims.loadRuns('simulation_data/share_opt.pkl')\n",
    "pof_opt = sims.loadRuns('simulation_data/pof_opt.pkl')\n",
    "\n",
    "players_list_half = sims.loadRuns('simulation_data/players_list_half.pkl')\n",
    "shown_half = sims.loadRuns('simulation_data/shown_half.pkl')\n",
    "click_half = sims.loadRuns('simulation_data/click_half.pkl')\n",
    "share_half = sims.loadRuns('simulation_data/share_half.pkl')\n",
    "pof_half = sims.loadRuns('simulation_data/pof_half.pkl')"
   ]
  },
  {
   "cell_type": "code",
   "execution_count": 6,
   "metadata": {},
   "outputs": [
    {
     "name": "stdout",
     "output_type": "stream",
     "text": [
      "Intergroup exposure and shares subject to fairness constraints\n",
      "2.396366399944776\n",
      "0.2893436179528976\n",
      "Intergroup exposure and shares unconstrained\n",
      "1.5666555431430886\n",
      "0.23577666826067398\n",
      "Intergroup exposure and shares half exposure\n",
      "6.474280144234416\n",
      "1.3192865963363563\n"
     ]
    }
   ],
   "source": [
    "#average intergroup exposure and share\n",
    "#normalized by number of impressions/clicks in model\n",
    "#higher is better here\n",
    "print(\"Intergroup exposure and shares subject to fairness constraints\")\n",
    "show_avg_mp_fair = np.mean([x[(-1,1)] for x in shown_fair])\n",
    "show_avg_pm_fair = np.mean([x[(1,-1)] for x in shown_fair])\n",
    "print((show_avg_mp_fair + show_avg_pm_fair) / np.mean(players_list_fair))\n",
    "\n",
    "share_avg_mp_fair = np.mean([x[(-1,1)] for x in share_fair])\n",
    "share_avg_pm_fair = np.mean([x[(1,-1)] for x in share_fair])\n",
    "denom_fair = [x[1:] for x in players_list_fair]\n",
    "print((share_avg_mp_fair + share_avg_pm_fair) / np.mean(denom_fair)) \n",
    "\n",
    "print(\"Intergroup exposure and shares unconstrained\")\n",
    "show_avg_mp_opt = np.mean([x[(-1,1)] for x in shown_opt])\n",
    "show_avg_pm_opt = np.mean([x[(1,-1)] for x in shown_opt])\n",
    "print((show_avg_mp_opt + show_avg_pm_opt) / np.mean(players_list_opt))\n",
    "\n",
    "share_avg_mp_opt = np.mean([x[(-1,1)] for x in share_opt])\n",
    "share_avg_pm_opt = np.mean([x[(1,-1)] for x in share_opt])\n",
    "denom_opt = [x[1:] for x in players_list_opt]\n",
    "print((share_avg_mp_opt + share_avg_pm_opt) / np.mean(denom_opt))\n",
    "\n",
    "print(\"Intergroup exposure and shares half exposure\")\n",
    "show_avg_mp_half = np.mean([x[(-1,1)] for x in shown_half])\n",
    "show_avg_pm_half = np.mean([x[(1,-1)] for x in shown_half])\n",
    "print((show_avg_mp_half + show_avg_pm_half) / np.mean(players_list_half))\n",
    "\n",
    "share_avg_mp_half = np.mean([x[(-1,1)] for x in share_half])\n",
    "share_avg_pm_half = np.mean([x[(1,-1)] for x in share_half])\n",
    "denom_half = [x[1:] for x in players_list_half]\n",
    "print((share_avg_mp_half + share_avg_pm_half) / np.mean(denom_half)) "
   ]
  },
  {
   "cell_type": "code",
   "execution_count": 10,
   "metadata": {},
   "outputs": [
    {
     "data": {
      "image/png": "[encoded data removed]",
      "text/plain": [
       "<Figure size 432x288 with 1 Axes>"
      ]
     },
     "metadata": {
      "needs_background": "light"
     },
     "output_type": "display_data"
    }
   ],
   "source": [
    "#eb_fair = sims.calc_errorbars(players_list_fair)\n",
    "#eb_opt = sims.calc_errorbars(players_list_opt)\n",
    "#eb_half = sims.calc_errorbars(players_list_half)\n",
    "\n",
    "#plt.errorbar(np.arange(T), np.mean(players_list_fair, axis=0), yerr=eb_fair, color='green')\n",
    "#plt.errorbar(np.arange(T), np.mean(players_list_opt, axis=0), yerr=eb_opt, color='blue')\n",
    "#plt.errorbar(np.arange(T), np.mean(players_list_half, axis=0), yerr=eb_half, color='red')\n",
    "\n",
    "plt.plot(np.mean(players_list_fair, axis=0), color='green')\n",
    "plt.plot(np.mean(players_list_opt, axis=0), color='blue')\n",
    "plt.plot(np.mean(players_list_half, axis=0), color='red')\n",
    "plt.title(\"Number of players remaining in the model (avg over %i trials)\" % (num_trials))\n",
    "plt.ylabel(\"Number of players shown an article\")\n",
    "plt.xlabel(\"timestep $t$\")\n",
    "plt.yscale('log')\n",
    "plt.xlim((0,T))\n",
    "plt.ylim((1, M))\n",
    "plt.legend(('Exposure-constrained $\\hat \\\\theta$', 'Unconstrained $\\\\tilde \\\\theta$', 'Half-exposure $\\\\theta_g = 1/2$'))\n",
    "plt.show()"
   ]
  },
  {
   "cell_type": "code",
   "execution_count": 11,
   "metadata": {},
   "outputs": [
    {
     "data": {
      "text/plain": [
       "[None, None, None, None, None, None]"
      ]
     },
     "execution_count": 11,
     "metadata": {},
     "output_type": "execute_result"
    },
    {
     "data": {
      "image/png": "[encoded data removed]",
      "text/plain": [
       "<Figure size 432x288 with 2 Axes>"
      ]
     },
     "metadata": {
      "needs_background": "light"
     },
     "output_type": "display_data"
    }
   ],
   "source": [
    "#calculate boxplot data\n",
    "intergroup_fair_shown = [x[(-1,1)] + x[(1,-1)] for x in shown_fair]\n",
    "intergroup_fair_share = [x[(-1,1)] + x[(1,-1)] for x in share_fair]\n",
    "\n",
    "intergroup_opt_shown = [x[(-1,1)] + x[(1,-1)] for x in shown_opt]\n",
    "intergroup_opt_share = [x[(-1,1)] + x[(1,-1)] for x in share_opt]\n",
    "\n",
    "intergroup_half_shown = [x[(-1,1)] + x[(1,-1)] for x in shown_half]\n",
    "intergroup_half_share = [x[(-1,1)] + x[(1,-1)] for x in share_half]\n",
    "\n",
    "# plot data\n",
    "fig1, (ax1, ax2) = plt.subplots(1,2)\n",
    "\n",
    "ax1.set_title('Intergroup Exposure of articles')\n",
    "ax1.boxplot([intergroup_fair_shown, intergroup_opt_shown, intergroup_half_shown], labels=['Exposure-constrained', 'Unconstrained', 'Half-exposed'])\n",
    "\n",
    "ax2.set_title('Intergroup Sharing of articles')\n",
    "ax2.boxplot([intergroup_fair_share, intergroup_opt_share, intergroup_half_share], labels=['Exposure-constrained', 'Unconstrained', 'Half-exposed'])\n",
    "\n",
    "plt.setp(ax1.xaxis.get_majorticklabels(), rotation=45)\n",
    "plt.setp(ax2.xaxis.get_majorticklabels(), rotation=45)"
   ]
  },
  {
   "cell_type": "code",
   "execution_count": 12,
   "metadata": {},
   "outputs": [
    {
     "data": {
      "text/plain": [
       "[None, None, None, None, None, None]"
      ]
     },
     "execution_count": 12,
     "metadata": {},
     "output_type": "execute_result"
    },
    {
     "data": {
      "image/png": "[encoded data removed]",
      "text/plain": [
       "<Figure size 432x288 with 2 Axes>"
      ]
     },
     "metadata": {
      "needs_background": "light"
     },
     "output_type": "display_data"
    }
   ],
   "source": [
    "#calculate boxplot data, normalized by exposure size\n",
    "intergroup_fair_shown = [(x[(-1,1)] + x[(1,-1)]) / np.mean(players_list_fair) for x in shown_fair]\n",
    "intergroup_fair_share = [(x[(-1,1)] + x[(1,-1)]) / np.mean(denom_fair) for x in share_fair]\n",
    "\n",
    "intergroup_opt_shown = [(x[(-1,1)] + x[(1,-1)]) / np.mean(players_list_opt) for x in shown_opt]\n",
    "intergroup_opt_share = [(x[(-1,1)] + x[(1,-1)]) / np.mean(denom_opt) for x in share_opt]\n",
    "\n",
    "intergroup_half_shown = [(x[(-1,1)] + x[(1,-1)]) / np.mean(players_list_half) for x in shown_half]\n",
    "intergroup_half_share = [(x[(-1,1)] + x[(1,-1)]) / np.mean(denom_half) for x in share_half]\n",
    "\n",
    "# plot data\n",
    "fig1, (ax1, ax2) = plt.subplots(1,2)\n",
    "\n",
    "ax1.set_title('Norm. Intergroup Exposure of articles')\n",
    "ax1.boxplot([intergroup_fair_shown, intergroup_opt_shown, intergroup_half_shown], labels=['Exposure-constrained', 'Unconstrained', 'Half-exposure'])\n",
    "\n",
    "ax2.set_title('Norm. Intergroup Sharing of articles')\n",
    "ax2.boxplot([intergroup_fair_share, intergroup_opt_share, intergroup_half_share], labels=['Exposure-constrained', 'Unconstrained', 'Half-exposure'])\n",
    "\n",
    "plt.setp(ax1.xaxis.get_majorticklabels(), rotation=45)\n",
    "plt.setp(ax2.xaxis.get_majorticklabels(), rotation=45)"
   ]
  },
  {
   "cell_type": "code",
   "execution_count": 13,
   "metadata": {},
   "outputs": [
    {
     "name": "stdout",
     "output_type": "stream",
     "text": [
      "1.0845967922574724\n"
     ]
    },
    {
     "data": {
      "text/plain": [
       "{'whiskers': [<matplotlib.lines.Line2D at 0x28957fbd7c0>,\n",
       "  <matplotlib.lines.Line2D at 0x28957fbde80>],\n",
       " 'caps': [<matplotlib.lines.Line2D at 0x28957fbd6a0>,\n",
       "  <matplotlib.lines.Line2D at 0x28957fbdca0>],\n",
       " 'boxes': [<matplotlib.lines.Line2D at 0x28957fbd190>],\n",
       " 'medians': [<matplotlib.lines.Line2D at 0x28957fc2d30>],\n",
       " 'fliers': [<matplotlib.lines.Line2D at 0x28957fc2af0>],\n",
       " 'means': []}"
      ]
     },
     "execution_count": 13,
     "metadata": {},
     "output_type": "execute_result"
    },
    {
     "data": {
      "image/png": "[encoded data removed]",
      "text/plain": [
       "<Figure size 432x288 with 1 Axes>"
      ]
     },
     "metadata": {
      "needs_background": "light"
     },
     "output_type": "display_data"
    }
   ],
   "source": [
    "#boxplot for price of fairness\n",
    "pof = [pof_opt[i] / pof_fair[i] for i in range(len(pof_opt))]\n",
    "print(np.mean(pof))\n",
    "\n",
    "fig1, ax1 = plt.subplots()\n",
    "\n",
    "ax1.set_title('Price of Fairness')\n",
    "ax1.boxplot(pof, labels=['Price of fairness'])"
   ]
  },
  {
   "cell_type": "code",
   "execution_count": 38,
   "metadata": {},
   "outputs": [
    {
     "name": "stdout",
     "output_type": "stream",
     "text": [
      "{(1, 1): 69867, (-1, 1): 4772, (1, -1): 19929, (-1, -1): 52710}\n",
      "{(1, 1): 87534, (-1, 1): 6609, (1, -1): 18006, (-1, -1): 66700}\n",
      "{(1, 1): 35061, (-1, 1): 29151, (1, -1): 30185, (-1, -1): 31996}\n",
      "178849\n"
     ]
    },
    {
     "data": {
      "text/plain": [
       "[None, None, None, None, None, None]"
      ]
     },
     "execution_count": 38,
     "metadata": {},
     "output_type": "execute_result"
    },
    {
     "data": {
      "image/png": "[encoded data removed]",
      "text/plain": [
       "<Figure size 432x288 with 2 Axes>"
      ]
     },
     "metadata": {
      "needs_background": "light"
     },
     "output_type": "display_data"
    }
   ],
   "source": [
    "#calculate boxplots for difference in exposure \n",
    "#should be close to 0\n",
    "# if np.abs removed, positive means article B shown more\n",
    "print(shown_fair[0])\n",
    "print(shown_opt[0])\n",
    "print(shown_half[0])\n",
    "\n",
    "\n",
    "impressions_fair = [sum(x)for x in players_list_fair]\n",
    "exposure_disparity_fair_intra = [((x[(1,1)] / (pi[1] * impressions_fair[i]) - x[(-1,-1)] / (pi[-1] * impressions_fair[i]))) for i,x in enumerate(shown_fair)]\n",
    "exposure_disparity_fair = [(((x[(1,1)] + x[(-1,1)]) / (pi[1] * M) - (x[(-1,-1)] + x[(1,-1)]) / (pi[-1] * M))) for x in shown_fair]\n",
    "\n",
    "impressions_opt = [sum(x) for x in players_list_opt]\n",
    "print(impressions_opt[0])\n",
    "exposure_disparity_opt_intra = [((x[(1,1)] / (pi[1] * impressions_opt[i]) - x[(-1,-1)] / (pi[-1] * impressions_opt[i]))) for i,x in enumerate(shown_opt)]\n",
    "exposure_disparity_opt = [(((x[(1,1)] + x[(-1,1)]) / (pi[1] * M) - (x[(-1,-1)] + x[(1,-1)]) / (pi[-1] * M))) for x in shown_opt]\n",
    "\n",
    "impressions_half = [sum(x)for x in players_list_half]\n",
    "exposure_disparity_half_intra = [((x[(1,1)] / (pi[1] * impressions_half[i]) - x[(-1,-1)] / (pi[-1] * impressions_half[i]))) for i,x in enumerate(shown_half)]\n",
    "exposure_disparity_half = [(((x[(1,1)] + x[(-1,1)]) / (pi[1] * M) - (x[(-1,-1)] + x[(1,-1)]) / (pi[-1] * M))) for x in shown_half]\n",
    "\n",
    "# plot data\n",
    "fig1, (ax1,ax2) = plt.subplots(1,2)\n",
    "\n",
    "ax1.set_title('Intragroup Exposure Disparity of articles')\n",
    "ax1.boxplot([exposure_disparity_fair_intra, exposure_disparity_opt_intra, exposure_disparity_half_intra], labels=['Exposure-constrained', 'Unconstrained', 'Half-exposure'])\n",
    "plt.setp(ax1.xaxis.get_majorticklabels(), rotation=45)\n",
    "\n",
    "#ax2.set_title('Exposure Disparity of articles')\n",
    "#ax2.boxplot([exposure_disparity_fair, exposure_disparity_opt, exposure_disparity_half], labels=['Exposure-constrained', 'Unconstrained', 'Half-exposure'])\n",
    "#plt.setp(ax2.xaxis.get_majorticklabels(), rotation=45)"
   ]
  },
  {
   "cell_type": "code",
   "execution_count": 15,
   "metadata": {},
   "outputs": [],
   "source": [
    "T=10\n",
    "theta_A = {}\n",
    "theta_B = {}\n",
    "for exp in [0., 0.01, 0.05, 0.1, 0.2, 0.25]:\n",
    "    theta_fair = platform_opt.opt_constrained(pi, q, T, epsilon,c,v,beta_dist, exposure_e=exp) #constrained with exposure equality \n",
    "    theta_A[exp] = theta_fair[-1]\n",
    "    theta_B[exp] = theta_fair[1]\n",
    "    \n",
    "list_A = sorted(theta_A.items()) # sorted by key, return a list of tuples\n",
    "eps_A, thetaA = zip(*list_A) # unpack a list of pairs into two tuples\n",
    "\n",
    "list_B = sorted(theta_B.items()) # sorted by key, return a list of tuples\n",
    "eps_B, thetaB = zip(*list_B) # unpack a list of pairs into two tuples\n",
    "\n"
   ]
  },
  {
   "cell_type": "code",
   "execution_count": 23,
   "metadata": {},
   "outputs": [
    {
     "data": {
      "image/png": "[encoded data removed]",
      "text/plain": [
       "<Figure size 432x288 with 1 Axes>"
      ]
     },
     "metadata": {
      "needs_background": "light"
     },
     "output_type": "display_data"
    }
   ],
   "source": [
    "plt.plot(eps_A, thetaA, 'bo')\n",
    "plt.plot(eps_B, thetaB, 'gx')\n",
    "plt.xlim((-0.01,0.27))\n",
    "plt.ylim((-0.05,1.05))\n",
    "plt.title('$\\\\theta_A$ and $\\\\theta_B$ imposing exposure constraints; T = %i' % (T))\n",
    "plt.legend(['$\\\\theta_A$', '$\\\\theta_B$'])\n",
    "plt.xlabel('$\\\\gamma : \\\\theta_g \\\\in [\\\\gamma, 1-\\\\gamma]$')\n",
    "plt.ylabel('$\\\\theta_g$')\n",
    "plt.show()"
   ]
  },
  {
   "cell_type": "code",
   "execution_count": 20,
   "metadata": {},
   "outputs": [
    {
     "name": "stdout",
     "output_type": "stream",
     "text": [
      "{0.0: 0.8447305628944894, 0.01: 0.8351191537258125, 0.05: 0.7966735170508794, 0.1: 0.7486164712061227, 0.2: 0.6525023795088996, 0.25: 0.6044453336653507}\n",
      "{0.0: 0.0, 0.01: 0.00999999999008114, 0.05: 0.04999999999058674, 0.1: 0.09999999999209705, 0.2: 0.19999999999301588, 0.25: 0.24999999999336403}\n"
     ]
    }
   ],
   "source": [
    "print(theta_A)\n",
    "print(theta_B)"
   ]
  },
  {
   "cell_type": "code",
   "execution_count": 14,
   "metadata": {},
   "outputs": [
    {
     "name": "stdout",
     "output_type": "stream",
     "text": [
      "q: {-1: 0.5, 1: 0.5}\n",
      "Theta:  {1: 0.0, -1: 0.9213427319295668}\n",
      "q: {-1: 0.5, 1: 0.55}\n",
      "Theta:  {1: 0.0, -1: 0.9931757244171843}\n",
      "q: {-1: 0.5, 1: 0.6000000000000001}\n",
      "Theta:  {1: 0.062311211547494236, -1: 0.9999999999529356}\n",
      "q: {-1: 0.5, 1: 0.6500000000000001}\n",
      "Theta:  {1: 0.13344767887967787, -1: 1.0}\n",
      "q: {-1: 0.5, 1: 0.7000000000000002}\n",
      "Theta:  {1: 0.2052939739455923, -1: 1.0}\n",
      "q: {-1: 0.5, 1: 0.7500000000000002}\n",
      "Theta:  {1: 0.27713238325494916, -1: 1.0}\n",
      "q: {-1: 0.5, 1: 0.8000000000000003}\n",
      "Theta:  {1: 0.34823234220309257, -1: 1.0}\n",
      "q: {-1: 0.5, 1: 0.8500000000000003}\n",
      "Theta:  {1: 0.4178840233728339, -1: 1.0}\n",
      "q: {-1: 0.5, 1: 0.9000000000000004}\n",
      "Theta:  {1: 0.48542975459088095, -1: 1.0}\n",
      "q: {-1: 0.5, 1: 0.9500000000000004}\n",
      "Theta:  {1: 0.5502903822461812, -1: 1.0}\n",
      "q: {-1: 0.5, 1: 1.0000000000000004}\n",
      "Theta:  {1: 0.611984535683679, -1: 1.0}\n",
      "q: {-1: 0.55, 1: 0.5}\n",
      "Theta:  {1: 0.0, -1: 0.8641372371342012}\n",
      "q: {-1: 0.55, 1: 0.55}\n",
      "Theta:  {1: 0.0, -1: 0.9326653218882434}\n",
      "q: {-1: 0.55, 1: 0.6000000000000001}\n",
      "Theta:  {1: 0.006772555494900462, -1: 1.0}\n",
      "q: {-1: 0.55, 1: 0.6500000000000001}\n",
      "Theta:  {1: 0.07969513961204393, -1: 1.0}\n",
      "q: {-1: 0.55, 1: 0.7000000000000002}\n",
      "Theta:  {1: 0.15366646899678055, -1: 1.0}\n",
      "q: {-1: 0.55, 1: 0.7500000000000002}\n",
      "Theta:  {1: 0.2279291410830227, -1: 1.0}\n",
      "q: {-1: 0.55, 1: 0.8000000000000003}\n",
      "Theta:  {1: 0.30170311208114, -1: 1.0}\n",
      "q: {-1: 0.55, 1: 0.8500000000000003}\n",
      "Theta:  {1: 0.3742222886614581, -1: 1.0}\n",
      "q: {-1: 0.55, 1: 0.9000000000000004}\n",
      "Theta:  {1: 0.444769353997686, -1: 1.0}\n",
      "q: {-1: 0.55, 1: 0.9500000000000004}\n",
      "Theta:  {1: 0.5127055536786939, -1: 1.0}\n",
      "q: {-1: 0.55, 1: 1.0000000000000004}\n",
      "Theta:  {1: 0.5774930375693538, -1: 1.0}\n",
      "q: {-1: 0.6000000000000001, 1: 0.5}\n",
      "Theta:  {1: 0.0, -1: 0.8067797070557969}\n",
      "q: {-1: 0.6000000000000001, 1: 0.55}\n",
      "Theta:  {1: 0.0, -1: 0.871755564396606}\n",
      "q: {-1: 0.6000000000000001, 1: 0.6000000000000001}\n",
      "Theta:  {1: 0.0, -1: 0.9441354789872293}\n",
      "q: {-1: 0.6000000000000001, 1: 0.6500000000000001}\n",
      "Theta:  {1: 0.021062986523683, -1: 1.0}\n",
      "q: {-1: 0.6000000000000001, 1: 0.7000000000000002}\n",
      "Theta:  {1: 0.09708746299616379, -1: 1.0}\n",
      "q: {-1: 0.6000000000000001, 1: 0.7500000000000002}\n",
      "Theta:  {1: 0.1737505878949384, -1: 1.0}\n",
      "q: {-1: 0.6000000000000001, 1: 0.8000000000000003}\n",
      "Theta:  {1: 0.25022253261041233, -1: 1.0}\n",
      "q: {-1: 0.6000000000000001, 1: 0.8500000000000003}\n",
      "Theta:  {1: 0.32567858496435276, -1: 1.0}\n",
      "q: {-1: 0.6000000000000001, 1: 0.9000000000000004}\n",
      "Theta:  {1: 0.3993376535679488, -1: 1.0}\n",
      "q: {-1: 0.6000000000000001, 1: 0.9500000000000004}\n",
      "Theta:  {1: 0.4704958880691115, -1: 1.0}\n",
      "q: {-1: 0.6000000000000001, 1: 1.0000000000000004}\n",
      "Theta:  {1: 0.5385525879694756, -1: 1.0}\n",
      "q: {-1: 0.6500000000000001, 1: 0.5}\n",
      "Theta:  {1: 0.0, -1: 0.7496599009537934}\n",
      "q: {-1: 0.6500000000000001, 1: 0.55}\n",
      "Theta:  {1: 0.0, -1: 0.8108901442576537}\n",
      "q: {-1: 0.6500000000000001, 1: 0.6000000000000001}\n",
      "Theta:  {1: 0.0, -1: 0.8792296531094512}\n",
      "q: {-1: 0.6500000000000001, 1: 0.6500000000000001}\n",
      "Theta:  {1: 0.0, -1: 0.9554689179099817}\n",
      "q: {-1: 0.6500000000000001, 1: 0.7000000000000002}\n",
      "Theta:  {1: 0.03512017366315027, -1: 1.0}\n",
      "q: {-1: 0.6500000000000001, 1: 0.7500000000000002}\n",
      "Theta:  {1: 0.11413503103745001, -1: 1.0}\n",
      "q: {-1: 0.6500000000000001, 1: 0.8000000000000003}\n",
      "Theta:  {1: 0.19330999220065417, -1: 1.0}\n",
      "q: {-1: 0.6500000000000001, 1: 0.8500000000000003}\n",
      "Theta:  {1: 0.2717598246458767, -1: 1.0}\n",
      "q: {-1: 0.6500000000000001, 1: 0.9000000000000004}\n",
      "Theta:  {1: 0.34863563438003214, -1: 1.0}\n",
      "q: {-1: 0.6500000000000001, 1: 0.9500000000000004}\n",
      "Theta:  {1: 0.4231627472275626, -1: 1.0}\n",
      "q: {-1: 0.6500000000000001, 1: 1.0000000000000004}\n",
      "Theta:  {1: 0.494670723710242, -1: 1.0}\n",
      "q: {-1: 0.7000000000000002, 1: 0.5}\n",
      "Theta:  {1: 0.0, -1: 0.6931842740962304}\n",
      "q: {-1: 0.7000000000000002, 1: 0.55}\n",
      "Theta:  {1: 0.0, -1: 0.7505358717458771}\n",
      "q: {-1: 0.7000000000000002, 1: 0.6000000000000001}\n",
      "Theta:  {1: 0.0, -1: 0.8146612538756336}\n",
      "q: {-1: 0.7000000000000002, 1: 0.6500000000000001}\n",
      "Theta:  {1: 0.0, -1: 0.8863202827486628}\n",
      "q: {-1: 0.7000000000000002, 1: 0.7000000000000002}\n",
      "Theta:  {1: 0.0, -1: 0.9663268628369744}\n",
      "q: {-1: 0.7000000000000002, 1: 0.7500000000000002}\n",
      "Theta:  {1: 0.04860759459524709, -1: 1.0}\n",
      "q: {-1: 0.7000000000000002, 1: 0.8000000000000003}\n",
      "Theta:  {1: 0.1304673658332224, -1: 1.0}\n",
      "q: {-1: 0.7000000000000002, 1: 0.8500000000000003}\n",
      "Theta:  {1: 0.2119514203166479, -1: 1.0}\n",
      "q: {-1: 0.7000000000000002, 1: 0.9000000000000004}\n",
      "Theta:  {1: 0.2921393195706107, -1: 1.0}\n",
      "q: {-1: 0.7000000000000002, 1: 0.9500000000000004}\n",
      "Theta:  {1: 0.3701797351945451, -1: 1.0}\n",
      "q: {-1: 0.7000000000000002, 1: 1.0000000000000004}\n",
      "Theta:  {1: 0.44532515255999877, -1: 1.0}\n",
      "q: {-1: 0.7500000000000002, 1: 0.5}\n",
      "Theta:  {1: 0.0, -1: 0.6377618042556156}\n",
      "q: {-1: 0.7500000000000002, 1: 0.55}\n",
      "Theta:  {1: 0.0, -1: 0.6911650748358528}\n",
      "q: {-1: 0.7500000000000002, 1: 0.6000000000000001}\n",
      "Theta:  {1: 0.0, -1: 0.7509764063704584}\n",
      "q: {-1: 0.7500000000000002, 1: 0.6500000000000001}\n",
      "Theta:  {1: 0.0, -1: 0.8179182814861738}\n",
      "q: {-1: 0.7500000000000002, 1: 0.7000000000000002}\n",
      "Theta:  {1: 0.0, -1: 0.8927644229784834}\n",
      "q: {-1: 0.7500000000000002, 1: 0.7500000000000002}\n",
      "Theta:  {1: 0.0, -1: 0.9763400360595926}\n",
      "q: {-1: 0.7500000000000002, 1: 0.8000000000000003}\n",
      "Theta:  {1: 0.06118220605835153, -1: 1.0}\n",
      "q: {-1: 0.7500000000000002, 1: 0.8500000000000003}\n",
      "Theta:  {1: 0.14571965191208788, -1: 1.0}\n",
      "q: {-1: 0.7500000000000002, 1: 0.9000000000000004}\n",
      "Theta:  {1: 0.2293013060325643, -1: 1.0}\n",
      "q: {-1: 0.7500000000000002, 1: 0.9500000000000004}\n",
      "Theta:  {1: 0.3109934286219654, -1: 1.0}\n",
      "q: {-1: 0.7500000000000002, 1: 1.0000000000000004}\n",
      "Theta:  {1: 0.38996375322997845, -1: 1.0}\n",
      "q: {-1: 0.8000000000000003, 1: 0.5}\n",
      "Theta:  {1: 0.0, -1: 0.5837885790984507}\n",
      "q: {-1: 0.8000000000000003, 1: 0.55}\n",
      "Theta:  {1: 0.0, -1: 0.6332366824514349}\n",
      "q: {-1: 0.8000000000000003, 1: 0.6000000000000001}\n",
      "Theta:  {1: 0.0, -1: 0.6887075087793686}\n",
      "q: {-1: 0.8000000000000003, 1: 0.6500000000000001}\n",
      "Theta:  {1: 0.0, -1: 0.7508812366590814}\n",
      "q: {-1: 0.8000000000000003, 1: 0.7000000000000002}\n",
      "Theta:  {1: 0.0, -1: 0.8204856359325442}\n",
      "q: {-1: 0.8000000000000003, 1: 0.7500000000000002}\n",
      "Theta:  {1: 0.0, -1: 0.8982963912257348}\n",
      "q: {-1: 0.8000000000000003, 1: 0.8000000000000003}\n",
      "Theta:  {1: 0.0, -1: 0.9851373290703292}\n",
      "q: {-1: 0.8000000000000003, 1: 0.8500000000000003}\n",
      "Theta:  {1: 0.07251424067274662, -1: 1.0}\n",
      "q: {-1: 0.8000000000000003, 1: 0.9000000000000004}\n",
      "Theta:  {1: 0.15955244745439665, -1: 1.0}\n",
      "q: {-1: 0.8000000000000003, 1: 0.9500000000000004}\n",
      "Theta:  {1: 0.24502418650826222, -1: 1.0}\n",
      "q: {-1: 0.8000000000000003, 1: 1.0000000000000004}\n",
      "Theta:  {1: 0.32800457537245004, -1: 1.0}\n",
      "q: {-1: 0.8500000000000003, 1: 0.5}\n",
      "Theta:  {1: 0.0, -1: 0.5316326710285774}\n",
      "q: {-1: 0.8500000000000003, 1: 0.55}\n",
      "Theta:  {1: 0.0, -1: 0.5771778448802825}\n",
      "q: {-1: 0.8500000000000003, 1: 0.6000000000000001}\n",
      "Theta:  {1: 0.0, -1: 0.6283509441070857}\n",
      "q: {-1: 0.8500000000000003, 1: 0.6500000000000001}\n",
      "Theta:  {1: 0.0, -1: 0.6857867227394334}\n",
      "q: {-1: 0.8500000000000003, 1: 0.7000000000000002}\n",
      "Theta:  {1: 0.0, -1: 0.7501633251543496}\n",
      "q: {-1: 0.8500000000000003, 1: 0.7500000000000002}\n",
      "Theta:  {1: 0.0, -1: 0.8222025937881818}\n",
      "q: {-1: 0.8500000000000003, 1: 0.8000000000000003}\n",
      "Theta:  {1: 0.0, -1: 0.9026703151295031}\n",
      "q: {-1: 0.8500000000000003, 1: 0.8500000000000003}\n",
      "Theta:  {1: 0.0, -1: 0.992376397739998}\n",
      "q: {-1: 0.8500000000000003, 1: 0.9000000000000004}\n",
      "Theta:  {1: 0.08230368890705585, -1: 1.0}\n",
      "q: {-1: 0.8500000000000003, 1: 0.9500000000000004}\n",
      "Theta:  {1: 0.17166704155045984, -1: 1.0}\n",
      "q: {-1: 0.8500000000000003, 1: 1.0000000000000004}\n",
      "Theta:  {1: 0.2588358395753761, -1: 1.0}\n",
      "q: {-1: 0.9000000000000004, 1: 0.5}\n",
      "Theta:  {1: 0.0, -1: 0.4816207150784848}\n",
      "q: {-1: 0.9000000000000004, 1: 0.55}\n",
      "Theta:  {1: 0.0, -1: 0.5233678169396878}\n",
      "q: {-1: 0.9000000000000004, 1: 0.6000000000000001}\n",
      "Theta:  {1: 0.0, -1: 0.5703477278276929}\n",
      "q: {-1: 0.9000000000000004, 1: 0.6500000000000001}\n",
      "Theta:  {1: 0.0, -1: 0.6231483166846044}\n",
      "q: {-1: 0.9000000000000004, 1: 0.7000000000000002}\n",
      "Theta:  {1: 0.0, -1: 0.6823963631779684}\n",
      "q: {-1: 0.9000000000000004, 1: 0.7500000000000002}\n",
      "Theta:  {1: 0.0, -1: 0.7487577870324477}\n",
      "q: {-1: 0.9000000000000004, 1: 0.8000000000000003}\n",
      "Theta:  {1: 0.0, -1: 0.822937842712281}\n",
      "q: {-1: 0.9000000000000004, 1: 0.8500000000000003}\n",
      "Theta:  {1: 0.0, -1: 0.9056812749659163}\n",
      "q: {-1: 0.9000000000000004, 1: 0.9000000000000004}\n",
      "Theta:  {1: 0.0, -1: 0.9977724353119831}\n",
      "q: {-1: 0.9000000000000004, 1: 0.9500000000000004}\n",
      "Theta:  {1: 0.09029267552237555, -1: 1.0}\n",
      "q: {-1: 0.9000000000000004, 1: 1.0000000000000004}\n",
      "Theta:  {1: 0.18181593732046192, -1: 1.0}\n",
      "q: {-1: 0.9500000000000004, 1: 0.5}\n",
      "Theta:  {1: 0.0, -1: 0.4340273282915294}\n",
      "q: {-1: 0.9500000000000004, 1: 0.55}\n",
      "Theta:  {1: 0.0, -1: 0.4721254467487227}\n",
      "q: {-1: 0.9500000000000004, 1: 0.6000000000000001}\n",
      "Theta:  {1: 0.0, -1: 0.5150686892594334}\n",
      "q: {-1: 0.9500000000000004, 1: 0.6500000000000001}\n",
      "Theta:  {1: 0.0, -1: 0.5633980081621436}\n",
      "q: {-1: 0.9500000000000004, 1: 0.7000000000000002}\n",
      "Theta:  {1: 0.0, -1: 0.6176887414312516}\n",
      "q: {-1: 0.9500000000000004, 1: 0.7500000000000002}\n",
      "Theta:  {1: 0.0, -1: 0.6785507325647043}\n",
      "q: {-1: 0.9500000000000004, 1: 0.8000000000000003}\n",
      "Theta:  {1: 0.0, -1: 0.7466284332441524}\n",
      "q: {-1: 0.9500000000000004, 1: 0.8500000000000003}\n",
      "Theta:  {1: 0.0, -1: 0.8226009941050895}\n",
      "q: {-1: 0.9500000000000004, 1: 0.9000000000000004}\n",
      "Theta:  {1: 0.0, -1: 0.9071823302628803}\n",
      "q: {-1: 0.9500000000000004, 1: 0.9500000000000004}\n",
      "Theta:  {1: 0.0002484778016297381, -1: 1.0}\n",
      "q: {-1: 0.9500000000000004, 1: 1.0000000000000004}\n",
      "Theta:  {1: 0.09627343117917672, -1: 1.0}\n",
      "q: {-1: 1.0000000000000004, 1: 0.5}\n",
      "Theta:  {1: 0.0, -1: 0.3890680910951496}\n",
      "q: {-1: 1.0000000000000004, 1: 0.55}\n",
      "Theta:  {1: 0.0, -1: 0.42370107360993486}\n",
      "q: {-1: 1.0000000000000004, 1: 0.6000000000000001}\n",
      "Theta:  {1: 0.0, -1: 0.46280509485829346}\n",
      "q: {-1: 1.0000000000000004, 1: 0.6500000000000001}\n",
      "Theta:  {1: 0.0, -1: 0.5068753064284154}\n",
      "q: {-1: 1.0000000000000004, 1: 0.7000000000000002}\n",
      "Theta:  {1: 0.0, -1: 0.5564368608936553}\n",
      "q: {-1: 1.0000000000000004, 1: 0.7500000000000002}\n",
      "Theta:  {1: 0.0, -1: 0.6120449105073085}\n",
      "q: {-1: 1.0000000000000004, 1: 0.8000000000000003}\n",
      "Theta:  {1: 0.0, -1: 0.6742846088864402}\n",
      "q: {-1: 1.0000000000000004, 1: 0.8500000000000003}\n",
      "Theta:  {1: 0.0, -1: 0.7437711100357209}\n",
      "q: {-1: 1.0000000000000004, 1: 0.9000000000000004}\n",
      "Theta:  {1: 0.0, -1: 0.8211495686897302}\n",
      "q: {-1: 1.0000000000000004, 1: 0.9500000000000004}\n",
      "Theta:  {1: 0.0, -1: 0.9070951400100983}\n",
      "q: {-1: 1.0000000000000004, 1: 1.0000000000000004}\n",
      "Theta:  {1: 0.0015070546159956016, -1: 0.999999999967264}\n"
     ]
    }
   ],
   "source": [
    "import numpy as np\n",
    "import seaborn as sns\n",
    "\n",
    "#heatmap varying q_A and q_B\n",
    "num_trials = 5\n",
    "M = 10000\n",
    "pi= {-1: 0.5, 1: 0.5}\n",
    "\n",
    "T = 6\n",
    "epsilon = 0.001        \n",
    "c = {(1,1): 1., (-1,1): 1., (1,-1): 1., (-1,-1): 1.}\n",
    "v = {( 1,  1):   2000.,\n",
    "     (-1,  1):   500.,\n",
    "     ( 1, -1):   500.,\n",
    "     (-1, -1):   2000. }\n",
    "beta_dist = {(1,1) : (0.9541492709534125, 1.345006644515015),\n",
    "                    (-1,1) : (0.1822515775580026, 2.7574965182522644),\n",
    "                    (1,-1) : (0.09576097403924465, 3.09136619146736),\n",
    "                    (-1,-1): (0.8828729918440646, 1.6247070146941363)}\n",
    "P = {}\n",
    "for a in [-1,1]:\n",
    "    for g in [-1,1]:\n",
    "        P[(a,g)] = beta_dist[(a,g)][0] / (beta_dist[(a,g)][0] +  beta_dist[(a,g)][1])\n",
    "\n",
    "\n",
    "share_list = []\n",
    "ig_share_list = [] #intergroup shares\n",
    "\n",
    "st = 0.05\n",
    "n = np.arange(0.5, 1.01, step=st).shape[0]\n",
    "data = np.zeros((n,n))\n",
    "ig_data = np.zeros((n,n))\n",
    "\n",
    "\n",
    "for k,q_A in enumerate(np.arange(0.5, 1.01, step=st)):\n",
    "    for j,q_B in enumerate(np.arange(0.5, 1.01, step=st)):\n",
    "        q = {-1: q_A, 1: q_B}\n",
    "        print('q: ' + str(q))\n",
    "        theta_fair = platform_opt.opt_constrained(pi, q, T, epsilon,c,v,beta_dist, exposure_e=0.0)\n",
    "        print('Theta:  ' + str(theta_fair))\n",
    "        for i in range(num_trials):\n",
    "            players_in_model_fair, shown_d_fair, click_d_fair, share_d_fair = sims.runModel(theta_fair, T, pi, M, P, beta_dist, v,c,q)\n",
    "            share_list.append([share_d_fair[key] for key in share_d_fair.keys()])\n",
    "            ig_share_list.append([share_d_fair[key] for key in share_d_fair.keys() if key[0] == -key[1]])\n",
    "                     \n",
    "        data[k,j] = np.mean(share_list)\n",
    "        ig_data[k,j] = np.mean(ig_share_list)\n",
    "                    \n"
   ]
  },
  {
   "cell_type": "code",
   "execution_count": 17,
   "metadata": {},
   "outputs": [
    {
     "data": {
      "image/png": "[encoded data removed]",
      "text/plain": [
       "<Figure size 432x288 with 2 Axes>"
      ]
     },
     "metadata": {},
     "output_type": "display_data"
    },
    {
     "data": {
      "image/png": "[encoded data removed]",
      "text/plain": [
       "<Figure size 432x288 with 2 Axes>"
      ]
     },
     "metadata": {},
     "output_type": "display_data"
    }
   ],
   "source": [
    "#fig, (ax1,ax2) = plt.subplots(1,2)\n",
    "sns.set()\n",
    "ax = sns.heatmap(data,cmap=\"YlGnBu\", xticklabels=[np.round(x,2) for x in np.arange(0.5, 1.01, step=st)], yticklabels=[np.round(x,2) for x in np.arange(0.5, 1.01, step=st)])\n",
    "plt.title(\"Effect on $q_A$ and $q_B$ on total number of shares\")\n",
    "plt.xlabel(\"$q_A$\")\n",
    "plt.ylabel(\"$q_B$\")\n",
    "plt.show()\n",
    "\n",
    "\n",
    "sns.set()\n",
    "ax = sns.heatmap(ig_data,cmap=\"YlGnBu\", xticklabels=[np.round(x,2) for x in np.arange(0.5, 1.01, step=st)], yticklabels=[np.round(x,2) for x in np.arange(0.5, 1.01, step=st)])\n",
    "plt.title(\"Effect on $q_A$ and $q_B$ on total number of intergroup shares\")\n",
    "plt.xlabel(\"$q_A$\")\n",
    "plt.ylabel(\"$q_B$\")\n",
    "plt.show()"
   ]
  },
  {
   "cell_type": "code",
   "execution_count": null,
   "metadata": {},
   "outputs": [],
   "source": []
  }
 ],
 "metadata": {
  "kernelspec": {
   "display_name": "Python 3",
   "language": "python",
   "name": "python3"
  },
  "language_info": {
   "codemirror_mode": {
    "name": "ipython",
    "version": 3
   },
   "file_extension": ".py",
   "mimetype": "text/x-python",
   "name": "python",
   "nbconvert_exporter": "python",
   "pygments_lexer": "ipython3",
   "version": "3.8.3"
  }
 },
 "nbformat": 4,
 "nbformat_minor": 4
}

{
 "cells": [
  {
   "cell_type": "code",
   "execution_count": 1,
   "metadata": {},
   "outputs": [],
   "source": [
    "import numpy as np\n",
    "\n",
    "import matplotlib\n",
    "from matplotlib import pyplot as plt \n",
    "\n",
    "import random\n",
    "\n",
    "import platform_opt\n",
    "from players import *"
   ]
  },
  {
   "cell_type": "code",
   "execution_count": 3,
   "metadata": {},
   "outputs": [
    {
     "name": "stdout",
     "output_type": "stream",
     "text": [
      "{1: 0.21373498146060704, -1: 0.9999999999823488}\n"
     ]
    }
   ],
   "source": [
    "# SIMULATION PARAMETERS\n",
    "T = 8                 # max number of timesteps\n",
    "pi = {1: 0.43294, \n",
    "     -1: 0.56706}          # number of members in groups a and b #estimated from probability_sharing_distributions.ipynb\n",
    "pi_a = pi[1]\n",
    "\n",
    "M = 100000              # size of unit mass\n",
    "\n",
    "\n",
    "# probability of like | click, user group, article group\n",
    "# P indexed (article group, user group). \n",
    "#estimated from probability_sharing_distributions.ipynb\n",
    "P = {( 1,  1):  0.0692, \n",
    "     ( -1, 1):  0.001815,\n",
    "     (1,  -1):  0.003995,\n",
    "     (-1, -1):  0.08344} \n",
    "\n",
    "beta_dist = {(1,1) : (41.45784070052453, 556.8653671739492),\n",
    "            (-1,1) : (0.7519296311195025, 413.4664888783973),\n",
    "            (1,-1) : (6.096475779403813, 1519.8459882514462),\n",
    "            (-1,-1): (2152.960173995409, 23647.671142918956)}\n",
    "\n",
    "# utility for liking, known to both user and platform,\n",
    "# v indexed by (article shown, user group) pair\n",
    "#unclear what these values should be!\n",
    "v = {( 1,  1):   2000.,\n",
    "     (-1,  1):   100.,\n",
    "     ( 1, -1):   100.,\n",
    "     (-1, -1):   2000. }\n",
    "\n",
    "# cost of clicking, known to both user and platform,\n",
    "# c indexed by (article shown, user group)\n",
    "c = {( 1,  1):   1.,\n",
    "     (-1,  1):   1.,\n",
    "     ( 1, -1):   1.,\n",
    "     (-1, -1):   1. }\n",
    "\n",
    "# transition probability across groups at time t + 1 \n",
    "# indexed by the first user's group membership\n",
    "q = {1:  0.9877, \n",
    "     -1: 1}\n",
    "\n",
    "# approximation parameter for approximately equal probability\n",
    "epsilon = 0.2  \n",
    "\n",
    "# platform chooses their probability for showing article a by maximizing\n",
    "# expected clickthrough rate subject to fairness constraints\n",
    "# probshowA = platform_opt.optimize(epsilon, M * pi_a, M, T,\n",
    "#                                   P[('1', '1')], P[('-1', '1')],\n",
    "#                                   PLA=problike[1], PLB=problike[-1],\n",
    "#                                   muA = probclick[1], muB=probclick[-1])\n",
    "\n",
    "\n",
    "# display policy from platform\n",
    "# indexed by user group, since this is implicitly the probability of show a user article a\n",
    "# theta_hat = {1:1., -1:0.}\n",
    "\n",
    "theta_hat = platform_opt.opt(pi, q, T, epsilon,c,v,beta_dist)\n",
    "print(theta_hat)\n",
    "#print(platform_opt.psi(c,v,beta_dist))"
   ]
  },
  {
   "cell_type": "code",
   "execution_count": 4,
   "metadata": {},
   "outputs": [
    {
     "name": "stdout",
     "output_type": "stream",
     "text": [
      "First time step: 65716 users shown article A\n",
      "[0.65716, 0.9314345991561181, 1.0, 1.0]\n",
      "[100000, 948, 39, 1, 0]\n"
     ]
    }
   ],
   "source": [
    "old_u = []\n",
    "time_data_diff = []\n",
    "num_players_in_model = [M]\n",
    "prob_article_A = []\n",
    "t = 1\n",
    "    \n",
    "\n",
    "while (t <= T) and (t == 1 or len(old_u) > 0):\n",
    "    num_shown_A = 0 #number of players at this timestep that are shown article A\n",
    "    new_u = []  # list of new players that arrive at the timestep\n",
    "    \n",
    "    if t == 1:  # initial mass of users arrives\n",
    "        for i in range(M): # iterating over the size of the unit mass\n",
    "            g = coin_toss(pi_a) # determine players group according to the true group distribution\n",
    "            a = coin_toss(theta_hat[g]) # show article A according to the platform's policy.  (right now, this is just a placeholder)\n",
    "            player = Player(group=g, article=a)\n",
    "            if a == 1:\n",
    "                num_shown_A = num_shown_A + 1\n",
    "                player.article = 1\n",
    "            else:\n",
    "                player.article = -1\n",
    "            \n",
    "            P_personal = P\n",
    "            P_personal[(a,g)] = np.random.beta(*beta_dist[(a,g)])\n",
    "            P_personal[(-a,g)] = np.random.beta(*beta_dist[(-a,g)])\n",
    "            \n",
    "            player.clicked = calcclickdict(player, 1, \n",
    "                                              P_personal, \n",
    "                                              q, \n",
    "                                              theta_hat,\n",
    "                                              c,\n",
    "                                              v)\n",
    "            if player.clicked:  \n",
    "                    if random.uniform(0, 1) <= P[(player.article, player.group)]:\n",
    "                        player.shared = True\n",
    "            old_u.append(player)\n",
    "        print(\"First time step: \" + str(num_shown_A) + \" users shown article A\")\n",
    "\n",
    "    else:\n",
    "        for user in old_u:\n",
    "            \n",
    "            if user.shared == 1: # new user only added to the system if the previous user shared the article\n",
    "                if random.uniform(0, 1) <= q[user.group]:  # if next person is drawn by homophily\n",
    "                    new_user = Player(group=user.group)\n",
    "                else:\n",
    "                    new_user = Player(group=-user.group)\n",
    "                new_user.article = user.article\n",
    "                if new_user.article == 1:\n",
    "                    num_shown_A = num_shown_A + 1\n",
    "                    \n",
    "                    \n",
    "                P_personal = P\n",
    "                P_personal[(a,g)] = np.random.beta(*beta_dist[(new_user.article ,new_user.group)])\n",
    "                P_personal[(-a,g)] = np.random.beta(*beta_dist[(-a,g)])\n",
    "                new_user.clicked = calcclickdict(new_user, 1, \n",
    "                                              P_personal, \n",
    "                                              q, \n",
    "                                              theta_hat,\n",
    "                                              c,\n",
    "                                              v)\n",
    "                # decide if user shares article, according to P.\n",
    "                if new_user.clicked == 1:  \n",
    "                    if random.uniform(0, 1) <= P[(new_user.article, new_user.group)]:\n",
    "                        new_user.shared = True\n",
    "                else:\n",
    "                    new_user.shared = False\n",
    "\n",
    "                #add user to list\n",
    "                new_u.append(new_user)\n",
    "            else: #only add a user to the next round if the previous user shared the article \n",
    "                pass\n",
    "            \n",
    "        num_players_in_model.append(len(new_u)) #tracks how many players are being shown articles at all timesteps\n",
    "        old_u = new_u\n",
    "        \n",
    "        # print(\"Number of players left: \" + str(len(new_u))) #debugging statement\n",
    "        \n",
    "\n",
    "    t = t + 1\n",
    "    if len(old_u) > 0:\n",
    "        prob_article_A.append(num_shown_A / float(len(old_u)))\n",
    "    \n",
    "print(prob_article_A)\n",
    "print(num_players_in_model)"
   ]
  },
  {
   "cell_type": "code",
   "execution_count": 5,
   "metadata": {},
   "outputs": [
    {
     "data": {
      "image/png": "[encoded data removed]",
      "text/plain": [
       "<Figure size 432x288 with 1 Axes>"
      ]
     },
     "metadata": {
      "needs_background": "light"
     },
     "output_type": "display_data"
    }
   ],
   "source": [
    "plt.plot(prob_article_A, color='black')\n",
    "plt.title(\"Mass of articles being shown over time\")\n",
    "plt.ylabel(\"Proportion of users left being shown article $A$\")\n",
    "plt.xlabel(\"timestep $t$\")\n",
    "plt.axhline(y=pi_a,color='blue')\n",
    "plt.ylim((-0.05,1.05))\n",
    "plt.xlim((0,t))\n",
    "plt.show()"
   ]
  },
  {
   "cell_type": "code",
   "execution_count": 6,
   "metadata": {},
   "outputs": [
    {
     "data": {
      "image/png": "[encoded data removed]",
      "text/plain": [
       "<Figure size 432x288 with 1 Axes>"
      ]
     },
     "metadata": {
      "needs_background": "light"
     },
     "output_type": "display_data"
    }
   ],
   "source": [
    "plt.plot(num_players_in_model, color='black')\n",
    "plt.title(\"Number of players remaining in the model\")\n",
    "plt.ylabel(\"Number of players shown an article\")\n",
    "plt.xlabel(\"timestep $t$\")\n",
    "plt.xlim((0,t))\n",
    "plt.ylim((0, M + 1))\n",
    "plt.show()"
   ]
  },
  {
   "cell_type": "code",
   "execution_count": 6,
   "metadata": {},
   "outputs": [
    {
     "data": {
      "text/plain": [
       "'\\n# out of date but afraid to erase \\nplt.plot(time_data_diff, color=\\'black\\')\\nplt.title(\"Mass of articles being shown over time\")\\nplt.ylabel(\"learning towards article $a$ (1) and $b$ (-1)\")\\nplt.xlabel(\"timestep t\")\\nplt.ylim((-1,1))\\nplt.axhline(y=0,color=\\'grey\\')\\nplt.axhline(y=np.average(time_data_diff),color=\\'blue\\')\\n#plt.axhline(y=epsilon,color=\\'red\\')\\n#plt.axhline(y=-1 * epsilon,color=\\'red\\')\\nplt.show()\\n'"
      ]
     },
     "execution_count": 6,
     "metadata": {},
     "output_type": "execute_result"
    }
   ],
   "source": [
    "'''\n",
    "# out of date but afraid to erase \n",
    "plt.plot(time_data_diff, color='black')\n",
    "plt.title(\"Mass of articles being shown over time\")\n",
    "plt.ylabel(\"learning towards article $a$ (1) and $b$ (-1)\")\n",
    "plt.xlabel(\"timestep t\")\n",
    "plt.ylim((-1,1))\n",
    "plt.axhline(y=0,color='grey')\n",
    "plt.axhline(y=np.average(time_data_diff),color='blue')\n",
    "#plt.axhline(y=epsilon,color='red')\n",
    "#plt.axhline(y=-1 * epsilon,color='red')\n",
    "plt.show()\n",
    "'''"
   ]
  },
  {
   "cell_type": "code",
   "execution_count": null,
   "metadata": {},
   "outputs": [],
   "source": []
  }
 ],
 "metadata": {
  "kernelspec": {
   "display_name": "Python 3",
   "language": "python",
   "name": "python3"
  },
  "language_info": {
   "codemirror_mode": {
    "name": "ipython",
    "version": 3
   },
   "file_extension": ".py",
   "mimetype": "text/x-python",
   "name": "python",
   "nbconvert_exporter": "python",
   "pygments_lexer": "ipython3",
   "version": "3.8.3"
  }
 },
 "nbformat": 4,
 "nbformat_minor": 4
}

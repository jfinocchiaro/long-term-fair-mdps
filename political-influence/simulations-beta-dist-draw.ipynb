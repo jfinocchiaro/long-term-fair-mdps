{
 "cells": [
  {
   "cell_type": "code",
   "execution_count": 1,
   "metadata": {},
   "outputs": [],
   "source": [
    "#import libraries\n",
    "import numpy as np\n",
    "import matplotlib\n",
    "from matplotlib import pyplot as plt \n",
    "import random\n",
    "\n",
    "#local files being imported\n",
    "import platform_opt\n",
    "from players import *"
   ]
  },
  {
   "cell_type": "code",
   "execution_count": 2,
   "metadata": {},
   "outputs": [
    {
     "data": {
      "text/plain": [
       "'Note: when indexed as a list: group $A$ is 0, group $B$ is 1.\\n      when indexed as a dict: group $A$ is -1, group $B$ is 1.'"
      ]
     },
     "execution_count": 2,
     "metadata": {},
     "output_type": "execute_result"
    }
   ],
   "source": [
    "'''Note: when indexed as a list: group $A$ is 0, group $B$ is 1.\n",
    "      when indexed as a dict: group $A$ is -1, group $B$ is 1.'''"
   ]
  },
  {
   "cell_type": "code",
   "execution_count": 3,
   "metadata": {},
   "outputs": [],
   "source": [
    "# SIMULATION PARAMETERS AGNOSTIC TO DATA\n",
    "T = 15                 # max number of timesteps\n",
    "M = 100000            # size of unit mass"
   ]
  },
  {
   "cell_type": "code",
   "execution_count": 4,
   "metadata": {},
   "outputs": [],
   "source": [
    "# SIMULATION PARAMS DEPENDING ON DATASET\n",
    "# parameters here come from probability_sharing_distributions.ipynb\n",
    "pi = {1: 0.43294, \n",
    "     -1: 0.56706}          # number of members in groups a and b #estimated from probability_sharing_distributions.ipynb\n",
    "pi_a = pi[-1]\n",
    "\n",
    "# TODO: DOUBLE CHECK INDEXING IS CORRECT\n",
    "# (alpha, beta) values for the beta distribution as a function of article and user groups.\n",
    "# beta_dist indexed (article group, user group). \n",
    "beta_dist = {(-1,-1) : (41.45784070052453, 556.8653671739492),\n",
    "            (1,-1) : (0.7519296311195025, 413.4664888783973),\n",
    "            (-1,1) : (6.096475779403813, 1519.8459882514462),\n",
    "            (1,1): (2152.960173995409, 23647.671142918956)}\n",
    "\n",
    "# TODO: DOUBLE CHECK INDEXING IS CORRECT\n",
    "# probability of like | click, user group, article group\n",
    "# P indexed (article group, user group). expected values of above beta distribution\n",
    "#estimated from probability_sharing_distributions.ipynb\n",
    "P = {( -1,  -1):  0.0692, \n",
    "     ( 1, -1):  0.001815,\n",
    "     (-1,  1):  0.003995,\n",
    "     (1, 1):  0.08344} \n",
    "\n",
    "# TODO: DOUBLE CHECK INDEXING IS CORRECT\n",
    "# player utility for liking, known to both user and platform,\n",
    "# v indexed by (article group, user group) pair\n",
    "#unclear what these values _should_ be!\n",
    "v = {( 1,  1):   2000.,\n",
    "     (-1,  1):   100.,\n",
    "     ( 1, -1):   100.,\n",
    "     (-1, -1):   2000. }\n",
    "\n",
    "# TODO: DOUBLE CHECK INDEXING IS CORRECT\n",
    "# cost of clicking, known to both user and platform,\n",
    "# c indexed by (article shown, user group)\n",
    "c = {( 1,  1):   1.,\n",
    "     (-1,  1):   1.,\n",
    "     ( 1, -1):   1.,\n",
    "     (-1, -1):   1. }\n",
    "\n",
    "# transition probability across groups at time t + 1 \n",
    "# indexed by the first user's group membership\n",
    "# seems too high to be practical\n",
    "q = {-1:  0.9877, \n",
    "     1: 1.}"
   ]
  },
  {
   "cell_type": "code",
   "execution_count": 7,
   "metadata": {},
   "outputs": [],
   "source": [
    "# SIMULATION PARAMS DEPENDING ON DATASET\n",
    "# A = -1\n",
    "# parameters here come from Replication Exposure.ipynb\n",
    "pi = {1: 0.5, \n",
    "     -1: 0.5}          # number of members in groups a and b #estimated from probability_sharing_distributions.ipynb\n",
    "pi_a = pi[-1]\n",
    "\n",
    "# (alpha, beta) values for the beta distribution as a function of article and user groups.\n",
    "# beta_dist indexed (article group, user group). \n",
    "beta_dist = {(1,1) : (0.9541492709534125, 1.345006644515015),\n",
    "            (-1,1) : (0.1822515775580026, 2.7574965182522644),\n",
    "            (1,-1) : (0.09576097403924465, 3.09136619146736),\n",
    "            (-1,-1): (0.8828729918440646, 1.6247070146941363)}\n",
    "\n",
    "# probability of like | click, user group, article group\n",
    "# P indexed (article group, user group). expected values of above beta distribution\n",
    "#estimated from probability_sharing_distributions.ipynb\n",
    "P = {}\n",
    "for a in [-1,1]:\n",
    "    for g in [-1,1]:\n",
    "        P[(a,g)] = beta_dist[(a,g)][0] / (beta_dist[(a,g)][0] +  beta_dist[(a,g)][1])\n",
    "\n",
    "\n",
    "# player utility for liking, known to both user and platform,\n",
    "# v indexed by (article group, user group) pair\n",
    "#unclear what these values _should_ be!\n",
    "v = {( 1,  1):   1000.,\n",
    "     (-1,  1):   100.,\n",
    "     ( 1, -1):   100.,\n",
    "     (-1, -1):   1000. }\n",
    "\n",
    "# cost of clicking, known to both user and platform,\n",
    "# c indexed by (article shown, user group)\n",
    "c = {( 1,  1):   1.,\n",
    "     (-1,  1):   1.,\n",
    "     ( 1, -1):   1.,\n",
    "     (-1, -1):   1. }\n",
    "\n",
    "# transition probability across groups at time t + 1 \n",
    "# indexed by the first user's group membership\n",
    "q = {-1: 0.7192525700416023, \n",
    "     1: 0.6797565445480234}\n",
    "\n",
    "# approximation parameter for approximately equal probability\n",
    "epsilon = 0.05  \n",
    "\n",
    "#theta_hat and theta_tilde learned with T = 15\n",
    "theta_hat = {1: 1.0, -1: 0.0}\n",
    "theta_tilde = {1: 0.9999999999599892, -1: 4.3500351052646725e-11}\n"
   ]
  },
  {
   "cell_type": "code",
   "execution_count": 6,
   "metadata": {},
   "outputs": [
    {
     "name": "stdout",
     "output_type": "stream",
     "text": [
      "{1: 1.0, -1: 0.0}\n",
      "{1: 0.9999999999599892, -1: 4.3500351052646725e-11}\n"
     ]
    }
   ],
   "source": [
    "#how to show articles at timestep 1\n",
    "theta_hat = platform_opt.opt(pi, q, T, epsilon,c,v,beta_dist) #constrained with exposure equality\n",
    "theta_tilde = platform_opt.opt_unconstrained(pi, q, T, epsilon,c,v,beta_dist) #unconstrained to optimize clicks\n",
    "\n",
    "print(theta_hat)\n",
    "print(theta_tilde)"
   ]
  },
  {
   "cell_type": "code",
   "execution_count": 16,
   "metadata": {},
   "outputs": [],
   "source": [
    "#runs the model given a strategy theta for showing articles at time step 1.\n",
    "def runModel(theta, T, pi, M, p, beta_dist, v,c,q): \n",
    "    \n",
    "    '''\n",
    "    parameters:\n",
    "    theta      :(dict) indexed by user group g; the proprtion of users in group g shown article A (1)\n",
    "    T          :(int) max total number of timesteps\n",
    "    pi         :(dict) indexed by user group; proportion of users in each group.  pi[1] = 1 - pi[-1]\n",
    "    M          :(int) number of players in the mass\n",
    "    p          :(dict) expected value for probably liking given a click given (article group, user group)\n",
    "    beta_dist  :(dict) (alpha, beta) parameters for the beta distribution for above distribution.\n",
    "    v          :(dict) value for liking an article. indexed (article group, user group)\n",
    "    c          :(dict) cost for clicking on an article. indexed (article group, user group)\n",
    "    q          :(dict) homophily variable.  probability of intra-group propogation at next timestep indexed by group\n",
    "    \n",
    "    returns:\n",
    "    the number of clicked articles in the simulation.\n",
    "    '''\n",
    "    \n",
    "    \n",
    "    #tracking data; this could be way more efficient :face-palm:\n",
    "    old_u = []\n",
    "    time_data_diff = []\n",
    "    num_players_in_model = [M]\n",
    "    #prob_article_A = []\n",
    "    #prob_article_A_cum = []\n",
    "    tot_shown_A = 0\n",
    "    tot_in_model = 0\n",
    "    t = 1\n",
    "    \n",
    "    #dictionaries to keep track of who is shown which articles and who clicks on which articles\n",
    "    #indexed (article, user)\n",
    "    shown_dict = {(1,1):   0,\n",
    "                  (-1,1):  0, \n",
    "                  (1,-1):  0,\n",
    "                  (-1,-1): 0}\n",
    "    \n",
    "    click_dict = {(1,1):   0,\n",
    "                  (-1,1):  0, \n",
    "                  (1,-1):  0,\n",
    "                  (-1,-1): 0}\n",
    "    \n",
    "    share_dict = {(1,1):   0,\n",
    "                  (-1,1):  0, \n",
    "                  (1,-1):  0,\n",
    "                  (-1,-1): 0}\n",
    "    \n",
    "\n",
    "\n",
    "    while (t <= T) and (t == 1 or len(old_u) > 0):\n",
    "        num_shown_A = 0 #number of players at this timestep that are shown article A\n",
    "        new_u = []  # list of new players that arrive at the timestep\n",
    "\n",
    "        if t == 1:  # initial mass of users arrives\n",
    "            for i in range(M): # iterating over the size of the unit mass\n",
    "                tot_in_model = tot_in_model + 1\n",
    "                g = coin_toss(pi_a) # determine players group according to the true group distribution\n",
    "                a = coin_toss(theta_hat[g]) # show article A according to the platform's policy.  (right now, this is just a placeholder)\n",
    "                player = Player(group=g, article=a)\n",
    "                shown_dict[(a,g)] = shown_dict[(a,g)] + 1\n",
    "                if a == 1:\n",
    "                    num_shown_A = num_shown_A + 1\n",
    "                    player.article = 1\n",
    "                else:\n",
    "                    player.article = -1\n",
    "\n",
    "                P_personal = P\n",
    "                P_personal[(a,g)] = np.random.beta(*beta_dist[(a,g)])\n",
    "                P_personal[(-a,g)] = np.random.beta(*beta_dist[(-a,g)])\n",
    "\n",
    "                player.clicked = calcclickdict(player, 1, \n",
    "                                                  P_personal, \n",
    "                                                  q, \n",
    "                                                  theta_hat,\n",
    "                                                  c,\n",
    "                                                  v)\n",
    "                if player.clicked:  \n",
    "                    click_dict[(a,g)] = click_dict[(a,g)] + 1 \n",
    "                    if random.uniform(0, 1) <= P[(player.article, player.group)]:\n",
    "                        player.shared = True\n",
    "                        share_dict[(a,g)] = share_dict[(a,g)] + 1\n",
    "                old_u.append(player)\n",
    "            #print(\"First time step: \" + str(num_shown_A) + \" users shown article A\") #debugging statement\n",
    "\n",
    "        else:\n",
    "            for user in old_u:\n",
    "\n",
    "                if user.shared == 1: # new user only added to the system if the previous user shared the article\n",
    "                    tot_in_model = tot_in_model + 1\n",
    "                    if random.uniform(0, 1) <= q[user.group]:  # if next person is drawn by homophily\n",
    "                        new_user = Player(group=user.group)\n",
    "                    else:\n",
    "                        new_user = Player(group=-user.group)\n",
    "                        \n",
    "                    # show the previous person's article, regardless of the new user's group    \n",
    "                    new_user.article = user.article\n",
    "                    shown_dict[(new_user.article, new_user.group)] = shown_dict[(new_user.article, new_user.group)] + 1\n",
    "                    if new_user.article == 1:\n",
    "                        num_shown_A = num_shown_A + 1\n",
    "\n",
    "\n",
    "                    P_personal = P\n",
    "                    P_personal[(a,g)] = np.random.beta(*beta_dist[(new_user.article ,new_user.group)])\n",
    "                    P_personal[(-a,g)] = np.random.beta(*beta_dist[(-a,g)])\n",
    "                    new_user.clicked = calcclickdict(new_user, 1, \n",
    "                                                  P_personal, \n",
    "                                                  q, \n",
    "                                                  theta_hat,\n",
    "                                                  c,\n",
    "                                                  v)\n",
    "                    # decide if user shares article, according to P.\n",
    "                    if new_user.clicked == 1:  \n",
    "                        click_dict[(new_user.article, new_user.group)] = click_dict[(new_user.article, new_user.group)] + 1\n",
    "                        if random.uniform(0, 1) <= P[(new_user.article, new_user.group)]:\n",
    "                            new_user.shared = True\n",
    "                            share_dict[(new_user.article, new_user.group)] = share_dict[(new_user.article, new_user.group)] + 1\n",
    "                    else:\n",
    "                        new_user.shared = False\n",
    "\n",
    "                    #add user to list\n",
    "                    new_u.append(new_user)\n",
    "                else: #only add a user to the next round if the previous user shared the article \n",
    "                    pass\n",
    "\n",
    "            num_players_in_model.append(len(new_u)) #tracks how many players are being shown articles at all timesteps\n",
    "            old_u = new_u\n",
    "\n",
    "\n",
    "\n",
    "        t = t + 1\n",
    "        tot_shown_A = tot_shown_A + num_shown_A\n",
    "        #if len(old_u) > 0:\n",
    "        #    prob_article_A.append(num_shown_A / float(len(old_u)))\n",
    "        #    prob_article_A_cum.append(tot_shown_A / float(tot_in_model))\n",
    "\n",
    "    #prop_shown_A_total = prob_article_A_cum[-1]\n",
    "    \n",
    "    return num_players_in_model, shown_dict, click_dict, share_dict\n"
   ]
  },
  {
   "cell_type": "code",
   "execution_count": 17,
   "metadata": {},
   "outputs": [],
   "source": [
    "#run the model\n",
    "players_in_model_fair, shown_d_fair, click_d_fair, share_d_fair = runModel(theta_hat, T, pi, M, P, beta_dist, v,c,q)\n",
    "players_in_model_opt, shown_d_opt, click_d_opt, share_d_opt = runModel(theta_tilde, T, pi, M, P, beta_dist, v,c,q)"
   ]
  },
  {
   "cell_type": "code",
   "execution_count": 18,
   "metadata": {},
   "outputs": [
    {
     "name": "stdout",
     "output_type": "stream",
     "text": [
      "Price of fairness: 0.8515261065846508\n"
     ]
    }
   ],
   "source": [
    "# price of fairness\n",
    "clicks_opt = sum(players_in_model_opt[1:])\n",
    "clicks_fair = sum(players_in_model_fair[1:])\n",
    "pof = clicks_opt / clicks_fair\n",
    "print('Price of fairness: ' + str(pof))"
   ]
  },
  {
   "cell_type": "code",
   "execution_count": 19,
   "metadata": {},
   "outputs": [
    {
     "name": "stdout",
     "output_type": "stream",
     "text": [
      "1.57982\n",
      "1.53216\n",
      "1.58686\n",
      "1.36002\n"
     ]
    }
   ],
   "source": [
    "# understanding equal exposure, and clicks, and shares\n",
    "# indexed by article\n",
    "exposure_fair = {1 : shown_d_fair[(1,1)] +  shown_d_fair[(1,-1)], \n",
    "                 -1 :  shown_d_fair[(-1,1)] +  shown_d_fair[(-1,-1)]}#indexed by article \n",
    "clicks_fair =   {1 : click_d_fair[(1,1)] +  click_d_fair[(1,-1)], \n",
    "                 -1 :  click_d_fair[(-1,1)] +  click_d_fair[(-1,-1)]}#indexed by article \n",
    "share_fair =   {1 : share_d_fair[(1,1)] +  share_d_fair[(1,-1)], \n",
    "                 -1 :  share_d_fair[(-1,1)] +  share_d_fair[(-1,-1)]}#indexed by article \n",
    "\n",
    "\n",
    "exposure_opt = {1 : shown_d_opt[(1,1)] +  shown_d_opt[(1,-1)], \n",
    "                 -1 :  shown_d_opt[(-1,1)] +  shown_d_opt[(-1,-1)]}#indexed by article \n",
    "clicks_opt =   {1 : click_d_opt[(1,1)] +  click_d_opt[(1,-1)], \n",
    "                 -1 :  click_d_opt[(-1,1)] +  click_d_opt[(-1,-1)]}#indexed by article \n",
    "share_opt =   {1 : share_d_opt[(1,1)] +  share_d_opt[(1,-1)], \n",
    "                 -1 :  share_d_opt[(-1,1)] +  share_d_opt[(-1,-1)]}#indexed by article \n",
    "\n",
    "\n",
    "print(exposure_fair[1] / (pi[1] * M))\n",
    "print(exposure_fair[-1] / (pi[-1]* M))\n",
    "\n",
    "print(exposure_opt[1] /(pi[1] * M))\n",
    "print(exposure_opt[-1] /(pi[-1] * M))"
   ]
  },
  {
   "cell_type": "code",
   "execution_count": 8,
   "metadata": {},
   "outputs": [
    {
     "ename": "NameError",
     "evalue": "name 'prob_article_A' is not defined",
     "output_type": "error",
     "traceback": [
      "\u001b[1;31m---------------------------------------------------------------------------\u001b[0m",
      "\u001b[1;31mNameError\u001b[0m                                 Traceback (most recent call last)",
      "\u001b[1;32m<ipython-input-8-ac65d092660d>\u001b[0m in \u001b[0;36m<module>\u001b[1;34m\u001b[0m\n\u001b[0;32m      1\u001b[0m \u001b[1;31m#no longer maintained... thoughts?  we can uncomment stuff if we still want this plot\u001b[0m\u001b[1;33m\u001b[0m\u001b[1;33m\u001b[0m\u001b[1;33m\u001b[0m\u001b[0m\n\u001b[1;32m----> 2\u001b[1;33m \u001b[0mplt\u001b[0m\u001b[1;33m.\u001b[0m\u001b[0mplot\u001b[0m\u001b[1;33m(\u001b[0m\u001b[0mprob_article_A\u001b[0m\u001b[1;33m,\u001b[0m \u001b[0mcolor\u001b[0m\u001b[1;33m=\u001b[0m\u001b[1;34m'black'\u001b[0m\u001b[1;33m)\u001b[0m\u001b[1;33m\u001b[0m\u001b[1;33m\u001b[0m\u001b[0m\n\u001b[0m\u001b[0;32m      3\u001b[0m \u001b[0mplt\u001b[0m\u001b[1;33m.\u001b[0m\u001b[0mplot\u001b[0m\u001b[1;33m(\u001b[0m\u001b[0mprob_article_A_cum\u001b[0m\u001b[1;33m,\u001b[0m \u001b[0mcolor\u001b[0m\u001b[1;33m=\u001b[0m\u001b[1;34m'red'\u001b[0m\u001b[1;33m)\u001b[0m\u001b[1;33m\u001b[0m\u001b[1;33m\u001b[0m\u001b[0m\n\u001b[0;32m      4\u001b[0m \u001b[0mplt\u001b[0m\u001b[1;33m.\u001b[0m\u001b[0mtitle\u001b[0m\u001b[1;33m(\u001b[0m\u001b[1;34m\"Mass of articles being shown over time\"\u001b[0m\u001b[1;33m)\u001b[0m\u001b[1;33m\u001b[0m\u001b[1;33m\u001b[0m\u001b[0m\n\u001b[0;32m      5\u001b[0m \u001b[0mplt\u001b[0m\u001b[1;33m.\u001b[0m\u001b[0mylabel\u001b[0m\u001b[1;33m(\u001b[0m\u001b[1;34m\"Proportion of users left being shown article $A$\"\u001b[0m\u001b[1;33m)\u001b[0m\u001b[1;33m\u001b[0m\u001b[1;33m\u001b[0m\u001b[0m\n",
      "\u001b[1;31mNameError\u001b[0m: name 'prob_article_A' is not defined"
     ]
    }
   ],
   "source": [
    "#no longer maintained... thoughts?  we can uncomment stuff if we still want this plot\n",
    "plt.plot(prob_article_A, color='black')\n",
    "plt.plot(prob_article_A_cum, color='red')\n",
    "plt.title(\"Mass of articles being shown over time\")\n",
    "plt.ylabel(\"Proportion of users left being shown article $A$\")\n",
    "plt.xlabel(\"timestep $t$\")\n",
    "plt.axhline(y=pi_a,color='blue')\n",
    "plt.ylim((-0.05,1.05))\n",
    "plt.xlim((0,t))\n",
    "plt.show()"
   ]
  },
  {
   "cell_type": "code",
   "execution_count": 20,
   "metadata": {},
   "outputs": [
    {
     "data": {
      "image/png": "[encoded data removed]",
      "text/plain": [
       "<Figure size 432x288 with 1 Axes>"
      ]
     },
     "metadata": {
      "needs_background": "light"
     },
     "output_type": "display_data"
    }
   ],
   "source": [
    "plt.plot(players_in_model_fair, color='green')\n",
    "plt.plot(players_in_model_opt, color='blue')\n",
    "plt.title(\"Number of players remaining in the model\")\n",
    "plt.ylabel(\"Number of players shown an article\")\n",
    "plt.xlabel(\"timestep $t$\")\n",
    "plt.yscale('log')\n",
    "plt.xlim((0,T))\n",
    "plt.ylim((1, M))\n",
    "plt.legend(('Exposure-constrained', 'Unconstrained'))\n",
    "plt.show()"
   ]
  },
  {
   "cell_type": "code",
   "execution_count": 12,
   "metadata": {},
   "outputs": [],
   "source": [
    "#run the experiments multiple times for paper results\n",
    "num_trials = 5\n",
    "\n",
    "players_list_fair = []\n",
    "shown_fair = []\n",
    "click_fair = []\n",
    "share_fair = []\n",
    "players_list_opt = []\n",
    "shown_opt = []\n",
    "click_opt = []\n",
    "share_opt = []\n",
    "\n",
    "\n",
    "for i in range(num_trials):\n",
    "    players_in_model_fair, shown_d_fair, click_d_fair, share_d_fair = runModel(theta_hat, T, pi, M, P, beta_dist, v,c,q)\n",
    "    players_in_model_opt, shown_d_opt, click_d_opt, share_d_opt = runModel(theta_tilde, T, pi, M, P, beta_dist, v,c,q)\n",
    "    \n",
    "    players_list_fair.append(players_in_model_fair + ([0] * (T - len(players_in_model_fair))))\n",
    "    shown_fair.append(shown_d_fair)\n",
    "    click_fair.append(click_d_fair)\n",
    "    share_fair.append(share_d_fair)\n",
    "    \n",
    "    players_list_opt.append(players_in_model_opt + ([0] * (T - len(players_in_model_opt))))\n",
    "    shown_opt.append(shown_d_opt)\n",
    "    click_opt.append(click_d_opt)\n",
    "    share_opt.append(share_d_opt)\n",
    "    "
   ]
  },
  {
   "cell_type": "code",
   "execution_count": 16,
   "metadata": {},
   "outputs": [
    {
     "data": {
      "image/png": "[encoded data removed]",
      "text/plain": [
       "<Figure size 432x288 with 1 Axes>"
      ]
     },
     "metadata": {
      "needs_background": "light"
     },
     "output_type": "display_data"
    }
   ],
   "source": [
    "plt.plot(np.mean(players_list_fair, axis=0), color='green')\n",
    "plt.plot(np.mean(players_list_opt, axis=0), color='blue')\n",
    "plt.title(\"Number of players remaining in the model (avg over %i trials)\" % (num_trials))\n",
    "plt.ylabel(\"Number of players shown an article\")\n",
    "plt.xlabel(\"timestep $t$\")\n",
    "plt.yscale('log')\n",
    "plt.xlim((0,T))\n",
    "plt.ylim((1, M))\n",
    "plt.legend(('Exposure-constrained $\\hat \\\\theta$', 'Unconstrained $\\\\tilde \\\\theta$'))\n",
    "plt.show()"
   ]
  },
  {
   "cell_type": "code",
   "execution_count": 21,
   "metadata": {},
   "outputs": [
    {
     "name": "stdout",
     "output_type": "stream",
     "text": [
      "{1: 78991, -1: 76608}\n",
      "{1: 79343, -1: 68001}\n",
      "2383\n",
      "11342\n",
      "\n",
      "\n",
      "{1: 78991, -1: 76608}\n",
      "{1: 79343, -1: 68001}\n",
      "\n",
      "\n",
      "{1: 28959, -1: 26640}\n",
      "{1: 29094, -1: 18250}\n",
      "2319\n",
      "10844\n"
     ]
    }
   ],
   "source": [
    "#considers article fairness, in the sense this allows us to look at rates at which articles are shown/clicked/shared according to \n",
    "#however, thoughts on having this over time or total number of clicks are fine?\n",
    "\n",
    "print(exposure_fair)\n",
    "print(exposure_opt)\n",
    "print(np.abs(exposure_fair[1] - exposure_fair[-1]))\n",
    "print(np.abs(exposure_opt[1] - exposure_opt[-1]))\n",
    "print('\\n')\n",
    "print(clicks_fair)\n",
    "print(clicks_opt)\n",
    "print('\\n')\n",
    "print(share_fair)\n",
    "print(share_opt)\n",
    "print(np.abs(share_fair[1] - share_fair[-1]))\n",
    "print(np.abs(share_opt[1] - share_opt[-1]))"
   ]
  },
  {
   "cell_type": "code",
   "execution_count": null,
   "metadata": {},
   "outputs": [],
   "source": []
  }
 ],
 "metadata": {
  "kernelspec": {
   "display_name": "Python 3",
   "language": "python",
   "name": "python3"
  },
  "language_info": {
   "codemirror_mode": {
    "name": "ipython",
    "version": 3
   },
   "file_extension": ".py",
   "mimetype": "text/x-python",
   "name": "python",
   "nbconvert_exporter": "python",
   "pygments_lexer": "ipython3",
   "version": "3.8.3"
  }
 },
 "nbformat": 4,
 "nbformat_minor": 4
}

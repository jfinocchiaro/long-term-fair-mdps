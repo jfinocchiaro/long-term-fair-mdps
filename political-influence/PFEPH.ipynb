{
 "cells": [
  {
   "cell_type": "markdown",
   "metadata": {},
   "source": [
    "# Political News and the Fair Exposure Problem under Homophily"
   ]
  },
  {
   "cell_type": "markdown",
   "metadata": {},
   "source": [
    "## All required libraries"
   ]
  },
  {
   "cell_type": "code",
   "execution_count": 1,
   "metadata": {},
   "outputs": [],
   "source": [
    "import numpy as np\n",
    "import pandas as pd\n",
    "import seaborn as sns\n",
    "from scipy.stats import beta\n",
    "from matplotlib import pyplot as plt\n",
    "import re\n",
    "\n",
    "import random\n",
    "import platform_opt\n",
    "from players import *"
   ]
  },
  {
   "cell_type": "markdown",
   "metadata": {},
   "source": [
    "## Important Parameters"
   ]
  },
  {
   "cell_type": "markdown",
   "metadata": {},
   "source": [
    "- $T$: Number of timesteps\n",
    "- $M$: Finite mass of user\n",
    "- $g \\in \\{A, B\\}$: Political Affliation/ Preference\n",
    "- $\\pi_g \\in (0, 1)$: Fraction of users from group $g$ \n",
    "- $t \\in \\{1, \\cdots , T\\}$:  Discrete Time T $\\leq $ M\n",
    "- $s \\in \\{a, b\\}$: Article sources afliated with $A, B$\n",
    "- $\\theta_{A}, \\theta_B \\in [0, 1]$: Fraction of users shown an article\n",
    "- $P_{g,s}$: Probability of users of group $g$ who like an article from source $s$\n",
    "- $c > 0$: Cost user incur for clicking an article\n",
    "- $v > 0$: Utility users get for liking an article\n",
    "- $q_{g} > 0.5$: Probability of in-group propagation "
   ]
  },
  {
   "cell_type": "markdown",
   "metadata": {},
   "source": [
    "## Load and clean the dataset:  [Replication Data](https://dataverse.harvard.edu/dataset.xhtml?persistentId=doi:10.7910/DVN/AAI7VA)"
   ]
  },
  {
   "cell_type": "markdown",
   "metadata": {},
   "source": [
    "### Dataset description borrowed from ReadMe.md of [Replication Data](https://dataverse.harvard.edu/dataset.xhtml?persistentId=doi:10.7910/DVN/AAI7VA)\n",
    "\n",
    "#### Top500 \n",
    "\n",
    "- domain ---> s: domain\n",
    "- l1 ---> $P_{A}$ : proportion of shares with liberal alignment from s\n",
    "- r1 ---> $P_{B}$: proportion of shares with conservative alignment from s\n",
    "\n",
    "The top 500 most shared domains have each been shared at least 44,000 times. \n",
    "- T = ?\n",
    "- |a| < |b|\n",
    "\n",
    "This set of domains covers over 80% of the URLs classified as hard content that\n",
    "\n",
    "#### Homophily\n",
    "\n",
    "- viewer ---> A / B: affiliation of an individual in the sampling frame of the study.\n",
    "- friend ---> A / B : affiliation of friend.\n",
    "- frac_of_friends --->: bucketed (in increments of 0.01) fraction of friends with the given affiliation.\n",
    "- density --->: proportion of friends within the given bucket.\n",
    "\n"
   ]
  },
  {
   "cell_type": "code",
   "execution_count": 2,
   "metadata": {},
   "outputs": [],
   "source": [
    "hard_news = ['nytimes.com', 'huffingtonpost.com', 'news.yahoo.com','cnn.com','foxnews.com','video.foxnews.com',\n",
    "  'foxnewsinsider.com', 'npr.org','theblaze.com','abcnews.go.com', 'msnbc.MSN.com', 'dailycaller.com',\n",
    "  'examiner.com', 'guardian.co.uk', 'cbsnews.com','politico.com','forbes.com', 'dailykos.com', 'reuters.com',\n",
    "  'salon.com','motherjones.com', 'latimes.com','slate.com', 'online.wsj.com', 'realclearpolitics.com', 'theatlantic.com',\n",
    "  'bbc.co.uk', 'businessinsider.com', 'video.msnbc.msn.com', 'thehill.com', 'townhall.com', 'content.usatoday.com',\n",
    "  'money.cnn.com', 'breitbart.com', 'aljazeera.com', 'thedailybeast.com', 'telegraph.co.uk', 'bloomberg.com',\n",
    "  'maddowblog.msnbc.com','thenation.com','glennbeck.com', 'talkingpointsmemo.com', 'nationalreview.com','usnews.nbcnews.com',\n",
    "  'politicalticker.blogs.cnn.com','aclu.org','sfgate.com','chicagotribune.com', 'thegatewaypundit.com','nydailynews.com', 'politifact.com',\n",
    "  'csmonitor.com', 'rushlimbaugh.com', 'pbs.org', 'usatoday.com','newamerican.com', 'thenewcivilrightsmovement.com', 'front.moveon.org','thinkprogress.org', 'addictinginfo.org',\n",
    "  'alternet.org', 'rawstory.com',  'infowars.com','newsmax.com', 'rt.com','politicususa.com','truth-out.org', 'commondreams.org',\n",
    "  'tpnn.com',  'democracynow.org', 'americanthinker.com', 'advocate.com','lifenews.com', 'aclj.org', 'readersupportednews.org',\n",
    "  'humanevents.com', 'prisonplanet.com', 'godfatherpolitics.com', 'newsbusters.org',\n",
    "  'nypost.com', 'lifesitenews.com', 'mediamatters.org']"
   ]
  },
  {
   "cell_type": "code",
   "execution_count": 3,
   "metadata": {},
   "outputs": [],
   "source": [
    "# load the datasets\n",
    "data_path = \"../Datasets/ReplicationforExposure/\"\n",
    "homophily_data = pd.read_csv(data_path+\"homophily_density\", sep=\",\", quotechar='\"', encoding=\"utf8\")\n",
    "top_500_data = pd.read_csv(data_path+\"top500\", sep=\",\", quotechar='\"', encoding=\"utf8\", )"
   ]
  },
  {
   "cell_type": "code",
   "execution_count": 4,
   "metadata": {},
   "outputs": [],
   "source": [
    "# rename homophily columns\n",
    "col_names=['Viewer', 'Friend', 'Frac_of_Friends', 'Density']\n",
    "homophily_data.columns = col_names"
   ]
  },
  {
   "cell_type": "code",
   "execution_count": 5,
   "metadata": {},
   "outputs": [],
   "source": [
    "# Drop moderates from the homophily data\n",
    "h = homophily_data.loc[~((homophily_data['Viewer']=='Moderates') | (homophily_data['Friend']=='Moderates'))]\n",
    "# replace Liberals with A\n",
    "# replace conservatives with B\n",
    "homophily = h.copy()\n",
    "homophily['Viewer'] = homophily.replace(['Liberals'],'A')\n",
    "homophily['Viewer'] = homophily.replace(['Conservatives'],'B')\n",
    "homophily['Friend'] = homophily.replace(['Liberal friends'],'A')\n",
    "homophily['Friend'] = homophily.replace(['Conservatives'],'B')"
   ]
  },
  {
   "cell_type": "code",
   "execution_count": 6,
   "metadata": {},
   "outputs": [
    {
     "data": {
      "text/plain": [
       "(565, 4)"
      ]
     },
     "execution_count": 6,
     "metadata": {},
     "output_type": "execute_result"
    }
   ],
   "source": [
    "homophily.shape"
   ]
  },
  {
   "cell_type": "code",
   "execution_count": 7,
   "metadata": {},
   "outputs": [],
   "source": [
    "group_A = homophily[homophily.Viewer=='A'][:-36]\n",
    "group_B = homophily[homophily.Viewer=='B'][:-29]\n",
    "groups = pd.concat([group_A, group_B], ignore_index=True)"
   ]
  },
  {
   "cell_type": "code",
   "execution_count": 8,
   "metadata": {},
   "outputs": [],
   "source": [
    "# remove very liberal, moderates, and very conservatives from top500 data\n",
    "domains = top_500_data.drop(['l2', 'avg_align', 'n', 'r2'], axis=1)\n",
    "# replace liberal with A and conservative with B\n",
    "domains.columns = ['s', '$P_{A}$', '$P_{B}$']"
   ]
  },
  {
   "cell_type": "code",
   "execution_count": 9,
   "metadata": {},
   "outputs": [],
   "source": [
    "for dom in hard_news:\n",
    "    domains.replace(re.compile('.*'+dom+'.*'), 'a', inplace=True)\n",
    "\n",
    "domains['s'].mask(domains['s'] != 'a', 'b', inplace=True)\n"
   ]
  },
  {
   "cell_type": "code",
   "execution_count": 14,
   "metadata": {},
   "outputs": [
    {
     "data": {
      "text/plain": [
       "(500, 3)"
      ]
     },
     "execution_count": 14,
     "metadata": {},
     "output_type": "execute_result"
    }
   ],
   "source": [
    "domains.shape"
   ]
  },
  {
   "cell_type": "code",
   "execution_count": 15,
   "metadata": {},
   "outputs": [
    {
     "data": {
      "text/html": [
       "<div>\n",
       "<style scoped>\n",
       "    .dataframe tbody tr th:only-of-type {\n",
       "        vertical-align: middle;\n",
       "    }\n",
       "\n",
       "    .dataframe tbody tr th {\n",
       "        vertical-align: top;\n",
       "    }\n",
       "\n",
       "    .dataframe thead th {\n",
       "        text-align: right;\n",
       "    }\n",
       "</style>\n",
       "<table border=\"1\" class=\"dataframe\">\n",
       "  <thead>\n",
       "    <tr style=\"text-align: right;\">\n",
       "      <th></th>\n",
       "      <th>s</th>\n",
       "      <th>$P_{A}$</th>\n",
       "      <th>$P_{B}$</th>\n",
       "      <th>Viewer</th>\n",
       "      <th>Friend</th>\n",
       "      <th>Frac_of_Friends</th>\n",
       "      <th>Density</th>\n",
       "    </tr>\n",
       "  </thead>\n",
       "  <tbody>\n",
       "    <tr>\n",
       "      <th>0</th>\n",
       "      <td>b</td>\n",
       "      <td>0.4480</td>\n",
       "      <td>0.0515</td>\n",
       "      <td>A</td>\n",
       "      <td>A</td>\n",
       "      <td>0.00</td>\n",
       "      <td>2.252525e-02</td>\n",
       "    </tr>\n",
       "    <tr>\n",
       "      <th>1</th>\n",
       "      <td>b</td>\n",
       "      <td>0.0116</td>\n",
       "      <td>0.7375</td>\n",
       "      <td>B</td>\n",
       "      <td>B</td>\n",
       "      <td>0.75</td>\n",
       "      <td>8.962681e-04</td>\n",
       "    </tr>\n",
       "    <tr>\n",
       "      <th>2</th>\n",
       "      <td>b</td>\n",
       "      <td>0.1501</td>\n",
       "      <td>0.0041</td>\n",
       "      <td>A</td>\n",
       "      <td>A</td>\n",
       "      <td>0.77</td>\n",
       "      <td>1.564143e-02</td>\n",
       "    </tr>\n",
       "    <tr>\n",
       "      <th>3</th>\n",
       "      <td>a</td>\n",
       "      <td>0.0003</td>\n",
       "      <td>0.1266</td>\n",
       "      <td>B</td>\n",
       "      <td>B</td>\n",
       "      <td>0.51</td>\n",
       "      <td>9.802047e-03</td>\n",
       "    </tr>\n",
       "    <tr>\n",
       "      <th>4</th>\n",
       "      <td>b</td>\n",
       "      <td>0.0006</td>\n",
       "      <td>0.5611</td>\n",
       "      <td>B</td>\n",
       "      <td>B</td>\n",
       "      <td>0.12</td>\n",
       "      <td>1.706593e-03</td>\n",
       "    </tr>\n",
       "    <tr>\n",
       "      <th>...</th>\n",
       "      <td>...</td>\n",
       "      <td>...</td>\n",
       "      <td>...</td>\n",
       "      <td>...</td>\n",
       "      <td>...</td>\n",
       "      <td>...</td>\n",
       "      <td>...</td>\n",
       "    </tr>\n",
       "    <tr>\n",
       "      <th>495</th>\n",
       "      <td>a</td>\n",
       "      <td>0.0033</td>\n",
       "      <td>0.1678</td>\n",
       "      <td>B</td>\n",
       "      <td>B</td>\n",
       "      <td>0.17</td>\n",
       "      <td>1.842591e-03</td>\n",
       "    </tr>\n",
       "    <tr>\n",
       "      <th>496</th>\n",
       "      <td>b</td>\n",
       "      <td>0.1902</td>\n",
       "      <td>0.1653</td>\n",
       "      <td>B</td>\n",
       "      <td>B</td>\n",
       "      <td>0.01</td>\n",
       "      <td>7.852262e-03</td>\n",
       "    </tr>\n",
       "    <tr>\n",
       "      <th>497</th>\n",
       "      <td>b</td>\n",
       "      <td>0.2861</td>\n",
       "      <td>0.0960</td>\n",
       "      <td>A</td>\n",
       "      <td>A</td>\n",
       "      <td>0.32</td>\n",
       "      <td>1.402257e-02</td>\n",
       "    </tr>\n",
       "    <tr>\n",
       "      <th>498</th>\n",
       "      <td>b</td>\n",
       "      <td>0.1559</td>\n",
       "      <td>0.0411</td>\n",
       "      <td>A</td>\n",
       "      <td>A</td>\n",
       "      <td>0.85</td>\n",
       "      <td>2.628016e-07</td>\n",
       "    </tr>\n",
       "    <tr>\n",
       "      <th>499</th>\n",
       "      <td>b</td>\n",
       "      <td>0.4516</td>\n",
       "      <td>0.0458</td>\n",
       "      <td>A</td>\n",
       "      <td>A</td>\n",
       "      <td>0.17</td>\n",
       "      <td>4.542289e-02</td>\n",
       "    </tr>\n",
       "  </tbody>\n",
       "</table>\n",
       "<p>500 rows × 7 columns</p>\n",
       "</div>"
      ],
      "text/plain": [
       "     s  $P_{A}$  $P_{B}$ Viewer Friend  Frac_of_Friends       Density\n",
       "0    b   0.4480   0.0515      A      A             0.00  2.252525e-02\n",
       "1    b   0.0116   0.7375      B      B             0.75  8.962681e-04\n",
       "2    b   0.1501   0.0041      A      A             0.77  1.564143e-02\n",
       "3    a   0.0003   0.1266      B      B             0.51  9.802047e-03\n",
       "4    b   0.0006   0.5611      B      B             0.12  1.706593e-03\n",
       "..  ..      ...      ...    ...    ...              ...           ...\n",
       "495  a   0.0033   0.1678      B      B             0.17  1.842591e-03\n",
       "496  b   0.1902   0.1653      B      B             0.01  7.852262e-03\n",
       "497  b   0.2861   0.0960      A      A             0.32  1.402257e-02\n",
       "498  b   0.1559   0.0411      A      A             0.85  2.628016e-07\n",
       "499  b   0.4516   0.0458      A      A             0.17  4.542289e-02\n",
       "\n",
       "[500 rows x 7 columns]"
      ]
     },
     "execution_count": 15,
     "metadata": {},
     "output_type": "execute_result"
    }
   ],
   "source": [
    "data = pd.concat([domains, groups], axis=1)\n",
    "dataset = data.sample(frac=1).reset_index(drop=True)\n",
    "dataset"
   ]
  },
  {
   "cell_type": "code",
   "execution_count": null,
   "metadata": {},
   "outputs": [],
   "source": []
  },
  {
   "cell_type": "markdown",
   "metadata": {},
   "source": [
    "### ToDo"
   ]
  },
  {
   "cell_type": "markdown",
   "metadata": {},
   "source": [
    "- Based on today's homophily discussion decide whether to continue with this or no\n",
    "- Fill the dataset and rename appropriately\n",
    "- Graph of mass of articles shown over time, with Paa and Pbb\n",
    "- Finish the baseline setting, variable parameters, etc\n",
    "- Pefrom optimization \n"
   ]
  },
  {
   "cell_type": "code",
   "execution_count": null,
   "metadata": {},
   "outputs": [],
   "source": []
  }
 ],
 "metadata": {
  "kernelspec": {
   "display_name": "Python 3",
   "language": "python",
   "name": "python3"
  },
  "language_info": {
   "codemirror_mode": {
    "name": "ipython",
    "version": 3
   },
   "file_extension": ".py",
   "mimetype": "text/x-python",
   "name": "python",
   "nbconvert_exporter": "python",
   "pygments_lexer": "ipython3",
   "version": "3.8.6"
  }
 },
 "nbformat": 4,
 "nbformat_minor": 4
}

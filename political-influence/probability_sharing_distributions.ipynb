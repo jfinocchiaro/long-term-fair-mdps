{
 "cells": [
  {
   "cell_type": "code",
   "execution_count": 5,
   "metadata": {},
   "outputs": [],
   "source": [
    "import numpy as np\n",
    "import pandas as pd\n",
    "import seaborn as sns\n",
    "import os.path as path\n",
    "from scipy.stats import beta\n",
    "from matplotlib import pyplot as plt\n",
    "\n",
    "DATASETS_PATH = path.join(\"datasets\", \"balanced_exposure\")"
   ]
  },
  {
   "cell_type": "markdown",
   "metadata": {},
   "source": [
    "# Probability of sharing distribution\n"
   ]
  },
  {
   "cell_type": "markdown",
   "metadata": {},
   "source": [
    "## Description of the model and the data\n",
    "\n",
    "They consider two groups, $A$ and $B$, and two campaigns (which are roughly equivalent to our articles $a$ and $b$).\n",
    "\n",
    "Articles $a$ and $b$ propagate independently of each other: $u_2$ shares article $a$ with probability $p_A$, given that $u_1$ shared it. Analogously, $u_2$ shares article $b$ with probability $p_B$, given that $u_1$ shared it.\n",
    "\n",
    "They model the spread of information with a graph where a subset of the nodes are seeded with the information.\n",
    "\n",
    "In this dataset, the graph is the Twitter's follower graph (an edge conveys that $u_2$ follows $u_1$). The dataset also contains the probabilities $p_A$ and $p_B$.\n",
    "\n",
    "We only know the group for the seeds in the graph.\n",
    "\n",
    "We perform the analysis for the following datasets in the dataset of \"*Balancing Information Exposure in Social Networks*\"."
   ]
  },
  {
   "cell_type": "markdown",
   "metadata": {},
   "source": [
    "- [uselections](#uselections)\n",
    "- [brexit](#brexit)\n",
    "- [abortion](#abortion)\n",
    "- [obamacare](#obamacare)"
   ]
  },
  {
   "cell_type": "code",
   "execution_count": 20,
   "metadata": {
    "scrolled": true
   },
   "outputs": [
    {
     "name": "stdout",
     "output_type": "stream",
     "text": [
      "Cloning into 'datasets'...\n",
      "remote: Enumerating objects: 17, done.\u001b[K\n",
      "remote: Counting objects: 100% (17/17), done.\u001b[K\n",
      "remote: Compressing objects: 100% (17/17), done.\u001b[K\n",
      "remote: Total 17 (delta 0), reused 12 (delta 0), pack-reused 0\u001b[K\n",
      "Receiving objects: 100% (17/17), 2.96 KiB | 2.96 MiB/s, done.\n",
      "remote: Enumerating objects: 1, done.\u001b[K\n",
      "remote: Counting objects: 100% (1/1), done.\u001b[K\n",
      "remote: Total 1 (delta 0), reused 1 (delta 0), pack-reused 0\n",
      "Receiving objects: 100% (1/1), 5.62 MiB | 1.57 MiB/s, done.\n",
      "remote: Enumerating objects: 1, done.\u001b[K\n",
      "remote: Counting objects: 100% (1/1), done.\u001b[K\n",
      "remote: Total 1 (delta 0), reused 1 (delta 0), pack-reused 0\u001b[K\n",
      "Receiving objects: 100% (1/1), 6.06 MiB | 646.00 KiB/s, done.\n",
      "remote: Enumerating objects: 1, done.\u001b[K\n",
      "remote: Counting objects: 100% (1/1), done.\u001b[K\n",
      "remote: Total 1 (delta 0), reused 1 (delta 0), pack-reused 0\u001b[K\n",
      "Receiving objects: 100% (1/1), 407 bytes | 407.00 KiB/s, done.\n",
      "remote: Enumerating objects: 1, done.\u001b[K\n",
      "remote: Counting objects: 100% (1/1), done.\u001b[K\n",
      "remote: Total 1 (delta 0), reused 1 (delta 0), pack-reused 0\u001b[K\n",
      "Receiving objects: 100% (1/1), 497 bytes | 497.00 KiB/s, done.\n",
      "remote: Enumerating objects: 1, done.\u001b[K\n",
      "remote: Counting objects: 100% (1/1), done.\u001b[K\n",
      "remote: Total 1 (delta 0), reused 1 (delta 0), pack-reused 0\u001b[K\n",
      "Receiving objects: 100% (1/1), 383.89 KiB | 662.00 KiB/s, done.\n",
      "remote: Enumerating objects: 1, done.\u001b[K\n",
      "remote: Counting objects: 100% (1/1), done.\u001b[K\n",
      "remote: Total 1 (delta 0), reused 1 (delta 0), pack-reused 0\u001b[K\n",
      "Receiving objects: 100% (1/1), 425.17 KiB | 523.00 KiB/s, done.\n",
      "remote: Enumerating objects: 1, done.\u001b[K\n",
      "remote: Counting objects: 100% (1/1), done.\u001b[K\n",
      "remote: Total 1 (delta 0), reused 1 (delta 0), pack-reused 0\u001b[K\n",
      "Receiving objects: 100% (1/1), 522 bytes | 522.00 KiB/s, done.\n",
      "remote: Enumerating objects: 1, done.\u001b[K\n",
      "remote: Counting objects: 100% (1/1), done.\u001b[K\n",
      "remote: Total 1 (delta 0), reused 1 (delta 0), pack-reused 0\u001b[K\n",
      "Receiving objects: 100% (1/1), 761 bytes | 761.00 KiB/s, done.\n",
      "remote: Enumerating objects: 1, done.\u001b[K\n",
      "remote: Counting objects: 100% (1/1), done.\u001b[K\n",
      "remote: Total 1 (delta 0), reused 1 (delta 0), pack-reused 0\u001b[K\n",
      "Receiving objects: 100% (1/1), 13.98 MiB | 425.00 KiB/s, done.\n",
      "remote: Enumerating objects: 1, done.\u001b[K\n",
      "remote: Counting objects: 100% (1/1), done.\u001b[K\n",
      "remote: Total 1 (delta 0), reused 1 (delta 0), pack-reused 0\u001b[K\n",
      "Receiving objects: 100% (1/1), 15.89 MiB | 978.00 KiB/s, done.\n",
      "remote: Enumerating objects: 1, done.\u001b[K\n",
      "remote: Counting objects: 100% (1/1), done.\u001b[K\n",
      "remote: Total 1 (delta 0), reused 1 (delta 0), pack-reused 0\u001b[K\n",
      "Receiving objects: 100% (1/1), 724 bytes | 724.00 KiB/s, done.\n",
      "remote: Enumerating objects: 1, done.\u001b[K\n",
      "remote: Counting objects: 100% (1/1), done.\u001b[K\n",
      "remote: Total 1 (delta 0), reused 1 (delta 0), pack-reused 0\u001b[K\n",
      "Receiving objects: 100% (1/1), 730 bytes | 365.00 KiB/s, done.\n",
      "remote: Enumerating objects: 1, done.\u001b[K\n",
      "remote: Counting objects: 100% (1/1), done.\u001b[K\n",
      "remote: Total 1 (delta 0), reused 1 (delta 0), pack-reused 0\u001b[K\n",
      "Receiving objects: 100% (1/1), 438.37 KiB | 202.00 KiB/s, done.\n",
      "remote: Enumerating objects: 1, done.\u001b[K\n",
      "remote: Counting objects: 100% (1/1), done.\u001b[K\n",
      "remote: Total 1 (delta 0), reused 1 (delta 0), pack-reused 0\u001b[K\n",
      "Receiving objects: 100% (1/1), 468.54 KiB | 47.00 KiB/s, done.\n",
      "remote: Enumerating objects: 1, done.\u001b[K\n",
      "remote: Counting objects: 100% (1/1), done.\u001b[K\n",
      "remote: Total 1 (delta 0), reused 1 (delta 0), pack-reused 0\u001b[K\n",
      "Receiving objects: 100% (1/1), 513 bytes | 128.00 KiB/s, done.\n",
      "remote: Enumerating objects: 1, done.\u001b[K\n",
      "remote: Counting objects: 100% (1/1), done.\u001b[K\n",
      "remote: Total 1 (delta 0), reused 1 (delta 0), pack-reused 0\u001b[K\n",
      "Receiving objects: 100% (1/1), 501 bytes | 167.00 KiB/s, done.\n",
      "remote: Enumerating objects: 1, done.\u001b[K\n",
      "remote: Counting objects: 100% (1/1), done.\u001b[K\n",
      "remote: Total 1 (delta 0), reused 1 (delta 0), pack-reused 0\u001b[K\n",
      "Receiving objects: 100% (1/1), 14.39 MiB | 324.00 KiB/s, done.\n",
      "remote: Enumerating objects: 1, done.\u001b[K\n",
      "remote: Counting objects: 100% (1/1), done.\u001b[K\n",
      "remote: Total 1 (delta 0), reused 1 (delta 0), pack-reused 0\u001b[K\n",
      "Receiving objects: 100% (1/1), 16.73 MiB | 1.54 MiB/s, done.\n",
      "remote: Enumerating objects: 1, done.\u001b[K\n",
      "remote: Counting objects: 100% (1/1), done.\u001b[K\n",
      "remote: Total 1 (delta 0), reused 1 (delta 0), pack-reused 0\u001b[K\n",
      "Receiving objects: 100% (1/1), 562 bytes | 187.00 KiB/s, done.\n",
      "remote: Enumerating objects: 1, done.\u001b[K\n",
      "remote: Counting objects: 100% (1/1), done.\u001b[K\n",
      "remote: Total 1 (delta 0), reused 1 (delta 0), pack-reused 0\u001b[K\n",
      "Receiving objects: 100% (1/1), 616 bytes | 308.00 KiB/s, done.\n",
      "remote: Enumerating objects: 1, done.\u001b[K\n",
      "remote: Counting objects: 100% (1/1), done.\u001b[K\n",
      "remote: Total 1 (delta 0), reused 1 (delta 0), pack-reused 0\u001b[K\n",
      "Receiving objects: 100% (1/1), 728 bytes | 242.00 KiB/s, done.\n",
      "remote: Enumerating objects: 1, done.\u001b[K\n",
      "remote: Counting objects: 100% (1/1), done.\u001b[K\n",
      "remote: Total 1 (delta 0), reused 1 (delta 0), pack-reused 0\u001b[K\n",
      "Receiving objects: 100% (1/1), 791 bytes | 791.00 KiB/s, done.\n",
      "remote: Enumerating objects: 1, done.\u001b[K\n",
      "remote: Counting objects: 100% (1/1), done.\u001b[K\n",
      "remote: Total 1 (delta 0), reused 1 (delta 0), pack-reused 0\u001b[K\n",
      "Receiving objects: 100% (1/1), 6.80 MiB | 2.40 MiB/s, done.\n",
      "remote: Enumerating objects: 1, done.\u001b[K\n",
      "remote: Counting objects: 100% (1/1), done.\u001b[K\n",
      "remote: Total 1 (delta 0), reused 1 (delta 0), pack-reused 0\u001b[K\n",
      "Receiving objects: 100% (1/1), 10.40 MiB | 1.02 MiB/s, done.\n"
     ]
    }
   ],
   "source": [
    "if not path.isdir('datasets'):\n",
    "    !./get_datasets.sh"
   ]
  },
  {
   "cell_type": "markdown",
   "metadata": {},
   "source": [
    "## uselections"
   ]
  },
  {
   "cell_type": "code",
   "execution_count": 21,
   "metadata": {},
   "outputs": [
    {
     "data": {
      "text/plain": [
       "(85, 99)"
      ]
     },
     "execution_count": 21,
     "metadata": {},
     "output_type": "execute_result"
    }
   ],
   "source": [
    "# load seeds\n",
    "USELEC_PATH = path.join(DATASETS_PATH, 'uselections')\n",
    "A = [l.strip() for l in open(path.join(USELEC_PATH, \"side1_seeds.txt\")).readlines()]  # A = pro Hillary\n",
    "B = [l.strip() for l in open(path.join(USELEC_PATH, \"side2_seeds.txt\")).readlines()]  # B = pro Trump\n",
    "len(A), len(B)"
   ]
  },
  {
   "cell_type": "code",
   "execution_count": 22,
   "metadata": {},
   "outputs": [
    {
     "data": {
      "text/html": [
       "<div>\n",
       "<style scoped>\n",
       "    .dataframe tbody tr th:only-of-type {\n",
       "        vertical-align: middle;\n",
       "    }\n",
       "\n",
       "    .dataframe tbody tr th {\n",
       "        vertical-align: top;\n",
       "    }\n",
       "\n",
       "    .dataframe thead th {\n",
       "        text-align: right;\n",
       "    }\n",
       "</style>\n",
       "<table border=\"1\" class=\"dataframe\">\n",
       "  <thead>\n",
       "    <tr style=\"text-align: right;\">\n",
       "      <th></th>\n",
       "      <th>User1</th>\n",
       "      <th>User2</th>\n",
       "      <th>pA</th>\n",
       "      <th>pB</th>\n",
       "    </tr>\n",
       "  </thead>\n",
       "  <tbody>\n",
       "    <tr>\n",
       "      <th>0</th>\n",
       "      <td>003a04f8c2054b7</td>\n",
       "      <td>birdonachair</td>\n",
       "      <td>0.000834</td>\n",
       "      <td>0.008674</td>\n",
       "    </tr>\n",
       "    <tr>\n",
       "      <th>1</th>\n",
       "      <td>003a04f8c2054b7</td>\n",
       "      <td>patriot18d</td>\n",
       "      <td>0.001160</td>\n",
       "      <td>0.003320</td>\n",
       "    </tr>\n",
       "    <tr>\n",
       "      <th>2</th>\n",
       "      <td>003a04f8c2054b7</td>\n",
       "      <td>pamela_moore13</td>\n",
       "      <td>0.000143</td>\n",
       "      <td>0.004143</td>\n",
       "    </tr>\n",
       "    <tr>\n",
       "      <th>3</th>\n",
       "      <td>003a04f8c2054b7</td>\n",
       "      <td>jbaker31826004</td>\n",
       "      <td>0.000604</td>\n",
       "      <td>0.015884</td>\n",
       "    </tr>\n",
       "    <tr>\n",
       "      <th>4</th>\n",
       "      <td>003a04f8c2054b7</td>\n",
       "      <td>glucklichschon</td>\n",
       "      <td>0.001960</td>\n",
       "      <td>0.019880</td>\n",
       "    </tr>\n",
       "    <tr>\n",
       "      <th>...</th>\n",
       "      <td>...</td>\n",
       "      <td>...</td>\n",
       "      <td>...</td>\n",
       "      <td>...</td>\n",
       "    </tr>\n",
       "    <tr>\n",
       "      <th>845147</th>\n",
       "      <td>healthyyoga07</td>\n",
       "      <td>rickrwells</td>\n",
       "      <td>0.000250</td>\n",
       "      <td>0.010810</td>\n",
       "    </tr>\n",
       "    <tr>\n",
       "      <th>845148</th>\n",
       "      <td>healthyyoga07</td>\n",
       "      <td>supercos7</td>\n",
       "      <td>0.004560</td>\n",
       "      <td>0.015920</td>\n",
       "    </tr>\n",
       "    <tr>\n",
       "      <th>845149</th>\n",
       "      <td>healthyyoga07</td>\n",
       "      <td>ladiesfortrump</td>\n",
       "      <td>0.001448</td>\n",
       "      <td>0.032888</td>\n",
       "    </tr>\n",
       "    <tr>\n",
       "      <th>845150</th>\n",
       "      <td>healthyyoga07</td>\n",
       "      <td>usa_with_trump</td>\n",
       "      <td>0.001067</td>\n",
       "      <td>0.016427</td>\n",
       "    </tr>\n",
       "    <tr>\n",
       "      <th>845151</th>\n",
       "      <td>healthyyoga07</td>\n",
       "      <td>the_trump_train</td>\n",
       "      <td>0.000071</td>\n",
       "      <td>0.036391</td>\n",
       "    </tr>\n",
       "  </tbody>\n",
       "</table>\n",
       "<p>845152 rows × 4 columns</p>\n",
       "</div>"
      ],
      "text/plain": [
       "                  User1            User2        pA        pB\n",
       "0       003a04f8c2054b7     birdonachair  0.000834  0.008674\n",
       "1       003a04f8c2054b7       patriot18d  0.001160  0.003320\n",
       "2       003a04f8c2054b7   pamela_moore13  0.000143  0.004143\n",
       "3       003a04f8c2054b7   jbaker31826004  0.000604  0.015884\n",
       "4       003a04f8c2054b7   glucklichschon  0.001960  0.019880\n",
       "...                 ...              ...       ...       ...\n",
       "845147    healthyyoga07       rickrwells  0.000250  0.010810\n",
       "845148    healthyyoga07        supercos7  0.004560  0.015920\n",
       "845149    healthyyoga07   ladiesfortrump  0.001448  0.032888\n",
       "845150    healthyyoga07   usa_with_trump  0.001067  0.016427\n",
       "845151    healthyyoga07  the_trump_train  0.000071  0.036391\n",
       "\n",
       "[845152 rows x 4 columns]"
      ]
     },
     "execution_count": 22,
     "metadata": {},
     "output_type": "execute_result"
    }
   ],
   "source": [
    "# load probabilities\n",
    "df = pd.read_csv(path.join(USELEC_PATH, \"uselections_network_heterogeneous.txt\"), sep='\\t', names=['User1', 'User2', 'pA', 'pB'])\n",
    "df"
   ]
  },
  {
   "cell_type": "markdown",
   "metadata": {},
   "source": [
    "#### Issues with the dataset:"
   ]
  },
  {
   "cell_type": "code",
   "execution_count": 23,
   "metadata": {},
   "outputs": [
    {
     "data": {
      "text/html": [
       "<div>\n",
       "<style scoped>\n",
       "    .dataframe tbody tr th:only-of-type {\n",
       "        vertical-align: middle;\n",
       "    }\n",
       "\n",
       "    .dataframe tbody tr th {\n",
       "        vertical-align: top;\n",
       "    }\n",
       "\n",
       "    .dataframe thead th {\n",
       "        text-align: right;\n",
       "    }\n",
       "</style>\n",
       "<table border=\"1\" class=\"dataframe\">\n",
       "  <thead>\n",
       "    <tr style=\"text-align: right;\">\n",
       "      <th></th>\n",
       "      <th>pA</th>\n",
       "      <th>pB</th>\n",
       "    </tr>\n",
       "    <tr>\n",
       "      <th>User2</th>\n",
       "      <th></th>\n",
       "      <th></th>\n",
       "    </tr>\n",
       "  </thead>\n",
       "  <tbody>\n",
       "    <tr>\n",
       "      <th>003a04f8c2054b7</th>\n",
       "      <td>0.0</td>\n",
       "      <td>0.0</td>\n",
       "    </tr>\n",
       "    <tr>\n",
       "      <th>ohiorepubmom</th>\n",
       "      <td>0.0</td>\n",
       "      <td>0.0</td>\n",
       "    </tr>\n",
       "    <tr>\n",
       "      <th>officecandy</th>\n",
       "      <td>0.0</td>\n",
       "      <td>0.0</td>\n",
       "    </tr>\n",
       "    <tr>\n",
       "      <th>officialtrumpil</th>\n",
       "      <td>0.0</td>\n",
       "      <td>0.0</td>\n",
       "    </tr>\n",
       "    <tr>\n",
       "      <th>offthemenu67</th>\n",
       "      <td>0.0</td>\n",
       "      <td>0.0</td>\n",
       "    </tr>\n",
       "    <tr>\n",
       "      <th>...</th>\n",
       "      <td>...</td>\n",
       "      <td>...</td>\n",
       "    </tr>\n",
       "    <tr>\n",
       "      <th>zoso418</th>\n",
       "      <td>NaN</td>\n",
       "      <td>NaN</td>\n",
       "    </tr>\n",
       "    <tr>\n",
       "      <th>ztrak5050</th>\n",
       "      <td>NaN</td>\n",
       "      <td>NaN</td>\n",
       "    </tr>\n",
       "    <tr>\n",
       "      <th>zuivercor</th>\n",
       "      <td>NaN</td>\n",
       "      <td>NaN</td>\n",
       "    </tr>\n",
       "    <tr>\n",
       "      <th>zuzzbuzzman</th>\n",
       "      <td>NaN</td>\n",
       "      <td>NaN</td>\n",
       "    </tr>\n",
       "    <tr>\n",
       "      <th>zzlaowai</th>\n",
       "      <td>NaN</td>\n",
       "      <td>NaN</td>\n",
       "    </tr>\n",
       "  </tbody>\n",
       "</table>\n",
       "<p>19005 rows × 2 columns</p>\n",
       "</div>"
      ],
      "text/plain": [
       "                  pA   pB\n",
       "User2                    \n",
       "003a04f8c2054b7  0.0  0.0\n",
       "ohiorepubmom     0.0  0.0\n",
       "officecandy      0.0  0.0\n",
       "officialtrumpil  0.0  0.0\n",
       "offthemenu67     0.0  0.0\n",
       "...              ...  ...\n",
       "zoso418          NaN  NaN\n",
       "ztrak5050        NaN  NaN\n",
       "zuivercor        NaN  NaN\n",
       "zuzzbuzzman      NaN  NaN\n",
       "zzlaowai         NaN  NaN\n",
       "\n",
       "[19005 rows x 2 columns]"
      ]
     },
     "execution_count": 23,
     "metadata": {},
     "output_type": "execute_result"
    }
   ],
   "source": [
    "df.groupby('User2').std().sort_values('pA', ascending=False)"
   ]
  },
  {
   "cell_type": "markdown",
   "metadata": {},
   "source": [
    "Surprisingly, there is zero variance in the probabilities of sharing within a follower (if we fix User2 all the probabilities are the same). This is strange because to estimate these probabilities they divide posts that $u_2$ shared from $u_1$ divided by total posts shared by $u_2$. This would imply that all users shared the same number of posts from the people they follow!?\n",
    "\n",
    "I opened an issue in their GitHub:\n",
    "\n",
    "https://github.com/gvrkiran/BalancedExposure/issues/1"
   ]
  },
  {
   "cell_type": "markdown",
   "metadata": {},
   "source": [
    "### Homophily\n",
    "\n",
    "We measure homophily by estimating the probabilities that a user that belongs to group $g$ follows a user in group $g'$. This is very close to our replacement model because if $u_1$ shares content, it gives the opportunity to $u_2$ (the follower) to retweet the content."
   ]
  },
  {
   "cell_type": "code",
   "execution_count": 24,
   "metadata": {},
   "outputs": [
    {
     "data": {
      "text/html": [
       "<div>\n",
       "<style scoped>\n",
       "    .dataframe tbody tr th:only-of-type {\n",
       "        vertical-align: middle;\n",
       "    }\n",
       "\n",
       "    .dataframe tbody tr th {\n",
       "        vertical-align: top;\n",
       "    }\n",
       "\n",
       "    .dataframe thead th {\n",
       "        text-align: right;\n",
       "    }\n",
       "</style>\n",
       "<table border=\"1\" class=\"dataframe\">\n",
       "  <thead>\n",
       "    <tr style=\"text-align: right;\">\n",
       "      <th></th>\n",
       "      <th>User1</th>\n",
       "      <th>User2</th>\n",
       "      <th>pA</th>\n",
       "      <th>pB</th>\n",
       "      <th>Group1</th>\n",
       "      <th>Group2</th>\n",
       "    </tr>\n",
       "  </thead>\n",
       "  <tbody>\n",
       "    <tr>\n",
       "      <th>3282</th>\n",
       "      <td>1boxingking1</td>\n",
       "      <td>georgemason101</td>\n",
       "      <td>0.003017</td>\n",
       "      <td>0.082857</td>\n",
       "      <td>B</td>\n",
       "      <td>B</td>\n",
       "    </tr>\n",
       "    <tr>\n",
       "      <th>6861</th>\n",
       "      <td>20donaldtrump16</td>\n",
       "      <td>azz_amis</td>\n",
       "      <td>0.006907</td>\n",
       "      <td>0.086667</td>\n",
       "      <td>B</td>\n",
       "      <td>B</td>\n",
       "    </tr>\n",
       "    <tr>\n",
       "      <th>6865</th>\n",
       "      <td>20donaldtrump16</td>\n",
       "      <td>tukinovf</td>\n",
       "      <td>0.002937</td>\n",
       "      <td>0.082857</td>\n",
       "      <td>B</td>\n",
       "      <td>B</td>\n",
       "    </tr>\n",
       "    <tr>\n",
       "      <th>6870</th>\n",
       "      <td>20donaldtrump16</td>\n",
       "      <td>ronyerby</td>\n",
       "      <td>0.004160</td>\n",
       "      <td>0.084000</td>\n",
       "      <td>B</td>\n",
       "      <td>B</td>\n",
       "    </tr>\n",
       "    <tr>\n",
       "      <th>11871</th>\n",
       "      <td>6f1abe900f56450</td>\n",
       "      <td>honey17011</td>\n",
       "      <td>0.065718</td>\n",
       "      <td>0.000518</td>\n",
       "      <td>A</td>\n",
       "      <td>A</td>\n",
       "    </tr>\n",
       "  </tbody>\n",
       "</table>\n",
       "</div>"
      ],
      "text/plain": [
       "                 User1           User2        pA        pB Group1 Group2\n",
       "3282      1boxingking1  georgemason101  0.003017  0.082857      B      B\n",
       "6861   20donaldtrump16        azz_amis  0.006907  0.086667      B      B\n",
       "6865   20donaldtrump16        tukinovf  0.002937  0.082857      B      B\n",
       "6870   20donaldtrump16        ronyerby  0.004160  0.084000      B      B\n",
       "11871  6f1abe900f56450      honey17011  0.065718  0.000518      A      A"
      ]
     },
     "execution_count": 24,
     "metadata": {},
     "output_type": "execute_result"
    }
   ],
   "source": [
    "# membership\n",
    "labeled = df[(df.User1.isin(A) | df.User1.isin(B)) & (df.User2.isin(A) | df.User2.isin(B))].copy()\n",
    "labeled['Group1'] = labeled.User1.isin(A).replace({True: 'A', False: 'B'})\n",
    "labeled['Group2'] = labeled.User2.isin(A).replace({True: 'A', False: 'B'})\n",
    "labeled.head()"
   ]
  },
  {
   "cell_type": "code",
   "execution_count": 25,
   "metadata": {},
   "outputs": [
    {
     "data": {
      "text/html": [
       "<div>\n",
       "<style scoped>\n",
       "    .dataframe tbody tr th:only-of-type {\n",
       "        vertical-align: middle;\n",
       "    }\n",
       "\n",
       "    .dataframe tbody tr th {\n",
       "        vertical-align: top;\n",
       "    }\n",
       "\n",
       "    .dataframe thead th {\n",
       "        text-align: right;\n",
       "    }\n",
       "</style>\n",
       "<table border=\"1\" class=\"dataframe\">\n",
       "  <thead>\n",
       "    <tr style=\"text-align: right;\">\n",
       "      <th></th>\n",
       "      <th>index</th>\n",
       "      <th>$\\pi$</th>\n",
       "    </tr>\n",
       "  </thead>\n",
       "  <tbody>\n",
       "    <tr>\n",
       "      <th>0</th>\n",
       "      <td>A</td>\n",
       "      <td>0.554237</td>\n",
       "    </tr>\n",
       "    <tr>\n",
       "      <th>1</th>\n",
       "      <td>B</td>\n",
       "      <td>0.445763</td>\n",
       "    </tr>\n",
       "  </tbody>\n",
       "</table>\n",
       "</div>"
      ],
      "text/plain": [
       "  index     $\\pi$\n",
       "0     A  0.554237\n",
       "1     B  0.445763"
      ]
     },
     "execution_count": 25,
     "metadata": {},
     "output_type": "execute_result"
    }
   ],
   "source": [
    "labeled.Group1.value_counts(normalize=True).rename(\"$\\\\pi$\").reset_index()"
   ]
  },
  {
   "cell_type": "markdown",
   "metadata": {},
   "source": [
    "\n",
    "To estimate the $q$ probabilities we just count the number of edges for each combination of groups and calculate group frequencies."
   ]
  },
  {
   "cell_type": "code",
   "execution_count": 26,
   "metadata": {},
   "outputs": [
    {
     "data": {
      "text/html": [
       "<div>\n",
       "<style scoped>\n",
       "    .dataframe tbody tr th:only-of-type {\n",
       "        vertical-align: middle;\n",
       "    }\n",
       "\n",
       "    .dataframe tbody tr th {\n",
       "        vertical-align: top;\n",
       "    }\n",
       "\n",
       "    .dataframe thead th {\n",
       "        text-align: right;\n",
       "    }\n",
       "</style>\n",
       "<table border=\"1\" class=\"dataframe\">\n",
       "  <thead>\n",
       "    <tr style=\"text-align: right;\">\n",
       "      <th></th>\n",
       "      <th></th>\n",
       "      <th>Counts</th>\n",
       "    </tr>\n",
       "    <tr>\n",
       "      <th>Group1</th>\n",
       "      <th>Group2</th>\n",
       "      <th></th>\n",
       "    </tr>\n",
       "  </thead>\n",
       "  <tbody>\n",
       "    <tr>\n",
       "      <th rowspan=\"2\" valign=\"top\">A</th>\n",
       "      <th>A</th>\n",
       "      <td>323</td>\n",
       "    </tr>\n",
       "    <tr>\n",
       "      <th>B</th>\n",
       "      <td>4</td>\n",
       "    </tr>\n",
       "    <tr>\n",
       "      <th rowspan=\"2\" valign=\"top\">B</th>\n",
       "      <th>A</th>\n",
       "      <td>0</td>\n",
       "    </tr>\n",
       "    <tr>\n",
       "      <th>B</th>\n",
       "      <td>263</td>\n",
       "    </tr>\n",
       "  </tbody>\n",
       "</table>\n",
       "</div>"
      ],
      "text/plain": [
       "               Counts\n",
       "Group1 Group2        \n",
       "A      A          323\n",
       "       B            4\n",
       "B      A            0\n",
       "       B          263"
      ]
     },
     "execution_count": 26,
     "metadata": {},
     "output_type": "execute_result"
    }
   ],
   "source": [
    "# replacement counts\n",
    "replacements = (labeled.groupby(['Group1', 'Group2']).User1\n",
    "                       .count()\n",
    "                       .unstack(fill_value=0)\n",
    "                       .stack()\n",
    "                       .rename('Counts')\n",
    "                       .reset_index()\n",
    "                       .set_index(['Group1', 'Group2']))\n",
    "replacements"
   ]
  },
  {
   "cell_type": "code",
   "execution_count": 27,
   "metadata": {},
   "outputs": [
    {
     "data": {
      "text/html": [
       "<div>\n",
       "<style scoped>\n",
       "    .dataframe tbody tr th:only-of-type {\n",
       "        vertical-align: middle;\n",
       "    }\n",
       "\n",
       "    .dataframe tbody tr th {\n",
       "        vertical-align: top;\n",
       "    }\n",
       "\n",
       "    .dataframe thead th {\n",
       "        text-align: right;\n",
       "    }\n",
       "</style>\n",
       "<table border=\"1\" class=\"dataframe\">\n",
       "  <thead>\n",
       "    <tr style=\"text-align: right;\">\n",
       "      <th></th>\n",
       "      <th>Counts</th>\n",
       "    </tr>\n",
       "    <tr>\n",
       "      <th>Group1</th>\n",
       "      <th></th>\n",
       "    </tr>\n",
       "  </thead>\n",
       "  <tbody>\n",
       "    <tr>\n",
       "      <th>A</th>\n",
       "      <td>327</td>\n",
       "    </tr>\n",
       "    <tr>\n",
       "      <th>B</th>\n",
       "      <td>263</td>\n",
       "    </tr>\n",
       "  </tbody>\n",
       "</table>\n",
       "</div>"
      ],
      "text/plain": [
       "        Counts\n",
       "Group1        \n",
       "A          327\n",
       "B          263"
      ]
     },
     "execution_count": 27,
     "metadata": {},
     "output_type": "execute_result"
    }
   ],
   "source": [
    "# group1 counts\n",
    "groups = (labeled.groupby('Group1').User1\n",
    "                 .count()\n",
    "                 .rename('Counts')\n",
    "                 .reset_index()\n",
    "                 .set_index('Group1'))\n",
    "groups"
   ]
  },
  {
   "cell_type": "code",
   "execution_count": 28,
   "metadata": {
    "scrolled": true
   },
   "outputs": [
    {
     "data": {
      "text/html": [
       "<div>\n",
       "<style scoped>\n",
       "    .dataframe tbody tr th:only-of-type {\n",
       "        vertical-align: middle;\n",
       "    }\n",
       "\n",
       "    .dataframe tbody tr th {\n",
       "        vertical-align: top;\n",
       "    }\n",
       "\n",
       "    .dataframe thead th {\n",
       "        text-align: right;\n",
       "    }\n",
       "</style>\n",
       "<table border=\"1\" class=\"dataframe\">\n",
       "  <thead>\n",
       "    <tr style=\"text-align: right;\">\n",
       "      <th></th>\n",
       "      <th></th>\n",
       "      <th>Frequency ($q$)</th>\n",
       "    </tr>\n",
       "    <tr>\n",
       "      <th>Group1</th>\n",
       "      <th>Group2</th>\n",
       "      <th></th>\n",
       "    </tr>\n",
       "  </thead>\n",
       "  <tbody>\n",
       "    <tr>\n",
       "      <th rowspan=\"2\" valign=\"top\">A</th>\n",
       "      <th>A</th>\n",
       "      <td>0.987768</td>\n",
       "    </tr>\n",
       "    <tr>\n",
       "      <th>B</th>\n",
       "      <td>0.012232</td>\n",
       "    </tr>\n",
       "    <tr>\n",
       "      <th rowspan=\"2\" valign=\"top\">B</th>\n",
       "      <th>A</th>\n",
       "      <td>0.000000</td>\n",
       "    </tr>\n",
       "    <tr>\n",
       "      <th>B</th>\n",
       "      <td>1.000000</td>\n",
       "    </tr>\n",
       "  </tbody>\n",
       "</table>\n",
       "</div>"
      ],
      "text/plain": [
       "               Frequency ($q$)\n",
       "Group1 Group2                 \n",
       "A      A              0.987768\n",
       "       B              0.012232\n",
       "B      A              0.000000\n",
       "       B              1.000000"
      ]
     },
     "execution_count": 28,
     "metadata": {},
     "output_type": "execute_result"
    }
   ],
   "source": [
    "qs = (replacements / groups).rename(columns={'Counts': 'Frequency ($q$)'})\n",
    "qs"
   ]
  },
  {
   "cell_type": "markdown",
   "metadata": {},
   "source": [
    "The following is the homophily matrix (coordinates are the $q_A$, $1-q_A$, and 1- $q_B$, $q_B$ probabilities):"
   ]
  },
  {
   "cell_type": "code",
   "execution_count": 29,
   "metadata": {},
   "outputs": [
    {
     "data": {
      "text/plain": [
       "array([[0.98776758, 0.01223242],\n",
       "       [0.        , 1.        ]])"
      ]
     },
     "execution_count": 29,
     "metadata": {},
     "output_type": "execute_result"
    }
   ],
   "source": [
    "qs.unstack().values"
   ]
  },
  {
   "cell_type": "markdown",
   "metadata": {},
   "source": [
    "### Share probability distributions\n"
   ]
  },
  {
   "cell_type": "code",
   "execution_count": 30,
   "metadata": {
    "scrolled": false
   },
   "outputs": [
    {
     "data": {
      "text/plain": [
       "<seaborn.axisgrid.FacetGrid at 0x7f1393043d90>"
      ]
     },
     "execution_count": 30,
     "metadata": {},
     "output_type": "execute_result"
    },
    {
     "data": {
      "image/png": "[encoded data removed]",
      "text/plain": [
       "<Figure size 409.125x360 with 1 Axes>"
      ]
     },
     "metadata": {
      "needs_background": "light"
     },
     "output_type": "display_data"
    }
   ],
   "source": [
    "sns.displot(data=pd.melt(df,\n",
    "                         id_vars=['User1', 'User2'],\n",
    "                         value_vars=['pA', 'pB']),\n",
    "            x='value',\n",
    "            hue='variable',\n",
    "            bins=50, kde=True, stat='density')"
   ]
  },
  {
   "cell_type": "markdown",
   "metadata": {},
   "source": [
    "The pro-Trump distribution ($p_B$) is less skewed, meaning that pro-Trump tweets are more likely to be retweeted."
   ]
  },
  {
   "cell_type": "markdown",
   "metadata": {},
   "source": [
    "Since this is a distribution of probabilities, it should have support on $[0,1]$. A beta distribution may be a good choice to fit the data."
   ]
  },
  {
   "cell_type": "code",
   "execution_count": 31,
   "metadata": {},
   "outputs": [
    {
     "data": {
      "text/plain": [
       "(0.7961640748261505, 222.62377495491623)"
      ]
     },
     "execution_count": 31,
     "metadata": {},
     "output_type": "execute_result"
    }
   ],
   "source": [
    "# MLE estimates for the parameters of the beta distribution (for p_A)\n",
    "a1, b1, loc1, scale1 = beta.fit(df.pA, floc=0, fscale=1)\n",
    "a1, b1"
   ]
  },
  {
   "cell_type": "code",
   "execution_count": 32,
   "metadata": {},
   "outputs": [
    {
     "data": {
      "text/plain": [
       "<matplotlib.axes._subplots.AxesSubplot at 0x7f13939ed4c0>"
      ]
     },
     "execution_count": 32,
     "metadata": {},
     "output_type": "execute_result"
    },
    {
     "data": {
      "image/png": "[encoded data removed]",
      "text/plain": [
       "<Figure size 432x288 with 1 Axes>"
      ]
     },
     "metadata": {
      "needs_background": "light"
     },
     "output_type": "display_data"
    }
   ],
   "source": [
    "sns.kdeplot(np.random.beta(a=a1, b=b1, size=df.pA.shape[0]))\n",
    "sns.kdeplot(df.pA)"
   ]
  },
  {
   "cell_type": "code",
   "execution_count": 33,
   "metadata": {},
   "outputs": [
    {
     "data": {
      "text/plain": [
       "(1.0402128477517107, 71.47304220053908)"
      ]
     },
     "execution_count": 33,
     "metadata": {},
     "output_type": "execute_result"
    }
   ],
   "source": [
    "# MLE estimates for the parameters of the beta distribution (for p_B)\n",
    "a2, b2, loc2, scale2 = beta.fit(df.pB, floc=0, fscale=1)\n",
    "a2, b2"
   ]
  },
  {
   "cell_type": "code",
   "execution_count": 34,
   "metadata": {},
   "outputs": [
    {
     "data": {
      "text/plain": [
       "<matplotlib.axes._subplots.AxesSubplot at 0x7f139171a1f0>"
      ]
     },
     "execution_count": 34,
     "metadata": {},
     "output_type": "execute_result"
    },
    {
     "data": {
      "image/png": "[encoded data removed]",
      "text/plain": [
       "<Figure size 432x288 with 1 Axes>"
      ]
     },
     "metadata": {
      "needs_background": "light"
     },
     "output_type": "display_data"
    }
   ],
   "source": [
    "sns.kdeplot(np.random.beta(a=a2, b=b2, size=df.pB.shape[0]))\n",
    "sns.kdeplot(df.pB)"
   ]
  },
  {
   "cell_type": "markdown",
   "metadata": {},
   "source": [
    "The probabilities above are the conditional probabilities on a given initiator. In the data we see that the probability of sharing is independent of the initiator. That's strange because, in practice, since reputation and credibility are important factors for sharing someone else's tweet."
   ]
  },
  {
   "cell_type": "markdown",
   "metadata": {},
   "source": [
    "### Different groups\n",
    "\n",
    "Ideally, we would like to study the distributions of $p_{A, s}$ and $p_{B, s}$ for $s\\in\\{a,b\\}$ and not just the marginal probabilities $p_{*, a}$ and $p_{*,b}$ (which are the probabilities of clicking on the articles regardless of group membership)."
   ]
  },
  {
   "cell_type": "code",
   "execution_count": 35,
   "metadata": {},
   "outputs": [],
   "source": [
    "dfg = df[df.User2.isin(B) | df.User2.isin(A)]  # we just care about the group of the user who is retweeting"
   ]
  },
  {
   "cell_type": "code",
   "execution_count": 36,
   "metadata": {},
   "outputs": [],
   "source": [
    "group = dfg.User2.isin(A).replace({True: 'A', False: 'B'})"
   ]
  },
  {
   "cell_type": "code",
   "execution_count": 37,
   "metadata": {},
   "outputs": [
    {
     "data": {
      "text/plain": [
       "User2\n",
       "A    6692\n",
       "B    8765\n",
       "Name: User2, dtype: int64"
      ]
     },
     "execution_count": 37,
     "metadata": {},
     "output_type": "execute_result"
    }
   ],
   "source": [
    "dfg.groupby(group).User2.count()"
   ]
  },
  {
   "cell_type": "code",
   "execution_count": 38,
   "metadata": {},
   "outputs": [
    {
     "data": {
      "text/plain": [
       "<seaborn.axisgrid.FacetGrid at 0x7f1391769100>"
      ]
     },
     "execution_count": 38,
     "metadata": {},
     "output_type": "execute_result"
    },
    {
     "data": {
      "image/png": "[encoded data removed]",
      "text/plain": [
       "<Figure size 402.875x360 with 1 Axes>"
      ]
     },
     "metadata": {
      "needs_background": "light"
     },
     "output_type": "display_data"
    },
    {
     "data": {
      "image/png": "[encoded data removed]",
      "text/plain": [
       "<Figure size 402.875x360 with 1 Axes>"
      ]
     },
     "metadata": {
      "needs_background": "light"
     },
     "output_type": "display_data"
    }
   ],
   "source": [
    "sns.displot(data=dfg, x='pA', hue=group, bins=50)\n",
    "sns.displot(data=dfg, x='pB', hue=group, bins=50)"
   ]
  },
  {
   "cell_type": "markdown",
   "metadata": {},
   "source": [
    "This symmetry makes sense because the probability of sharing the article that agrees with the group's views is higher than otherwise."
   ]
  },
  {
   "cell_type": "markdown",
   "metadata": {},
   "source": [
    "#### Fitting the distribution of $p_{A,a}$"
   ]
  },
  {
   "cell_type": "code",
   "execution_count": 39,
   "metadata": {},
   "outputs": [
    {
     "data": {
      "text/plain": [
       "(41.45784070052453, 556.8653671739492)"
      ]
     },
     "execution_count": 39,
     "metadata": {},
     "output_type": "execute_result"
    }
   ],
   "source": [
    "# MLE estimates for the parameters of the beta distribution (for $p_{A,a}$)\n",
    "a1, b1, loc1, scale1 = beta.fit(dfg[group == 'A'].pA, floc=0, fscale=1)\n",
    "a1, b1"
   ]
  },
  {
   "cell_type": "code",
   "execution_count": 40,
   "metadata": {
    "scrolled": true
   },
   "outputs": [
    {
     "data": {
      "text/plain": [
       "<matplotlib.axes._subplots.AxesSubplot at 0x7f139143fb80>"
      ]
     },
     "execution_count": 40,
     "metadata": {},
     "output_type": "execute_result"
    },
    {
     "data": {
      "image/png": "[encoded data removed]",
      "text/plain": [
       "<Figure size 432x288 with 1 Axes>"
      ]
     },
     "metadata": {
      "needs_background": "light"
     },
     "output_type": "display_data"
    }
   ],
   "source": [
    "sns.kdeplot(np.random.beta(a=a1, b=b1, size=dfg[group == 'A'].pA.shape[0]))\n",
    "sns.kdeplot(dfg[group == 'A'].pA, bw_adjust=2)"
   ]
  },
  {
   "cell_type": "markdown",
   "metadata": {},
   "source": [
    "#### Fitting the distribution of $p_{A,b}$"
   ]
  },
  {
   "cell_type": "code",
   "execution_count": 41,
   "metadata": {},
   "outputs": [
    {
     "data": {
      "text/plain": [
       "(0.7519296311195025, 413.4664888783973)"
      ]
     },
     "execution_count": 41,
     "metadata": {},
     "output_type": "execute_result"
    }
   ],
   "source": [
    "a2, b2, loc2, scale2 = beta.fit(dfg[group == 'A'].pB, floc=0, fscale=1)\n",
    "a2, b2"
   ]
  },
  {
   "cell_type": "code",
   "execution_count": 42,
   "metadata": {},
   "outputs": [
    {
     "data": {
      "text/plain": [
       "<matplotlib.axes._subplots.AxesSubplot at 0x7f13914004f0>"
      ]
     },
     "execution_count": 42,
     "metadata": {},
     "output_type": "execute_result"
    },
    {
     "data": {
      "image/png": "[encoded data removed]",
      "text/plain": [
       "<Figure size 432x288 with 1 Axes>"
      ]
     },
     "metadata": {
      "needs_background": "light"
     },
     "output_type": "display_data"
    }
   ],
   "source": [
    "sns.kdeplot(np.random.beta(a=a2, b=b2, size=dfg[group == 'A'].pB.shape[0]))\n",
    "sns.kdeplot(dfg[group == 'A'].pB)"
   ]
  },
  {
   "cell_type": "markdown",
   "metadata": {},
   "source": [
    "#### Fitting the distribution of $p_{B,a}$"
   ]
  },
  {
   "cell_type": "code",
   "execution_count": 43,
   "metadata": {},
   "outputs": [
    {
     "data": {
      "text/plain": [
       "(6.096475779403813, 1519.8459882514462)"
      ]
     },
     "execution_count": 43,
     "metadata": {},
     "output_type": "execute_result"
    }
   ],
   "source": [
    "a3, b3, loc3, scale3 = beta.fit(dfg[group == 'B'].pA, floc=0, fscale=1)\n",
    "a3, b3"
   ]
  },
  {
   "cell_type": "code",
   "execution_count": 44,
   "metadata": {},
   "outputs": [
    {
     "data": {
      "text/plain": [
       "<matplotlib.axes._subplots.AxesSubplot at 0x7f13917b9fd0>"
      ]
     },
     "execution_count": 44,
     "metadata": {},
     "output_type": "execute_result"
    },
    {
     "data": {
      "image/png": "[encoded data removed]",
      "text/plain": [
       "<Figure size 432x288 with 1 Axes>"
      ]
     },
     "metadata": {
      "needs_background": "light"
     },
     "output_type": "display_data"
    }
   ],
   "source": [
    "sns.kdeplot(np.random.beta(a=a3, b=b3, size=dfg[group == 'B'].pA.shape[0]))\n",
    "sns.kdeplot(dfg[group == 'B'].pA, bw_adjust=3)"
   ]
  },
  {
   "cell_type": "markdown",
   "metadata": {},
   "source": [
    "#### Fitting the distribution of $p_{B,b}$"
   ]
  },
  {
   "cell_type": "code",
   "execution_count": 45,
   "metadata": {},
   "outputs": [
    {
     "data": {
      "text/plain": [
       "(2152.960173995409, 23647.671142918956)"
      ]
     },
     "execution_count": 45,
     "metadata": {},
     "output_type": "execute_result"
    }
   ],
   "source": [
    "a4, b4, loc4, scale4 = beta.fit(dfg[group == 'B'].pB, floc=0, fscale=1)\n",
    "a4, b4"
   ]
  },
  {
   "cell_type": "code",
   "execution_count": 46,
   "metadata": {
    "scrolled": true
   },
   "outputs": [
    {
     "data": {
      "text/plain": [
       "<matplotlib.axes._subplots.AxesSubplot at 0x7f1393981e50>"
      ]
     },
     "execution_count": 46,
     "metadata": {},
     "output_type": "execute_result"
    },
    {
     "data": {
      "image/png": "[encoded data removed]",
      "text/plain": [
       "<Figure size 432x288 with 1 Axes>"
      ]
     },
     "metadata": {
      "needs_background": "light"
     },
     "output_type": "display_data"
    }
   ],
   "source": [
    "sns.kdeplot(np.random.beta(a=a4, b=b4, size=dfg[group == 'B'].pB.shape[0]))\n",
    "sns.kdeplot(dfg[group == 'B'].pB, bw_adjust=3)"
   ]
  },
  {
   "cell_type": "code",
   "execution_count": 47,
   "metadata": {},
   "outputs": [],
   "source": [
    "# TODO: perhaps we should perform some goodness-of-fit tests"
   ]
  },
  {
   "cell_type": "markdown",
   "metadata": {},
   "source": [
    "## brexit"
   ]
  },
  {
   "cell_type": "code",
   "execution_count": 72,
   "metadata": {},
   "outputs": [
    {
     "data": {
      "text/plain": [
       "(60, 94)"
      ]
     },
     "execution_count": 72,
     "metadata": {},
     "output_type": "execute_result"
    }
   ],
   "source": [
    "# load seeds\n",
    "BREXIT_PATH = path.join(DATASETS_PATH, 'brexit')\n",
    "A = [l.strip() for l in open(path.join(BREXIT_PATH, \"side1_seeds.txt\")).readlines()]  # A = remainers\n",
    "B = [l.strip() for l in open(path.join(BREXIT_PATH, \"side2_seeds.txt\")).readlines()]  # B = brexiters\n",
    "len(A), len(B)"
   ]
  },
  {
   "cell_type": "code",
   "execution_count": 51,
   "metadata": {},
   "outputs": [
    {
     "data": {
      "text/html": [
       "<div>\n",
       "<style scoped>\n",
       "    .dataframe tbody tr th:only-of-type {\n",
       "        vertical-align: middle;\n",
       "    }\n",
       "\n",
       "    .dataframe tbody tr th {\n",
       "        vertical-align: top;\n",
       "    }\n",
       "\n",
       "    .dataframe thead th {\n",
       "        text-align: right;\n",
       "    }\n",
       "</style>\n",
       "<table border=\"1\" class=\"dataframe\">\n",
       "  <thead>\n",
       "    <tr style=\"text-align: right;\">\n",
       "      <th></th>\n",
       "      <th>User1</th>\n",
       "      <th>User2</th>\n",
       "      <th>pA</th>\n",
       "      <th>pB</th>\n",
       "    </tr>\n",
       "  </thead>\n",
       "  <tbody>\n",
       "    <tr>\n",
       "      <th>0</th>\n",
       "      <td>007harvey</td>\n",
       "      <td>spanks69</td>\n",
       "      <td>3.200200e-04</td>\n",
       "      <td>9.600200e-04</td>\n",
       "    </tr>\n",
       "    <tr>\n",
       "      <th>1</th>\n",
       "      <td>007harvey</td>\n",
       "      <td>leon19070210</td>\n",
       "      <td>1.440020e-03</td>\n",
       "      <td>1.200002e-02</td>\n",
       "    </tr>\n",
       "    <tr>\n",
       "      <th>2</th>\n",
       "      <td>007harvey</td>\n",
       "      <td>kiwikafir</td>\n",
       "      <td>9.600200e-04</td>\n",
       "      <td>2.400020e-03</td>\n",
       "    </tr>\n",
       "    <tr>\n",
       "      <th>3</th>\n",
       "      <td>007harvey</td>\n",
       "      <td>countryboylife</td>\n",
       "      <td>4.800200e-04</td>\n",
       "      <td>2.000000e-08</td>\n",
       "    </tr>\n",
       "    <tr>\n",
       "      <th>4</th>\n",
       "      <td>007harvey</td>\n",
       "      <td>izzydos</td>\n",
       "      <td>2.000000e-08</td>\n",
       "      <td>2.000000e-08</td>\n",
       "    </tr>\n",
       "    <tr>\n",
       "      <th>...</th>\n",
       "      <td>...</td>\n",
       "      <td>...</td>\n",
       "      <td>...</td>\n",
       "      <td>...</td>\n",
       "    </tr>\n",
       "    <tr>\n",
       "      <th>48825</th>\n",
       "      <td>leavehq</td>\n",
       "      <td>stop_the_eu</td>\n",
       "      <td>4.800200e-04</td>\n",
       "      <td>8.000002e-02</td>\n",
       "    </tr>\n",
       "    <tr>\n",
       "      <th>48826</th>\n",
       "      <td>leavehq</td>\n",
       "      <td>andreww01447528</td>\n",
       "      <td>3.200200e-04</td>\n",
       "      <td>3.200020e-03</td>\n",
       "    </tr>\n",
       "    <tr>\n",
       "      <th>48827</th>\n",
       "      <td>leavehq</td>\n",
       "      <td>karrider</td>\n",
       "      <td>2.000000e-08</td>\n",
       "      <td>2.000000e-08</td>\n",
       "    </tr>\n",
       "    <tr>\n",
       "      <th>48828</th>\n",
       "      <td>leavehq</td>\n",
       "      <td>peter_woods</td>\n",
       "      <td>5.280020e-03</td>\n",
       "      <td>6.432002e-02</td>\n",
       "    </tr>\n",
       "    <tr>\n",
       "      <th>48829</th>\n",
       "      <td>leavehq</td>\n",
       "      <td>davidjo52951945</td>\n",
       "      <td>3.200200e-04</td>\n",
       "      <td>6.400200e-04</td>\n",
       "    </tr>\n",
       "  </tbody>\n",
       "</table>\n",
       "<p>48830 rows × 4 columns</p>\n",
       "</div>"
      ],
      "text/plain": [
       "           User1            User2            pA            pB\n",
       "0      007harvey         spanks69  3.200200e-04  9.600200e-04\n",
       "1      007harvey     leon19070210  1.440020e-03  1.200002e-02\n",
       "2      007harvey        kiwikafir  9.600200e-04  2.400020e-03\n",
       "3      007harvey   countryboylife  4.800200e-04  2.000000e-08\n",
       "4      007harvey          izzydos  2.000000e-08  2.000000e-08\n",
       "...          ...              ...           ...           ...\n",
       "48825    leavehq      stop_the_eu  4.800200e-04  8.000002e-02\n",
       "48826    leavehq  andreww01447528  3.200200e-04  3.200020e-03\n",
       "48827    leavehq         karrider  2.000000e-08  2.000000e-08\n",
       "48828    leavehq      peter_woods  5.280020e-03  6.432002e-02\n",
       "48829    leavehq  davidjo52951945  3.200200e-04  6.400200e-04\n",
       "\n",
       "[48830 rows x 4 columns]"
      ]
     },
     "execution_count": 51,
     "metadata": {},
     "output_type": "execute_result"
    }
   ],
   "source": [
    "# load probabilities\n",
    "df = pd.read_csv(path.join(BREXIT_PATH, \"brexit_network_heterogeneous.txt\"),\n",
    "                 sep='\\t', names=['User1', 'User2', 'pA', 'pB'])\n",
    "df"
   ]
  },
  {
   "cell_type": "code",
   "execution_count": 71,
   "metadata": {},
   "outputs": [
    {
     "data": {
      "text/html": [
       "<div>\n",
       "<style scoped>\n",
       "    .dataframe tbody tr th:only-of-type {\n",
       "        vertical-align: middle;\n",
       "    }\n",
       "\n",
       "    .dataframe tbody tr th {\n",
       "        vertical-align: top;\n",
       "    }\n",
       "\n",
       "    .dataframe thead th {\n",
       "        text-align: right;\n",
       "    }\n",
       "</style>\n",
       "<table border=\"1\" class=\"dataframe\">\n",
       "  <thead>\n",
       "    <tr style=\"text-align: right;\">\n",
       "      <th></th>\n",
       "      <th>pA</th>\n",
       "      <th>pB</th>\n",
       "      <th>% std &gt; 0</th>\n",
       "    </tr>\n",
       "  </thead>\n",
       "  <tbody>\n",
       "    <tr>\n",
       "      <th>0</th>\n",
       "      <td>False</td>\n",
       "      <td>False</td>\n",
       "      <td>0.716838</td>\n",
       "    </tr>\n",
       "    <tr>\n",
       "      <th>1</th>\n",
       "      <td>True</td>\n",
       "      <td>True</td>\n",
       "      <td>0.283162</td>\n",
       "    </tr>\n",
       "  </tbody>\n",
       "</table>\n",
       "</div>"
      ],
      "text/plain": [
       "      pA     pB  % std > 0\n",
       "0  False  False   0.716838\n",
       "1   True   True   0.283162"
      ]
     },
     "execution_count": 71,
     "metadata": {},
     "output_type": "execute_result"
    }
   ],
   "source": [
    "((df.groupby('User2')\n",
    "    .std().dropna() > 0).value_counts(normalize=True)\n",
    "                        .rename(\"% std > 0\")\n",
    "                        .reset_index())"
   ]
  },
  {
   "cell_type": "markdown",
   "metadata": {},
   "source": [
    "It seems that this dataset does not have the issue we found in the uselections dataset, yet 72% of the followers have the same probability of sharing across all the people they follow."
   ]
  },
  {
   "cell_type": "markdown",
   "metadata": {},
   "source": [
    "### Homophily\n",
    "\n",
    "We measure homophily by estimating the probabilities that a user that belongs to group $g$ follows a user in group $g'$. This is very close to our replacement model because if $u_1$ shares content, it gives the opportunity to $u_2$ (the follower) to retweet the content."
   ]
  },
  {
   "cell_type": "code",
   "execution_count": 53,
   "metadata": {},
   "outputs": [
    {
     "data": {
      "text/html": [
       "<div>\n",
       "<style scoped>\n",
       "    .dataframe tbody tr th:only-of-type {\n",
       "        vertical-align: middle;\n",
       "    }\n",
       "\n",
       "    .dataframe tbody tr th {\n",
       "        vertical-align: top;\n",
       "    }\n",
       "\n",
       "    .dataframe thead th {\n",
       "        text-align: right;\n",
       "    }\n",
       "</style>\n",
       "<table border=\"1\" class=\"dataframe\">\n",
       "  <thead>\n",
       "    <tr style=\"text-align: right;\">\n",
       "      <th></th>\n",
       "      <th>User1</th>\n",
       "      <th>User2</th>\n",
       "      <th>pA</th>\n",
       "      <th>pB</th>\n",
       "      <th>Group1</th>\n",
       "      <th>Group2</th>\n",
       "    </tr>\n",
       "  </thead>\n",
       "  <tbody>\n",
       "    <tr>\n",
       "      <th>1328</th>\n",
       "      <td>_ilbtm</td>\n",
       "      <td>steven_winstone</td>\n",
       "      <td>0.01104</td>\n",
       "      <td>0.00592</td>\n",
       "      <td>A</td>\n",
       "      <td>A</td>\n",
       "    </tr>\n",
       "    <tr>\n",
       "      <th>1329</th>\n",
       "      <td>_ilbtm</td>\n",
       "      <td>sj_powell</td>\n",
       "      <td>0.01856</td>\n",
       "      <td>0.08000</td>\n",
       "      <td>A</td>\n",
       "      <td>A</td>\n",
       "    </tr>\n",
       "    <tr>\n",
       "      <th>1333</th>\n",
       "      <td>_ilbtm</td>\n",
       "      <td>politicssense</td>\n",
       "      <td>0.01200</td>\n",
       "      <td>0.01312</td>\n",
       "      <td>A</td>\n",
       "      <td>A</td>\n",
       "    </tr>\n",
       "    <tr>\n",
       "      <th>1341</th>\n",
       "      <td>_ilbtm</td>\n",
       "      <td>theordinaryman2</td>\n",
       "      <td>0.08000</td>\n",
       "      <td>0.08000</td>\n",
       "      <td>A</td>\n",
       "      <td>A</td>\n",
       "    </tr>\n",
       "    <tr>\n",
       "      <th>1346</th>\n",
       "      <td>_ilbtm</td>\n",
       "      <td>stop_the_eu</td>\n",
       "      <td>0.00048</td>\n",
       "      <td>0.08000</td>\n",
       "      <td>A</td>\n",
       "      <td>B</td>\n",
       "    </tr>\n",
       "  </tbody>\n",
       "</table>\n",
       "</div>"
      ],
      "text/plain": [
       "       User1            User2       pA       pB Group1 Group2\n",
       "1328  _ilbtm  steven_winstone  0.01104  0.00592      A      A\n",
       "1329  _ilbtm        sj_powell  0.01856  0.08000      A      A\n",
       "1333  _ilbtm    politicssense  0.01200  0.01312      A      A\n",
       "1341  _ilbtm  theordinaryman2  0.08000  0.08000      A      A\n",
       "1346  _ilbtm      stop_the_eu  0.00048  0.08000      A      B"
      ]
     },
     "execution_count": 53,
     "metadata": {},
     "output_type": "execute_result"
    }
   ],
   "source": [
    "# membership\n",
    "labeled = df[(df.User1.isin(A) | df.User1.isin(B)) & (df.User2.isin(A) | df.User2.isin(B))].copy()\n",
    "labeled['Group1'] = labeled.User1.isin(A).replace({True: 'A', False: 'B'})\n",
    "labeled['Group2'] = labeled.User2.isin(A).replace({True: 'A', False: 'B'})\n",
    "labeled.head()"
   ]
  },
  {
   "cell_type": "code",
   "execution_count": 30,
   "metadata": {},
   "outputs": [
    {
     "data": {
      "text/html": [
       "<div>\n",
       "<style scoped>\n",
       "    .dataframe tbody tr th:only-of-type {\n",
       "        vertical-align: middle;\n",
       "    }\n",
       "\n",
       "    .dataframe tbody tr th {\n",
       "        vertical-align: top;\n",
       "    }\n",
       "\n",
       "    .dataframe thead th {\n",
       "        text-align: right;\n",
       "    }\n",
       "</style>\n",
       "<table border=\"1\" class=\"dataframe\">\n",
       "  <thead>\n",
       "    <tr style=\"text-align: right;\">\n",
       "      <th></th>\n",
       "      <th>index</th>\n",
       "      <th>$\\pi$</th>\n",
       "    </tr>\n",
       "  </thead>\n",
       "  <tbody>\n",
       "    <tr>\n",
       "      <th>0</th>\n",
       "      <td>A</td>\n",
       "      <td>0.524684</td>\n",
       "    </tr>\n",
       "    <tr>\n",
       "      <th>1</th>\n",
       "      <td>B</td>\n",
       "      <td>0.475316</td>\n",
       "    </tr>\n",
       "  </tbody>\n",
       "</table>\n",
       "</div>"
      ],
      "text/plain": [
       "  index     $\\pi$\n",
       "0     A  0.524684\n",
       "1     B  0.475316"
      ]
     },
     "execution_count": 30,
     "metadata": {},
     "output_type": "execute_result"
    }
   ],
   "source": [
    "labeled.Group1.value_counts(normalize=True).rename(\"$\\\\pi$\").reset_index()"
   ]
  },
  {
   "cell_type": "markdown",
   "metadata": {},
   "source": [
    "\n",
    "To estimate the $q$ probabilities we just count the number of edges for each combination of groups and calculate group frequencies."
   ]
  },
  {
   "cell_type": "code",
   "execution_count": 31,
   "metadata": {},
   "outputs": [
    {
     "data": {
      "text/html": [
       "<div>\n",
       "<style scoped>\n",
       "    .dataframe tbody tr th:only-of-type {\n",
       "        vertical-align: middle;\n",
       "    }\n",
       "\n",
       "    .dataframe tbody tr th {\n",
       "        vertical-align: top;\n",
       "    }\n",
       "\n",
       "    .dataframe thead th {\n",
       "        text-align: right;\n",
       "    }\n",
       "</style>\n",
       "<table border=\"1\" class=\"dataframe\">\n",
       "  <thead>\n",
       "    <tr style=\"text-align: right;\">\n",
       "      <th></th>\n",
       "      <th></th>\n",
       "      <th>Counts</th>\n",
       "    </tr>\n",
       "    <tr>\n",
       "      <th>Group1</th>\n",
       "      <th>Group2</th>\n",
       "      <th></th>\n",
       "    </tr>\n",
       "  </thead>\n",
       "  <tbody>\n",
       "    <tr>\n",
       "      <th rowspan=\"2\" valign=\"top\">A</th>\n",
       "      <th>A</th>\n",
       "      <td>311</td>\n",
       "    </tr>\n",
       "    <tr>\n",
       "      <th>B</th>\n",
       "      <td>146</td>\n",
       "    </tr>\n",
       "    <tr>\n",
       "      <th rowspan=\"2\" valign=\"top\">B</th>\n",
       "      <th>A</th>\n",
       "      <td>255</td>\n",
       "    </tr>\n",
       "    <tr>\n",
       "      <th>B</th>\n",
       "      <td>159</td>\n",
       "    </tr>\n",
       "  </tbody>\n",
       "</table>\n",
       "</div>"
      ],
      "text/plain": [
       "               Counts\n",
       "Group1 Group2        \n",
       "A      A          311\n",
       "       B          146\n",
       "B      A          255\n",
       "       B          159"
      ]
     },
     "execution_count": 31,
     "metadata": {},
     "output_type": "execute_result"
    }
   ],
   "source": [
    "# replacement counts\n",
    "replacements = (labeled.groupby(['Group1', 'Group2']).User1\n",
    "                       .count()\n",
    "                       .unstack(fill_value=0)\n",
    "                       .stack()\n",
    "                       .rename('Counts')\n",
    "                       .reset_index()\n",
    "                       .set_index(['Group1', 'Group2']))\n",
    "replacements"
   ]
  },
  {
   "cell_type": "code",
   "execution_count": 32,
   "metadata": {},
   "outputs": [
    {
     "data": {
      "text/html": [
       "<div>\n",
       "<style scoped>\n",
       "    .dataframe tbody tr th:only-of-type {\n",
       "        vertical-align: middle;\n",
       "    }\n",
       "\n",
       "    .dataframe tbody tr th {\n",
       "        vertical-align: top;\n",
       "    }\n",
       "\n",
       "    .dataframe thead th {\n",
       "        text-align: right;\n",
       "    }\n",
       "</style>\n",
       "<table border=\"1\" class=\"dataframe\">\n",
       "  <thead>\n",
       "    <tr style=\"text-align: right;\">\n",
       "      <th></th>\n",
       "      <th>Counts</th>\n",
       "    </tr>\n",
       "    <tr>\n",
       "      <th>Group1</th>\n",
       "      <th></th>\n",
       "    </tr>\n",
       "  </thead>\n",
       "  <tbody>\n",
       "    <tr>\n",
       "      <th>A</th>\n",
       "      <td>457</td>\n",
       "    </tr>\n",
       "    <tr>\n",
       "      <th>B</th>\n",
       "      <td>414</td>\n",
       "    </tr>\n",
       "  </tbody>\n",
       "</table>\n",
       "</div>"
      ],
      "text/plain": [
       "        Counts\n",
       "Group1        \n",
       "A          457\n",
       "B          414"
      ]
     },
     "execution_count": 32,
     "metadata": {},
     "output_type": "execute_result"
    }
   ],
   "source": [
    "# group1 counts\n",
    "groups = (labeled.groupby('Group1').User1\n",
    "                 .count()\n",
    "                 .rename('Counts')\n",
    "                 .reset_index()\n",
    "                 .set_index('Group1'))\n",
    "groups"
   ]
  },
  {
   "cell_type": "code",
   "execution_count": 33,
   "metadata": {
    "scrolled": true
   },
   "outputs": [
    {
     "data": {
      "text/html": [
       "<div>\n",
       "<style scoped>\n",
       "    .dataframe tbody tr th:only-of-type {\n",
       "        vertical-align: middle;\n",
       "    }\n",
       "\n",
       "    .dataframe tbody tr th {\n",
       "        vertical-align: top;\n",
       "    }\n",
       "\n",
       "    .dataframe thead th {\n",
       "        text-align: right;\n",
       "    }\n",
       "</style>\n",
       "<table border=\"1\" class=\"dataframe\">\n",
       "  <thead>\n",
       "    <tr style=\"text-align: right;\">\n",
       "      <th></th>\n",
       "      <th></th>\n",
       "      <th>Frequency ($q$)</th>\n",
       "    </tr>\n",
       "    <tr>\n",
       "      <th>Group1</th>\n",
       "      <th>Group2</th>\n",
       "      <th></th>\n",
       "    </tr>\n",
       "  </thead>\n",
       "  <tbody>\n",
       "    <tr>\n",
       "      <th rowspan=\"2\" valign=\"top\">A</th>\n",
       "      <th>A</th>\n",
       "      <td>0.680525</td>\n",
       "    </tr>\n",
       "    <tr>\n",
       "      <th>B</th>\n",
       "      <td>0.319475</td>\n",
       "    </tr>\n",
       "    <tr>\n",
       "      <th rowspan=\"2\" valign=\"top\">B</th>\n",
       "      <th>A</th>\n",
       "      <td>0.615942</td>\n",
       "    </tr>\n",
       "    <tr>\n",
       "      <th>B</th>\n",
       "      <td>0.384058</td>\n",
       "    </tr>\n",
       "  </tbody>\n",
       "</table>\n",
       "</div>"
      ],
      "text/plain": [
       "               Frequency ($q$)\n",
       "Group1 Group2                 \n",
       "A      A              0.680525\n",
       "       B              0.319475\n",
       "B      A              0.615942\n",
       "       B              0.384058"
      ]
     },
     "execution_count": 33,
     "metadata": {},
     "output_type": "execute_result"
    }
   ],
   "source": [
    "qs = (replacements / groups).rename(columns={'Counts': 'Frequency ($q$)'})\n",
    "qs"
   ]
  },
  {
   "cell_type": "markdown",
   "metadata": {},
   "source": [
    "It seems that the pro-brexit group does not have homophily. @Jessie says this could be due to the demographics of the group, which is mostly very old people compared to the other group.\n",
    "\n",
    "The following is the homophily matrix (coordinates are the $q_A$, $1-q_A$, and 1- $q_B$, $q_B$ probabilities):"
   ]
  },
  {
   "cell_type": "code",
   "execution_count": 34,
   "metadata": {},
   "outputs": [
    {
     "data": {
      "text/plain": [
       "array([[0.68052516, 0.31947484],\n",
       "       [0.61594203, 0.38405797]])"
      ]
     },
     "execution_count": 34,
     "metadata": {},
     "output_type": "execute_result"
    }
   ],
   "source": [
    "qs.unstack().values"
   ]
  },
  {
   "cell_type": "markdown",
   "metadata": {},
   "source": [
    "### Share probability distributions\n"
   ]
  },
  {
   "cell_type": "code",
   "execution_count": 47,
   "metadata": {
    "scrolled": false
   },
   "outputs": [
    {
     "data": {
      "text/plain": [
       "<seaborn.axisgrid.FacetGrid at 0x7f91b5a4faf0>"
      ]
     },
     "execution_count": 47,
     "metadata": {},
     "output_type": "execute_result"
    },
    {
     "data": {
      "image/png": "[encoded data removed]",
      "text/plain": [
       "<Figure size 409.125x360 with 1 Axes>"
      ]
     },
     "metadata": {
      "needs_background": "light"
     },
     "output_type": "display_data"
    }
   ],
   "source": [
    "sns.displot(data=pd.melt(df,\n",
    "                         id_vars=['User1', 'User2'],\n",
    "                         value_vars=['pA', 'pB']),\n",
    "            x='value',\n",
    "            hue='variable',\n",
    "            bins=50, kde=True, stat='density')"
   ]
  },
  {
   "cell_type": "markdown",
   "metadata": {},
   "source": [
    "In comparison to the uselections dataset, in brexit both sharing distributions are very skewed."
   ]
  },
  {
   "cell_type": "markdown",
   "metadata": {},
   "source": [
    "Since this is a distribution of probabilities, it should have support on $[0,1]$. A beta distribution may be a good choice to fit the data."
   ]
  },
  {
   "cell_type": "code",
   "execution_count": 48,
   "metadata": {},
   "outputs": [
    {
     "data": {
      "text/plain": [
       "(0.12045986525314124, 51.07492424881336)"
      ]
     },
     "execution_count": 48,
     "metadata": {},
     "output_type": "execute_result"
    }
   ],
   "source": [
    "# MLE estimates for the parameters of the beta distribution (for p_A)\n",
    "a1, b1, loc1, scale1 = beta.fit(df.pA, floc=0, fscale=1)\n",
    "a1, b1"
   ]
  },
  {
   "cell_type": "code",
   "execution_count": 49,
   "metadata": {},
   "outputs": [
    {
     "data": {
      "text/plain": [
       "<matplotlib.axes._subplots.AxesSubplot at 0x7f91b59ffaf0>"
      ]
     },
     "execution_count": 49,
     "metadata": {},
     "output_type": "execute_result"
    },
    {
     "data": {
      "image/png": "[encoded data removed]",
      "text/plain": [
       "<Figure size 432x288 with 1 Axes>"
      ]
     },
     "metadata": {
      "needs_background": "light"
     },
     "output_type": "display_data"
    }
   ],
   "source": [
    "sns.kdeplot(np.random.beta(a=a1, b=b1, size=df.pA.shape[0]))\n",
    "sns.kdeplot(df.pA)"
   ]
  },
  {
   "cell_type": "code",
   "execution_count": 50,
   "metadata": {},
   "outputs": [
    {
     "data": {
      "text/plain": [
       "(0.11460151200225399, 14.595024591908238)"
      ]
     },
     "execution_count": 50,
     "metadata": {},
     "output_type": "execute_result"
    }
   ],
   "source": [
    "# MLE estimates for the parameters of the beta distribution (for p_B)\n",
    "a2, b2, loc2, scale2 = beta.fit(df.pB, floc=0, fscale=1)\n",
    "a2, b2"
   ]
  },
  {
   "cell_type": "code",
   "execution_count": 51,
   "metadata": {},
   "outputs": [
    {
     "data": {
      "text/plain": [
       "<matplotlib.axes._subplots.AxesSubplot at 0x7f91b5d41880>"
      ]
     },
     "execution_count": 51,
     "metadata": {},
     "output_type": "execute_result"
    },
    {
     "data": {
      "image/png": "[encoded data removed]",
      "text/plain": [
       "<Figure size 432x288 with 1 Axes>"
      ]
     },
     "metadata": {
      "needs_background": "light"
     },
     "output_type": "display_data"
    }
   ],
   "source": [
    "sns.kdeplot(np.random.beta(a=a2, b=b2, size=df.pB.shape[0]))\n",
    "sns.kdeplot(df.pB)"
   ]
  },
  {
   "cell_type": "markdown",
   "metadata": {},
   "source": [
    "### Different groups\n"
   ]
  },
  {
   "cell_type": "code",
   "execution_count": 52,
   "metadata": {},
   "outputs": [],
   "source": [
    "dfg = df[df.User2.isin(B) | df.User2.isin(A)]  # we just care about the group of the user who is retweeting"
   ]
  },
  {
   "cell_type": "code",
   "execution_count": 53,
   "metadata": {},
   "outputs": [],
   "source": [
    "group = dfg.User2.isin(A).replace({True: 'A', False: 'B'})"
   ]
  },
  {
   "cell_type": "code",
   "execution_count": 54,
   "metadata": {},
   "outputs": [
    {
     "data": {
      "text/plain": [
       "User2\n",
       "A    3008\n",
       "B    1392\n",
       "Name: User2, dtype: int64"
      ]
     },
     "execution_count": 54,
     "metadata": {},
     "output_type": "execute_result"
    }
   ],
   "source": [
    "dfg.groupby(group).User2.count()"
   ]
  },
  {
   "cell_type": "code",
   "execution_count": 55,
   "metadata": {},
   "outputs": [
    {
     "data": {
      "text/plain": [
       "<seaborn.axisgrid.FacetGrid at 0x7f91b3c8fca0>"
      ]
     },
     "execution_count": 55,
     "metadata": {},
     "output_type": "execute_result"
    },
    {
     "data": {
      "image/png": "[encoded data removed]",
      "text/plain": [
       "<Figure size 402.875x360 with 1 Axes>"
      ]
     },
     "metadata": {
      "needs_background": "light"
     },
     "output_type": "display_data"
    },
    {
     "data": {
      "image/png": "[encoded data removed]",
      "text/plain": [
       "<Figure size 402.875x360 with 1 Axes>"
      ]
     },
     "metadata": {
      "needs_background": "light"
     },
     "output_type": "display_data"
    }
   ],
   "source": [
    "sns.displot(data=dfg, x='pA', hue=group, bins=50)\n",
    "sns.displot(data=dfg, x='pB', hue=group, bins=50)"
   ]
  },
  {
   "cell_type": "markdown",
   "metadata": {},
   "source": [
    "#### Fitting the distribution of $p_{A,a}$"
   ]
  },
  {
   "cell_type": "code",
   "execution_count": 56,
   "metadata": {},
   "outputs": [
    {
     "data": {
      "text/plain": [
       "(1.6421893317945877, 62.9176081976947)"
      ]
     },
     "execution_count": 56,
     "metadata": {},
     "output_type": "execute_result"
    }
   ],
   "source": [
    "# MLE estimates for the parameters of the beta distribution (for $p_{A,a}$)\n",
    "a1, b1, loc1, scale1 = beta.fit(dfg[group == 'A'].pA, floc=0, fscale=1)\n",
    "a1, b1"
   ]
  },
  {
   "cell_type": "code",
   "execution_count": 57,
   "metadata": {
    "scrolled": true
   },
   "outputs": [
    {
     "data": {
      "text/plain": [
       "<matplotlib.axes._subplots.AxesSubplot at 0x7f91b3a14e50>"
      ]
     },
     "execution_count": 57,
     "metadata": {},
     "output_type": "execute_result"
    },
    {
     "data": {
      "image/png": "[encoded data removed]",
      "text/plain": [
       "<Figure size 432x288 with 1 Axes>"
      ]
     },
     "metadata": {
      "needs_background": "light"
     },
     "output_type": "display_data"
    }
   ],
   "source": [
    "sns.kdeplot(np.random.beta(a=a1, b=b1, size=dfg[group == 'A'].pA.shape[0]))\n",
    "sns.kdeplot(dfg[group == 'A'].pA, bw_adjust=2)"
   ]
  },
  {
   "cell_type": "markdown",
   "metadata": {},
   "source": [
    "#### Fitting the distribution of $p_{A,b}$"
   ]
  },
  {
   "cell_type": "code",
   "execution_count": 58,
   "metadata": {},
   "outputs": [
    {
     "data": {
      "text/plain": [
       "(1.4779704026249152, 27.402822213177515)"
      ]
     },
     "execution_count": 58,
     "metadata": {},
     "output_type": "execute_result"
    }
   ],
   "source": [
    "a2, b2, loc2, scale2 = beta.fit(dfg[group == 'A'].pB, floc=0, fscale=1)\n",
    "a2, b2"
   ]
  },
  {
   "cell_type": "code",
   "execution_count": 74,
   "metadata": {},
   "outputs": [
    {
     "data": {
      "text/plain": [
       "<matplotlib.axes._subplots.AxesSubplot at 0x7f91aed362b0>"
      ]
     },
     "execution_count": 74,
     "metadata": {},
     "output_type": "execute_result"
    },
    {
     "data": {
      "image/png": "[encoded data removed]",
      "text/plain": [
       "<Figure size 432x288 with 1 Axes>"
      ]
     },
     "metadata": {
      "needs_background": "light"
     },
     "output_type": "display_data"
    }
   ],
   "source": [
    "sns.kdeplot(np.random.beta(a=a2, b=b2, size=dfg[group == 'A'].pB.shape[0]))\n",
    "sns.kdeplot(dfg[group == 'A'].pB, bw_adjust=3)"
   ]
  },
  {
   "cell_type": "markdown",
   "metadata": {},
   "source": [
    "#### Fitting the distribution of $p_{B,a}$"
   ]
  },
  {
   "cell_type": "code",
   "execution_count": 67,
   "metadata": {},
   "outputs": [
    {
     "data": {
      "text/plain": [
       "(1.7187375537951832, 380.1479381108044)"
      ]
     },
     "execution_count": 67,
     "metadata": {},
     "output_type": "execute_result"
    }
   ],
   "source": [
    "a3, b3, loc3, scale3 = beta.fit(dfg[group == 'B'].pA, floc=0, fscale=1)\n",
    "a3, b3"
   ]
  },
  {
   "cell_type": "code",
   "execution_count": 68,
   "metadata": {},
   "outputs": [
    {
     "data": {
      "text/plain": [
       "<matplotlib.axes._subplots.AxesSubplot at 0x7f91b5dc21c0>"
      ]
     },
     "execution_count": 68,
     "metadata": {},
     "output_type": "execute_result"
    },
    {
     "data": {
      "image/png": "[encoded data removed]",
      "text/plain": [
       "<Figure size 432x288 with 1 Axes>"
      ]
     },
     "metadata": {
      "needs_background": "light"
     },
     "output_type": "display_data"
    }
   ],
   "source": [
    "sns.kdeplot(np.random.beta(a=a3, b=b3, size=dfg[group == 'B'].pA.shape[0]))\n",
    "sns.kdeplot(dfg[group == 'B'].pA, bw_adjust=3)"
   ]
  },
  {
   "cell_type": "markdown",
   "metadata": {},
   "source": [
    "#### Fitting the distribution of $p_{B,b}$"
   ]
  },
  {
   "cell_type": "code",
   "execution_count": 69,
   "metadata": {},
   "outputs": [
    {
     "data": {
      "text/plain": [
       "(39.62421666552372, 506.9074863422272)"
      ]
     },
     "execution_count": 69,
     "metadata": {},
     "output_type": "execute_result"
    }
   ],
   "source": [
    "a4, b4, loc4, scale4 = beta.fit(dfg[group == 'B'].pB, floc=0, fscale=1)\n",
    "a4, b4"
   ]
  },
  {
   "cell_type": "code",
   "execution_count": 73,
   "metadata": {
    "scrolled": true
   },
   "outputs": [
    {
     "data": {
      "text/plain": [
       "<matplotlib.axes._subplots.AxesSubplot at 0x7f91b372da30>"
      ]
     },
     "execution_count": 73,
     "metadata": {},
     "output_type": "execute_result"
    },
    {
     "data": {
      "image/png": "[encoded data removed]",
      "text/plain": [
       "<Figure size 432x288 with 1 Axes>"
      ]
     },
     "metadata": {
      "needs_background": "light"
     },
     "output_type": "display_data"
    }
   ],
   "source": [
    "sns.kdeplot(np.random.beta(a=a4, b=b4, size=dfg[group == 'B'].pB.shape[0]))\n",
    "sns.kdeplot(dfg[group == 'B'].pB, bw_adjust=3)"
   ]
  },
  {
   "cell_type": "code",
   "execution_count": null,
   "metadata": {},
   "outputs": [],
   "source": []
  }
 ],
 "metadata": {
  "kernelspec": {
   "display_name": "Python 3",
   "language": "python",
   "name": "python3"
  },
  "language_info": {
   "codemirror_mode": {
    "name": "ipython",
    "version": 3
   },
   "file_extension": ".py",
   "mimetype": "text/x-python",
   "name": "python",
   "nbconvert_exporter": "python",
   "pygments_lexer": "ipython3",
   "version": "3.8.3"
  }
 },
 "nbformat": 4,
 "nbformat_minor": 4
}

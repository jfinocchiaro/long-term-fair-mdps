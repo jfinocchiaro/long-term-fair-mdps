{
 "cells": [
  {
   "cell_type": "code",
   "execution_count": 1,
   "metadata": {},
   "outputs": [],
   "source": [
    "import sys\n",
    "import os\n",
    "import os.path as path\n",
    "\n",
    "import random\n",
    "from scipy.stats import beta\n",
    "import numpy as np\n",
    "import pandas as pd\n",
    "\n",
    "import seaborn as sns\n",
    "import matplotlib.cm as cm\n",
    "import matplotlib.pyplot as plt\n",
    "\n",
    "sys.path.insert(1, path.join(path.abspath(path.pardir)))\n",
    "import sims\n",
    "from platform_opt import *"
   ]
  },
  {
   "cell_type": "code",
   "execution_count": 2,
   "metadata": {},
   "outputs": [],
   "source": [
    "# remove determinism\n",
    "seed = 42\n",
    "os.environ['PYTHONHASHSEED'] = str(seed)\n",
    "np.random.seed(seed)"
   ]
  },
  {
   "cell_type": "markdown",
   "metadata": {},
   "source": [
    "## Load datasets"
   ]
  },
  {
   "cell_type": "code",
   "execution_count": 3,
   "metadata": {},
   "outputs": [],
   "source": [
    "# load probabilities\n",
    "df = pd.read_csv(\"csv/abortion_new_graph.csv\")"
   ]
  },
  {
   "cell_type": "code",
   "execution_count": 4,
   "metadata": {},
   "outputs": [
    {
     "data": {
      "text/html": [
       "<div>\n",
       "<style scoped>\n",
       "    .dataframe tbody tr th:only-of-type {\n",
       "        vertical-align: middle;\n",
       "    }\n",
       "\n",
       "    .dataframe tbody tr th {\n",
       "        vertical-align: top;\n",
       "    }\n",
       "\n",
       "    .dataframe thead th {\n",
       "        text-align: right;\n",
       "    }\n",
       "</style>\n",
       "<table border=\"1\" class=\"dataframe\">\n",
       "  <thead>\n",
       "    <tr style=\"text-align: right;\">\n",
       "      <th></th>\n",
       "      <th>User</th>\n",
       "    </tr>\n",
       "    <tr>\n",
       "      <th>Group1</th>\n",
       "      <th></th>\n",
       "    </tr>\n",
       "  </thead>\n",
       "  <tbody>\n",
       "    <tr>\n",
       "      <th>A</th>\n",
       "      <td>196</td>\n",
       "    </tr>\n",
       "    <tr>\n",
       "      <th>B</th>\n",
       "      <td>228</td>\n",
       "    </tr>\n",
       "  </tbody>\n",
       "</table>\n",
       "</div>"
      ],
      "text/plain": [
       "        User\n",
       "Group1      \n",
       "A        196\n",
       "B        228"
      ]
     },
     "execution_count": 4,
     "metadata": {},
     "output_type": "execute_result"
    }
   ],
   "source": [
    "users = df[['User', 'Group1']].drop_duplicates()\n",
    "users.groupby('Group1').count()"
   ]
  },
  {
   "cell_type": "markdown",
   "metadata": {},
   "source": [
    "## Parameters in the real network"
   ]
  },
  {
   "cell_type": "code",
   "execution_count": 5,
   "metadata": {},
   "outputs": [
    {
     "data": {
      "text/html": [
       "<div>\n",
       "<style scoped>\n",
       "    .dataframe tbody tr th:only-of-type {\n",
       "        vertical-align: middle;\n",
       "    }\n",
       "\n",
       "    .dataframe tbody tr th {\n",
       "        vertical-align: top;\n",
       "    }\n",
       "\n",
       "    .dataframe thead th {\n",
       "        text-align: right;\n",
       "    }\n",
       "</style>\n",
       "<table border=\"1\" class=\"dataframe\">\n",
       "  <thead>\n",
       "    <tr style=\"text-align: right;\">\n",
       "      <th></th>\n",
       "      <th>User</th>\n",
       "    </tr>\n",
       "    <tr>\n",
       "      <th>Group1</th>\n",
       "      <th></th>\n",
       "    </tr>\n",
       "  </thead>\n",
       "  <tbody>\n",
       "    <tr>\n",
       "      <th>A</th>\n",
       "      <td>0.462264</td>\n",
       "    </tr>\n",
       "    <tr>\n",
       "      <th>B</th>\n",
       "      <td>0.537736</td>\n",
       "    </tr>\n",
       "  </tbody>\n",
       "</table>\n",
       "</div>"
      ],
      "text/plain": [
       "            User\n",
       "Group1          \n",
       "A       0.462264\n",
       "B       0.537736"
      ]
     },
     "execution_count": 5,
     "metadata": {},
     "output_type": "execute_result"
    }
   ],
   "source": [
    "users.groupby('Group1').count() / users.User.count()"
   ]
  },
  {
   "cell_type": "markdown",
   "metadata": {},
   "source": [
    "## Propagation of the articles"
   ]
  },
  {
   "cell_type": "code",
   "execution_count": 6,
   "metadata": {},
   "outputs": [],
   "source": [
    "# GLOBAL VARIABLES\n",
    "TRIALS = 100\n",
    "T      = 10\n",
    "M      = 69\n",
    "\n",
    "\n",
    "# indices\n",
    "Gr = {'A': -1, 'B': 1}\n",
    "Pr = {'Pa': -1, 'Pb': 1}\n",
    "OPr = {'Pa': 1, 'Pb': -1}"
   ]
  },
  {
   "cell_type": "code",
   "execution_count": 7,
   "metadata": {},
   "outputs": [],
   "source": [
    "# UTIL METHODS\n",
    "\n",
    "## plotting\n",
    "def plot(df):\n",
    "    '''Plot the lines in the dataframe.'''\n",
    "    return sns.lineplot(x='t', y='n', data=df)\n",
    "\n",
    "\n",
    "def plotgen(g):\n",
    "    '''Plot the dataframe built from the generator.'''\n",
    "    df = pd.DataFrame(g, columns=['t', 'nA', 'nB'])\n",
    "    return plot(df)\n",
    "\n",
    "\n",
    "## other\n",
    "def filter_list(l, blacklist=[]):\n",
    "    '''Filter out from a list the elements in `blacklist`.'''\n",
    "    return [e for e in l if e not in blacklist]"
   ]
  },
  {
   "cell_type": "markdown",
   "metadata": {},
   "source": [
    "### Propagation with the model"
   ]
  },
  {
   "cell_type": "code",
   "execution_count": 17,
   "metadata": {},
   "outputs": [],
   "source": [
    "SAVED_COLS = ['Setting', 'Exposure', 'Theta_A', 'Seed', 'Article', 't', 'N', 'B', 'A',]"
   ]
  },
  {
   "cell_type": "code",
   "execution_count": 8,
   "metadata": {},
   "outputs": [],
   "source": [
    "# model parameters\n",
    "epsilon=0.1\n",
    "new_pi = {-1: 0.5, 1: 0.5}\n",
    "theta_opt = {1: 0, -1: 1}\n",
    "theta_half = {1: 0.5, -1: 0.5}\n",
    "\n",
    "pi, beta_dist, P, v, c, q = sims.get_params('twitter_uselections')\n",
    "theta_fair = opt_constrained(pi, q, T, epsilon, c, v, beta_dist, exposure_e=0.1)"
   ]
  },
  {
   "cell_type": "code",
   "execution_count": 9,
   "metadata": {},
   "outputs": [],
   "source": [
    "group_cols = ['Aa', 'Ab', 'Ba', 'Bb']\n",
    "exps = ['fair', 'opt', 'half']\n",
    "\n",
    "def run_model_sim(theta, T, pi, M, P, beta_dist, v, c, q, seed=0):\n",
    "    os.environ['PYTHONHASHSEED'] = str(seed)\n",
    "    np.random.seed(seed)\n",
    "    \n",
    "    num_players = np.zeros((T, 4))\n",
    "    for j, a in enumerate(sims.runModel(theta, T, pi, M, P, beta_dist, v, c, q,)[1]):\n",
    "        num_players[:, j] =  np.array(a + [0] * (T - len(a))).reshape(-1)\n",
    "    df = pd.DataFrame(num_players, columns=group_cols)\n",
    "    df.loc[:, 't'] = range(T)\n",
    "    return df.astype(int)"
   ]
  },
  {
   "cell_type": "code",
   "execution_count": 10,
   "metadata": {},
   "outputs": [],
   "source": [
    "# run model simulations\n",
    "model_results = pd.DataFrame(columns=['Exposure', 'Theta_A', 'Size', 'Seed', 't'] + group_cols)\n",
    "for exp, theta in zip(exps, [theta_fair, theta_opt, theta_half]):\n",
    "    params = theta, T, new_pi, 2 * M, P, beta_dist, v, c, q\n",
    "    for trial in range(TRIALS):\n",
    "        num_players = run_model_sim(*params, seed=trial)\n",
    "        num_players.loc[:, ['Exposure', 'Theta_A', 'Size', 'Seed']] = exp, theta[-1], M, trial\n",
    "        model_results = pd.concat((model_results, num_players))"
   ]
  },
  {
   "cell_type": "code",
   "execution_count": null,
   "metadata": {},
   "outputs": [],
   "source": [
    "ids = [c for c in model_results.columns if c not in group_cols]\n",
    "dfA = pd.melt(model_results, id_vars=ids, value_vars=['Aa', 'Ab']).rename(columns={'value': 'A'})\n",
    "dfB = pd.melt(model_results, id_vars=ids, value_vars=['Ba', 'Bb']).rename(columns={'value': 'B'})\n",
    "dfB['A'] = dfA.A\n",
    "dfB.loc[:, 'Article'] = dfB.variable.str[1]\n",
    "\n",
    "model_results = dfB.drop('variable', axis=1)\n",
    "model_results['N'] = model_results.A + model_results.B\n",
    "model_results['Setting'] = 'model'\n",
    "model_results[SAVED_COLS].to_csv('results/abortion_results_model.csv', index=False)"
   ]
  },
  {
   "cell_type": "markdown",
   "metadata": {},
   "source": [
    "### Propagation with the labeled network"
   ]
  },
  {
   "cell_type": "code",
   "execution_count": 12,
   "metadata": {},
   "outputs": [],
   "source": [
    "def total_num_players(G):\n",
    "    return len(G.User.unique())\n",
    "\n",
    "\n",
    "def group_num_players(G):\n",
    "    nA = G[['User', 'Group1']].drop_duplicates().query('Group1 == \"A\"').shape[0]\n",
    "    nB = G[['User', 'Group1']].drop_duplicates().query('Group1 == \"B\"').shape[0]\n",
    "    return nA, nB\n",
    "\n",
    "\n",
    "def sample_seeds(df, group, size):\n",
    "    '''Return dataframe with a random sample of users.'''\n",
    "    # sample `size` users as the first set of users to see the article\n",
    "    # we need to drop duplicates as we have a row for each (user, follower) pair\n",
    "    seeds = (df[['User', 'Group1']].drop_duplicates()\n",
    "                                   .query(f'Group1 == \"{group}\"')\n",
    "                                   .sample(size)\n",
    "                                   .User)\n",
    "    # take the rows of the seed users\n",
    "    G = df[df.User.isin(seeds)]\n",
    "    return G\n",
    "\n",
    "\n",
    "def propagate(df, group='A', take_one=True, norepetitions=True, article='Pa', theta=0, steps=T, size=M, seed=0, func=group_num_players):\n",
    "    '''Evaluates a function on each step of the propagation of an article through the network.'''\n",
    "    os.environ['PYTHONHASHSEED'] = str(seed)\n",
    "    np.random.seed(seed)\n",
    "    blacklist = set([])\n",
    "    if group == 'B':\n",
    "        theta = 1 - theta\n",
    "    G = sample_seeds(df, group, size).copy()\n",
    "    for t in range(steps):\n",
    "        yield (group, article[-1:], theta, size, seed, t,) + func(G)\n",
    "        \n",
    "        # get one friend for each usuer\n",
    "        if not G.empty:\n",
    "            blacklist.update(set(G.User.tolist()))\n",
    "            newG = G.copy()\n",
    "            if take_one:\n",
    "                newG = newG.groupby('User').sample(1)\n",
    "                # What happens if two different users are followed by the same person?\n",
    "                # It's more likely that the artcile will be shared.\n",
    "            # Note: we assume that if someone follows n users sharing the article, there are n toss coins for sharing it.\n",
    "            nusers = len(newG.User.unique())\n",
    "            \n",
    "            # fraction theta of users are shown article a\n",
    "            na = int(theta * nusers)\n",
    "            showa = np.zeros(nusers)\n",
    "            showa[:na] = 1\n",
    "            np.random.shuffle(showa)\n",
    "            newG.loc[:, 'showa'] = showa[pd.factorize(newG.User)[0]]\n",
    "            newG = newG.sort_values(by=['Group1', 'showa', 'User'])\n",
    "            \n",
    "            # a fraction theta of users see the article\n",
    "            # A 0\n",
    "            sza = len(newG[newG.Group1 == 'A'].User.unique())\n",
    "            szaa = len(newG[(newG.Group1 == 'A') & (newG.showa == 0)].User.unique())\n",
    "            a0 = np.random.beta(*beta_dist[(Gr['A'], OPr[article])], size=szaa)\n",
    "            # A 1\n",
    "            a1 = np.random.beta(*beta_dist[(Gr['A'], Pr[article])], size=sza - szaa)\n",
    "            \n",
    "            # B 0\n",
    "            szb = len(newG[newG.Group1 == 'B'].User.unique())\n",
    "            szba = len(newG[(newG.Group1 == 'B') & (newG.showa == 0)].User.unique())\n",
    "            b0 = np.random.beta(*beta_dist[(Gr['B'], OPr[article])], size=szba)\n",
    "            # B 1\n",
    "            b1 = np.random.beta(*beta_dist[(Gr['B'], Pr[article])], size=szb - szba)\n",
    "            probs = np.concatenate((a0, a1, b0, b1), axis=0)\n",
    "            assert len(probs) == nusers\n",
    "            \n",
    "            # toss a coin for each exposed user to determine whether or not they will share the article\n",
    "            shared = np.random.binomial(1, p=probs).astype(bool)\n",
    "            newG.loc[:, 'Shared'] = shared[pd.factorize(newG.User)[0]]\n",
    "\n",
    "            # take one friend for each user\n",
    "            newG = newG[newG.Shared].Follower.unique()\n",
    "            if norepetitions:\n",
    "                newG = filter_list(newG, blacklist=blacklist)\n",
    "            G = df[df.User.isin(newG)].copy()"
   ]
  },
  {
   "cell_type": "code",
   "execution_count": 13,
   "metadata": {},
   "outputs": [],
   "source": [
    "def repeat_propagation(df, trials, **kwargs):\n",
    "    for trial in range(trials):\n",
    "        for result in propagate(df, seed=trial, **kwargs):\n",
    "            yield result"
   ]
  },
  {
   "cell_type": "code",
   "execution_count": 14,
   "metadata": {},
   "outputs": [],
   "source": [
    "# run experiments\n",
    "COLS = ['Group', 'Article', 'Theta_A', 'Size', 'Seed', 't', 'A', 'B']\n",
    "\n",
    "# fair (constrained)\n",
    "dfa0 = pd.DataFrame(repeat_propagation(df, TRIALS, group='A', theta=theta_fair[-1], article='Pa'), columns=COLS)\n",
    "dfb0 = pd.DataFrame(repeat_propagation(df, TRIALS, group='B', theta=theta_fair[1], article='Pb'), columns=COLS)\n",
    "df0 = pd.concat((dfa0, dfb0))\n",
    "df0['Exposure'] = 'fair'\n",
    "\n",
    "# half exposure\n",
    "dfahalf = pd.DataFrame(repeat_propagation(df, TRIALS, group='A', theta=theta_half[-1], article='Pa'), columns=COLS)\n",
    "dfbhalf = pd.DataFrame(repeat_propagation(df, TRIALS, group='B', theta=theta_half[1], article='Pb'), columns=COLS)\n",
    "dfhalf = pd.concat((dfahalf, dfbhalf))\n",
    "dfhalf['Exposure'] = 'half'\n",
    "\n",
    "# optimal (unconstrained)\n",
    "dfaopt = pd.DataFrame(repeat_propagation(df, TRIALS, group='A', theta=theta_opt[-1], article='Pa'), columns=COLS)\n",
    "dfbopt = pd.DataFrame(repeat_propagation(df, TRIALS, group='B', theta=theta_opt[1], article='Pb'), columns=COLS)\n",
    "dfopt = pd.concat((dfaopt, dfbopt))\n",
    "dfopt['Exposure'] = 'opt'\n",
    "\n",
    "network_results = pd.concat((df0, dfhalf, dfopt))\n",
    "network_results['N'] = network_results.A + network_results.B\n",
    "network_results['Setting'] = 'network'\n",
    "network_results[SAVED_COLS].to_csv('results/abortion_results_network.csv', index=False)"
   ]
  },
  {
   "cell_type": "code",
   "execution_count": 18,
   "metadata": {},
   "outputs": [],
   "source": [
    "(pd.concat((network_results[SAVED_COLS],\n",
    "            model_results[SAVED_COLS]))\n",
    "     .to_csv('results/abortion_results.csv', index=False))"
   ]
  },
  {
   "cell_type": "markdown",
   "metadata": {},
   "source": [
    "### Drop Assumption 1: take only one follower"
   ]
  },
  {
   "cell_type": "code",
   "execution_count": 22,
   "metadata": {},
   "outputs": [],
   "source": [
    "# run experiments\n",
    "COLS = ['Group', 'Article', 'Theta_A', 'Size', 'Seed', 't', 'A', 'B']\n",
    "\n",
    "# fair (constrained)\n",
    "dfa0 = pd.DataFrame(repeat_propagation(df, TRIALS, group='A', take_one=False, theta=theta_fair[-1], article='Pa'), columns=COLS)\n",
    "dfb0 = pd.DataFrame(repeat_propagation(df, TRIALS, group='B', take_one=False, theta=theta_fair[1], article='Pb'), columns=COLS)\n",
    "df0 = pd.concat((dfa0, dfb0))\n",
    "df0['Exposure'] = 'fair'\n",
    "\n",
    "# half exposure\n",
    "dfahalf = pd.DataFrame(repeat_propagation(df, TRIALS, group='A', take_one=False, theta=theta_half[-1], article='Pa'), columns=COLS)\n",
    "dfbhalf = pd.DataFrame(repeat_propagation(df, TRIALS, group='B', take_one=False, theta=theta_half[1], article='Pb'), columns=COLS)\n",
    "dfhalf = pd.concat((dfahalf, dfbhalf))\n",
    "dfhalf['Exposure'] = 'half'\n",
    "\n",
    "# optimal (unconstrained)\n",
    "dfaopt = pd.DataFrame(repeat_propagation(df, TRIALS, group='A', take_one=False, theta=theta_opt[-1], article='Pa'), columns=COLS)\n",
    "dfbopt = pd.DataFrame(repeat_propagation(df, TRIALS, group='B', take_one=False, theta=theta_opt[1], article='Pb'), columns=COLS)\n",
    "dfopt = pd.concat((dfaopt, dfbopt))\n",
    "dfopt['Exposure'] = 'opt'\n",
    "\n",
    "network_results = pd.concat((df0, dfhalf, dfopt))\n",
    "network_results['N'] = network_results.A + network_results.B\n",
    "network_results['Setting'] = 'network'\n",
    "network_results[SAVED_COLS].to_csv('results/abortion_results_network_not_takeone.csv', index=False)"
   ]
  },
  {
   "cell_type": "code",
   "execution_count": 23,
   "metadata": {},
   "outputs": [],
   "source": [
    "(pd.concat((network_results[SAVED_COLS],\n",
    "            model_results[SAVED_COLS]))\n",
    "     .to_csv('results/abortion_results_not_takeone.csv', index=False))"
   ]
  },
  {
   "cell_type": "markdown",
   "metadata": {},
   "source": [
    "### Drop Assumption 2: the same user cannot appear more than once"
   ]
  },
  {
   "cell_type": "code",
   "execution_count": 24,
   "metadata": {},
   "outputs": [],
   "source": [
    "# run experiments\n",
    "COLS = ['Group', 'Article', 'Theta_A', 'Size', 'Seed', 't', 'A', 'B']\n",
    "\n",
    "# fair (constrained)\n",
    "dfa0 = pd.DataFrame(repeat_propagation(df, TRIALS, group='A', norepetitions=False, theta=theta_fair[-1], article='Pa'), columns=COLS)\n",
    "dfb0 = pd.DataFrame(repeat_propagation(df, TRIALS, group='B', norepetitions=False, theta=theta_fair[1], article='Pb'), columns=COLS)\n",
    "df0 = pd.concat((dfa0, dfb0))\n",
    "df0['Exposure'] = 'fair'\n",
    "\n",
    "# half exposure\n",
    "dfahalf = pd.DataFrame(repeat_propagation(df, TRIALS, group='A', norepetitions=False, theta=theta_half[-1], article='Pa'), columns=COLS)\n",
    "dfbhalf = pd.DataFrame(repeat_propagation(df, TRIALS, group='B', norepetitions=False, theta=theta_half[1], article='Pb'), columns=COLS)\n",
    "dfhalf = pd.concat((dfahalf, dfbhalf))\n",
    "dfhalf['Exposure'] = 'half'\n",
    "\n",
    "# optimal (unconstrained)\n",
    "dfaopt = pd.DataFrame(repeat_propagation(df, TRIALS, group='A', norepetitions=False, theta=theta_opt[-1], article='Pa'), columns=COLS)\n",
    "dfbopt = pd.DataFrame(repeat_propagation(df, TRIALS, group='B', norepetitions=False, theta=theta_opt[1], article='Pb'), columns=COLS)\n",
    "dfopt = pd.concat((dfaopt, dfbopt))\n",
    "dfopt['Exposure'] = 'opt'\n",
    "\n",
    "network_results = pd.concat((df0, dfhalf, dfopt))\n",
    "network_results['N'] = network_results.A + network_results.B\n",
    "network_results['Setting'] = 'network'\n",
    "network_results[SAVED_COLS].to_csv('results/abortion_results_network_no_repetitions.csv', index=False)"
   ]
  },
  {
   "cell_type": "code",
   "execution_count": 25,
   "metadata": {},
   "outputs": [],
   "source": [
    "(pd.concat((network_results[SAVED_COLS],\n",
    "            model_results[SAVED_COLS]))\n",
    "     .to_csv('results/abortion_results_no_repetitions.csv', index=False))"
   ]
  },
  {
   "cell_type": "code",
   "execution_count": null,
   "metadata": {},
   "outputs": [],
   "source": []
  }
 ],
 "metadata": {
  "kernelspec": {
   "display_name": "Python 3",
   "language": "python",
   "name": "python3"
  },
  "language_info": {
   "codemirror_mode": {
    "name": "ipython",
    "version": 3
   },
   "file_extension": ".py",
   "mimetype": "text/x-python",
   "name": "python",
   "nbconvert_exporter": "python",
   "pygments_lexer": "ipython3",
   "version": "3.9.1"
  }
 },
 "nbformat": 4,
 "nbformat_minor": 4
}

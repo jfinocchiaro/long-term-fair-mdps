{
 "cells": [
  {
   "cell_type": "code",
   "execution_count": 23,
   "metadata": {},
   "outputs": [],
   "source": [
    "import sys\n",
    "import os\n",
    "import os.path as path\n",
    "\n",
    "import random\n",
    "from scipy.stats import beta\n",
    "import numpy as np\n",
    "import pandas as pd\n",
    "\n",
    "import seaborn as sns\n",
    "import matplotlib.cm as cm\n",
    "import matplotlib.pyplot as plt\n",
    "\n",
    "sys.path.insert(1, path.join(path.abspath(path.pardir)))\n",
    "import sims\n",
    "from platform_opt import *"
   ]
  },
  {
   "cell_type": "code",
   "execution_count": 24,
   "metadata": {},
   "outputs": [],
   "source": [
    "# remove determinism\n",
    "seed = 42\n",
    "os.environ['PYTHONHASHSEED'] = str(seed)\n",
    "np.random.seed(seed)"
   ]
  },
  {
   "cell_type": "markdown",
   "metadata": {},
   "source": [
    "## Load datasets"
   ]
  },
  {
   "cell_type": "code",
   "execution_count": 25,
   "metadata": {},
   "outputs": [],
   "source": [
    "# load probabilities\n",
    "df = pd.read_csv(\"csv/abortion_new_graph.csv\")"
   ]
  },
  {
   "cell_type": "code",
   "execution_count": 31,
   "metadata": {},
   "outputs": [
    {
     "data": {
      "text/plain": [
       "27.0"
      ]
     },
     "execution_count": 31,
     "metadata": {},
     "output_type": "execute_result"
    }
   ],
   "source": [
    "df.groupby('User').count().Follower.median()"
   ]
  },
  {
   "cell_type": "code",
   "execution_count": 4,
   "metadata": {},
   "outputs": [
    {
     "data": {
      "text/html": [
       "<div>\n",
       "<style scoped>\n",
       "    .dataframe tbody tr th:only-of-type {\n",
       "        vertical-align: middle;\n",
       "    }\n",
       "\n",
       "    .dataframe tbody tr th {\n",
       "        vertical-align: top;\n",
       "    }\n",
       "\n",
       "    .dataframe thead th {\n",
       "        text-align: right;\n",
       "    }\n",
       "</style>\n",
       "<table border=\"1\" class=\"dataframe\">\n",
       "  <thead>\n",
       "    <tr style=\"text-align: right;\">\n",
       "      <th></th>\n",
       "      <th>User</th>\n",
       "    </tr>\n",
       "    <tr>\n",
       "      <th>Group1</th>\n",
       "      <th></th>\n",
       "    </tr>\n",
       "  </thead>\n",
       "  <tbody>\n",
       "    <tr>\n",
       "      <th>A</th>\n",
       "      <td>196</td>\n",
       "    </tr>\n",
       "    <tr>\n",
       "      <th>B</th>\n",
       "      <td>228</td>\n",
       "    </tr>\n",
       "  </tbody>\n",
       "</table>\n",
       "</div>"
      ],
      "text/plain": [
       "        User\n",
       "Group1      \n",
       "A        196\n",
       "B        228"
      ]
     },
     "execution_count": 4,
     "metadata": {},
     "output_type": "execute_result"
    }
   ],
   "source": [
    "users = df[['User', 'Group1']].drop_duplicates()\n",
    "users.groupby('Group1').count()"
   ]
  },
  {
   "cell_type": "markdown",
   "metadata": {},
   "source": [
    "## Parameters in the real network"
   ]
  },
  {
   "cell_type": "code",
   "execution_count": 5,
   "metadata": {},
   "outputs": [
    {
     "data": {
      "text/html": [
       "<div>\n",
       "<style scoped>\n",
       "    .dataframe tbody tr th:only-of-type {\n",
       "        vertical-align: middle;\n",
       "    }\n",
       "\n",
       "    .dataframe tbody tr th {\n",
       "        vertical-align: top;\n",
       "    }\n",
       "\n",
       "    .dataframe thead th {\n",
       "        text-align: right;\n",
       "    }\n",
       "</style>\n",
       "<table border=\"1\" class=\"dataframe\">\n",
       "  <thead>\n",
       "    <tr style=\"text-align: right;\">\n",
       "      <th></th>\n",
       "      <th>User</th>\n",
       "    </tr>\n",
       "    <tr>\n",
       "      <th>Group1</th>\n",
       "      <th></th>\n",
       "    </tr>\n",
       "  </thead>\n",
       "  <tbody>\n",
       "    <tr>\n",
       "      <th>A</th>\n",
       "      <td>0.462264</td>\n",
       "    </tr>\n",
       "    <tr>\n",
       "      <th>B</th>\n",
       "      <td>0.537736</td>\n",
       "    </tr>\n",
       "  </tbody>\n",
       "</table>\n",
       "</div>"
      ],
      "text/plain": [
       "            User\n",
       "Group1          \n",
       "A       0.462264\n",
       "B       0.537736"
      ]
     },
     "execution_count": 5,
     "metadata": {},
     "output_type": "execute_result"
    }
   ],
   "source": [
    "users.groupby('Group1').count() / users.User.count()"
   ]
  },
  {
   "cell_type": "markdown",
   "metadata": {},
   "source": [
    "## Propagation of the articles"
   ]
  },
  {
   "cell_type": "code",
   "execution_count": 6,
   "metadata": {},
   "outputs": [],
   "source": [
    "# GLOBAL VARIABLES\n",
    "TRIALS = 100\n",
    "T      = 10\n",
    "M      = 69\n",
    "\n",
    "\n",
    "# indices\n",
    "Gr = {'A': -1, 'B': 1}\n",
    "Pr = {'Pa': -1, 'Pb': 1}\n",
    "OPr = {'Pa': 1, 'Pb': -1}\n",
    "OGr = {'A': 'B', 'B': 'A'}\n",
    "OAr = {'Pa': 'Pb', 'Pb': 'Pa'}"
   ]
  },
  {
   "cell_type": "code",
   "execution_count": 7,
   "metadata": {},
   "outputs": [],
   "source": [
    "# UTIL METHODS\n",
    "\n",
    "## plotting\n",
    "def plot(df):\n",
    "    '''Plot the lines in the dataframe.'''\n",
    "    return sns.lineplot(x='t', y='n', data=df)\n",
    "\n",
    "\n",
    "def plotgen(g):\n",
    "    '''Plot the dataframe built from the generator.'''\n",
    "    df = pd.DataFrame(g, columns=['t', 'nA', 'nB'])\n",
    "    return plot(df)\n",
    "\n",
    "\n",
    "## other\n",
    "def filter_list(l, blacklist=[]):\n",
    "    '''Filter out from a list the elements in `blacklist`.'''\n",
    "    return [e for e in l if e not in blacklist]"
   ]
  },
  {
   "cell_type": "markdown",
   "metadata": {},
   "source": [
    "### Propagation with the model"
   ]
  },
  {
   "cell_type": "code",
   "execution_count": 8,
   "metadata": {},
   "outputs": [],
   "source": [
    "SAVED_COLS = ['Setting', 'Exposure', 'Theta_A', 'Seed', 'Article', 't', 'N', 'B', 'A',]"
   ]
  },
  {
   "cell_type": "code",
   "execution_count": 9,
   "metadata": {},
   "outputs": [],
   "source": [
    "# model parameters\n",
    "epsilon=0.1\n",
    "new_pi = {-1: 0.5, 1: 0.5}\n",
    "theta_opt = {1: 0, -1: 1}\n",
    "theta_half = {1: 0.5, -1: 0.5}\n",
    "\n",
    "pi, beta_dist, P, v, c, q = sims.get_params('twitter_uselections')\n",
    "theta_fair = opt_constrained(pi, q, T, epsilon, c, v, beta_dist, exposure_e=0.1)"
   ]
  },
  {
   "cell_type": "code",
   "execution_count": 10,
   "metadata": {},
   "outputs": [],
   "source": [
    "group_cols = ['Aa', 'Ab', 'Ba', 'Bb']\n",
    "exps = ['fair', 'opt', 'half']\n",
    "\n",
    "def run_model_sim(theta, T, pi, M, P, beta_dist, v, c, q, seed=0):\n",
    "    os.environ['PYTHONHASHSEED'] = str(seed)\n",
    "    np.random.seed(seed)\n",
    "    \n",
    "    num_players = np.zeros((T, 4))\n",
    "    for j, a in enumerate(sims.runModel(theta, T, pi, M, P, beta_dist, v, c, q,)[1]):\n",
    "        num_players[:, j] =  np.array(a + [0] * (T - len(a))).reshape(-1)\n",
    "    df = pd.DataFrame(num_players, columns=group_cols)\n",
    "    df.loc[:, 't'] = range(T)\n",
    "    return df.astype(int)"
   ]
  },
  {
   "cell_type": "code",
   "execution_count": 11,
   "metadata": {},
   "outputs": [],
   "source": [
    "# run model simulations\n",
    "model_results = pd.DataFrame(columns=['Exposure', 'Theta_A', 'Size', 'Seed', 't'] + group_cols)\n",
    "for exp, theta in zip(exps, [theta_fair, theta_opt, theta_half]):\n",
    "    params = theta, T, new_pi, 2 * M, P, beta_dist, v, c, q\n",
    "    for trial in range(TRIALS):\n",
    "        num_players = run_model_sim(*params, seed=trial)\n",
    "        num_players.loc[:, ['Exposure', 'Theta_A', 'Size', 'Seed']] = exp, theta[-1], M, trial\n",
    "        model_results = pd.concat((model_results, num_players))"
   ]
  },
  {
   "cell_type": "code",
   "execution_count": 12,
   "metadata": {},
   "outputs": [],
   "source": [
    "ids = [c for c in model_results.columns if c not in group_cols]\n",
    "dfA = pd.melt(model_results, id_vars=ids, value_vars=['Aa', 'Ab']).rename(columns={'value': 'A'})\n",
    "dfB = pd.melt(model_results, id_vars=ids, value_vars=['Ba', 'Bb']).rename(columns={'value': 'B'})\n",
    "dfB['A'] = dfA.A\n",
    "dfB.loc[:, 'Article'] = dfB.variable.str[1]\n",
    "\n",
    "model_results = dfB.drop('variable', axis=1)\n",
    "model_results['N'] = model_results.A + model_results.B\n",
    "model_results['Setting'] = 'model'\n",
    "model_results[SAVED_COLS].to_csv('results/abortion_results_model.csv', index=False)"
   ]
  },
  {
   "cell_type": "markdown",
   "metadata": {},
   "source": [
    "### Propagation with the labeled network"
   ]
  },
  {
   "cell_type": "code",
   "execution_count": 13,
   "metadata": {},
   "outputs": [],
   "source": [
    "def total_num_players(G):\n",
    "    return len(G.User.unique())\n",
    "\n",
    "\n",
    "def nplayers_unique(G, group):\n",
    "    return (G[['User', 'Group1']].drop_duplicates()\n",
    "                                .query(f'Group1 == \"{group}\"')\n",
    "                                .shape[0])\n",
    "\n",
    "\n",
    "def group_num_players(G):\n",
    "    nA = nplayers_unique(G, 'A')\n",
    "    nB = nplayers_unique(G ,'B')\n",
    "    return nA, nB\n",
    "\n",
    "\n",
    "def sample_seeds(df, group, size):\n",
    "    '''Return dataframe with a random sample of users.'''\n",
    "    # sample `size` users as the first set of users to see the article\n",
    "    # we need to drop duplicates as we have a row for each (user, follower) pair\n",
    "    seeds = (df[['User', 'Group1']].drop_duplicates()\n",
    "                                   .query(f'Group1 == \"{group}\"')\n",
    "                                   .sample(size)\n",
    "                                   .User)\n",
    "    # take the rows of the seed users\n",
    "    G = df[df.User.isin(seeds)]\n",
    "    return G\n",
    "\n",
    "\n",
    "def did_share(G, article, group, sample_beta=True):\n",
    "    group_members = G[G.Group1 == group]\n",
    "    if sample_beta:\n",
    "        beta_index = Pr[article], Gr[group]\n",
    "        probs = np.random.beta(*beta_dist[beta_index], size=len(group_members))\n",
    "    else:\n",
    "        probs = group_members[article]\n",
    "    shared = np.random.binomial(1, p=probs).astype(bool)\n",
    "    return shared\n",
    "\n",
    "\n",
    "def propagate_single(G, group, article,\n",
    "                     take_one=True, sample_beta=True, norepetitions=True, steps=T, func=group_num_players):\n",
    "    '''Evaluates a function on each step of the propagation of an article through the network.'''\n",
    "    blacklist = set([])\n",
    "    for t in range(steps):\n",
    "        yield func(G)\n",
    "        if not G.empty:\n",
    "            blacklist.update(set(G.User.tolist()))\n",
    "            newG = G.copy()\n",
    "            if take_one: # take one friend for each user\n",
    "                newG = newG.groupby('User').sample(1)\n",
    "                # What happens if two different users are followed by the same person?\n",
    "                # It's more likely that the artcile will be shared.\n",
    "            # Note: we assume that if someone follows n users sharing the article, there are n toss coins for sharing it.\n",
    "            \n",
    "             # toss a coin for each exposed user to determine whether or not they will share the article\n",
    "            is_member = newG.Group1 == group\n",
    "            newG.loc[is_member, 'Shared'] = did_share(newG, article, group, sample_beta)\n",
    "            newG.loc[~is_member, 'Shared'] = did_share(newG, article, OGr[group], sample_beta)\n",
    "            \n",
    "            # take one friend for each user\n",
    "            newG = newG[newG.Shared].Follower.unique()\n",
    "            if norepetitions:\n",
    "                newG = filter_list(newG, blacklist=blacklist)\n",
    "            G = df[df.User.isin(newG)].copy()\n",
    "\n",
    "\n",
    "def simulate_exposure(theta, df, size, seed, group='A', article='Pa', **kwargs):\n",
    "    '''Simulates article propagation given theta exposure parameter.'''\n",
    "    # make deterministic:\n",
    "    os.environ['PYTHONHASHSEED'] = str(seed)\n",
    "    np.random.seed(seed)\n",
    "    \n",
    "    # exposed a fraction of the users to the opposite article\n",
    "    a_exposed = int(theta * size)\n",
    "    Ga = sample_seeds(df, group, a_exposed).copy()\n",
    "    Ga_users = df.User.isin(Ga.User.unique())\n",
    "    Gb = sample_seeds(df[~Ga_users], group, size - a_exposed).copy()\n",
    "    #print(group, article, theta, a_exposed, size, total_num_players(Ga), total_num_players(Gb))\n",
    "    \n",
    "    # we propagate article a through G1 and article b through G2\n",
    "    genGa = propagate_single(Ga, group, 'Pa', **kwargs)\n",
    "    genGb = propagate_single(Gb, group, 'Pb', **kwargs)\n",
    "    for t, ((na1, nb1), (na2, nb2)) in enumerate(zip(genGa, genGb)):\n",
    "        # aggregate the number of players in A and B\n",
    "        yield group, article[-1:], theta, size, seed, t, na1 + na2, nb1 + nb2"
   ]
  },
  {
   "cell_type": "code",
   "execution_count": 14,
   "metadata": {},
   "outputs": [],
   "source": [
    "def repeat_propagation(theta, df, size, trials, **kwargs):\n",
    "    '''Method to repeat the experiment a number of times given a seed.'''\n",
    "    for trial in range(trials):\n",
    "        for result in simulate_exposure(theta, df, size, seed=trial, **kwargs):\n",
    "            yield result"
   ]
  },
  {
   "cell_type": "code",
   "execution_count": 15,
   "metadata": {},
   "outputs": [],
   "source": [
    "# run experiments\n",
    "COLS = ['Group', 'Article', 'Theta_A', 'Size', 'Seed', 't', 'A', 'B']\n",
    "\n",
    "# fair (constrained)\n",
    "dfa0 = pd.DataFrame(repeat_propagation(theta_fair[-1], df, M, TRIALS, group='A', article='Pa'), columns=COLS)\n",
    "dfb0 = pd.DataFrame(repeat_propagation(theta_fair[1], df, M, TRIALS, group='B', article='Pb'), columns=COLS)\n",
    "df0 = pd.concat((dfa0, dfb0))\n",
    "df0['Exposure'] = 'fair'\n",
    "\n",
    "# half exposure\n",
    "dfahalf = pd.DataFrame(repeat_propagation(theta_half[-1], df, M, TRIALS, group='A', article='Pa'), columns=COLS)\n",
    "dfbhalf = pd.DataFrame(repeat_propagation(theta_half[1], df, M, TRIALS, group='B', article='Pb'), columns=COLS)\n",
    "dfhalf = pd.concat((dfahalf, dfbhalf))\n",
    "dfhalf['Exposure'] = 'half'\n",
    "\n",
    "# optimal (unconstrained)\n",
    "dfaopt = pd.DataFrame(repeat_propagation(theta_opt[-1], df, M, TRIALS, group='A', article='Pa'), columns=COLS)\n",
    "dfbopt = pd.DataFrame(repeat_propagation(theta_opt[1], df, M, TRIALS, group='B', article='Pb'), columns=COLS)\n",
    "dfopt = pd.concat((dfaopt, dfbopt))\n",
    "dfopt['Exposure'] = 'opt'\n",
    "\n",
    "network_results = pd.concat((df0, dfhalf, dfopt))\n",
    "network_results['N'] = network_results.A + network_results.B\n",
    "network_results['Setting'] = 'network'\n",
    "network_results[SAVED_COLS].to_csv('results/abortion_results_network.csv', index=False)"
   ]
  },
  {
   "cell_type": "code",
   "execution_count": 16,
   "metadata": {},
   "outputs": [],
   "source": [
    "(pd.concat((network_results[SAVED_COLS],\n",
    "            model_results[SAVED_COLS]))\n",
    "     .to_csv('results/abortion_results.csv', index=False))"
   ]
  },
  {
   "cell_type": "markdown",
   "metadata": {},
   "source": [
    "### Drop Assumption 1: take only one follower"
   ]
  },
  {
   "cell_type": "code",
   "execution_count": 17,
   "metadata": {},
   "outputs": [],
   "source": [
    "# run experiments\n",
    "COLS = ['Group', 'Article', 'Theta_A', 'Size', 'Seed', 't', 'A', 'B']\n",
    "\n",
    "# fair (constrained)\n",
    "dfa0 = pd.DataFrame(repeat_propagation(theta_fair[-1], df, M, TRIALS, group='A', take_one=False, article='Pa'), columns=COLS)\n",
    "dfb0 = pd.DataFrame(repeat_propagation(theta_fair[1], df, M, TRIALS, group='B', take_one=False, article='Pb'), columns=COLS)\n",
    "df0 = pd.concat((dfa0, dfb0))\n",
    "df0['Exposure'] = 'fair'\n",
    "\n",
    "# half exposure\n",
    "dfahalf = pd.DataFrame(repeat_propagation(theta_half[-1], df, M, TRIALS, group='A', take_one=False, article='Pa'), columns=COLS)\n",
    "dfbhalf = pd.DataFrame(repeat_propagation(theta_half[1], df, M, TRIALS, group='B', take_one=False, article='Pb'), columns=COLS)\n",
    "dfhalf = pd.concat((dfahalf, dfbhalf))\n",
    "dfhalf['Exposure'] = 'half'\n",
    "\n",
    "# optimal (unconstrained)\n",
    "dfaopt = pd.DataFrame(repeat_propagation(theta_opt[-1], df, M, TRIALS, group='A', take_one=False, article='Pa'), columns=COLS)\n",
    "dfbopt = pd.DataFrame(repeat_propagation(theta_opt[1], df, M, TRIALS, group='B', take_one=False, article='Pb'), columns=COLS)\n",
    "dfopt = pd.concat((dfaopt, dfbopt))\n",
    "dfopt['Exposure'] = 'opt'\n",
    "\n",
    "network_results = pd.concat((df0, dfhalf, dfopt))\n",
    "network_results['N'] = network_results.A + network_results.B\n",
    "network_results['Setting'] = 'network'\n",
    "network_results[SAVED_COLS].to_csv('results/abortion_results_network_not_takeone.csv', index=False)"
   ]
  },
  {
   "cell_type": "code",
   "execution_count": 18,
   "metadata": {},
   "outputs": [],
   "source": [
    "(pd.concat((network_results[SAVED_COLS],\n",
    "            model_results[SAVED_COLS]))\n",
    "     .to_csv('results/abortion_results_not_takeone.csv', index=False))"
   ]
  },
  {
   "cell_type": "markdown",
   "metadata": {},
   "source": [
    "### Drop Assumption 2: the same user cannot appear more than once"
   ]
  },
  {
   "cell_type": "code",
   "execution_count": 19,
   "metadata": {},
   "outputs": [],
   "source": [
    "# run experiments\n",
    "COLS = ['Group', 'Article', 'Theta_A', 'Size', 'Seed', 't', 'A', 'B']\n",
    "\n",
    "# fair (constrained)\n",
    "dfa0 = pd.DataFrame(repeat_propagation(theta_fair[-1],df, M, TRIALS, group='A', norepetitions=False, article='Pa'), columns=COLS)\n",
    "dfb0 = pd.DataFrame(repeat_propagation(theta_fair[1],df, M, TRIALS, group='B', norepetitions=False, article='Pb'), columns=COLS)\n",
    "df0 = pd.concat((dfa0, dfb0))\n",
    "df0['Exposure'] = 'fair'\n",
    "\n",
    "# half exposure\n",
    "dfahalf = pd.DataFrame(repeat_propagation(theta_half[-1],df, M, TRIALS, group='A', norepetitions=False, article='Pa'), columns=COLS)\n",
    "dfbhalf = pd.DataFrame(repeat_propagation(theta_half[1],df, M, TRIALS, group='B', norepetitions=False, article='Pb'), columns=COLS)\n",
    "dfhalf = pd.concat((dfahalf, dfbhalf))\n",
    "dfhalf['Exposure'] = 'half'\n",
    "\n",
    "# optimal (unconstrained)\n",
    "dfaopt = pd.DataFrame(repeat_propagation(theta_opt[-1],df, M, TRIALS, group='A', norepetitions=False, article='Pa'), columns=COLS)\n",
    "dfbopt = pd.DataFrame(repeat_propagation(theta_opt[1],df, M, TRIALS, group='B', norepetitions=False, article='Pb'), columns=COLS)\n",
    "dfopt = pd.concat((dfaopt, dfbopt))\n",
    "dfopt['Exposure'] = 'opt'\n",
    "\n",
    "network_results = pd.concat((df0, dfhalf, dfopt))\n",
    "network_results['N'] = network_results.A + network_results.B\n",
    "network_results['Setting'] = 'network'\n",
    "network_results[SAVED_COLS].to_csv('results/abortion_results_network_no_repetitions.csv', index=False)"
   ]
  },
  {
   "cell_type": "code",
   "execution_count": 20,
   "metadata": {},
   "outputs": [],
   "source": [
    "(pd.concat((network_results[SAVED_COLS],\n",
    "            model_results[SAVED_COLS]))\n",
    "     .to_csv('results/abortion_results_no_repetitions.csv', index=False))"
   ]
  },
  {
   "cell_type": "markdown",
   "metadata": {},
   "source": [
    "### Drop Assumption 3: use actual probabilities instead of sampling from the fitted distributions"
   ]
  },
  {
   "cell_type": "code",
   "execution_count": 21,
   "metadata": {},
   "outputs": [],
   "source": [
    "# run experiments\n",
    "COLS = ['Group', 'Article', 'Theta_A', 'Size', 'Seed', 't', 'A', 'B']\n",
    "\n",
    "# fair (constrained)\n",
    "dfa0 = pd.DataFrame(repeat_propagation(theta_fair[-1], df, M, TRIALS, group='A', sample_beta=False, article='Pa'), columns=COLS)\n",
    "dfb0 = pd.DataFrame(repeat_propagation(theta_fair[1], df, M, TRIALS, group='B', sample_beta=False, article='Pb'), columns=COLS)\n",
    "df0 = pd.concat((dfa0, dfb0))\n",
    "df0['Exposure'] = 'fair'\n",
    "\n",
    "# half exposure\n",
    "dfahalf = pd.DataFrame(repeat_propagation(theta_half[-1], df, M, TRIALS, group='A', sample_beta=False, article='Pa'), columns=COLS)\n",
    "dfbhalf = pd.DataFrame(repeat_propagation(theta_half[1], df, M, TRIALS, group='B', sample_beta=False, article='Pb'), columns=COLS)\n",
    "dfhalf = pd.concat((dfahalf, dfbhalf))\n",
    "dfhalf['Exposure'] = 'half'\n",
    "\n",
    "# optimal (unconstrained)\n",
    "dfaopt = pd.DataFrame(repeat_propagation(theta_opt[-1], df, M, TRIALS, group='A', sample_beta=False, article='Pa'), columns=COLS)\n",
    "dfbopt = pd.DataFrame(repeat_propagation(theta_opt[1], df, M, TRIALS, group='B', sample_beta=False, article='Pb'), columns=COLS)\n",
    "dfopt = pd.concat((dfaopt, dfbopt))\n",
    "dfopt['Exposure'] = 'opt'\n",
    "\n",
    "network_results = pd.concat((df0, dfhalf, dfopt))\n",
    "network_results['N'] = network_results.A + network_results.B\n",
    "network_results['Setting'] = 'network'\n",
    "network_results[SAVED_COLS].to_csv('results/abortion_results_network_probs.csv', index=False)"
   ]
  },
  {
   "cell_type": "code",
   "execution_count": 22,
   "metadata": {},
   "outputs": [],
   "source": [
    "(pd.concat((network_results[SAVED_COLS],\n",
    "            model_results[SAVED_COLS]))\n",
    "     .to_csv('results/abortion_results_probs.csv', index=False))"
   ]
  }
 ],
 "metadata": {
  "kernelspec": {
   "display_name": "Python 3",
   "language": "python",
   "name": "python3"
  },
  "language_info": {
   "codemirror_mode": {
    "name": "ipython",
    "version": 3
   },
   "file_extension": ".py",
   "mimetype": "text/x-python",
   "name": "python",
   "nbconvert_exporter": "python",
   "pygments_lexer": "ipython3",
   "version": "3.9.1"
  }
 },
 "nbformat": 4,
 "nbformat_minor": 4
}

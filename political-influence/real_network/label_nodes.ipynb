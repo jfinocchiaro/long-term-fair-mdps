{
 "cells": [
  {
   "cell_type": "code",
   "execution_count": 1,
   "metadata": {},
   "outputs": [],
   "source": [
    "import os\n",
    "import os.path as path\n",
    "\n",
    "import random\n",
    "import numpy as np\n",
    "import pandas as pd\n",
    "\n",
    "import seaborn as sns\n",
    "import matplotlib.cm as cm\n",
    "import matplotlib.pyplot as plt\n",
    "\n",
    "import networkx as nx\n",
    "from cdlib import algorithms"
   ]
  },
  {
   "cell_type": "code",
   "execution_count": 2,
   "metadata": {},
   "outputs": [],
   "source": [
    "# fix seed (since the algorithms we used to label nodes are randomized)\n",
    "seed = 42\n",
    "os.environ['PYTHONHASHSEED'] = str(seed)\n",
    "np.random.seed(seed)"
   ]
  },
  {
   "cell_type": "markdown",
   "metadata": {},
   "source": [
    "## Load datasets"
   ]
  },
  {
   "cell_type": "code",
   "execution_count": 3,
   "metadata": {},
   "outputs": [],
   "source": [
    "# dataset\n",
    "DATASET = 'uselections'  # other datasets: \"brexit\", \"abortion\"\n",
    "DATASETS_PATH = path.join(path.pardir, \"datasets\", \"balanced_exposure\")\n",
    "DATASET_PATH = path.join(DATASETS_PATH, DATASET)"
   ]
  },
  {
   "cell_type": "code",
   "execution_count": 4,
   "metadata": {},
   "outputs": [],
   "source": [
    "# load probabilities\n",
    "PROBS_PATH = path.join(DATASET_PATH, f\"{DATASET}_network_heterogeneous.txt\")\n",
    "df = pd.read_csv(PROBS_PATH, sep='\\t', names=['User', 'Follower', 'Pa', 'Pb'])"
   ]
  },
  {
   "cell_type": "code",
   "execution_count": 5,
   "metadata": {},
   "outputs": [],
   "source": [
    "# load seeds\n",
    "A = [l.strip() for l in open(path.join(DATASET_PATH, \"side1_seeds.txt\")).readlines()]  # A = pro Hillary\n",
    "B = [l.strip() for l in open(path.join(DATASET_PATH, \"side2_seeds.txt\")).readlines()]  # B = pro Trump"
   ]
  },
  {
   "cell_type": "code",
   "execution_count": 6,
   "metadata": {},
   "outputs": [],
   "source": [
    "# remove outlier seed\n",
    "A.remove('jjack9400')\n",
    "df = df[(df.User != 'jjack9400') | (df.Follower != 'jjack9400')]"
   ]
  },
  {
   "cell_type": "code",
   "execution_count": 7,
   "metadata": {},
   "outputs": [],
   "source": [
    "# label group attribute for user and follower\n",
    "A1, B1 = df.User.isin(A), df.User.isin(B)\n",
    "df['Group1'] = np.where(~A1 & ~B1, 'NA', np.where(A1, 'A', 'B')) \n",
    "\n",
    "A2, B2 = df.Follower.isin(A), df.Follower.isin(B)\n",
    "df['Group2'] = np.where(~A2 & ~B2, 'NA', np.where(A2, 'A', 'B')) "
   ]
  },
  {
   "cell_type": "code",
   "execution_count": 8,
   "metadata": {},
   "outputs": [
    {
     "name": "stdout",
     "output_type": "stream",
     "text": [
      "A: True 84 , B: True 99\n"
     ]
    }
   ],
   "source": [
    "print('A:', len(set(A)) == len(A), len(A), ', B:', len(set(B)) == len(B), len(B))"
   ]
  },
  {
   "cell_type": "code",
   "execution_count": 9,
   "metadata": {},
   "outputs": [
    {
     "data": {
      "text/plain": [
       "(84, 99)"
      ]
     },
     "execution_count": 9,
     "metadata": {},
     "output_type": "execute_result"
    }
   ],
   "source": [
    "# find biggest connected component\n",
    "G = nx.from_pandas_edgelist(df, 'User', 'Follower')\n",
    "biggest_component = next(nx.algorithms.connected_components(G))\n",
    "\n",
    "# discard the rest\n",
    "G = G.subgraph(biggest_component)\n",
    "df = df[df.User.isin(biggest_component) | df.Follower.isin(biggest_component)]\n",
    "A = [a for a in A if a in biggest_component]\n",
    "B = [b for b in B if b in biggest_component]\n",
    "len(A), len(B)"
   ]
  },
  {
   "cell_type": "code",
   "execution_count": null,
   "metadata": {},
   "outputs": [],
   "source": [
    "# expand seeds to larger communities, hoping to find edges between A and B...\n",
    "commA = algorithms.lemon(G, A, min_com_size=100, max_com_size=700)\n",
    "\n",
    "# label group of new nodes\n",
    "newdf = df.copy()\n",
    "newdf.loc[newdf.User.isin(commA.communities[0]), 'Group1'] = 'A'\n",
    "newdf.loc[newdf.Follower.isin(commA.communities[0]), 'Group2'] = 'A'\n",
    "\n",
    "print(len(commA.communities[0]), len(set(commA.communities[0]).difference(set(A))))"
   ]
  },
  {
   "cell_type": "code",
   "execution_count": null,
   "metadata": {},
   "outputs": [],
   "source": [
    "commB = algorithms.lemon(G, B, min_com_size=50, max_com_size=200)\n",
    "\n",
    "newdf = df.copy()\n",
    "newdf.loc[newdf.User.isin(commB.communities[0]), 'Group1'] = 'B'\n",
    "newdf.loc[newdf.Follower.isin(commB.communities[0]), 'Group2'] = 'B'\n",
    "\n",
    "print(len(commB.communities[0]), len(set(commB.communities[0]).difference(set(B))))"
   ]
  },
  {
   "cell_type": "code",
   "execution_count": 14,
   "metadata": {},
   "outputs": [],
   "source": [
    "# intersections of thw two communities (should be empty)\n",
    "assert len(set(commB.communities[0]).intersection(set(commA.communities[0]))) == 0"
   ]
  },
  {
   "cell_type": "code",
   "execution_count": 15,
   "metadata": {},
   "outputs": [
    {
     "data": {
      "text/html": [
       "<div>\n",
       "<style scoped>\n",
       "    .dataframe tbody tr th:only-of-type {\n",
       "        vertical-align: middle;\n",
       "    }\n",
       "\n",
       "    .dataframe tbody tr th {\n",
       "        vertical-align: top;\n",
       "    }\n",
       "\n",
       "    .dataframe thead th {\n",
       "        text-align: right;\n",
       "    }\n",
       "</style>\n",
       "<table border=\"1\" class=\"dataframe\">\n",
       "  <thead>\n",
       "    <tr style=\"text-align: right;\">\n",
       "      <th></th>\n",
       "      <th>User</th>\n",
       "      <th>Follower</th>\n",
       "      <th>Pa</th>\n",
       "      <th>Pb</th>\n",
       "      <th>Group1</th>\n",
       "      <th>Group2</th>\n",
       "    </tr>\n",
       "  </thead>\n",
       "  <tbody>\n",
       "    <tr>\n",
       "      <th>2058</th>\n",
       "      <td>1492cstob</td>\n",
       "      <td>tommyshida</td>\n",
       "      <td>0.000968</td>\n",
       "      <td>0.018808</td>\n",
       "      <td>B</td>\n",
       "      <td>B</td>\n",
       "    </tr>\n",
       "    <tr>\n",
       "      <th>2059</th>\n",
       "      <td>1492cstob</td>\n",
       "      <td>trumpwallnow</td>\n",
       "      <td>0.001219</td>\n",
       "      <td>0.028179</td>\n",
       "      <td>B</td>\n",
       "      <td>B</td>\n",
       "    </tr>\n",
       "    <tr>\n",
       "      <th>2060</th>\n",
       "      <td>1492cstob</td>\n",
       "      <td>the_trump_train</td>\n",
       "      <td>0.000071</td>\n",
       "      <td>0.036391</td>\n",
       "      <td>B</td>\n",
       "      <td>B</td>\n",
       "    </tr>\n",
       "    <tr>\n",
       "      <th>2918</th>\n",
       "      <td>1_hoof_hearted</td>\n",
       "      <td>eldoncloudtrump</td>\n",
       "      <td>0.006747</td>\n",
       "      <td>0.086667</td>\n",
       "      <td>B</td>\n",
       "      <td>B</td>\n",
       "    </tr>\n",
       "    <tr>\n",
       "      <th>2924</th>\n",
       "      <td>1_hoof_hearted</td>\n",
       "      <td>thefoundingson</td>\n",
       "      <td>0.000937</td>\n",
       "      <td>0.008457</td>\n",
       "      <td>B</td>\n",
       "      <td>B</td>\n",
       "    </tr>\n",
       "    <tr>\n",
       "      <th>...</th>\n",
       "      <td>...</td>\n",
       "      <td>...</td>\n",
       "      <td>...</td>\n",
       "      <td>...</td>\n",
       "      <td>...</td>\n",
       "      <td>...</td>\n",
       "    </tr>\n",
       "    <tr>\n",
       "      <th>844807</th>\n",
       "      <td>healthandcents</td>\n",
       "      <td>gdltothepdx</td>\n",
       "      <td>0.001108</td>\n",
       "      <td>0.003908</td>\n",
       "      <td>B</td>\n",
       "      <td>B</td>\n",
       "    </tr>\n",
       "    <tr>\n",
       "      <th>844828</th>\n",
       "      <td>healthandcents</td>\n",
       "      <td>rob_mcwaters</td>\n",
       "      <td>0.000865</td>\n",
       "      <td>0.020705</td>\n",
       "      <td>B</td>\n",
       "      <td>B</td>\n",
       "    </tr>\n",
       "    <tr>\n",
       "      <th>844838</th>\n",
       "      <td>healthandcents</td>\n",
       "      <td>ejhirschberger</td>\n",
       "      <td>0.000226</td>\n",
       "      <td>0.005506</td>\n",
       "      <td>B</td>\n",
       "      <td>B</td>\n",
       "    </tr>\n",
       "    <tr>\n",
       "      <th>844866</th>\n",
       "      <td>healthandcents</td>\n",
       "      <td>drmartyfox</td>\n",
       "      <td>0.001571</td>\n",
       "      <td>0.011651</td>\n",
       "      <td>B</td>\n",
       "      <td>B</td>\n",
       "    </tr>\n",
       "    <tr>\n",
       "      <th>844868</th>\n",
       "      <td>healthandcents</td>\n",
       "      <td>on2_off4</td>\n",
       "      <td>0.000351</td>\n",
       "      <td>0.000511</td>\n",
       "      <td>B</td>\n",
       "      <td>B</td>\n",
       "    </tr>\n",
       "  </tbody>\n",
       "</table>\n",
       "<p>6753 rows × 6 columns</p>\n",
       "</div>"
      ],
      "text/plain": [
       "                  User         Follower        Pa        Pb Group1 Group2\n",
       "2058         1492cstob       tommyshida  0.000968  0.018808      B      B\n",
       "2059         1492cstob     trumpwallnow  0.001219  0.028179      B      B\n",
       "2060         1492cstob  the_trump_train  0.000071  0.036391      B      B\n",
       "2918    1_hoof_hearted  eldoncloudtrump  0.006747  0.086667      B      B\n",
       "2924    1_hoof_hearted   thefoundingson  0.000937  0.008457      B      B\n",
       "...                ...              ...       ...       ...    ...    ...\n",
       "844807  healthandcents      gdltothepdx  0.001108  0.003908      B      B\n",
       "844828  healthandcents     rob_mcwaters  0.000865  0.020705      B      B\n",
       "844838  healthandcents   ejhirschberger  0.000226  0.005506      B      B\n",
       "844866  healthandcents       drmartyfox  0.001571  0.011651      B      B\n",
       "844868  healthandcents         on2_off4  0.000351  0.000511      B      B\n",
       "\n",
       "[6753 rows x 6 columns]"
      ]
     },
     "execution_count": 15,
     "metadata": {},
     "output_type": "execute_result"
    }
   ],
   "source": [
    "# are there any edges between A and B now?\n",
    "newdf[(newdf.Group1 != 'NA') & (newdf.Group2 != 'NA')]"
   ]
  },
  {
   "cell_type": "code",
   "execution_count": 16,
   "metadata": {},
   "outputs": [],
   "source": [
    "labeled = newdf[(newdf.Group1 != 'NA') | (newdf.Group2 != 'NA')]\n",
    "newA = list(set(labeled[labeled.Group1 == 'A'].User.tolist() + labeled[labeled.Group2 == 'A'].Follower.tolist()))\n",
    "newB = list(set(labeled[labeled.Group1 == 'B'].User.tolist() + labeled[labeled.Group2 == 'B'].Follower.tolist()))\n",
    "newNA = list(set(labeled[labeled.Group1 == 'NA'].User.tolist() + labeled[labeled.Group2 == 'NA'].Follower.tolist()))\n",
    "G2 = nx.from_pandas_edgelist(labeled, 'User', 'Follower')\n",
    "biggest_component2 = next(nx.algorithms.connected_components(G2))\n",
    "\n",
    "# save biggest component of new graph\n",
    "G2 = G2.subgraph(biggest_component)\n",
    "newdf = newdf[newdf.User.isin(biggest_component) & newdf.Follower.isin(biggest_component)]"
   ]
  },
  {
   "cell_type": "code",
   "execution_count": 32,
   "metadata": {},
   "outputs": [],
   "source": [
    "newdf = newdf[(newdf.Group1 != 'NA') & (newdf.Group2 != 'NA')]"
   ]
  },
  {
   "cell_type": "code",
   "execution_count": 33,
   "metadata": {},
   "outputs": [],
   "source": [
    "newdf.to_csv('new_graph.csv', index=False)"
   ]
  }
 ],
 "metadata": {
  "kernelspec": {
   "display_name": "Python 3",
   "language": "python",
   "name": "python3"
  },
  "language_info": {
   "codemirror_mode": {
    "name": "ipython",
    "version": 3
   },
   "file_extension": ".py",
   "mimetype": "text/x-python",
   "name": "python",
   "nbconvert_exporter": "python",
   "pygments_lexer": "ipython3",
   "version": "3.9.1"
  }
 },
 "nbformat": 4,
 "nbformat_minor": 4
}

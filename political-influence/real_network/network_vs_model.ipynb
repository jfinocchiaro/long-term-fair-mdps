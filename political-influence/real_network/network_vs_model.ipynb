{
 "cells": [
  {
   "cell_type": "code",
   "execution_count": 1,
   "metadata": {},
   "outputs": [],
   "source": [
    "import sys\n",
    "import os\n",
    "import os.path as path\n",
    "\n",
    "import random\n",
    "from scipy.stats import beta\n",
    "import numpy as np\n",
    "import pandas as pd\n",
    "\n",
    "import seaborn as sns\n",
    "import matplotlib.cm as cm\n",
    "import matplotlib.pyplot as plt\n",
    "\n",
    "sys.path.insert(1, path.join(path.abspath(path.pardir)))\n",
    "import sims"
   ]
  },
  {
   "cell_type": "markdown",
   "metadata": {},
   "source": [
    "## Load datasets"
   ]
  },
  {
   "cell_type": "code",
   "execution_count": 2,
   "metadata": {},
   "outputs": [],
   "source": [
    "# load probabilities\n",
    "df = pd.read_csv(\"new_graph.csv\")"
   ]
  },
  {
   "cell_type": "code",
   "execution_count": 15,
   "metadata": {},
   "outputs": [
    {
     "data": {
      "text/html": [
       "<div>\n",
       "<style scoped>\n",
       "    .dataframe tbody tr th:only-of-type {\n",
       "        vertical-align: middle;\n",
       "    }\n",
       "\n",
       "    .dataframe tbody tr th {\n",
       "        vertical-align: top;\n",
       "    }\n",
       "\n",
       "    .dataframe thead th {\n",
       "        text-align: right;\n",
       "    }\n",
       "</style>\n",
       "<table border=\"1\" class=\"dataframe\">\n",
       "  <thead>\n",
       "    <tr style=\"text-align: right;\">\n",
       "      <th></th>\n",
       "      <th>User</th>\n",
       "    </tr>\n",
       "    <tr>\n",
       "      <th>Group1</th>\n",
       "      <th></th>\n",
       "    </tr>\n",
       "  </thead>\n",
       "  <tbody>\n",
       "    <tr>\n",
       "      <th>A</th>\n",
       "      <td>69</td>\n",
       "    </tr>\n",
       "    <tr>\n",
       "      <th>B</th>\n",
       "      <td>230</td>\n",
       "    </tr>\n",
       "  </tbody>\n",
       "</table>\n",
       "</div>"
      ],
      "text/plain": [
       "        User\n",
       "Group1      \n",
       "A         69\n",
       "B        230"
      ]
     },
     "execution_count": 15,
     "metadata": {},
     "output_type": "execute_result"
    }
   ],
   "source": [
    "df[['User', 'Group1']].drop_duplicates().groupby('Group1').count()"
   ]
  },
  {
   "cell_type": "code",
   "execution_count": 4,
   "metadata": {},
   "outputs": [
    {
     "data": {
      "text/html": [
       "<div>\n",
       "<style scoped>\n",
       "    .dataframe tbody tr th:only-of-type {\n",
       "        vertical-align: middle;\n",
       "    }\n",
       "\n",
       "    .dataframe tbody tr th {\n",
       "        vertical-align: top;\n",
       "    }\n",
       "\n",
       "    .dataframe thead th {\n",
       "        text-align: right;\n",
       "    }\n",
       "</style>\n",
       "<table border=\"1\" class=\"dataframe\">\n",
       "  <thead>\n",
       "    <tr style=\"text-align: right;\">\n",
       "      <th></th>\n",
       "      <th>Id</th>\n",
       "      <th>Label</th>\n",
       "    </tr>\n",
       "    <tr>\n",
       "      <th>Group</th>\n",
       "      <th></th>\n",
       "      <th></th>\n",
       "    </tr>\n",
       "  </thead>\n",
       "  <tbody>\n",
       "    <tr>\n",
       "      <th>A</th>\n",
       "      <td>71</td>\n",
       "      <td>71</td>\n",
       "    </tr>\n",
       "    <tr>\n",
       "      <th>B</th>\n",
       "      <td>244</td>\n",
       "      <td>244</td>\n",
       "    </tr>\n",
       "  </tbody>\n",
       "</table>\n",
       "</div>"
      ],
      "text/plain": [
       "        Id  Label\n",
       "Group            \n",
       "A       71     71\n",
       "B      244    244"
      ]
     },
     "execution_count": 4,
     "metadata": {},
     "output_type": "execute_result"
    }
   ],
   "source": [
    "nodes.groupby('Group').count()"
   ]
  },
  {
   "cell_type": "markdown",
   "metadata": {},
   "source": [
    "## Propagation of the articles"
   ]
  },
  {
   "cell_type": "code",
   "execution_count": 94,
   "metadata": {},
   "outputs": [],
   "source": [
    "# GLOBAL VARIABLES\n",
    "TRIALS = 20\n",
    "T      = 10\n",
    "M      = 69"
   ]
  },
  {
   "cell_type": "code",
   "execution_count": 105,
   "metadata": {},
   "outputs": [],
   "source": [
    "# UTIL METHODS\n",
    "\n",
    "## plotting\n",
    "def plot(df):\n",
    "    '''Plot the lines in the dataframe.'''\n",
    "    return sns.lineplot(x='t', y='n', data=df)\n",
    "\n",
    "\n",
    "def plotgen(g):\n",
    "    '''Plot the dataframe built from the generator.'''\n",
    "    df = pd.DataFrame(g, columns=['t', 'n'])\n",
    "    return plot(df)\n",
    "\n",
    "\n",
    "## experiments\n",
    "def remove_determinism(seed):\n",
    "    '''Fix the seed of the prngs.'''\n",
    "    os.environ['PYTHONHASHSEED'] = str(seed)\n",
    "    np.random.seed(seed)\n",
    "\n",
    "\n",
    "## other\n",
    "def filter_list(l, blacklist=[]):\n",
    "    '''Filter out from a list the elements in `blacklist`.'''\n",
    "    return [e for e in l if e not in blacklist]"
   ]
  },
  {
   "cell_type": "markdown",
   "metadata": {},
   "source": [
    "### Propagation with the model"
   ]
  },
  {
   "cell_type": "code",
   "execution_count": 96,
   "metadata": {},
   "outputs": [],
   "source": [
    "# model parameters\n",
    "theta_opt = {1: 4.316992360088821e-11,\n",
    "             -1: 0.9999999999745947}\n",
    "pi, beta_dist, P, v, c, q = sims.get_params('twitter_uselections')\n",
    "params = theta_opt, T, pi, M, P, beta_dist, v, c, q"
   ]
  },
  {
   "cell_type": "code",
   "execution_count": 97,
   "metadata": {},
   "outputs": [],
   "source": [
    "# run unconstrained simulations\n",
    "players_list_opt = [a + [0] * (T - len(a))\n",
    "                        for a in [sims.runModel(*params)[0]\n",
    "                                for i in range(TRIALS)]]"
   ]
  },
  {
   "cell_type": "code",
   "execution_count": 98,
   "metadata": {},
   "outputs": [
    {
     "data": {
      "image/png": "[encoded data removed]",
      "text/plain": [
       "<Figure size 432x288 with 1 Axes>"
      ]
     },
     "metadata": {
      "needs_background": "light"
     },
     "output_type": "display_data"
    }
   ],
   "source": [
    "# plot results\n",
    "plot(pd.DataFrame({'t': [i for _ in range(TRIALS) for i in range(T)],\n",
    "                   'n': np.array(players_list_opt).reshape(-1)}))\n",
    "plt.show()"
   ]
  },
  {
   "cell_type": "markdown",
   "metadata": {},
   "source": [
    "### Propagation with the labeled network"
   ]
  },
  {
   "cell_type": "code",
   "execution_count": 99,
   "metadata": {},
   "outputs": [],
   "source": [
    "def num_players(G):\n",
    "    return len(G.User.unique())\n",
    "\n",
    "\n",
    "def sample_seeds(df, group, size):\n",
    "    '''Return dataframe with a random sample of users.'''\n",
    "    # sample `size` users as the first set of users to see the article\n",
    "    # we need to drop duplicates as we have a row for each (user, follower) pair\n",
    "    seeds = (df[['User', 'Group1']].drop_duplicates()\n",
    "                                   .query(f'Group1 == \"{group}\"')\n",
    "                                   .sample(size)\n",
    "                                   .User)\n",
    "    # take the rows of the seed users\n",
    "    G = df[df.User.isin(seeds)]\n",
    "    return G\n",
    "\n",
    "\n",
    "def propagate(df, group='A', article='Pa', steps=T, size=M, seed=0, func=num_players):\n",
    "    '''Evaluates a function on each step of the propagation of an article through the network.'''\n",
    "    remove_determinism(seed)\n",
    "    G = sample_seeds(df, group, size)\n",
    "    for i in range(steps):\n",
    "        yield i, func(G)\n",
    "        \n",
    "        # toss a coin for each exposed user to determine whether or not they will share the article\n",
    "        shared = np.random.binomial(1, p=G[article])\n",
    "        \n",
    "        # get the followers that are not part of the preivous generation\n",
    "        newG = G[shared.astype(bool)].Follower.unique()\n",
    "        newG = filter_list(newG, blacklist=G.User.tolist())\n",
    "        G = df[df.User.isin(newG)]"
   ]
  },
  {
   "cell_type": "code",
   "execution_count": 100,
   "metadata": {},
   "outputs": [],
   "source": [
    "def repeat_propagation(df, trials, **kwargs):\n",
    "    for trial in range(trials):\n",
    "        for result in propagate(df, seed=trial, **kwargs):\n",
    "            yield result"
   ]
  },
  {
   "cell_type": "code",
   "execution_count": 117,
   "metadata": {},
   "outputs": [
    {
     "data": {
      "image/png": "[encoded data removed]",
      "text/plain": [
       "<Figure size 720x288 with 2 Axes>"
      ]
     },
     "metadata": {
      "needs_background": "light"
     },
     "output_type": "display_data"
    }
   ],
   "source": [
    "plt.figure(figsize=(10, 4))\n",
    "\n",
    "plt.subplot(1, 2, 1)\n",
    "plotgen(repeat_propagation(df, TRIALS, group='B', article='Pa'))\n",
    "plotgen(repeat_propagation(df, TRIALS, group='B', article='Pb'))\n",
    "plotgen(repeat_propagation(df, TRIALS, group='A', article='Pa'))\n",
    "g = plotgen(repeat_propagation(df, TRIALS, group='A', article='Pb'))\n",
    "\n",
    "#g.set_yscale(\"log\")\n",
    "#g.set_xscale(\"log\")\n",
    "g.legend(['Ba', 'Bb', 'Aa', 'Ab'])\n",
    "g.set(ylabel='num_players')\n",
    "g.set_title('Real network')\n",
    "#plt.savefig('uselections.png', format='png', dpi=1200)\n",
    "\n",
    "# plot model results\n",
    "plt.subplot(1, 2, 2)\n",
    "g = plot(pd.DataFrame({'t': [i for _ in range(TRIALS) for i in range(T)],\n",
    "                       'n': np.array(players_list_opt).reshape(-1)}))\n",
    "g.set(ylabel='num_players')\n",
    "g.set_title('Model')\n",
    "plt.tight_layout()\n",
    "plt.show()"
   ]
  },
  {
   "cell_type": "code",
   "execution_count": null,
   "metadata": {},
   "outputs": [],
   "source": []
  }
 ],
 "metadata": {
  "kernelspec": {
   "display_name": "Python 3",
   "language": "python",
   "name": "python3"
  },
  "language_info": {
   "codemirror_mode": {
    "name": "ipython",
    "version": 3
   },
   "file_extension": ".py",
   "mimetype": "text/x-python",
   "name": "python",
   "nbconvert_exporter": "python",
   "pygments_lexer": "ipython3",
   "version": "3.9.1"
  }
 },
 "nbformat": 4,
 "nbformat_minor": 4
}

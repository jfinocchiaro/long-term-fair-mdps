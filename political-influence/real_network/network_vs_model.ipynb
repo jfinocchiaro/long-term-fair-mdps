{
 "cells": [
  {
   "cell_type": "code",
   "execution_count": 1,
   "metadata": {},
   "outputs": [],
   "source": [
    "import sys\n",
    "import os\n",
    "import os.path as path\n",
    "\n",
    "import random\n",
    "from scipy.stats import beta\n",
    "import numpy as np\n",
    "import pandas as pd\n",
    "\n",
    "import seaborn as sns\n",
    "import matplotlib.cm as cm\n",
    "import matplotlib.pyplot as plt\n",
    "\n",
    "sys.path.insert(1, path.join(path.abspath(path.pardir)))\n",
    "import sims"
   ]
  },
  {
   "cell_type": "code",
   "execution_count": 2,
   "metadata": {},
   "outputs": [],
   "source": [
    "# remove determinism\n",
    "seed = 42\n",
    "os.environ['PYTHONHASHSEED'] = str(seed)\n",
    "np.random.seed(seed)"
   ]
  },
  {
   "cell_type": "markdown",
   "metadata": {},
   "source": [
    "## Load datasets"
   ]
  },
  {
   "cell_type": "code",
   "execution_count": 3,
   "metadata": {},
   "outputs": [],
   "source": [
    "# load probabilities\n",
    "df = pd.read_csv(\"new_graph.csv\")"
   ]
  },
  {
   "cell_type": "code",
   "execution_count": 4,
   "metadata": {},
   "outputs": [
    {
     "data": {
      "text/html": [
       "<div>\n",
       "<style scoped>\n",
       "    .dataframe tbody tr th:only-of-type {\n",
       "        vertical-align: middle;\n",
       "    }\n",
       "\n",
       "    .dataframe tbody tr th {\n",
       "        vertical-align: top;\n",
       "    }\n",
       "\n",
       "    .dataframe thead th {\n",
       "        text-align: right;\n",
       "    }\n",
       "</style>\n",
       "<table border=\"1\" class=\"dataframe\">\n",
       "  <thead>\n",
       "    <tr style=\"text-align: right;\">\n",
       "      <th></th>\n",
       "      <th>User</th>\n",
       "    </tr>\n",
       "    <tr>\n",
       "      <th>Group1</th>\n",
       "      <th></th>\n",
       "    </tr>\n",
       "  </thead>\n",
       "  <tbody>\n",
       "    <tr>\n",
       "      <th>A</th>\n",
       "      <td>356</td>\n",
       "    </tr>\n",
       "    <tr>\n",
       "      <th>B</th>\n",
       "      <td>375</td>\n",
       "    </tr>\n",
       "  </tbody>\n",
       "</table>\n",
       "</div>"
      ],
      "text/plain": [
       "        User\n",
       "Group1      \n",
       "A        356\n",
       "B        375"
      ]
     },
     "execution_count": 4,
     "metadata": {},
     "output_type": "execute_result"
    }
   ],
   "source": [
    "users = df[['User', 'Group1']].drop_duplicates()\n",
    "users.groupby('Group1').count()"
   ]
  },
  {
   "cell_type": "markdown",
   "metadata": {},
   "source": [
    "## Parameters in the real network"
   ]
  },
  {
   "cell_type": "code",
   "execution_count": 5,
   "metadata": {},
   "outputs": [
    {
     "data": {
      "text/html": [
       "<div>\n",
       "<style scoped>\n",
       "    .dataframe tbody tr th:only-of-type {\n",
       "        vertical-align: middle;\n",
       "    }\n",
       "\n",
       "    .dataframe tbody tr th {\n",
       "        vertical-align: top;\n",
       "    }\n",
       "\n",
       "    .dataframe thead th {\n",
       "        text-align: right;\n",
       "    }\n",
       "</style>\n",
       "<table border=\"1\" class=\"dataframe\">\n",
       "  <thead>\n",
       "    <tr style=\"text-align: right;\">\n",
       "      <th></th>\n",
       "      <th>User</th>\n",
       "    </tr>\n",
       "    <tr>\n",
       "      <th>Group1</th>\n",
       "      <th></th>\n",
       "    </tr>\n",
       "  </thead>\n",
       "  <tbody>\n",
       "    <tr>\n",
       "      <th>A</th>\n",
       "      <td>0.487004</td>\n",
       "    </tr>\n",
       "    <tr>\n",
       "      <th>B</th>\n",
       "      <td>0.512996</td>\n",
       "    </tr>\n",
       "  </tbody>\n",
       "</table>\n",
       "</div>"
      ],
      "text/plain": [
       "            User\n",
       "Group1          \n",
       "A       0.487004\n",
       "B       0.512996"
      ]
     },
     "execution_count": 5,
     "metadata": {},
     "output_type": "execute_result"
    }
   ],
   "source": [
    "users.groupby('Group1').count() / users.User.count()"
   ]
  },
  {
   "cell_type": "markdown",
   "metadata": {},
   "source": [
    "## Propagation of the articles"
   ]
  },
  {
   "cell_type": "code",
   "execution_count": 6,
   "metadata": {},
   "outputs": [],
   "source": [
    "# GLOBAL VARIABLES\n",
    "TRIALS = 20\n",
    "T      = 10\n",
    "M      = 69"
   ]
  },
  {
   "cell_type": "code",
   "execution_count": 7,
   "metadata": {},
   "outputs": [],
   "source": [
    "# UTIL METHODS\n",
    "\n",
    "## plotting\n",
    "def plot(df):\n",
    "    '''Plot the lines in the dataframe.'''\n",
    "    return sns.lineplot(x='t', y='n', data=df)\n",
    "\n",
    "\n",
    "def plotgen(g):\n",
    "    '''Plot the dataframe built from the generator.'''\n",
    "    df = pd.DataFrame(g, columns=['t', 'nA', 'nB'])\n",
    "    return plot(df)\n",
    "\n",
    "\n",
    "## other\n",
    "def filter_list(l, blacklist=[]):\n",
    "    '''Filter out from a list the elements in `blacklist`.'''\n",
    "    return [e for e in l if e not in blacklist]"
   ]
  },
  {
   "cell_type": "markdown",
   "metadata": {},
   "source": [
    "### Propagation with the model"
   ]
  },
  {
   "cell_type": "code",
   "execution_count": 8,
   "metadata": {},
   "outputs": [],
   "source": [
    "# model parameters\n",
    "theta_opt = {1: 4.316992360088821e-11,\n",
    "             -1: 0.9999999999745947}\n",
    "pi, beta_dist, P, v, c, q = sims.get_params('twitter_uselections')\n",
    "new_pi = {-1: 0.5, 1: 0.5}\n",
    "params = theta_opt, T, new_pi, 2*M, P, beta_dist, v, c, q"
   ]
  },
  {
   "cell_type": "code",
   "execution_count": 21,
   "metadata": {},
   "outputs": [],
   "source": [
    "# run unconstrained simulations\n",
    "num_players_Aa, num_players_Ab, num_players_Ba, num_players_Bb = [], [], [], []\n",
    "\n",
    "for a in [sims.runModel(*params)[1]\n",
    "              for i in range(TRIALS)]:\n",
    "    num_players_Aa.append(a[0] + [0] * (T - len(a[0])))\n",
    "    num_players_Ab.append(a[1] + [0] * (T - len(a[1])))\n",
    "    num_players_Ba.append(a[2] + [0] * (T - len(a[2])))\n",
    "    num_players_Bb.append(a[3] + [0] * (T - len(a[3])))\n",
    "    \n",
    "Aa = pd.DataFrame({'t': [i for _ in range(TRIALS) for i in range(T)], 'n': np.array(num_players_Aa).reshape(-1)})\n",
    "Ab = pd.DataFrame({'t': [i for _ in range(TRIALS) for i in range(T)], 'n': np.array(num_players_Ab).reshape(-1)})\n",
    "Ba = pd.DataFrame({'t': [i for _ in range(TRIALS) for i in range(T)], 'n': np.array(num_players_Ba).reshape(-1)})\n",
    "Bb = pd.DataFrame({'t': [i for _ in range(TRIALS) for i in range(T)], 'n': np.array(num_players_Bb).reshape(-1)})"
   ]
  },
  {
   "cell_type": "code",
   "execution_count": 22,
   "metadata": {},
   "outputs": [
    {
     "data": {
      "image/png": "[encoded data removed]",
      "text/plain": [
       "<Figure size 432x288 with 1 Axes>"
      ]
     },
     "metadata": {
      "needs_background": "light"
     },
     "output_type": "display_data"
    }
   ],
   "source": [
    "# plot results\n",
    "sns.lineplot(x='t', y='n', data=Aa)\n",
    "sns.lineplot(x='t', y='n', data=Ab)\n",
    "sns.lineplot(x='t', y='n', data=Ba)\n",
    "sns.lineplot(x='t', y='n', data=Bb)\n",
    "plt.show()"
   ]
  },
  {
   "cell_type": "markdown",
   "metadata": {},
   "source": [
    "### Propagation with the labeled network"
   ]
  },
  {
   "cell_type": "code",
   "execution_count": 23,
   "metadata": {},
   "outputs": [],
   "source": [
    "def total_num_players(G):\n",
    "    return len(G.User.unique())\n",
    "\n",
    "\n",
    "def group_num_players(G):\n",
    "    nA = G[['User', 'Group1']].drop_duplicates().query('Group1 == \"A\"').shape[0]\n",
    "    nB = G[['User', 'Group1']].drop_duplicates().query('Group1 == \"B\"').shape[0]\n",
    "    return nA, nB\n",
    "\n",
    "\n",
    "def sample_seeds(df, group, size):\n",
    "    '''Return dataframe with a random sample of users.'''\n",
    "    # sample `size` users as the first set of users to see the article\n",
    "    # we need to drop duplicates as we have a row for each (user, follower) pair\n",
    "    seeds = (df[['User', 'Group1']].drop_duplicates()\n",
    "                                   .query(f'Group1 == \"{group}\"')\n",
    "                                   .sample(size)\n",
    "                                   .User)\n",
    "    # take the rows of the seed users\n",
    "    G = df[df.User.isin(seeds)]\n",
    "    return G\n",
    "\n",
    "\n",
    "def propagate(df, group='A', article='Pa', steps=T, size=M, seed=0, func=group_num_players):\n",
    "    '''Evaluates a function on each step of the propagation of an article through the network.'''\n",
    "    blacklist = set([])\n",
    "    G = sample_seeds(df, group, size).copy()\n",
    "    for i in range(steps):\n",
    "        yield (i,) + func(G)\n",
    "        \n",
    "        # toss a coin for each exposed user to determine whether or not they will share the article\n",
    "        a = -1 if article == 'Pa' else 1\n",
    "        g = -1 if   group ==  'A' else 1\n",
    "        probs = np.random.beta(*beta_dist[(a, g)], size=G.shape[0])\n",
    "        G.loc[:, 'Shared'] = np.random.binomial(1, p=probs).astype(bool)\n",
    "        blacklist.update(set(G.User.tolist()))\n",
    "        \n",
    "        # take one friend for each user\n",
    "        if not G.empty:\n",
    "            newG = G.groupby('User').sample(1)\n",
    "            newG = newG[newG.Shared].Follower.unique()\n",
    "            newG = filter_list(newG, blacklist=blacklist)\n",
    "            G = df[df.User.isin(newG)].copy()"
   ]
  },
  {
   "cell_type": "code",
   "execution_count": 24,
   "metadata": {},
   "outputs": [],
   "source": [
    "def repeat_propagation(df, trials, **kwargs):\n",
    "    for trial in range(trials):\n",
    "        for result in propagate(df, seed=trial, **kwargs):\n",
    "            yield result"
   ]
  },
  {
   "cell_type": "code",
   "execution_count": 48,
   "metadata": {},
   "outputs": [
    {
     "data": {
      "image/png": "[encoded data removed]",
      "text/plain": [
       "<Figure size 720x288 with 2 Axes>"
      ]
     },
     "metadata": {
      "needs_background": "light"
     },
     "output_type": "display_data"
    }
   ],
   "source": [
    "plt.figure(figsize=(10, 4))\n",
    "plt.suptitle('No platform intervention')\n",
    "plt.subplot(1, 2, 1)\n",
    "a = pd.DataFrame(repeat_propagation(df, TRIALS, group='A', article='Pa'), columns=['t', 'nA', 'nB'])\n",
    "b = pd.DataFrame(repeat_propagation(df, TRIALS, group='B', article='Pb'), columns=['t', 'nA', 'nB'])\n",
    "sns.lineplot(x='t', y='nB', data=a)\n",
    "sns.lineplot(x='t', y='nB', data=b)\n",
    "sns.lineplot(x='t', y='nA', data=a)\n",
    "g = sns.lineplot(x='t', y='nA', data=b)\n",
    "\n",
    "#g.set_yscale(\"log\")\n",
    "g.legend(['Ba', 'Bb', 'Aa', 'Ab'])\n",
    "g.set(ylabel='num_players')\n",
    "g.set_title('Real network')\n",
    "#plt.savefig('uselections.png', format='png', dpi=1200)\n",
    "\n",
    "# plot model results\n",
    "plt.subplot(1, 2, 2)\n",
    "\n",
    "# plot results\n",
    "sns.lineplot(x='t', y='n', data=Ba)\n",
    "sns.lineplot(x='t', y='n', data=Bb)\n",
    "sns.lineplot(x='t', y='n', data=Aa)\n",
    "g = sns.lineplot(x='t', y='n', data=Ab)\n",
    "g.set(ylabel='num_players')\n",
    "g.legend(['Ba', 'Bb', 'Aa', 'Ab'])\n",
    "g.set_title('Model')\n",
    "\n",
    "#g.set_yscale(\"log\")\n",
    "plt.tight_layout()\n",
    "plt.show()"
   ]
  },
  {
   "cell_type": "markdown",
   "metadata": {},
   "source": [
    "TODO:\n",
    "- intervention?\n",
    "- other datasets"
   ]
  },
  {
   "cell_type": "code",
   "execution_count": null,
   "metadata": {},
   "outputs": [],
   "source": []
  }
 ],
 "metadata": {
  "kernelspec": {
   "display_name": "Python 3",
   "language": "python",
   "name": "python3"
  },
  "language_info": {
   "codemirror_mode": {
    "name": "ipython",
    "version": 3
   },
   "file_extension": ".py",
   "mimetype": "text/x-python",
   "name": "python",
   "nbconvert_exporter": "python",
   "pygments_lexer": "ipython3",
   "version": "3.9.1"
  }
 },
 "nbformat": 4,
 "nbformat_minor": 4
}

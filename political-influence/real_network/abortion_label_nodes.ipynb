{
 "cells": [
  {
   "cell_type": "code",
   "execution_count": 1,
   "metadata": {},
   "outputs": [],
   "source": [
    "import os\n",
    "import os.path as path\n",
    "\n",
    "import random\n",
    "import numpy as np\n",
    "import pandas as pd\n",
    "\n",
    "import seaborn as sns\n",
    "import matplotlib.cm as cm\n",
    "import matplotlib.pyplot as plt\n",
    "\n",
    "import networkx as nx\n",
    "from cdlib import algorithms"
   ]
  },
  {
   "cell_type": "code",
   "execution_count": 2,
   "metadata": {},
   "outputs": [],
   "source": [
    "# fix seed (since the algorithms we used to label nodes are randomized)\n",
    "seed = 42\n",
    "os.environ['PYTHONHASHSEED'] = str(seed)\n",
    "np.random.seed(seed)"
   ]
  },
  {
   "cell_type": "markdown",
   "metadata": {},
   "source": [
    "## Load datasets"
   ]
  },
  {
   "cell_type": "code",
   "execution_count": 3,
   "metadata": {},
   "outputs": [],
   "source": [
    "# dataset\n",
    "DATASET = 'abortion'  # other datasets: \"brexit\", \"abortion\"\n",
    "DATASETS_PATH = path.join(path.pardir, \"datasets\", \"balanced_exposure\")\n",
    "DATASET_PATH = path.join(DATASETS_PATH, DATASET)"
   ]
  },
  {
   "cell_type": "code",
   "execution_count": 4,
   "metadata": {},
   "outputs": [],
   "source": [
    "# load probabilities\n",
    "PROBS_PATH = path.join(DATASET_PATH, f\"{DATASET}_network_heterogeneous.txt\")\n",
    "df = pd.read_csv(PROBS_PATH, sep='\\t', names=['User', 'Follower', 'Pa', 'Pb'])"
   ]
  },
  {
   "cell_type": "code",
   "execution_count": 5,
   "metadata": {},
   "outputs": [],
   "source": [
    "# load seeds\n",
    "A = [l.strip() for l in open(path.join(DATASET_PATH, \"side1_seeds.txt\")).readlines()]  # A = pro Hillary\n",
    "B = [l.strip() for l in open(path.join(DATASET_PATH, \"side2_seeds.txt\")).readlines()]  # B = pro Trump"
   ]
  },
  {
   "cell_type": "code",
   "execution_count": 6,
   "metadata": {},
   "outputs": [],
   "source": [
    "# label group attribute for user and follower\n",
    "A1, B1 = df.User.isin(A), df.User.isin(B)\n",
    "df['Group1'] = np.where(~A1 & ~B1, 'NA', np.where(A1, 'A', 'B')) \n",
    "\n",
    "A2, B2 = df.Follower.isin(A), df.Follower.isin(B)\n",
    "df['Group2'] = np.where(~A2 & ~B2, 'NA', np.where(A2, 'A', 'B')) "
   ]
  },
  {
   "cell_type": "code",
   "execution_count": 7,
   "metadata": {},
   "outputs": [
    {
     "name": "stdout",
     "output_type": "stream",
     "text": [
      "A: True 52 , B: True 65\n"
     ]
    }
   ],
   "source": [
    "print('A:', len(set(A)) == len(A), len(A), ', B:', len(set(B)) == len(B), len(B))"
   ]
  },
  {
   "cell_type": "code",
   "execution_count": 8,
   "metadata": {},
   "outputs": [],
   "source": [
    "# users with only one follower\n",
    "one_follow = (df.groupby('User')\n",
    "                .count()\n",
    "                .query('Follower == 1')\n",
    "                .index\n",
    "                .tolist())\n",
    "one_follow.remove('nicodetourn')\n",
    "one_follow = list(set(one_follow))"
   ]
  },
  {
   "cell_type": "code",
   "execution_count": 9,
   "metadata": {},
   "outputs": [],
   "source": [
    "# followers with no followers\n",
    "followed = df.Follower.isin(df.User.tolist())\n",
    "no_followed = list(set(df[~followed].Follower.tolist()))\n",
    "no_followed = [x for x in no_followed if x not in A + B]"
   ]
  },
  {
   "cell_type": "code",
   "execution_count": 10,
   "metadata": {},
   "outputs": [
    {
     "data": {
      "text/plain": [
       "(451, 264261)"
      ]
     },
     "execution_count": 10,
     "metadata": {},
     "output_type": "execute_result"
    }
   ],
   "source": [
    "len(one_follow), len(no_followed)"
   ]
  },
  {
   "cell_type": "code",
   "execution_count": 11,
   "metadata": {},
   "outputs": [],
   "source": [
    "# trim dataset\n",
    "df = df[~df.User.isin(one_follow[:450])]\n",
    "df = df[~df.Follower.isin(no_followed[:200000])]"
   ]
  },
  {
   "cell_type": "code",
   "execution_count": 12,
   "metadata": {},
   "outputs": [
    {
     "data": {
      "text/plain": [
       "(52, 65)"
      ]
     },
     "execution_count": 12,
     "metadata": {},
     "output_type": "execute_result"
    }
   ],
   "source": [
    "# find biggest connected component\n",
    "G = nx.from_pandas_edgelist(df, 'User', 'Follower')\n",
    "biggest_component = next(nx.algorithms.connected_components(G))\n",
    "\n",
    "# discard the rest\n",
    "G = G.subgraph(biggest_component)\n",
    "df = df[df.User.isin(biggest_component) | df.Follower.isin(biggest_component)]\n",
    "A = [a for a in A if a in biggest_component]\n",
    "B = [b for b in B if b in biggest_component]\n",
    "len(A), len(B)"
   ]
  },
  {
   "cell_type": "code",
   "execution_count": 13,
   "metadata": {},
   "outputs": [
    {
     "name": "stderr",
     "output_type": "stream",
     "text": [
      "/usr/local/lib/python3.8/dist-packages/pulp/pulp.py:1199: UserWarning: Spaces are not permitted in the name. Converted to '_'\n",
      "  warnings.warn(\"Spaces are not permitted in the name. Converted to '_'\")\n"
     ]
    },
    {
     "name": "stdout",
     "output_type": "stream",
     "text": [
      "236 208\n"
     ]
    }
   ],
   "source": [
    "# expand seeds to larger communities, hoping to find edges between A and B...\n",
    "commA = algorithms.lemon(G, A, min_com_size=200, max_com_size=500)\n",
    "\n",
    "# label group of new nodes\n",
    "newdf = df.copy()\n",
    "newdf.loc[newdf.User.isin(commA.communities[0]), 'Group1'] = 'A'\n",
    "newdf.loc[newdf.Follower.isin(commA.communities[0]), 'Group2'] = 'A'\n",
    "\n",
    "print(len(commA.communities[0]), len(set(commA.communities[0]).difference(set(A))))"
   ]
  },
  {
   "cell_type": "code",
   "execution_count": null,
   "metadata": {},
   "outputs": [],
   "source": [
    "commB = algorithms.lemon(G, B, min_com_size=200, max_com_size=500)\n",
    "\n",
    "newdf.loc[newdf.User.isin(commB.communities[0]), 'Group1'] = 'B'\n",
    "newdf.loc[newdf.Follower.isin(commB.communities[0]), 'Group2'] = 'B'\n",
    "\n",
    "print(len(commB.communities[0]), len(set(commB.communities[0]).difference(set(B))))"
   ]
  },
  {
   "cell_type": "code",
   "execution_count": null,
   "metadata": {},
   "outputs": [],
   "source": [
    "# intersections of thw two communities (should be empty)\n",
    "cA, cB = set(commA.communities[0]), set(commB.communities[0])\n",
    "inters = cB.intersection(cA)\n",
    "if len(inters) > 0:\n",
    "    for e in inters:\n",
    "        cA.remove(e)\n",
    "        cB.remove(e)\n",
    "cA, cB = list(cA), list(cB)"
   ]
  },
  {
   "cell_type": "code",
   "execution_count": null,
   "metadata": {},
   "outputs": [],
   "source": [
    "# are there any edges between A and B now?\n",
    "newdf[(newdf.Group1 != 'NA') & (newdf.Group2 != 'NA')]"
   ]
  },
  {
   "cell_type": "code",
   "execution_count": null,
   "metadata": {},
   "outputs": [],
   "source": [
    "labeled = newdf[(newdf.Group1 != 'NA') | (newdf.Group2 != 'NA')]\n",
    "newA = list(set(labeled[labeled.Group1 == 'A'].User.tolist() + labeled[labeled.Group2 == 'A'].Follower.tolist()))\n",
    "newB = list(set(labeled[labeled.Group1 == 'B'].User.tolist() + labeled[labeled.Group2 == 'B'].Follower.tolist()))\n",
    "newNA = list(set(labeled[labeled.Group1 == 'NA'].User.tolist() + labeled[labeled.Group2 == 'NA'].Follower.tolist()))\n",
    "G2 = nx.from_pandas_edgelist(labeled, 'User', 'Follower')\n",
    "biggest_component2 = next(nx.algorithms.connected_components(G2))\n",
    "\n",
    "# save biggest component of new graph\n",
    "G2 = G2.subgraph(biggest_component)\n",
    "newdf = newdf[newdf.User.isin(biggest_component) & newdf.Follower.isin(biggest_component)]"
   ]
  },
  {
   "cell_type": "code",
   "execution_count": null,
   "metadata": {},
   "outputs": [],
   "source": [
    "newdf = newdf[(newdf.Group1 != 'NA') & (newdf.Group2 != 'NA')]"
   ]
  },
  {
   "cell_type": "code",
   "execution_count": null,
   "metadata": {},
   "outputs": [],
   "source": [
    "newdf[['User', 'Group1']].drop_duplicates().groupby('Group1').count()"
   ]
  },
  {
   "cell_type": "code",
   "execution_count": null,
   "metadata": {},
   "outputs": [],
   "source": [
    "len(A), len(B)"
   ]
  },
  {
   "cell_type": "code",
   "execution_count": null,
   "metadata": {},
   "outputs": [],
   "source": [
    "newdf.to_csv('new_graph.csv', index=False)"
   ]
  }
 ],
 "metadata": {
  "kernelspec": {
   "display_name": "Python 3",
   "language": "python",
   "name": "python3"
  },
  "language_info": {
   "codemirror_mode": {
    "name": "ipython",
    "version": 3
   },
   "file_extension": ".py",
   "mimetype": "text/x-python",
   "name": "python",
   "nbconvert_exporter": "python",
   "pygments_lexer": "ipython3",
   "version": "3.8.0"
  }
 },
 "nbformat": 4,
 "nbformat_minor": 4
}

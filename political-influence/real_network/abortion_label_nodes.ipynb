{
 "cells": [
  {
   "cell_type": "code",
   "execution_count": 1,
   "metadata": {},
   "outputs": [],
   "source": [
    "import os\n",
    "import os.path as path\n",
    "\n",
    "import random\n",
    "import numpy as np\n",
    "import pandas as pd\n",
    "\n",
    "import seaborn as sns\n",
    "import matplotlib.cm as cm\n",
    "import matplotlib.pyplot as plt\n",
    "\n",
    "import networkx as nx\n",
    "from cdlib import algorithms"
   ]
  },
  {
   "cell_type": "code",
   "execution_count": 2,
   "metadata": {},
   "outputs": [],
   "source": [
    "# fix seed (since the algorithms we used to label nodes are randomized)\n",
    "seed = 42\n",
    "os.environ['PYTHONHASHSEED'] = str(seed)\n",
    "np.random.seed(seed)"
   ]
  },
  {
   "cell_type": "markdown",
   "metadata": {},
   "source": [
    "## Load datasets"
   ]
  },
  {
   "cell_type": "code",
   "execution_count": 3,
   "metadata": {},
   "outputs": [],
   "source": [
    "# dataset\n",
    "DATASET = 'abortion'  # other datasets: \"brexit\", \"abortion\"\n",
    "DATASETS_PATH = path.join(path.pardir, \"datasets\", \"balanced_exposure\")\n",
    "DATASET_PATH = path.join(DATASETS_PATH, DATASET)"
   ]
  },
  {
   "cell_type": "code",
   "execution_count": 4,
   "metadata": {},
   "outputs": [],
   "source": [
    "# load probabilities\n",
    "PROBS_PATH = path.join(DATASET_PATH, f\"{DATASET}_network_heterogeneous.txt\")\n",
    "df = pd.read_csv(PROBS_PATH, sep='\\t', names=['User', 'Follower', 'Pa', 'Pb'])"
   ]
  },
  {
   "cell_type": "code",
   "execution_count": 5,
   "metadata": {},
   "outputs": [],
   "source": [
    "# load seeds\n",
    "A = [l.strip() for l in open(path.join(DATASET_PATH, \"side1_seeds.txt\")).readlines()]  # A = pro Hillary\n",
    "B = [l.strip() for l in open(path.join(DATASET_PATH, \"side2_seeds.txt\")).readlines()]  # B = pro Trump"
   ]
  },
  {
   "cell_type": "code",
   "execution_count": 6,
   "metadata": {},
   "outputs": [],
   "source": [
    "# label group attribute for user and follower\n",
    "A1, B1 = df.User.isin(A), df.User.isin(B)\n",
    "df['Group1'] = np.where(~A1 & ~B1, 'NA', np.where(A1, 'A', 'B')) \n",
    "\n",
    "A2, B2 = df.Follower.isin(A), df.Follower.isin(B)\n",
    "df['Group2'] = np.where(~A2 & ~B2, 'NA', np.where(A2, 'A', 'B')) "
   ]
  },
  {
   "cell_type": "code",
   "execution_count": 7,
   "metadata": {},
   "outputs": [
    {
     "name": "stdout",
     "output_type": "stream",
     "text": [
      "A: True 52 , B: True 65\n"
     ]
    }
   ],
   "source": [
    "print('A:', len(set(A)) == len(A), len(A), ', B:', len(set(B)) == len(B), len(B))"
   ]
  },
  {
   "cell_type": "code",
   "execution_count": 8,
   "metadata": {},
   "outputs": [
    {
     "data": {
      "text/plain": [
       "(52, 65)"
      ]
     },
     "execution_count": 8,
     "metadata": {},
     "output_type": "execute_result"
    }
   ],
   "source": [
    "# find biggest connected component\n",
    "G = nx.from_pandas_edgelist(df, 'User', 'Follower')\n",
    "biggest_component = next(nx.algorithms.connected_components(G))\n",
    "\n",
    "# discard the rest\n",
    "G = G.subgraph(biggest_component)\n",
    "df = df[df.User.isin(biggest_component) | df.Follower.isin(biggest_component)]\n",
    "A = [a for a in A if a in biggest_component]\n",
    "B = [b for b in B if b in biggest_component]\n",
    "len(A), len(B)"
   ]
  },
  {
   "cell_type": "code",
   "execution_count": 9,
   "metadata": {},
   "outputs": [
    {
     "ename": "MemoryError",
     "evalue": "Unable to allocate 582. GiB for an array with shape (279505, 279505) and data type float64",
     "output_type": "error",
     "traceback": [
      "\u001b[0;31m---------------------------------------------------------------------------\u001b[0m",
      "\u001b[0;31mMemoryError\u001b[0m                               Traceback (most recent call last)",
      "\u001b[0;32m<ipython-input-9-383a3d7fd024>\u001b[0m in \u001b[0;36m<module>\u001b[0;34m\u001b[0m\n\u001b[1;32m      1\u001b[0m \u001b[0;31m# expand seeds to larger communities, hoping to find edges between A and B...\u001b[0m\u001b[0;34m\u001b[0m\u001b[0;34m\u001b[0m\u001b[0;34m\u001b[0m\u001b[0m\n\u001b[0;32m----> 2\u001b[0;31m \u001b[0mcommA\u001b[0m \u001b[0;34m=\u001b[0m \u001b[0malgorithms\u001b[0m\u001b[0;34m.\u001b[0m\u001b[0mlemon\u001b[0m\u001b[0;34m(\u001b[0m\u001b[0mG\u001b[0m\u001b[0;34m,\u001b[0m \u001b[0mA\u001b[0m\u001b[0;34m,\u001b[0m \u001b[0mmin_com_size\u001b[0m\u001b[0;34m=\u001b[0m\u001b[0;36m200\u001b[0m\u001b[0;34m,\u001b[0m \u001b[0mmax_com_size\u001b[0m\u001b[0;34m=\u001b[0m\u001b[0;36m500\u001b[0m\u001b[0;34m)\u001b[0m\u001b[0;34m\u001b[0m\u001b[0;34m\u001b[0m\u001b[0m\n\u001b[0m\u001b[1;32m      3\u001b[0m \u001b[0;34m\u001b[0m\u001b[0m\n\u001b[1;32m      4\u001b[0m \u001b[0;31m# label group of new nodes\u001b[0m\u001b[0;34m\u001b[0m\u001b[0;34m\u001b[0m\u001b[0;34m\u001b[0m\u001b[0m\n\u001b[1;32m      5\u001b[0m \u001b[0mnewdf\u001b[0m \u001b[0;34m=\u001b[0m \u001b[0mdf\u001b[0m\u001b[0;34m.\u001b[0m\u001b[0mcopy\u001b[0m\u001b[0;34m(\u001b[0m\u001b[0;34m)\u001b[0m\u001b[0;34m\u001b[0m\u001b[0;34m\u001b[0m\u001b[0m\n",
      "\u001b[0;32m/usr/lib/python3.9/site-packages/cdlib/algorithms/overlapping_partition.py\u001b[0m in \u001b[0;36mlemon\u001b[0;34m(g_original, seeds, min_com_size, max_com_size, expand_step, subspace_dim, walk_steps, biased)\u001b[0m\n\u001b[1;32m    456\u001b[0m \u001b[0;34m\u001b[0m\u001b[0m\n\u001b[1;32m    457\u001b[0m     \u001b[0mgraph\u001b[0m \u001b[0;34m=\u001b[0m \u001b[0mconvert_graph_formats\u001b[0m\u001b[0;34m(\u001b[0m\u001b[0mg_original\u001b[0m\u001b[0;34m,\u001b[0m \u001b[0mnx\u001b[0m\u001b[0;34m.\u001b[0m\u001b[0mGraph\u001b[0m\u001b[0;34m)\u001b[0m\u001b[0;34m\u001b[0m\u001b[0;34m\u001b[0m\u001b[0m\n\u001b[0;32m--> 458\u001b[0;31m     \u001b[0mgraph_m\u001b[0m \u001b[0;34m=\u001b[0m \u001b[0mnx\u001b[0m\u001b[0;34m.\u001b[0m\u001b[0mconvert_matrix\u001b[0m\u001b[0;34m.\u001b[0m\u001b[0mto_numpy_array\u001b[0m\u001b[0;34m(\u001b[0m\u001b[0mgraph\u001b[0m\u001b[0;34m)\u001b[0m\u001b[0;34m\u001b[0m\u001b[0;34m\u001b[0m\u001b[0m\n\u001b[0m\u001b[1;32m    459\u001b[0m \u001b[0;34m\u001b[0m\u001b[0m\n\u001b[1;32m    460\u001b[0m     \u001b[0mnode_to_pos\u001b[0m \u001b[0;34m=\u001b[0m \u001b[0;34m{\u001b[0m\u001b[0mn\u001b[0m\u001b[0;34m:\u001b[0m \u001b[0mp\u001b[0m \u001b[0;32mfor\u001b[0m \u001b[0mp\u001b[0m\u001b[0;34m,\u001b[0m \u001b[0mn\u001b[0m \u001b[0;32min\u001b[0m \u001b[0menumerate\u001b[0m\u001b[0;34m(\u001b[0m\u001b[0mgraph\u001b[0m\u001b[0;34m.\u001b[0m\u001b[0mnodes\u001b[0m\u001b[0;34m(\u001b[0m\u001b[0;34m)\u001b[0m\u001b[0;34m)\u001b[0m\u001b[0;34m}\u001b[0m\u001b[0;34m\u001b[0m\u001b[0;34m\u001b[0m\u001b[0m\n",
      "\u001b[0;32m/usr/lib/python3.9/site-packages/networkx/convert_matrix.py\u001b[0m in \u001b[0;36mto_numpy_array\u001b[0;34m(G, nodelist, dtype, order, multigraph_weight, weight, nonedge)\u001b[0m\n\u001b[1;32m   1255\u001b[0m     \u001b[0;32melse\u001b[0m\u001b[0;34m:\u001b[0m\u001b[0;34m\u001b[0m\u001b[0;34m\u001b[0m\u001b[0m\n\u001b[1;32m   1256\u001b[0m         \u001b[0;31m# Graph or DiGraph, this is much faster than above\u001b[0m\u001b[0;34m\u001b[0m\u001b[0;34m\u001b[0m\u001b[0;34m\u001b[0m\u001b[0m\n\u001b[0;32m-> 1257\u001b[0;31m         \u001b[0mA\u001b[0m \u001b[0;34m=\u001b[0m \u001b[0mnp\u001b[0m\u001b[0;34m.\u001b[0m\u001b[0mfull\u001b[0m\u001b[0;34m(\u001b[0m\u001b[0;34m(\u001b[0m\u001b[0mnlen\u001b[0m\u001b[0;34m,\u001b[0m \u001b[0mnlen\u001b[0m\u001b[0;34m)\u001b[0m\u001b[0;34m,\u001b[0m \u001b[0mnp\u001b[0m\u001b[0;34m.\u001b[0m\u001b[0mnan\u001b[0m\u001b[0;34m,\u001b[0m \u001b[0morder\u001b[0m\u001b[0;34m=\u001b[0m\u001b[0morder\u001b[0m\u001b[0;34m)\u001b[0m\u001b[0;34m\u001b[0m\u001b[0;34m\u001b[0m\u001b[0m\n\u001b[0m\u001b[1;32m   1258\u001b[0m         \u001b[0;32mfor\u001b[0m \u001b[0mu\u001b[0m\u001b[0;34m,\u001b[0m \u001b[0mnbrdict\u001b[0m \u001b[0;32min\u001b[0m \u001b[0mG\u001b[0m\u001b[0;34m.\u001b[0m\u001b[0madjacency\u001b[0m\u001b[0;34m(\u001b[0m\u001b[0;34m)\u001b[0m\u001b[0;34m:\u001b[0m\u001b[0;34m\u001b[0m\u001b[0;34m\u001b[0m\u001b[0m\n\u001b[1;32m   1259\u001b[0m             \u001b[0;32mfor\u001b[0m \u001b[0mv\u001b[0m\u001b[0;34m,\u001b[0m \u001b[0md\u001b[0m \u001b[0;32min\u001b[0m \u001b[0mnbrdict\u001b[0m\u001b[0;34m.\u001b[0m\u001b[0mitems\u001b[0m\u001b[0;34m(\u001b[0m\u001b[0;34m)\u001b[0m\u001b[0;34m:\u001b[0m\u001b[0;34m\u001b[0m\u001b[0;34m\u001b[0m\u001b[0m\n",
      "\u001b[0;32m/usr/lib/python3.9/site-packages/numpy/core/numeric.py\u001b[0m in \u001b[0;36mfull\u001b[0;34m(shape, fill_value, dtype, order)\u001b[0m\n\u001b[1;32m    312\u001b[0m     \u001b[0;32mif\u001b[0m \u001b[0mdtype\u001b[0m \u001b[0;32mis\u001b[0m \u001b[0;32mNone\u001b[0m\u001b[0;34m:\u001b[0m\u001b[0;34m\u001b[0m\u001b[0;34m\u001b[0m\u001b[0m\n\u001b[1;32m    313\u001b[0m         \u001b[0mdtype\u001b[0m \u001b[0;34m=\u001b[0m \u001b[0marray\u001b[0m\u001b[0;34m(\u001b[0m\u001b[0mfill_value\u001b[0m\u001b[0;34m)\u001b[0m\u001b[0;34m.\u001b[0m\u001b[0mdtype\u001b[0m\u001b[0;34m\u001b[0m\u001b[0;34m\u001b[0m\u001b[0m\n\u001b[0;32m--> 314\u001b[0;31m     \u001b[0ma\u001b[0m \u001b[0;34m=\u001b[0m \u001b[0mempty\u001b[0m\u001b[0;34m(\u001b[0m\u001b[0mshape\u001b[0m\u001b[0;34m,\u001b[0m \u001b[0mdtype\u001b[0m\u001b[0;34m,\u001b[0m \u001b[0morder\u001b[0m\u001b[0;34m)\u001b[0m\u001b[0;34m\u001b[0m\u001b[0;34m\u001b[0m\u001b[0m\n\u001b[0m\u001b[1;32m    315\u001b[0m     \u001b[0mmultiarray\u001b[0m\u001b[0;34m.\u001b[0m\u001b[0mcopyto\u001b[0m\u001b[0;34m(\u001b[0m\u001b[0ma\u001b[0m\u001b[0;34m,\u001b[0m \u001b[0mfill_value\u001b[0m\u001b[0;34m,\u001b[0m \u001b[0mcasting\u001b[0m\u001b[0;34m=\u001b[0m\u001b[0;34m'unsafe'\u001b[0m\u001b[0;34m)\u001b[0m\u001b[0;34m\u001b[0m\u001b[0;34m\u001b[0m\u001b[0m\n\u001b[1;32m    316\u001b[0m     \u001b[0;32mreturn\u001b[0m \u001b[0ma\u001b[0m\u001b[0;34m\u001b[0m\u001b[0;34m\u001b[0m\u001b[0m\n",
      "\u001b[0;31mMemoryError\u001b[0m: Unable to allocate 582. GiB for an array with shape (279505, 279505) and data type float64"
     ]
    }
   ],
   "source": [
    "# expand seeds to larger communities, hoping to find edges between A and B...\n",
    "commA = algorithms.lemon(G, A, min_com_size=200, max_com_size=500)\n",
    "\n",
    "# label group of new nodes\n",
    "newdf = df.copy()\n",
    "newdf.loc[newdf.User.isin(commA.communities[0]), 'Group1'] = 'A'\n",
    "newdf.loc[newdf.Follower.isin(commA.communities[0]), 'Group2'] = 'A'\n",
    "\n",
    "print(len(commA.communities[0]), len(set(commA.communities[0]).difference(set(A))))"
   ]
  },
  {
   "cell_type": "code",
   "execution_count": 11,
   "metadata": {},
   "outputs": [
    {
     "name": "stdout",
     "output_type": "stream",
     "text": [
      "301 294\n"
     ]
    }
   ],
   "source": [
    "commB = algorithms.lemon(G, B, min_com_size=200, max_com_size=500)\n",
    "\n",
    "newdf.loc[newdf.User.isin(commB.communities[0]), 'Group1'] = 'B'\n",
    "newdf.loc[newdf.Follower.isin(commB.communities[0]), 'Group2'] = 'B'\n",
    "\n",
    "print(len(commB.communities[0]), len(set(commB.communities[0]).difference(set(B))))"
   ]
  },
  {
   "cell_type": "code",
   "execution_count": 12,
   "metadata": {},
   "outputs": [],
   "source": [
    "# intersections of thw two communities (should be empty)\n",
    "cA, cB = set(commA.communities[0]), set(commB.communities[0])\n",
    "inters = cB.intersection(cA)\n",
    "if len(inters) > 0:\n",
    "    for e in inters:\n",
    "        cA.remove(e)\n",
    "        cB.remove(e)\n",
    "cA, cB = list(cA), list(cB)"
   ]
  },
  {
   "cell_type": "code",
   "execution_count": 13,
   "metadata": {},
   "outputs": [
    {
     "data": {
      "text/html": [
       "<div>\n",
       "<style scoped>\n",
       "    .dataframe tbody tr th:only-of-type {\n",
       "        vertical-align: middle;\n",
       "    }\n",
       "\n",
       "    .dataframe tbody tr th {\n",
       "        vertical-align: top;\n",
       "    }\n",
       "\n",
       "    .dataframe thead th {\n",
       "        text-align: right;\n",
       "    }\n",
       "</style>\n",
       "<table border=\"1\" class=\"dataframe\">\n",
       "  <thead>\n",
       "    <tr style=\"text-align: right;\">\n",
       "      <th></th>\n",
       "      <th>User</th>\n",
       "      <th>Follower</th>\n",
       "      <th>Pa</th>\n",
       "      <th>Pb</th>\n",
       "      <th>Group1</th>\n",
       "      <th>Group2</th>\n",
       "    </tr>\n",
       "  </thead>\n",
       "  <tbody>\n",
       "    <tr>\n",
       "      <th>1</th>\n",
       "      <td>003a04f8c2054b7</td>\n",
       "      <td>patriot18d</td>\n",
       "      <td>0.001160</td>\n",
       "      <td>0.003320</td>\n",
       "      <td>B</td>\n",
       "      <td>B</td>\n",
       "    </tr>\n",
       "    <tr>\n",
       "      <th>2</th>\n",
       "      <td>003a04f8c2054b7</td>\n",
       "      <td>pamela_moore13</td>\n",
       "      <td>0.000143</td>\n",
       "      <td>0.004143</td>\n",
       "      <td>B</td>\n",
       "      <td>B</td>\n",
       "    </tr>\n",
       "    <tr>\n",
       "      <th>3</th>\n",
       "      <td>003a04f8c2054b7</td>\n",
       "      <td>jbaker31826004</td>\n",
       "      <td>0.000604</td>\n",
       "      <td>0.015884</td>\n",
       "      <td>B</td>\n",
       "      <td>B</td>\n",
       "    </tr>\n",
       "    <tr>\n",
       "      <th>5</th>\n",
       "      <td>003a04f8c2054b7</td>\n",
       "      <td>pyrrhop</td>\n",
       "      <td>0.002796</td>\n",
       "      <td>0.011916</td>\n",
       "      <td>B</td>\n",
       "      <td>B</td>\n",
       "    </tr>\n",
       "    <tr>\n",
       "      <th>7</th>\n",
       "      <td>003a04f8c2054b7</td>\n",
       "      <td>skinnypresident</td>\n",
       "      <td>0.000667</td>\n",
       "      <td>0.002827</td>\n",
       "      <td>B</td>\n",
       "      <td>B</td>\n",
       "    </tr>\n",
       "    <tr>\n",
       "      <th>...</th>\n",
       "      <td>...</td>\n",
       "      <td>...</td>\n",
       "      <td>...</td>\n",
       "      <td>...</td>\n",
       "      <td>...</td>\n",
       "      <td>...</td>\n",
       "    </tr>\n",
       "    <tr>\n",
       "      <th>844834</th>\n",
       "      <td>healthandcents</td>\n",
       "      <td>trevor90666770</td>\n",
       "      <td>0.002307</td>\n",
       "      <td>0.015187</td>\n",
       "      <td>B</td>\n",
       "      <td>B</td>\n",
       "    </tr>\n",
       "    <tr>\n",
       "      <th>844837</th>\n",
       "      <td>healthandcents</td>\n",
       "      <td>martucci_peter</td>\n",
       "      <td>0.002149</td>\n",
       "      <td>0.048229</td>\n",
       "      <td>B</td>\n",
       "      <td>B</td>\n",
       "    </tr>\n",
       "    <tr>\n",
       "      <th>844838</th>\n",
       "      <td>healthandcents</td>\n",
       "      <td>ejhirschberger</td>\n",
       "      <td>0.000226</td>\n",
       "      <td>0.005506</td>\n",
       "      <td>B</td>\n",
       "      <td>B</td>\n",
       "    </tr>\n",
       "    <tr>\n",
       "      <th>844866</th>\n",
       "      <td>healthandcents</td>\n",
       "      <td>drmartyfox</td>\n",
       "      <td>0.001571</td>\n",
       "      <td>0.011651</td>\n",
       "      <td>B</td>\n",
       "      <td>B</td>\n",
       "    </tr>\n",
       "    <tr>\n",
       "      <th>844868</th>\n",
       "      <td>healthandcents</td>\n",
       "      <td>on2_off4</td>\n",
       "      <td>0.000351</td>\n",
       "      <td>0.000511</td>\n",
       "      <td>B</td>\n",
       "      <td>B</td>\n",
       "    </tr>\n",
       "  </tbody>\n",
       "</table>\n",
       "<p>58190 rows × 6 columns</p>\n",
       "</div>"
      ],
      "text/plain": [
       "                   User         Follower        Pa        Pb Group1 Group2\n",
       "1       003a04f8c2054b7       patriot18d  0.001160  0.003320      B      B\n",
       "2       003a04f8c2054b7   pamela_moore13  0.000143  0.004143      B      B\n",
       "3       003a04f8c2054b7   jbaker31826004  0.000604  0.015884      B      B\n",
       "5       003a04f8c2054b7          pyrrhop  0.002796  0.011916      B      B\n",
       "7       003a04f8c2054b7  skinnypresident  0.000667  0.002827      B      B\n",
       "...                 ...              ...       ...       ...    ...    ...\n",
       "844834   healthandcents   trevor90666770  0.002307  0.015187      B      B\n",
       "844837   healthandcents   martucci_peter  0.002149  0.048229      B      B\n",
       "844838   healthandcents   ejhirschberger  0.000226  0.005506      B      B\n",
       "844866   healthandcents       drmartyfox  0.001571  0.011651      B      B\n",
       "844868   healthandcents         on2_off4  0.000351  0.000511      B      B\n",
       "\n",
       "[58190 rows x 6 columns]"
      ]
     },
     "execution_count": 13,
     "metadata": {},
     "output_type": "execute_result"
    }
   ],
   "source": [
    "# are there any edges between A and B now?\n",
    "newdf[(newdf.Group1 != 'NA') & (newdf.Group2 != 'NA')]"
   ]
  },
  {
   "cell_type": "code",
   "execution_count": 14,
   "metadata": {},
   "outputs": [],
   "source": [
    "labeled = newdf[(newdf.Group1 != 'NA') | (newdf.Group2 != 'NA')]\n",
    "newA = list(set(labeled[labeled.Group1 == 'A'].User.tolist() + labeled[labeled.Group2 == 'A'].Follower.tolist()))\n",
    "newB = list(set(labeled[labeled.Group1 == 'B'].User.tolist() + labeled[labeled.Group2 == 'B'].Follower.tolist()))\n",
    "newNA = list(set(labeled[labeled.Group1 == 'NA'].User.tolist() + labeled[labeled.Group2 == 'NA'].Follower.tolist()))\n",
    "G2 = nx.from_pandas_edgelist(labeled, 'User', 'Follower')\n",
    "biggest_component2 = next(nx.algorithms.connected_components(G2))\n",
    "\n",
    "# save biggest component of new graph\n",
    "G2 = G2.subgraph(biggest_component)\n",
    "newdf = newdf[newdf.User.isin(biggest_component) & newdf.Follower.isin(biggest_component)]"
   ]
  },
  {
   "cell_type": "code",
   "execution_count": 15,
   "metadata": {},
   "outputs": [],
   "source": [
    "newdf = newdf[(newdf.Group1 != 'NA') & (newdf.Group2 != 'NA')]"
   ]
  },
  {
   "cell_type": "code",
   "execution_count": 16,
   "metadata": {},
   "outputs": [
    {
     "data": {
      "text/html": [
       "<div>\n",
       "<style scoped>\n",
       "    .dataframe tbody tr th:only-of-type {\n",
       "        vertical-align: middle;\n",
       "    }\n",
       "\n",
       "    .dataframe tbody tr th {\n",
       "        vertical-align: top;\n",
       "    }\n",
       "\n",
       "    .dataframe thead th {\n",
       "        text-align: right;\n",
       "    }\n",
       "</style>\n",
       "<table border=\"1\" class=\"dataframe\">\n",
       "  <thead>\n",
       "    <tr style=\"text-align: right;\">\n",
       "      <th></th>\n",
       "      <th>User</th>\n",
       "    </tr>\n",
       "    <tr>\n",
       "      <th>Group1</th>\n",
       "      <th></th>\n",
       "    </tr>\n",
       "  </thead>\n",
       "  <tbody>\n",
       "    <tr>\n",
       "      <th>A</th>\n",
       "      <td>356</td>\n",
       "    </tr>\n",
       "    <tr>\n",
       "      <th>B</th>\n",
       "      <td>375</td>\n",
       "    </tr>\n",
       "  </tbody>\n",
       "</table>\n",
       "</div>"
      ],
      "text/plain": [
       "        User\n",
       "Group1      \n",
       "A        356\n",
       "B        375"
      ]
     },
     "execution_count": 16,
     "metadata": {},
     "output_type": "execute_result"
    }
   ],
   "source": [
    "newdf[['User', 'Group1']].drop_duplicates().groupby('Group1').count()"
   ]
  },
  {
   "cell_type": "code",
   "execution_count": 17,
   "metadata": {},
   "outputs": [
    {
     "data": {
      "text/plain": [
       "(84, 99)"
      ]
     },
     "execution_count": 17,
     "metadata": {},
     "output_type": "execute_result"
    }
   ],
   "source": [
    "len(A), len(B)"
   ]
  },
  {
   "cell_type": "code",
   "execution_count": 18,
   "metadata": {},
   "outputs": [],
   "source": [
    "newdf.to_csv('new_graph.csv', index=False)"
   ]
  }
 ],
 "metadata": {
  "kernelspec": {
   "display_name": "Python 3",
   "language": "python",
   "name": "python3"
  },
  "language_info": {
   "codemirror_mode": {
    "name": "ipython",
    "version": 3
   },
   "file_extension": ".py",
   "mimetype": "text/x-python",
   "name": "python",
   "nbconvert_exporter": "python",
   "pygments_lexer": "ipython3",
   "version": "3.9.1"
  }
 },
 "nbformat": 4,
 "nbformat_minor": 4
}

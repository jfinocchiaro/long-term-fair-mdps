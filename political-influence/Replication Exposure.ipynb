{
 "cells": [
  {
   "cell_type": "markdown",
   "metadata": {},
   "source": [
    "# Political News and the Fair Exposure Problem under Homophily"
   ]
  },
  {
   "cell_type": "markdown",
   "metadata": {},
   "source": [
    "## All required libraries"
   ]
  },
  {
   "cell_type": "code",
   "execution_count": 1,
   "metadata": {},
   "outputs": [],
   "source": [
    "import numpy as np\n",
    "import pandas as pd\n",
    "import seaborn as sns\n",
    "from scipy.stats import beta\n",
    "from matplotlib import pyplot as plt\n",
    "import re\n",
    "\n",
    "import random\n",
    "import platform_opt\n",
    "from players import *\n",
    "\n",
    "from IPython.display import Markdown, display, Latex\n",
    "from scipy.stats import norm\n",
    "\n",
    "def printmd(string):\n",
    "    display(Markdown(string))"
   ]
  },
  {
   "cell_type": "markdown",
   "metadata": {},
   "source": [
    "## Important Parameters"
   ]
  },
  {
   "cell_type": "markdown",
   "metadata": {},
   "source": [
    "- $T$: Number of timesteps\n",
    "- $M$: Finite mass of user\n",
    "- $g \\in \\{A, B\\}$: Political Affliation/ Preference\n",
    "- $\\pi_g \\in (0, 1)$: Fraction of users from group $g$ \n",
    "- $t \\in \\{1, \\cdots , T\\}$:  Discrete Time T $\\leq $ M\n",
    "- $s \\in \\{a, b\\}$: Article sources afliated with $A, B$\n",
    "- $\\theta_{A}, \\theta_B \\in [0, 1]$: Fraction of users shown an article\n",
    "- $P_{g,s}$: Probability of users of group $g$ who like an article from source $s$\n",
    "- $c > 0$: Cost user incur for clicking an article\n",
    "- $v > 0$: Utility users get for liking an article\n",
    "- $q_{g} > 0.5$: Probability of in-group propagation "
   ]
  },
  {
   "cell_type": "markdown",
   "metadata": {},
   "source": [
    "## Load and clean the dataset:  [Replication Data](https://dataverse.harvard.edu/dataset.xhtml?persistentId=doi:10.7910/DVN/AAI7VA)"
   ]
  },
  {
   "cell_type": "markdown",
   "metadata": {},
   "source": [
    "### Dataset description borrowed from ReadMe.md of [Replication Data](https://dataverse.harvard.edu/dataset.xhtml?persistentId=doi:10.7910/DVN/AAI7VA)\n",
    "\n",
    "#### Top500 \n",
    "\n",
    "- domain ---> s: domain\n",
    "- l1 ---> $P_{A}$ : proportion of shares with liberal alignment from s\n",
    "- r1 ---> $P_{B}$: proportion of shares with conservative alignment from s\n",
    "\n",
    "The top 500 most shared domains have each been shared at least 44,000 times. \n",
    "- T = ?\n",
    "- |a| < |b|\n",
    "\n",
    "This set of domains covers over 80% of the URLs classified as hard content that\n",
    "\n",
    "#### Homophily\n",
    "\n",
    "- viewer ---> A / B: affiliation of an individual in the sampling frame of the study.\n",
    "- friend ---> A / B : affiliation of friend.\n",
    "- frac_of_friends --->: bucketed (in increments of 0.01) fraction of friends with the given affiliation.\n",
    "- density --->: proportion of friends within the given bucket.\n",
    "\n"
   ]
  },
  {
   "cell_type": "markdown",
   "metadata": {},
   "source": [
    "## Dataset"
   ]
  },
  {
   "cell_type": "code",
   "execution_count": 2,
   "metadata": {},
   "outputs": [],
   "source": [
    "# load the datasets\n",
    "data_path = \"../Datasets/ReplicationForExposure/\"\n",
    "homophily_data = pd.read_csv(data_path+\"homophily_density\", sep=\",\", quotechar='\"', encoding=\"utf8\")\n",
    "top_500_data = pd.read_csv(data_path+\"top500\", sep=\",\", quotechar='\"', encoding=\"utf8\", )"
   ]
  },
  {
   "cell_type": "code",
   "execution_count": 3,
   "metadata": {},
   "outputs": [],
   "source": [
    "# rename homophily columns\n",
    "col_names=['Group1', 'Group2', 'Frac_of_Friends', 'Density']\n",
    "homophily_data.columns = col_names"
   ]
  },
  {
   "cell_type": "code",
   "execution_count": 4,
   "metadata": {},
   "outputs": [],
   "source": [
    "# Drop moderates from the homophily data\n",
    "h = homophily_data.loc[~((homophily_data['Group1']=='Moderates') | (homophily_data['Group2']=='Moderate friends'))]\n",
    "# replace Liberals with A\n",
    "# replace conservatives with B\n",
    "homophily = h.copy()\n",
    "homophily['Group1'] = homophily['Group1'].replace(['Liberals'],'A')\n",
    "homophily['Group1'] = homophily['Group1'].replace(['Conservatives'],'B')\n",
    "homophily['Group2'] = homophily['Group2'].replace(['Liberal friends'],'A')\n",
    "homophily['Group2'] = homophily['Group2'].replace(['Conservative friends'],'B')"
   ]
  },
  {
   "cell_type": "code",
   "execution_count": 5,
   "metadata": {},
   "outputs": [
    {
     "data": {
      "text/plain": [
       "<seaborn.axisgrid.FacetGrid at 0x10fffe190>"
      ]
     },
     "execution_count": 5,
     "metadata": {},
     "output_type": "execute_result"
    },
    {
     "data": {
      "image/png": "[encoded data removed]",
      "text/plain": [
       "<Figure size 764.875x360 with 2 Axes>"
      ]
     },
     "metadata": {
      "needs_background": "light"
     },
     "output_type": "display_data"
    }
   ],
   "source": [
    "g = sns.catplot(data=homophily, kind='bar',\n",
    "            x='Frac_of_Friends', y='Density',\n",
    "            hue='Group2', col='Group1')\n",
    "\n",
    "for ax in g.axes.flat:\n",
    "    ax.set_title(ax.title.get_text().replace('Group1', 'Group membership'))\n",
    "    # reduce xtick density\n",
    "    for ind, label in enumerate(ax.get_xticklabels()):\n",
    "        label.set_visible(ind % 10 == 0)\n",
    "        \n",
    "g._legend.set_title('Group of friends')\n",
    "\n",
    "g.set(xlabel='Fraction of friends', ylabel='Density')"
   ]
  },
  {
   "cell_type": "code",
   "execution_count": 6,
   "metadata": {},
   "outputs": [
    {
     "data": {
      "text/plain": [
       "(404, 4)"
      ]
     },
     "execution_count": 6,
     "metadata": {},
     "output_type": "execute_result"
    }
   ],
   "source": [
    "homophily.shape"
   ]
  },
  {
   "cell_type": "code",
   "execution_count": 7,
   "metadata": {},
   "outputs": [],
   "source": [
    "group_A = homophily[homophily.Group1=='A'][:-36]\n",
    "group_B = homophily[homophily.Group1=='B'][:-29]\n",
    "groups = pd.concat([group_A, group_B], ignore_index=True)"
   ]
  },
  {
   "cell_type": "markdown",
   "metadata": {},
   "source": [
    "### Articles"
   ]
  },
  {
   "cell_type": "code",
   "execution_count": 8,
   "metadata": {},
   "outputs": [
    {
     "data": {
      "text/html": [
       "<div>\n",
       "<style scoped>\n",
       "    .dataframe tbody tr th:only-of-type {\n",
       "        vertical-align: middle;\n",
       "    }\n",
       "\n",
       "    .dataframe tbody tr th {\n",
       "        vertical-align: top;\n",
       "    }\n",
       "\n",
       "    .dataframe thead th {\n",
       "        text-align: right;\n",
       "    }\n",
       "</style>\n",
       "<table border=\"1\" class=\"dataframe\">\n",
       "  <thead>\n",
       "    <tr style=\"text-align: right;\">\n",
       "      <th></th>\n",
       "      <th>s</th>\n",
       "      <th>P_A</th>\n",
       "      <th>P_B</th>\n",
       "    </tr>\n",
       "  </thead>\n",
       "  <tbody>\n",
       "    <tr>\n",
       "      <th>0</th>\n",
       "      <td>a</td>\n",
       "      <td>0.1755</td>\n",
       "      <td>0.0002</td>\n",
       "    </tr>\n",
       "    <tr>\n",
       "      <th>1</th>\n",
       "      <td>a</td>\n",
       "      <td>0.8480</td>\n",
       "      <td>0.0000</td>\n",
       "    </tr>\n",
       "    <tr>\n",
       "      <th>2</th>\n",
       "      <td>a</td>\n",
       "      <td>0.0945</td>\n",
       "      <td>0.0001</td>\n",
       "    </tr>\n",
       "    <tr>\n",
       "      <th>3</th>\n",
       "      <td>a</td>\n",
       "      <td>0.0072</td>\n",
       "      <td>0.0000</td>\n",
       "    </tr>\n",
       "    <tr>\n",
       "      <th>4</th>\n",
       "      <td>a</td>\n",
       "      <td>0.0473</td>\n",
       "      <td>0.0000</td>\n",
       "    </tr>\n",
       "  </tbody>\n",
       "</table>\n",
       "</div>"
      ],
      "text/plain": [
       "   s     P_A     P_B\n",
       "0  a  0.1755  0.0002\n",
       "1  a  0.8480  0.0000\n",
       "2  a  0.0945  0.0001\n",
       "3  a  0.0072  0.0000\n",
       "4  a  0.0473  0.0000"
      ]
     },
     "execution_count": 8,
     "metadata": {},
     "output_type": "execute_result"
    }
   ],
   "source": [
    "# remove very liberal, moderates, and very conservatives from top500 data\n",
    "domains = top_500_data.drop(['l2', 'n', 'r2'], axis=1)\n",
    "# replace liberal with A and conservative with B\n",
    "domains.columns = ['s', 'avg_align', 'P_A', 'P_B']\n",
    "\n",
    "## Determine source affliation based on the av_align\n",
    "domains.loc[domains['avg_align'] < 0, 's'] = 'a'\n",
    "domains['s'].mask(domains['s'] != 'a', 'b', inplace=True)\n",
    "domains = domains.drop(['avg_align'], axis=1)\n",
    "domains.sample(frac=1).reset_index(drop=True)\n",
    "domains.head()"
   ]
  },
  {
   "cell_type": "markdown",
   "metadata": {},
   "source": [
    "### concatenation of articles and homophily\n",
    "\n",
    "- In case it's needed at some point"
   ]
  },
  {
   "cell_type": "code",
   "execution_count": 9,
   "metadata": {},
   "outputs": [
    {
     "data": {
      "text/html": [
       "<div>\n",
       "<style scoped>\n",
       "    .dataframe tbody tr th:only-of-type {\n",
       "        vertical-align: middle;\n",
       "    }\n",
       "\n",
       "    .dataframe tbody tr th {\n",
       "        vertical-align: top;\n",
       "    }\n",
       "\n",
       "    .dataframe thead th {\n",
       "        text-align: right;\n",
       "    }\n",
       "</style>\n",
       "<table border=\"1\" class=\"dataframe\">\n",
       "  <thead>\n",
       "    <tr style=\"text-align: right;\">\n",
       "      <th></th>\n",
       "      <th>s</th>\n",
       "      <th>P_A</th>\n",
       "      <th>P_B</th>\n",
       "      <th>Group1</th>\n",
       "      <th>Group2</th>\n",
       "      <th>q_g</th>\n",
       "      <th>Density</th>\n",
       "    </tr>\n",
       "  </thead>\n",
       "  <tbody>\n",
       "    <tr>\n",
       "      <th>0</th>\n",
       "      <td>b</td>\n",
       "      <td>0.2044</td>\n",
       "      <td>0.2910</td>\n",
       "      <td>B</td>\n",
       "      <td>B</td>\n",
       "      <td>0.053735</td>\n",
       "      <td>0.002336</td>\n",
       "    </tr>\n",
       "    <tr>\n",
       "      <th>1</th>\n",
       "      <td>a</td>\n",
       "      <td>0.4446</td>\n",
       "      <td>0.1435</td>\n",
       "      <td>A</td>\n",
       "      <td>B</td>\n",
       "      <td>0.244752</td>\n",
       "      <td>0.004079</td>\n",
       "    </tr>\n",
       "    <tr>\n",
       "      <th>2</th>\n",
       "      <td>a</td>\n",
       "      <td>0.2407</td>\n",
       "      <td>0.0532</td>\n",
       "      <td>B</td>\n",
       "      <td>A</td>\n",
       "      <td>0.276094</td>\n",
       "      <td>0.034512</td>\n",
       "    </tr>\n",
       "    <tr>\n",
       "      <th>3</th>\n",
       "      <td>a</td>\n",
       "      <td>0.6939</td>\n",
       "      <td>0.0004</td>\n",
       "      <td>A</td>\n",
       "      <td>A</td>\n",
       "      <td>1.017302</td>\n",
       "      <td>0.011303</td>\n",
       "    </tr>\n",
       "    <tr>\n",
       "      <th>4</th>\n",
       "      <td>a</td>\n",
       "      <td>0.1917</td>\n",
       "      <td>0.0001</td>\n",
       "      <td>A</td>\n",
       "      <td>A</td>\n",
       "      <td>0.094118</td>\n",
       "      <td>0.004482</td>\n",
       "    </tr>\n",
       "  </tbody>\n",
       "</table>\n",
       "</div>"
      ],
      "text/plain": [
       "   s     P_A     P_B Group1 Group2       q_g   Density\n",
       "0  b  0.2044  0.2910      B      B  0.053735  0.002336\n",
       "1  a  0.4446  0.1435      A      B  0.244752  0.004079\n",
       "2  a  0.2407  0.0532      B      A  0.276094  0.034512\n",
       "3  a  0.6939  0.0004      A      A  1.017302  0.011303\n",
       "4  a  0.1917  0.0001      A      A  0.094118  0.004482"
      ]
     },
     "execution_count": 9,
     "metadata": {},
     "output_type": "execute_result"
    }
   ],
   "source": [
    "data = pd.concat([domains, groups], axis=1)\n",
    "dataset = data.sample(frac=1).reset_index(drop=True)\n",
    "dataset['q_g'] = dataset.Frac_of_Friends * dataset.Density * 100\n",
    "facebook_data = dataset[['s', 'P_A', 'P_B', 'Group1', 'Group2', 'q_g', 'Density']]\n",
    "facebook_data.head()"
   ]
  },
  {
   "cell_type": "code",
   "execution_count": null,
   "metadata": {},
   "outputs": [],
   "source": []
  },
  {
   "cell_type": "markdown",
   "metadata": {},
   "source": [
    "## $\\pi$, $\\theta$ and  $q_g$ Estimations"
   ]
  },
  {
   "cell_type": "code",
   "execution_count": 10,
   "metadata": {},
   "outputs": [
    {
     "data": {
      "text/html": [
       "<div>\n",
       "<style scoped>\n",
       "    .dataframe tbody tr th:only-of-type {\n",
       "        vertical-align: middle;\n",
       "    }\n",
       "\n",
       "    .dataframe tbody tr th {\n",
       "        vertical-align: top;\n",
       "    }\n",
       "\n",
       "    .dataframe thead th {\n",
       "        text-align: right;\n",
       "    }\n",
       "</style>\n",
       "<table border=\"1\" class=\"dataframe\">\n",
       "  <thead>\n",
       "    <tr style=\"text-align: right;\">\n",
       "      <th></th>\n",
       "      <th>index</th>\n",
       "      <th>$\\pi$</th>\n",
       "    </tr>\n",
       "  </thead>\n",
       "  <tbody>\n",
       "    <tr>\n",
       "      <th>0</th>\n",
       "      <td>B</td>\n",
       "      <td>0.510324</td>\n",
       "    </tr>\n",
       "    <tr>\n",
       "      <th>1</th>\n",
       "      <td>A</td>\n",
       "      <td>0.489676</td>\n",
       "    </tr>\n",
       "  </tbody>\n",
       "</table>\n",
       "</div>"
      ],
      "text/plain": [
       "  index     $\\pi$\n",
       "0     B  0.510324\n",
       "1     A  0.489676"
      ]
     },
     "execution_count": 10,
     "metadata": {},
     "output_type": "execute_result"
    }
   ],
   "source": [
    "facebook_data.Group1.value_counts(normalize=True).rename(\"$\\pi$\").reset_index()"
   ]
  },
  {
   "cell_type": "markdown",
   "metadata": {},
   "source": [
    "### $q_g$"
   ]
  },
  {
   "cell_type": "code",
   "execution_count": 11,
   "metadata": {},
   "outputs": [
    {
     "data": {
      "text/latex": [
       "$\n",
       "q_A: 0.599807747496$"
      ],
      "text/plain": [
       "<IPython.core.display.Latex object>"
      ]
     },
     "metadata": {},
     "output_type": "display_data"
    },
    {
     "data": {
      "text/latex": [
       "$1 - q_A: 0.400192252504$"
      ],
      "text/plain": [
       "<IPython.core.display.Latex object>"
      ]
     },
     "metadata": {},
     "output_type": "display_data"
    }
   ],
   "source": [
    "groupA = facebook_data [(facebook_data.Group1 == 'A') & (facebook_data.Group2 == 'A') ]  \n",
    "display(Latex(\"$\\nq_A: {}$\".format(groupA.q_g.sum()/100)))\n",
    "display(Latex(\"$1 - q_A: {}$\".format(1-groupA.q_g.sum()/100)))"
   ]
  },
  {
   "cell_type": "code",
   "execution_count": 12,
   "metadata": {},
   "outputs": [
    {
     "data": {
      "text/latex": [
       "\n",
       "$q_B: 0.302738098948$"
      ],
      "text/plain": [
       "<IPython.core.display.Latex object>"
      ]
     },
     "metadata": {},
     "output_type": "display_data"
    },
    {
     "data": {
      "text/latex": [
       "$1 - q_B: 0.697261901052$"
      ],
      "text/plain": [
       "<IPython.core.display.Latex object>"
      ]
     },
     "metadata": {},
     "output_type": "display_data"
    }
   ],
   "source": [
    "groupB = facebook_data [(facebook_data.Group1 == 'B') & (facebook_data.Group2 == 'B') ]  \n",
    "display(Latex(\"\\n$q_B: {}$\".format(groupB.q_g.sum()/100)))\n",
    "display(Latex(\"$1 - q_B: {}$\".format(1-groupB.q_g.sum()/100)))"
   ]
  },
  {
   "cell_type": "markdown",
   "metadata": {},
   "source": [
    "## Probability Distributions"
   ]
  },
  {
   "cell_type": "code",
   "execution_count": 13,
   "metadata": {},
   "outputs": [
    {
     "data": {
      "text/plain": [
       "<matplotlib.axes._subplots.AxesSubplot at 0x1315bd450>"
      ]
     },
     "execution_count": 13,
     "metadata": {},
     "output_type": "execute_result"
    },
    {
     "data": {
      "image/png": "[encoded data removed]",
      "text/plain": [
       "<Figure size 432x288 with 1 Axes>"
      ]
     },
     "metadata": {
      "needs_background": "light"
     },
     "output_type": "display_data"
    }
   ],
   "source": [
    "sns.distplot(facebook_data.P_A, fit=norm, kde=True)"
   ]
  },
  {
   "cell_type": "code",
   "execution_count": 14,
   "metadata": {},
   "outputs": [
    {
     "data": {
      "text/plain": [
       "<matplotlib.axes._subplots.AxesSubplot at 0x1364c8990>"
      ]
     },
     "execution_count": 14,
     "metadata": {},
     "output_type": "execute_result"
    },
    {
     "data": {
      "image/png": "[encoded data removed]",
      "text/plain": [
       "<Figure size 432x288 with 1 Axes>"
      ]
     },
     "metadata": {
      "needs_background": "light"
     },
     "output_type": "display_data"
    }
   ],
   "source": [
    "sns.distplot(facebook_data.P_B)"
   ]
  },
  {
   "cell_type": "code",
   "execution_count": 15,
   "metadata": {},
   "outputs": [
    {
     "data": {
      "text/html": [
       "<div>\n",
       "<style scoped>\n",
       "    .dataframe tbody tr th:only-of-type {\n",
       "        vertical-align: middle;\n",
       "    }\n",
       "\n",
       "    .dataframe tbody tr th {\n",
       "        vertical-align: top;\n",
       "    }\n",
       "\n",
       "    .dataframe thead th {\n",
       "        text-align: right;\n",
       "    }\n",
       "</style>\n",
       "<table border=\"1\" class=\"dataframe\">\n",
       "  <thead>\n",
       "    <tr style=\"text-align: right;\">\n",
       "      <th></th>\n",
       "      <th>s</th>\n",
       "      <th>P_A</th>\n",
       "      <th>P_B</th>\n",
       "      <th>Group1</th>\n",
       "      <th>Group2</th>\n",
       "      <th>q_g</th>\n",
       "      <th>Density</th>\n",
       "    </tr>\n",
       "  </thead>\n",
       "  <tbody>\n",
       "    <tr>\n",
       "      <th>0</th>\n",
       "      <td>b</td>\n",
       "      <td>0.2044</td>\n",
       "      <td>0.2910</td>\n",
       "      <td>B</td>\n",
       "      <td>B</td>\n",
       "      <td>0.053735</td>\n",
       "      <td>0.002336</td>\n",
       "    </tr>\n",
       "    <tr>\n",
       "      <th>1</th>\n",
       "      <td>a</td>\n",
       "      <td>0.4446</td>\n",
       "      <td>0.1435</td>\n",
       "      <td>A</td>\n",
       "      <td>B</td>\n",
       "      <td>0.244752</td>\n",
       "      <td>0.004079</td>\n",
       "    </tr>\n",
       "    <tr>\n",
       "      <th>2</th>\n",
       "      <td>a</td>\n",
       "      <td>0.2407</td>\n",
       "      <td>0.0532</td>\n",
       "      <td>B</td>\n",
       "      <td>A</td>\n",
       "      <td>0.276094</td>\n",
       "      <td>0.034512</td>\n",
       "    </tr>\n",
       "    <tr>\n",
       "      <th>3</th>\n",
       "      <td>a</td>\n",
       "      <td>0.6939</td>\n",
       "      <td>0.0004</td>\n",
       "      <td>A</td>\n",
       "      <td>A</td>\n",
       "      <td>1.017302</td>\n",
       "      <td>0.011303</td>\n",
       "    </tr>\n",
       "    <tr>\n",
       "      <th>4</th>\n",
       "      <td>a</td>\n",
       "      <td>0.1917</td>\n",
       "      <td>0.0001</td>\n",
       "      <td>A</td>\n",
       "      <td>A</td>\n",
       "      <td>0.094118</td>\n",
       "      <td>0.004482</td>\n",
       "    </tr>\n",
       "  </tbody>\n",
       "</table>\n",
       "</div>"
      ],
      "text/plain": [
       "   s     P_A     P_B Group1 Group2       q_g   Density\n",
       "0  b  0.2044  0.2910      B      B  0.053735  0.002336\n",
       "1  a  0.4446  0.1435      A      B  0.244752  0.004079\n",
       "2  a  0.2407  0.0532      B      A  0.276094  0.034512\n",
       "3  a  0.6939  0.0004      A      A  1.017302  0.011303\n",
       "4  a  0.1917  0.0001      A      A  0.094118  0.004482"
      ]
     },
     "execution_count": 15,
     "metadata": {},
     "output_type": "execute_result"
    }
   ],
   "source": [
    "facebook_data.dropna().head()"
   ]
  },
  {
   "cell_type": "code",
   "execution_count": 16,
   "metadata": {},
   "outputs": [
    {
     "data": {
      "text/plain": [
       "True"
      ]
     },
     "execution_count": 16,
     "metadata": {},
     "output_type": "execute_result"
    }
   ],
   "source": [
    "(domains.P_B == 0).any()"
   ]
  },
  {
   "cell_type": "code",
   "execution_count": 17,
   "metadata": {},
   "outputs": [
    {
     "data": {
      "text/plain": [
       "True"
      ]
     },
     "execution_count": 17,
     "metadata": {},
     "output_type": "execute_result"
    }
   ],
   "source": [
    "(domains.P_A == 0).any()"
   ]
  },
  {
   "cell_type": "code",
   "execution_count": 18,
   "metadata": {},
   "outputs": [
    {
     "data": {
      "text/plain": [
       "True"
      ]
     },
     "execution_count": 18,
     "metadata": {},
     "output_type": "execute_result"
    }
   ],
   "source": [
    "(domains.P_A == 1).any()"
   ]
  },
  {
   "cell_type": "code",
   "execution_count": 19,
   "metadata": {},
   "outputs": [
    {
     "data": {
      "text/plain": [
       "True"
      ]
     },
     "execution_count": 19,
     "metadata": {},
     "output_type": "execute_result"
    }
   ],
   "source": [
    "(domains.P_A == 1).any()"
   ]
  },
  {
   "cell_type": "markdown",
   "metadata": {},
   "source": [
    "### Change probabilities from 0 to 0.0000000001 and 1 to 0.99998"
   ]
  },
  {
   "cell_type": "code",
   "execution_count": 20,
   "metadata": {},
   "outputs": [
    {
     "data": {
      "text/html": [
       "<div>\n",
       "<style scoped>\n",
       "    .dataframe tbody tr th:only-of-type {\n",
       "        vertical-align: middle;\n",
       "    }\n",
       "\n",
       "    .dataframe tbody tr th {\n",
       "        vertical-align: top;\n",
       "    }\n",
       "\n",
       "    .dataframe thead th {\n",
       "        text-align: right;\n",
       "    }\n",
       "</style>\n",
       "<table border=\"1\" class=\"dataframe\">\n",
       "  <thead>\n",
       "    <tr style=\"text-align: right;\">\n",
       "      <th></th>\n",
       "      <th>s</th>\n",
       "      <th>P_A</th>\n",
       "      <th>P_B</th>\n",
       "    </tr>\n",
       "  </thead>\n",
       "  <tbody>\n",
       "    <tr>\n",
       "      <th>0</th>\n",
       "      <td>a</td>\n",
       "      <td>0.1755</td>\n",
       "      <td>2.000000e-04</td>\n",
       "    </tr>\n",
       "    <tr>\n",
       "      <th>1</th>\n",
       "      <td>a</td>\n",
       "      <td>0.8480</td>\n",
       "      <td>1.000000e-10</td>\n",
       "    </tr>\n",
       "    <tr>\n",
       "      <th>2</th>\n",
       "      <td>a</td>\n",
       "      <td>0.0945</td>\n",
       "      <td>1.000000e-04</td>\n",
       "    </tr>\n",
       "    <tr>\n",
       "      <th>3</th>\n",
       "      <td>a</td>\n",
       "      <td>0.0072</td>\n",
       "      <td>1.000000e-10</td>\n",
       "    </tr>\n",
       "    <tr>\n",
       "      <th>4</th>\n",
       "      <td>a</td>\n",
       "      <td>0.0473</td>\n",
       "      <td>1.000000e-10</td>\n",
       "    </tr>\n",
       "  </tbody>\n",
       "</table>\n",
       "</div>"
      ],
      "text/plain": [
       "   s     P_A           P_B\n",
       "0  a  0.1755  2.000000e-04\n",
       "1  a  0.8480  1.000000e-10\n",
       "2  a  0.0945  1.000000e-04\n",
       "3  a  0.0072  1.000000e-10\n",
       "4  a  0.0473  1.000000e-10"
      ]
     },
     "execution_count": 20,
     "metadata": {},
     "output_type": "execute_result"
    }
   ],
   "source": [
    "domains.loc[domains['P_A'] == 0, 'P_A'] = 0.0000000001\n",
    "domains.loc[domains['P_B'] == 0, 'P_B'] = 0.0000000001\n",
    "domains.loc[domains['P_A'] == 1, 'P_A'] = 0.99998\n",
    "domains.loc[domains['P_B'] == 1, 'P_B'] = 0.99998\n",
    "domains.head()"
   ]
  },
  {
   "cell_type": "markdown",
   "metadata": {},
   "source": [
    "## Probability distributions"
   ]
  },
  {
   "cell_type": "markdown",
   "metadata": {},
   "source": [
    "### Probabilities of $P_{A}$"
   ]
  },
  {
   "cell_type": "code",
   "execution_count": 21,
   "metadata": {},
   "outputs": [
    {
     "data": {
      "text/plain": [
       "<matplotlib.axes._subplots.AxesSubplot at 0x134489c10>"
      ]
     },
     "execution_count": 21,
     "metadata": {},
     "output_type": "execute_result"
    },
    {
     "data": {
      "image/png": "[encoded data removed]",
      "text/plain": [
       "<Figure size 432x288 with 1 Axes>"
      ]
     },
     "metadata": {
      "needs_background": "light"
     },
     "output_type": "display_data"
    }
   ],
   "source": [
    "# MLE estimates for the parameters of the beta distribution (for p_A)\n",
    "a1, b1, loc1, scale1 = beta.fit(domains.P_A, floc=0, fscale=1)\n",
    "a1, b1\n",
    "sns.kdeplot(np.random.beta(a=a1, b=b1, size=domains.P_A.shape[0]))\n",
    "sns.kdeplot(domains.P_A)"
   ]
  },
  {
   "cell_type": "markdown",
   "metadata": {},
   "source": [
    "### Probabilities of $P_{B}$"
   ]
  },
  {
   "cell_type": "code",
   "execution_count": 22,
   "metadata": {},
   "outputs": [
    {
     "data": {
      "text/plain": [
       "<matplotlib.axes._subplots.AxesSubplot at 0x136596fd0>"
      ]
     },
     "execution_count": 22,
     "metadata": {},
     "output_type": "execute_result"
    },
    {
     "data": {
      "image/png": "[encoded data removed]",
      "text/plain": [
       "<Figure size 432x288 with 1 Axes>"
      ]
     },
     "metadata": {
      "needs_background": "light"
     },
     "output_type": "display_data"
    }
   ],
   "source": [
    "# MLE estimates for the parameters of the beta distribution (for p_A)\n",
    "a2, b2, loc2, scale2 = beta.fit(domains.P_B, floc=0, fscale=1)\n",
    "a2, b2\n",
    "sns.kdeplot(np.random.beta(a=a1, b=b1, size=domains.P_B.shape[0]))\n",
    "sns.kdeplot(domains.P_B)"
   ]
  },
  {
   "cell_type": "markdown",
   "metadata": {},
   "source": [
    "### Probabilities of $P_{Aa}$"
   ]
  },
  {
   "cell_type": "code",
   "execution_count": 23,
   "metadata": {},
   "outputs": [
    {
     "data": {
      "text/plain": [
       "<matplotlib.axes._subplots.AxesSubplot at 0x136637310>"
      ]
     },
     "execution_count": 23,
     "metadata": {},
     "output_type": "execute_result"
    },
    {
     "data": {
      "image/png": "[encoded data removed]",
      "text/plain": [
       "<Figure size 432x288 with 1 Axes>"
      ]
     },
     "metadata": {
      "needs_background": "light"
     },
     "output_type": "display_data"
    }
   ],
   "source": [
    "# MLE estimates for the parameters of the beta distribution (for p_A)\n",
    "domains_aa = domains[domains.s=='a']\n",
    "a1, b1, loc1, scale1 = beta.fit(domains_aa.P_A, floc=0, fscale=1)\n",
    "a1, b1\n",
    "sns.kdeplot(np.random.beta(a=a1, b=b1, size=domains_aa.P_A.shape[0]))\n",
    "sns.kdeplot(domains_aa.P_A)"
   ]
  },
  {
   "cell_type": "markdown",
   "metadata": {},
   "source": [
    "### Probabilities of $P_{Ab}$"
   ]
  },
  {
   "cell_type": "code",
   "execution_count": 24,
   "metadata": {},
   "outputs": [
    {
     "data": {
      "text/plain": [
       "<matplotlib.axes._subplots.AxesSubplot at 0x1365d6950>"
      ]
     },
     "execution_count": 24,
     "metadata": {},
     "output_type": "execute_result"
    },
    {
     "data": {
      "image/png": "[encoded data removed]",
      "text/plain": [
       "<Figure size 432x288 with 1 Axes>"
      ]
     },
     "metadata": {
      "needs_background": "light"
     },
     "output_type": "display_data"
    }
   ],
   "source": [
    "# MLE estimates for the parameters of the beta distribution (for p_A)\n",
    "domains_ab = domains[domains.s=='b']\n",
    "a1, b1, loc1, scale1 = beta.fit(domains_ab.P_A, floc=0, fscale=1)\n",
    "a1, b1\n",
    "sns.kdeplot(np.random.beta(a=a1, b=b1, size=domains_ab.P_A.shape[0]))\n",
    "sns.kdeplot(domains_ab.P_A)"
   ]
  },
  {
   "cell_type": "markdown",
   "metadata": {},
   "source": [
    "### Probabilities of $P_{Ba}$"
   ]
  },
  {
   "cell_type": "code",
   "execution_count": 25,
   "metadata": {},
   "outputs": [
    {
     "data": {
      "text/plain": [
       "<matplotlib.axes._subplots.AxesSubplot at 0x136732b10>"
      ]
     },
     "execution_count": 25,
     "metadata": {},
     "output_type": "execute_result"
    },
    {
     "data": {
      "image/png": "[encoded data removed]",
      "text/plain": [
       "<Figure size 432x288 with 1 Axes>"
      ]
     },
     "metadata": {
      "needs_background": "light"
     },
     "output_type": "display_data"
    }
   ],
   "source": [
    "# MLE estimates for the parameters of the beta distribution (for p_A)\n",
    "domains_ba = domains[domains.s=='a']\n",
    "a1, b1, loc1, scale1 = beta.fit(domains_ba.P_B, floc=0, fscale=1)\n",
    "a1, b1\n",
    "sns.kdeplot(np.random.beta(a=a1, b=b1, size=domains_ba.P_A.shape[0]))\n",
    "sns.kdeplot(domains_ba.P_A)"
   ]
  },
  {
   "cell_type": "markdown",
   "metadata": {},
   "source": [
    "### Probabilities of $P_{Bb}$"
   ]
  },
  {
   "cell_type": "code",
   "execution_count": 26,
   "metadata": {},
   "outputs": [
    {
     "data": {
      "text/plain": [
       "<matplotlib.axes._subplots.AxesSubplot at 0x13678f790>"
      ]
     },
     "execution_count": 26,
     "metadata": {},
     "output_type": "execute_result"
    },
    {
     "data": {
      "image/png": "[encoded data removed]",
      "text/plain": [
       "<Figure size 432x288 with 1 Axes>"
      ]
     },
     "metadata": {
      "needs_background": "light"
     },
     "output_type": "display_data"
    }
   ],
   "source": [
    "# MLE estimates for the parameters of the beta distribution (for p_A)\n",
    "domains_bb = domains[domains.s=='b']\n",
    "a1, b1, loc1, scale1 = beta.fit(domains_bb.P_B, floc=0, fscale=1)\n",
    "a1, b1\n",
    "sns.kdeplot(np.random.beta(a=a1, b=b1, size=domains_bb.P_B.shape[0]))\n",
    "sns.kdeplot(domains_bb.P_B)"
   ]
  },
  {
   "cell_type": "code",
   "execution_count": null,
   "metadata": {},
   "outputs": [],
   "source": []
  }
 ],
 "metadata": {
  "kernelspec": {
   "display_name": "Python 3",
   "language": "python",
   "name": "python3"
  },
  "language_info": {
   "codemirror_mode": {
    "name": "ipython",
    "version": 2
   },
   "file_extension": ".py",
   "mimetype": "text/x-python",
   "name": "python",
   "nbconvert_exporter": "python",
   "pygments_lexer": "ipython2",
   "version": "2.7.16"
  }
 },
 "nbformat": 4,
 "nbformat_minor": 4
}

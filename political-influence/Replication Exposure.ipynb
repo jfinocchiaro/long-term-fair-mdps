{
 "cells": [
  {
   "cell_type": "markdown",
   "metadata": {},
   "source": [
    "# Political News and the Fair Exposure Problem under Homophily"
   ]
  },
  {
   "cell_type": "markdown",
   "metadata": {},
   "source": [
    "## All required libraries"
   ]
  },
  {
   "cell_type": "code",
   "execution_count": 1,
   "metadata": {},
   "outputs": [],
   "source": [
    "import numpy as np\n",
    "import pandas as pd\n",
    "import seaborn as sns\n",
    "from scipy.stats import beta\n",
    "from matplotlib import pyplot as plt\n",
    "import re\n",
    "\n",
    "import random\n",
    "import platform_opt\n",
    "from players import *\n",
    "\n",
    "from IPython.display import Markdown, display, Latex\n",
    "from scipy.stats import norm\n",
    "\n",
    "def printmd(string):\n",
    "    display(Markdown(string))"
   ]
  },
  {
   "cell_type": "markdown",
   "metadata": {},
   "source": [
    "## Important Parameters"
   ]
  },
  {
   "cell_type": "markdown",
   "metadata": {},
   "source": [
    "- $T$: Number of timesteps\n",
    "- $M$: Finite mass of user\n",
    "- $g \\in \\{A, B\\}$: Political Affliation/ Preference\n",
    "- $\\pi_g \\in (0, 1)$: Fraction of users from group $g$ \n",
    "- $t \\in \\{1, \\cdots , T\\}$:  Discrete Time T $\\leq $ M\n",
    "- $s \\in \\{a, b\\}$: Article sources afliated with $A, B$\n",
    "- $\\theta_{A}, \\theta_B \\in [0, 1]$: Fraction of users shown an article\n",
    "- $P_{g,s}$: Probability of users of group $g$ who like an article from source $s$\n",
    "- $c > 0$: Cost user incur for clicking an article\n",
    "- $v > 0$: Utility users get for liking an article\n",
    "- $q_{g} > 0.5$: Probability of in-group propagation "
   ]
  },
  {
   "cell_type": "markdown",
   "metadata": {},
   "source": [
    "## Load and clean the dataset:  [Replication Data](https://dataverse.harvard.edu/dataset.xhtml?persistentId=doi:10.7910/DVN/AAI7VA)"
   ]
  },
  {
   "cell_type": "markdown",
   "metadata": {},
   "source": [
    "### Dataset description borrowed from ReadMe.md of [Replication Data](https://dataverse.harvard.edu/dataset.xhtml?persistentId=doi:10.7910/DVN/AAI7VA)\n",
    "\n",
    "#### Top500 \n",
    "\n",
    "- domain ---> s: domain\n",
    "- l1 ---> $P_{A}$ : proportion of shares with liberal alignment from s\n",
    "- r1 ---> $P_{B}$: proportion of shares with conservative alignment from s\n",
    "\n",
    "The top 500 most shared domains have each been shared at least 44,000 times. \n",
    "- T = ?\n",
    "- |a| < |b|\n",
    "\n",
    "This set of domains covers over 80% of the URLs classified as hard content that\n",
    "\n",
    "#### Homophily\n",
    "\n",
    "- viewer ---> A / B: affiliation of an individual in the sampling frame of the study.\n",
    "- friend ---> A / B : affiliation of friend.\n",
    "- frac_of_friends --->: bucketed (in increments of 0.01) fraction of friends with the given affiliation.\n",
    "- density --->: proportion of friends within the given bucket.\n",
    "\n"
   ]
  },
  {
   "cell_type": "code",
   "execution_count": 2,
   "metadata": {},
   "outputs": [],
   "source": [
    "hard_news = ['nytimes.com', 'huffingtonpost.com', 'news.yahoo.com','cnn.com','foxnews.com','video.foxnews.com',\n",
    "  'foxnewsinsider.com', 'npr.org','theblaze.com','abcnews.go.com', 'msnbc.MSN.com', 'dailycaller.com',\n",
    "  'examiner.com', 'guardian.co.uk', 'cbsnews.com','politico.com','forbes.com', 'dailykos.com', 'reuters.com',\n",
    "  'salon.com','motherjones.com', 'latimes.com','slate.com', 'online.wsj.com', 'realclearpolitics.com', 'theatlantic.com',\n",
    "  'bbc.co.uk', 'businessinsider.com', 'video.msnbc.msn.com', 'thehill.com', 'townhall.com', 'content.usatoday.com',\n",
    "  'money.cnn.com', 'breitbart.com', 'aljazeera.com', 'thedailybeast.com', 'telegraph.co.uk', 'bloomberg.com',\n",
    "  'maddowblog.msnbc.com','thenation.com','glennbeck.com', 'talkingpointsmemo.com', 'nationalreview.com','usnews.nbcnews.com',\n",
    "  'politicalticker.blogs.cnn.com','aclu.org','sfgate.com','chicagotribune.com', 'thegatewaypundit.com','nydailynews.com', 'politifact.com',\n",
    "  'csmonitor.com', 'rushlimbaugh.com', 'pbs.org', 'usatoday.com','newamerican.com', 'thenewcivilrightsmovement.com', 'front.moveon.org','thinkprogress.org', 'addictinginfo.org',\n",
    "  'alternet.org', 'rawstory.com',  'infowars.com','newsmax.com', 'rt.com','politicususa.com','truth-out.org', 'commondreams.org',\n",
    "  'tpnn.com',  'democracynow.org', 'americanthinker.com', 'advocate.com','lifenews.com', 'aclj.org', 'readersupportednews.org',\n",
    "  'humanevents.com', 'prisonplanet.com', 'godfatherpolitics.com', 'newsbusters.org',\n",
    "  'nypost.com', 'lifesitenews.com', 'mediamatters.org']"
   ]
  },
  {
   "cell_type": "code",
   "execution_count": 9,
   "metadata": {},
   "outputs": [],
   "source": [
    "# load the datasets\n",
    "data_path = \"datasets/replication_exposure/\"\n",
    "homophily_data = pd.read_csv(data_path+\"homophily_density\", sep=\",\", quotechar='\"', encoding=\"utf8\")\n",
    "top_500_data = pd.read_csv(data_path+\"top500\", sep=\",\", quotechar='\"', encoding=\"utf8\", )"
   ]
  },
  {
   "cell_type": "code",
   "execution_count": 10,
   "metadata": {},
   "outputs": [],
   "source": [
    "# rename homophily columns\n",
    "col_names=['Group1', 'Group2', 'Frac_of_Friends', 'Density']\n",
    "homophily_data.columns = col_names"
   ]
  },
  {
   "cell_type": "code",
   "execution_count": 30,
   "metadata": {},
   "outputs": [],
   "source": [
    "# Drop moderates from the homophily data\n",
    "h = homophily_data.loc[~((homophily_data['Group1']=='Moderates') | (homophily_data['Group2']=='Moderate friends'))]\n",
    "# replace Liberals with A\n",
    "# replace conservatives with B\n",
    "homophily = h.copy()\n",
    "homophily['Group1'] = homophily['Group1'].replace(['Liberals'],'A')\n",
    "homophily['Group1'] = homophily['Group1'].replace(['Conservatives'],'B')\n",
    "homophily['Group2'] = homophily['Group2'].replace(['Liberal friends'],'A')\n",
    "homophily['Group2'] = homophily['Group2'].replace(['Conservative friends'],'B')"
   ]
  },
  {
   "cell_type": "code",
   "execution_count": 41,
   "metadata": {},
   "outputs": [
    {
     "data": {
      "text/plain": [
       "<seaborn.axisgrid.FacetGrid at 0x7f1c31066f70>"
      ]
     },
     "execution_count": 41,
     "metadata": {},
     "output_type": "execute_result"
    },
    {
     "data": {
      "image/png": "[encoded data removed]",
      "text/plain": [
       "<Figure size 764.625x360 with 2 Axes>"
      ]
     },
     "metadata": {
      "needs_background": "light"
     },
     "output_type": "display_data"
    }
   ],
   "source": [
    "g = sns.catplot(data=homophily, kind='bar',\n",
    "            x='Frac_of_Friends', y='Density',\n",
    "            hue='Group2', col='Group1')\n",
    "\n",
    "for ax in g.axes.flat:\n",
    "    ax.set_title(ax.title.get_text().replace('Group1', 'Group membership'))\n",
    "    # reduce xtick density\n",
    "    for ind, label in enumerate(ax.get_xticklabels()):\n",
    "        label.set_visible(ind % 10 == 0)\n",
    "        \n",
    "g._legend.set_title('Group of friends')\n",
    "\n",
    "g.set(xlabel='Fraction of friends', ylabel='Density')"
   ]
  },
  {
   "cell_type": "code",
   "execution_count": 20,
   "metadata": {},
   "outputs": [
    {
     "data": {
      "text/plain": [
       "(565, 4)"
      ]
     },
     "execution_count": 20,
     "metadata": {},
     "output_type": "execute_result"
    }
   ],
   "source": [
    "homophily.shape"
   ]
  },
  {
   "cell_type": "code",
   "execution_count": 8,
   "metadata": {},
   "outputs": [],
   "source": [
    "group_A = homophily[homophily.Group1=='A'][:-36]\n",
    "group_B = homophily[homophily.Group1=='B'][:-29]\n",
    "groups = pd.concat([group_A, group_B], ignore_index=True)"
   ]
  },
  {
   "cell_type": "code",
   "execution_count": 9,
   "metadata": {},
   "outputs": [],
   "source": [
    "# remove very liberal, moderates, and very conservatives from top500 data\n",
    "domains = top_500_data.drop(['l2', 'avg_align', 'n', 'r2'], axis=1)\n",
    "# replace liberal with A and conservative with B\n",
    "domains.columns = ['s', 'P_A', 'P_B']"
   ]
  },
  {
   "cell_type": "code",
   "execution_count": 10,
   "metadata": {},
   "outputs": [],
   "source": [
    "for dom in hard_news:\n",
    "    domains.replace(re.compile('.*'+dom+'.*'), 'a', inplace=True)\n",
    "\n",
    "domains['s'].mask(domains['s'] != 'a', 'b', inplace=True)\n"
   ]
  },
  {
   "cell_type": "code",
   "execution_count": 11,
   "metadata": {},
   "outputs": [
    {
     "data": {
      "text/plain": [
       "(500, 3)"
      ]
     },
     "execution_count": 11,
     "metadata": {},
     "output_type": "execute_result"
    }
   ],
   "source": [
    "domains.shape"
   ]
  },
  {
   "cell_type": "code",
   "execution_count": 12,
   "metadata": {},
   "outputs": [
    {
     "data": {
      "text/html": [
       "<div>\n",
       "<style scoped>\n",
       "    .dataframe tbody tr th:only-of-type {\n",
       "        vertical-align: middle;\n",
       "    }\n",
       "\n",
       "    .dataframe tbody tr th {\n",
       "        vertical-align: top;\n",
       "    }\n",
       "\n",
       "    .dataframe thead th {\n",
       "        text-align: right;\n",
       "    }\n",
       "</style>\n",
       "<table border=\"1\" class=\"dataframe\">\n",
       "  <thead>\n",
       "    <tr style=\"text-align: right;\">\n",
       "      <th></th>\n",
       "      <th>s</th>\n",
       "      <th>P_A</th>\n",
       "      <th>P_B</th>\n",
       "      <th>Group1</th>\n",
       "      <th>Group2</th>\n",
       "      <th>q_g</th>\n",
       "      <th>Density</th>\n",
       "    </tr>\n",
       "  </thead>\n",
       "  <tbody>\n",
       "    <tr>\n",
       "      <th>0</th>\n",
       "      <td>b</td>\n",
       "      <td>0.1095</td>\n",
       "      <td>0.1852</td>\n",
       "      <td>B</td>\n",
       "      <td>B</td>\n",
       "      <td>0.000433</td>\n",
       "      <td>0.000008</td>\n",
       "    </tr>\n",
       "    <tr>\n",
       "      <th>1</th>\n",
       "      <td>b</td>\n",
       "      <td>0.0004</td>\n",
       "      <td>0.1707</td>\n",
       "      <td>B</td>\n",
       "      <td>B</td>\n",
       "      <td>0.046380</td>\n",
       "      <td>0.002209</td>\n",
       "    </tr>\n",
       "    <tr>\n",
       "      <th>2</th>\n",
       "      <td>a</td>\n",
       "      <td>0.0055</td>\n",
       "      <td>0.0005</td>\n",
       "      <td>A</td>\n",
       "      <td>A</td>\n",
       "      <td>0.028709</td>\n",
       "      <td>0.002051</td>\n",
       "    </tr>\n",
       "    <tr>\n",
       "      <th>3</th>\n",
       "      <td>b</td>\n",
       "      <td>0.0003</td>\n",
       "      <td>0.9591</td>\n",
       "      <td>B</td>\n",
       "      <td>B</td>\n",
       "      <td>0.025910</td>\n",
       "      <td>0.000291</td>\n",
       "    </tr>\n",
       "    <tr>\n",
       "      <th>4</th>\n",
       "      <td>a</td>\n",
       "      <td>0.1049</td>\n",
       "      <td>0.0014</td>\n",
       "      <td>A</td>\n",
       "      <td>A</td>\n",
       "      <td>0.249245</td>\n",
       "      <td>0.008595</td>\n",
       "    </tr>\n",
       "  </tbody>\n",
       "</table>\n",
       "</div>"
      ],
      "text/plain": [
       "   s     P_A     P_B Group1 Group2       q_g   Density\n",
       "0  b  0.1095  0.1852      B      B  0.000433  0.000008\n",
       "1  b  0.0004  0.1707      B      B  0.046380  0.002209\n",
       "2  a  0.0055  0.0005      A      A  0.028709  0.002051\n",
       "3  b  0.0003  0.9591      B      B  0.025910  0.000291\n",
       "4  a  0.1049  0.0014      A      A  0.249245  0.008595"
      ]
     },
     "execution_count": 12,
     "metadata": {},
     "output_type": "execute_result"
    }
   ],
   "source": [
    "data = pd.concat([domains, groups], axis=1)\n",
    "dataset = data.sample(frac=1).reset_index(drop=True)\n",
    "dataset['q_g'] = dataset.Frac_of_Friends * dataset.Density * 100\n",
    "facebook_data = dataset[['s', 'P_A', 'P_B', 'Group1', 'Group2', 'q_g', 'Density']]\n",
    "facebook_data.head()"
   ]
  },
  {
   "cell_type": "code",
   "execution_count": 13,
   "metadata": {},
   "outputs": [
    {
     "data": {
      "text/html": [
       "<div>\n",
       "<style scoped>\n",
       "    .dataframe tbody tr th:only-of-type {\n",
       "        vertical-align: middle;\n",
       "    }\n",
       "\n",
       "    .dataframe tbody tr th {\n",
       "        vertical-align: top;\n",
       "    }\n",
       "\n",
       "    .dataframe thead th {\n",
       "        text-align: right;\n",
       "    }\n",
       "</style>\n",
       "<table border=\"1\" class=\"dataframe\">\n",
       "  <thead>\n",
       "    <tr style=\"text-align: right;\">\n",
       "      <th></th>\n",
       "      <th>index</th>\n",
       "      <th>$\\pi$</th>\n",
       "    </tr>\n",
       "  </thead>\n",
       "  <tbody>\n",
       "    <tr>\n",
       "      <th>0</th>\n",
       "      <td>B</td>\n",
       "      <td>0.5</td>\n",
       "    </tr>\n",
       "    <tr>\n",
       "      <th>1</th>\n",
       "      <td>A</td>\n",
       "      <td>0.5</td>\n",
       "    </tr>\n",
       "  </tbody>\n",
       "</table>\n",
       "</div>"
      ],
      "text/plain": [
       "  index  $\\pi$\n",
       "0     B    0.5\n",
       "1     A    0.5"
      ]
     },
     "execution_count": 13,
     "metadata": {},
     "output_type": "execute_result"
    }
   ],
   "source": [
    "facebook_data.Group1.value_counts(normalize=True).rename(\"$\\pi$\").reset_index()"
   ]
  },
  {
   "cell_type": "code",
   "execution_count": 116,
   "metadata": {},
   "outputs": [
    {
     "data": {
      "text/latex": [
       "$\n",
       "q_A: 0.978645126397$"
      ],
      "text/plain": [
       "<IPython.core.display.Latex object>"
      ]
     },
     "metadata": {},
     "output_type": "display_data"
    },
    {
     "data": {
      "text/latex": [
       "$1 - q_A: 0.0213548736029$"
      ],
      "text/plain": [
       "<IPython.core.display.Latex object>"
      ]
     },
     "metadata": {},
     "output_type": "display_data"
    }
   ],
   "source": [
    "groupA = facebook_data [(facebook_data.Group1 == 'A') & (facebook_data.Group2 == 'A') ]  \n",
    "display(Latex(\"$\\nq_A: {}$\".format(groupA.q_g.sum()/100)))\n",
    "display(Latex(\"$1 - q_A: {}$\".format(1-groupA.q_g.sum()/100)))"
   ]
  },
  {
   "cell_type": "code",
   "execution_count": 117,
   "metadata": {},
   "outputs": [
    {
     "data": {
      "text/latex": [
       "\n",
       "$q_B: 0.65403192896$"
      ],
      "text/plain": [
       "<IPython.core.display.Latex object>"
      ]
     },
     "metadata": {},
     "output_type": "display_data"
    },
    {
     "data": {
      "text/latex": [
       "$1 - q_B: 0.34596807104$"
      ],
      "text/plain": [
       "<IPython.core.display.Latex object>"
      ]
     },
     "metadata": {},
     "output_type": "display_data"
    }
   ],
   "source": [
    "groupB = facebook_data [(facebook_data.Group1 == 'B') & (facebook_data.Group2 == 'B') ]  \n",
    "display(Latex(\"\\n$q_B: {}$\".format(groupB.q_g.sum()/100)))\n",
    "display(Latex(\"$1 - q_B: {}$\".format(1-groupB.q_g.sum()/100)))"
   ]
  },
  {
   "cell_type": "code",
   "execution_count": 119,
   "metadata": {},
   "outputs": [
    {
     "data": {
      "text/plain": [
       "<matplotlib.axes._subplots.AxesSubplot at 0x1356c7290>"
      ]
     },
     "execution_count": 119,
     "metadata": {},
     "output_type": "execute_result"
    },
    {
     "data": {
      "image/png": "[encoded data removed]",
      "text/plain": [
       "<Figure size 432x288 with 1 Axes>"
      ]
     },
     "metadata": {
      "needs_background": "light"
     },
     "output_type": "display_data"
    }
   ],
   "source": [
    "sns.distplot(facebook_data.P_A, fit=norm, kde=True)"
   ]
  },
  {
   "cell_type": "code",
   "execution_count": 121,
   "metadata": {},
   "outputs": [
    {
     "data": {
      "text/plain": [
       "<matplotlib.axes._subplots.AxesSubplot at 0x1357732d0>"
      ]
     },
     "execution_count": 121,
     "metadata": {},
     "output_type": "execute_result"
    },
    {
     "data": {
      "image/png": "[encoded data removed]",
      "text/plain": [
       "<Figure size 432x288 with 1 Axes>"
      ]
     },
     "metadata": {
      "needs_background": "light"
     },
     "output_type": "display_data"
    }
   ],
   "source": [
    "sns.distplot(facebook_data.P_B)"
   ]
  },
  {
   "cell_type": "code",
   "execution_count": 128,
   "metadata": {},
   "outputs": [
    {
     "data": {
      "text/html": [
       "<div>\n",
       "<style scoped>\n",
       "    .dataframe tbody tr th:only-of-type {\n",
       "        vertical-align: middle;\n",
       "    }\n",
       "\n",
       "    .dataframe tbody tr th {\n",
       "        vertical-align: top;\n",
       "    }\n",
       "\n",
       "    .dataframe thead th {\n",
       "        text-align: right;\n",
       "    }\n",
       "</style>\n",
       "<table border=\"1\" class=\"dataframe\">\n",
       "  <thead>\n",
       "    <tr style=\"text-align: right;\">\n",
       "      <th></th>\n",
       "      <th>s</th>\n",
       "      <th>P_A</th>\n",
       "      <th>P_B</th>\n",
       "      <th>Group1</th>\n",
       "      <th>Group2</th>\n",
       "      <th>q_g</th>\n",
       "      <th>Density</th>\n",
       "    </tr>\n",
       "  </thead>\n",
       "  <tbody>\n",
       "    <tr>\n",
       "      <th>0</th>\n",
       "      <td>b</td>\n",
       "      <td>0.1847</td>\n",
       "      <td>0.1492</td>\n",
       "      <td>B</td>\n",
       "      <td>B</td>\n",
       "      <td>0.511813</td>\n",
       "      <td>0.021326</td>\n",
       "    </tr>\n",
       "    <tr>\n",
       "      <th>1</th>\n",
       "      <td>b</td>\n",
       "      <td>0.1066</td>\n",
       "      <td>0.4735</td>\n",
       "      <td>B</td>\n",
       "      <td>B</td>\n",
       "      <td>0.326444</td>\n",
       "      <td>0.007962</td>\n",
       "    </tr>\n",
       "    <tr>\n",
       "      <th>2</th>\n",
       "      <td>b</td>\n",
       "      <td>0.6115</td>\n",
       "      <td>0.0133</td>\n",
       "      <td>A</td>\n",
       "      <td>A</td>\n",
       "      <td>0.752159</td>\n",
       "      <td>0.037608</td>\n",
       "    </tr>\n",
       "    <tr>\n",
       "      <th>3</th>\n",
       "      <td>a</td>\n",
       "      <td>0.2693</td>\n",
       "      <td>0.1440</td>\n",
       "      <td>A</td>\n",
       "      <td>A</td>\n",
       "      <td>0.174853</td>\n",
       "      <td>0.002775</td>\n",
       "    </tr>\n",
       "    <tr>\n",
       "      <th>4</th>\n",
       "      <td>b</td>\n",
       "      <td>0.0473</td>\n",
       "      <td>0.0000</td>\n",
       "      <td>A</td>\n",
       "      <td>A</td>\n",
       "      <td>0.000850</td>\n",
       "      <td>0.000213</td>\n",
       "    </tr>\n",
       "  </tbody>\n",
       "</table>\n",
       "</div>"
      ],
      "text/plain": [
       "   s     P_A     P_B Group1 Group2       q_g   Density\n",
       "0  b  0.1847  0.1492      B      B  0.511813  0.021326\n",
       "1  b  0.1066  0.4735      B      B  0.326444  0.007962\n",
       "2  b  0.6115  0.0133      A      A  0.752159  0.037608\n",
       "3  a  0.2693  0.1440      A      A  0.174853  0.002775\n",
       "4  b  0.0473  0.0000      A      A  0.000850  0.000213"
      ]
     },
     "execution_count": 128,
     "metadata": {},
     "output_type": "execute_result"
    }
   ],
   "source": [
    "facebook_data.dropna().head()"
   ]
  },
  {
   "cell_type": "code",
   "execution_count": 130,
   "metadata": {},
   "outputs": [
    {
     "data": {
      "text/plain": [
       "True"
      ]
     },
     "execution_count": 130,
     "metadata": {},
     "output_type": "execute_result"
    }
   ],
   "source": [
    "(facebook_data.P_B == 0).any()"
   ]
  },
  {
   "cell_type": "code",
   "execution_count": 131,
   "metadata": {},
   "outputs": [
    {
     "data": {
      "text/plain": [
       "True"
      ]
     },
     "execution_count": 131,
     "metadata": {},
     "output_type": "execute_result"
    }
   ],
   "source": [
    "(facebook_data.P_A == 0).any()"
   ]
  },
  {
   "cell_type": "code",
   "execution_count": 139,
   "metadata": {},
   "outputs": [
    {
     "data": {
      "text/plain": [
       "True"
      ]
     },
     "execution_count": 139,
     "metadata": {},
     "output_type": "execute_result"
    }
   ],
   "source": [
    "(facebook_data.P_A == 1).any()"
   ]
  },
  {
   "cell_type": "code",
   "execution_count": 138,
   "metadata": {},
   "outputs": [
    {
     "data": {
      "text/plain": [
       "True"
      ]
     },
     "execution_count": 138,
     "metadata": {},
     "output_type": "execute_result"
    }
   ],
   "source": [
    "(facebook_data.P_A == 1).any()"
   ]
  },
  {
   "cell_type": "code",
   "execution_count": 140,
   "metadata": {},
   "outputs": [
    {
     "data": {
      "text/html": [
       "<div>\n",
       "<style scoped>\n",
       "    .dataframe tbody tr th:only-of-type {\n",
       "        vertical-align: middle;\n",
       "    }\n",
       "\n",
       "    .dataframe tbody tr th {\n",
       "        vertical-align: top;\n",
       "    }\n",
       "\n",
       "    .dataframe thead th {\n",
       "        text-align: right;\n",
       "    }\n",
       "</style>\n",
       "<table border=\"1\" class=\"dataframe\">\n",
       "  <thead>\n",
       "    <tr style=\"text-align: right;\">\n",
       "      <th></th>\n",
       "      <th>s</th>\n",
       "      <th>P_A</th>\n",
       "      <th>P_B</th>\n",
       "      <th>Group1</th>\n",
       "      <th>Group2</th>\n",
       "      <th>q_g</th>\n",
       "      <th>Density</th>\n",
       "    </tr>\n",
       "  </thead>\n",
       "  <tbody>\n",
       "    <tr>\n",
       "      <th>0</th>\n",
       "      <td>b</td>\n",
       "      <td>0.1847</td>\n",
       "      <td>1.492000e-01</td>\n",
       "      <td>B</td>\n",
       "      <td>B</td>\n",
       "      <td>0.511813</td>\n",
       "      <td>0.021326</td>\n",
       "    </tr>\n",
       "    <tr>\n",
       "      <th>1</th>\n",
       "      <td>b</td>\n",
       "      <td>0.1066</td>\n",
       "      <td>4.735000e-01</td>\n",
       "      <td>B</td>\n",
       "      <td>B</td>\n",
       "      <td>0.326444</td>\n",
       "      <td>0.007962</td>\n",
       "    </tr>\n",
       "    <tr>\n",
       "      <th>2</th>\n",
       "      <td>b</td>\n",
       "      <td>0.6115</td>\n",
       "      <td>1.330000e-02</td>\n",
       "      <td>A</td>\n",
       "      <td>A</td>\n",
       "      <td>0.752159</td>\n",
       "      <td>0.037608</td>\n",
       "    </tr>\n",
       "    <tr>\n",
       "      <th>3</th>\n",
       "      <td>a</td>\n",
       "      <td>0.2693</td>\n",
       "      <td>1.440000e-01</td>\n",
       "      <td>A</td>\n",
       "      <td>A</td>\n",
       "      <td>0.174853</td>\n",
       "      <td>0.002775</td>\n",
       "    </tr>\n",
       "    <tr>\n",
       "      <th>4</th>\n",
       "      <td>b</td>\n",
       "      <td>0.0473</td>\n",
       "      <td>1.000000e-10</td>\n",
       "      <td>A</td>\n",
       "      <td>A</td>\n",
       "      <td>0.000850</td>\n",
       "      <td>0.000213</td>\n",
       "    </tr>\n",
       "  </tbody>\n",
       "</table>\n",
       "</div>"
      ],
      "text/plain": [
       "   s     P_A           P_B Group1 Group2       q_g   Density\n",
       "0  b  0.1847  1.492000e-01      B      B  0.511813  0.021326\n",
       "1  b  0.1066  4.735000e-01      B      B  0.326444  0.007962\n",
       "2  b  0.6115  1.330000e-02      A      A  0.752159  0.037608\n",
       "3  a  0.2693  1.440000e-01      A      A  0.174853  0.002775\n",
       "4  b  0.0473  1.000000e-10      A      A  0.000850  0.000213"
      ]
     },
     "execution_count": 140,
     "metadata": {},
     "output_type": "execute_result"
    }
   ],
   "source": [
    "facebook_data.loc[facebook_data['P_A'] == 0, 'P_A'] = 0.0000000001\n",
    "facebook_data.loc[facebook_data['P_B'] == 0, 'P_B'] = 0.0000000001\n",
    "facebook_data.loc[facebook_data['P_A'] == 1, 'P_A'] = 0.99998\n",
    "facebook_data.loc[facebook_data['P_B'] == 1, 'P_B'] = 0.99998\n",
    "facebook_data.head()"
   ]
  },
  {
   "cell_type": "code",
   "execution_count": 146,
   "metadata": {},
   "outputs": [
    {
     "data": {
      "text/plain": [
       "<matplotlib.axes._subplots.AxesSubplot at 0x135aa0350>"
      ]
     },
     "execution_count": 146,
     "metadata": {},
     "output_type": "execute_result"
    },
    {
     "data": {
      "image/png": "[encoded data removed]",
      "text/plain": [
       "<Figure size 432x288 with 1 Axes>"
      ]
     },
     "metadata": {
      "needs_background": "light"
     },
     "output_type": "display_data"
    }
   ],
   "source": [
    "# MLE estimates for the parameters of the beta distribution (for p_A)\n",
    "a1, b1, loc1, scale1 = beta.fit(facebook_data.P_A, floc=0, fscale=1)\n",
    "a1, b1\n",
    "sns.kdeplot(np.random.beta(a=a1, b=b1, size=facebook_data.P_A.shape[0]))\n",
    "sns.kdeplot(facebook_data.P_A)"
   ]
  },
  {
   "cell_type": "code",
   "execution_count": 148,
   "metadata": {},
   "outputs": [
    {
     "data": {
      "text/plain": [
       "<matplotlib.axes._subplots.AxesSubplot at 0x135a809d0>"
      ]
     },
     "execution_count": 148,
     "metadata": {},
     "output_type": "execute_result"
    },
    {
     "data": {
      "image/png": "[encoded data removed]",
      "text/plain": [
       "<Figure size 432x288 with 1 Axes>"
      ]
     },
     "metadata": {
      "needs_background": "light"
     },
     "output_type": "display_data"
    }
   ],
   "source": [
    "# MLE estimates for the parameters of the beta distribution (for p_A)\n",
    "a2, b2, loc2, scale2 = beta.fit(facebook_data.P_B, floc=0, fscale=1)\n",
    "a2, b2\n",
    "sns.kdeplot(np.random.beta(a=a1, b=b1, size=facebook_data.P_B.shape[0]))\n",
    "sns.kdeplot(facebook_data.P_B)"
   ]
  },
  {
   "cell_type": "code",
   "execution_count": null,
   "metadata": {},
   "outputs": [],
   "source": []
  }
 ],
 "metadata": {
  "kernelspec": {
   "display_name": "Python 3",
   "language": "python",
   "name": "python3"
  },
  "language_info": {
   "codemirror_mode": {
    "name": "ipython",
    "version": 3
   },
   "file_extension": ".py",
   "mimetype": "text/x-python",
   "name": "python",
   "nbconvert_exporter": "python",
   "pygments_lexer": "ipython3",
   "version": "3.8.3"
  }
 },
 "nbformat": 4,
 "nbformat_minor": 4
}

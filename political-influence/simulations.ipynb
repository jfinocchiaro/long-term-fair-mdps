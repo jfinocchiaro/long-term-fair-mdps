{
 "cells": [
  {
   "cell_type": "code",
   "execution_count": 4,
   "metadata": {},
   "outputs": [],
   "source": [
    "import numpy as np\n",
    "\n",
    "import matplotlib\n",
    "from matplotlib import pyplot as plt \n",
    "\n",
    "import random\n",
    "\n",
    "import platform_opt\n",
    "from players import *"
   ]
  },
  {
   "cell_type": "code",
   "execution_count": 17,
   "metadata": {},
   "outputs": [],
   "source": [
    "# SIMULATION PARAMETERS\n",
    "T = 50                # number of timesteps\n",
    "M = 300                # M >= T\n",
    "pi_a, pi_b = 0.8, 0.2  # number of members in groups a and b\n",
    "m = 200                 # size of unit mass\n",
    "\n",
    "\n",
    "# probability of like | click, user group, article group\n",
    "# P indexed (user group, article group).\n",
    "P = {( 1,  1):  0.9,\n",
    "     ( 1, -1):  0.5,\n",
    "     (-1,  1):  0.5,\n",
    "     (-1, -1):  0.9} \n",
    "\n",
    "# utility for liking, known to both user and platform,\n",
    "# v indexed by (article shown, user group) pair\n",
    "v = {( 1,  1):   2.,\n",
    "     (-1,  1):   1.5,\n",
    "     ( 1, -1):   1.5,\n",
    "     (-1, -1):   2. }\n",
    "\n",
    "# cost of clicking, known to both user and platform,\n",
    "# c indexed by (article shown, user group)\n",
    "c = {( 1,  1):  1.,\n",
    "     (-1,  1):   1.,\n",
    "     ( 1, -1):   1.,\n",
    "     (-1, -1):   1. }\n",
    "\n",
    "# transition probability across groups at time t + 1 \n",
    "# indexed by the first user's group membership\n",
    "q = {1: 1, -1: 1}\n",
    "\n",
    "# approximation parameter for approximately equal probability\n",
    "# of showing articles |theta - 1/2| <= epsilon\n",
    "epsilon = 0.4  \n",
    "\n",
    "# platform chooses their probability for showing article a by maximizing\n",
    "# expected clickthrough rate subject to fairness constraints\n",
    "# probshowA = platform_opt.optimize(epsilon, M * pi_a, M, T,\n",
    "#                                   P[('1', '1')], P[('-1', '1')],\n",
    "#                                   PLA=problike[1], PLB=problike[-1],\n",
    "#                                   muA = probclick[1], muB=probclick[-1])\n",
    "probshowA = 0.5"
   ]
  },
  {
   "cell_type": "code",
   "execution_count": 18,
   "metadata": {},
   "outputs": [
    {
     "name": "stdout",
     "output_type": "stream",
     "text": [
      "[200, 131, 98, 78, 66, 54, 51, 48, 46, 45, 41, 40, 37, 34, 30, 27, 25, 22, 20, 17, 13, 12, 11, 10, 9, 8, 7, 6, 5, 5, 5, 5, 3, 2, 2, 2, 2, 2, 2, 2, 2, 2, 2, 2, 2, 2, 1, 1, 1, 1]\n",
      "[0.495, 0.6183206106870229, 0.7142857142857143, 0.782051282051282, 0.8181818181818182, 0.8333333333333334, 0.8431372549019608, 0.8333333333333334, 0.8695652173913043, 0.8666666666666667, 0.8536585365853658, 0.85, 0.8648648648648649, 0.8823529411764706, 0.9, 0.8888888888888888, 0.88, 0.9090909090909091, 0.9, 0.8823529411764706, 0.9230769230769231, 0.9166666666666666, 0.9090909090909091, 0.9, 1.0, 1.0, 1.0, 1.0, 1.0, 1.0, 1.0, 1.0, 1.0, 1.0, 1.0, 1.0, 1.0, 1.0, 1.0, 1.0, 1.0, 1.0, 1.0, 1.0, 1.0, 1.0, 1.0, 1.0, 1.0, 1.0]\n"
     ]
    }
   ],
   "source": [
    "old_u = []\n",
    "time_data_diff = []\n",
    "num_players_in_model = [m]\n",
    "prob_article_A = []\n",
    "t = 1\n",
    "    \n",
    "\n",
    "while (t <= T) and (t == 1 or len(old_u) > 0):\n",
    "    num_shown_A = 0\n",
    "    new_u = []  # list of new players that arrive at the timestep\n",
    "    if t == 1:  # initial mass of users arrives\n",
    "        for i in range(m): # iterating over the size of the unit mass\n",
    "            g = coin_toss(pi_a) # determine players group according to the true group distribution\n",
    "            a = coin_toss(probshowA) # show article A according to the platform's policy.  (right now, this is just a placeholder)\n",
    "            if a == 1:\n",
    "                num_shown_A = num_shown_A + 1\n",
    "            player = Player(group=g, article=a)\n",
    "            player.clicked = calcclick(player, 1, \n",
    "                                              P, \n",
    "                                              q, \n",
    "                                              probshowA,\n",
    "                                              c=c[(player.article, player.group)],\n",
    "                                              v=v[(player.article, player.group)])\n",
    "            if player.clicked:  \n",
    "                    if random.uniform(0, 1) <= P[(player.group, player.article)]:\n",
    "                        player.shared = True\n",
    "            old_u.append(player)\n",
    "\n",
    "    else:\n",
    "        for user in old_u:\n",
    "            \n",
    "            if user.shared == 1: # new user only added to the system if the previous user shared the article\n",
    "                if random.uniform(0, 1) <= q[user.group]:  # if next person is drawn by homophily\n",
    "                    new_user = Player(group=user.group)\n",
    "                else:\n",
    "                    new_user = Player(group=-user.group)\n",
    "                new_user.article = user.article\n",
    "                if new_user.article == 1:\n",
    "                    num_shown_A = num_shown_A + 1\n",
    "                new_user.clicked = calcclick(new_user, 1, \n",
    "                                              P, \n",
    "                                              q, \n",
    "                                              probshowA,\n",
    "                                              c=c[(player.article, player.group)],\n",
    "                                              v=v[(player.article, player.group)])\n",
    "                # decide if user shares article, according to P.\n",
    "                if new_user.clicked == 1:  \n",
    "                    if random.uniform(0, 1) <= P[(new_user.group, new_user.article)]:\n",
    "                        new_user.shared = True\n",
    "                else:\n",
    "                    new_user.shared = False\n",
    "\n",
    "                #add user to list\n",
    "                new_u.append(new_user)\n",
    "            else: #only add a user to the next round if the previous user shared the article \n",
    "                pass\n",
    "            \n",
    "        num_players_in_model.append(len(new_u)) #tracks how many players are being shown articles at all timesteps\n",
    "        old_u = new_u\n",
    "        \n",
    "        # print(\"Number of players left: \" + str(len(new_u))) #debugging statement\n",
    "        \n",
    "\n",
    "    t = t + 1\n",
    "    if len(old_u) > 0:\n",
    "        prob_article_A.append(num_shown_A / float(len(old_u)))\n",
    "    \n",
    "print(num_players_in_model)\n",
    "print(prob_article_A)"
   ]
  },
  {
   "cell_type": "code",
   "execution_count": 19,
   "metadata": {},
   "outputs": [
    {
     "data": {
      "image/png": "[encoded data removed]",
      "text/plain": [
       "<Figure size 432x288 with 1 Axes>"
      ]
     },
     "metadata": {
      "needs_background": "light"
     },
     "output_type": "display_data"
    }
   ],
   "source": [
    "plt.plot(prob_article_A, color='black')\n",
    "plt.title(\"Mass of articles being shown over time\")\n",
    "plt.ylabel(\"Proportion of users left being shown article $A$\")\n",
    "plt.xlabel(\"timestep $t$\")\n",
    "plt.ylim((-0.05,1.05))\n",
    "plt.xlim((0,t))\n",
    "plt.show()"
   ]
  },
  {
   "cell_type": "code",
   "execution_count": 20,
   "metadata": {},
   "outputs": [
    {
     "data": {
      "image/png": "[encoded data removed]",
      "text/plain": [
       "<Figure size 432x288 with 1 Axes>"
      ]
     },
     "metadata": {
      "needs_background": "light"
     },
     "output_type": "display_data"
    }
   ],
   "source": [
    "plt.plot(num_players_in_model, color='black')\n",
    "plt.title(\"Number of players remaining in the model\")\n",
    "plt.ylabel(\"Number of players shown an article\")\n",
    "plt.xlabel(\"timestep $t$\")\n",
    "plt.xlim((0,t))\n",
    "plt.ylim((0, m + 1))\n",
    "plt.show()"
   ]
  },
  {
   "cell_type": "code",
   "execution_count": null,
   "metadata": {
    "jupyter": {
     "source_hidden": true
    }
   },
   "outputs": [],
   "source": [
    "plt.plot(time_data_diff, color='black')\n",
    "plt.title(\"Mass of articles being shown over time\")\n",
    "plt.ylabel(\"learning towards article $a$ (1) and $b$ (-1)\")\n",
    "plt.xlabel(\"timestep t\")\n",
    "plt.ylim((-1,1))\n",
    "plt.axhline(y=0,color='grey')\n",
    "plt.axhline(y=np.average(time_data_diff),color='blue')\n",
    "#plt.axhline(y=epsilon,color='red')\n",
    "#plt.axhline(y=-1 * epsilon,color='red')\n",
    "plt.show()"
   ]
  }
 ],
 "metadata": {
  "kernelspec": {
   "display_name": "Python 3",
   "language": "python",
   "name": "python3"
  },
  "language_info": {
   "codemirror_mode": {
    "name": "ipython",
    "version": 3
   },
   "file_extension": ".py",
   "mimetype": "text/x-python",
   "name": "python",
   "nbconvert_exporter": "python",
   "pygments_lexer": "ipython3",
   "version": "3.8.3"
  }
 },
 "nbformat": 4,
 "nbformat_minor": 4
}

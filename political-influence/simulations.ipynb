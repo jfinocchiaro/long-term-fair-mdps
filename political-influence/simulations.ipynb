{
 "cells": [
  {
   "cell_type": "code",
   "execution_count": 35,
   "metadata": {},
   "outputs": [],
   "source": [
    "import numpy as np\n",
    "\n",
    "import matplotlib\n",
    "from matplotlib import pyplot as plt \n",
    "\n",
    "import random\n",
    "\n",
    "import platform_opt\n",
    "from players import *"
   ]
  },
  {
   "cell_type": "code",
   "execution_count": 43,
   "metadata": {},
   "outputs": [],
   "source": [
    "# SIMULATION PARAMETERS\n",
    "T = 50                # number of timesteps\n",
    "M = 2000                # M >= T\n",
    "pi_a, pi_b = 0.5, 0.5  # number of members in groups a and b\n",
    "m = 200                 # size of unit mass\n",
    "\n",
    "# indexed (user group, article group).\n",
    "# probability of like | click, user group, article group\n",
    "P = {( 1,  1):  1,\n",
    "     ( 1, -1):  1,\n",
    "     (-1,  1):  1,\n",
    "     (-1, -1):  1} \n",
    "\n",
    "# prob click | group membership\n",
    "probclick = {1: 0.5, -1: 0.5}  \n",
    "\n",
    "# utility for liking, known to both user and platform,\n",
    "# varies by (article shown, user group) pair\n",
    "v = {( 1,  1):   1.,\n",
    "     (-1,  1):   0.,\n",
    "     ( 1, -1):   0.,\n",
    "     (-1, -1):   1. }\n",
    "\n",
    "# cost of clicking, known to both user and platform,\n",
    "# c indexed by (article shown, user group)\n",
    "c = {( 1,  1):  1.,\n",
    "     (-1,  1):   1.,\n",
    "     ( 1, -1):   1.,\n",
    "     (-1, -1):   1. }\n",
    "\n",
    "# transition probability across groups at time t + 1\n",
    "q = {1: 1, -1: 1}\n",
    "\n",
    "# approximation parameter for approximately equal probability\n",
    "# of showing articles |theta - 1/2| <= epsilon\n",
    "epsilon = 0.4  \n",
    "\n",
    "\n",
    "# platform chooses their probability for showing article a by maximizing\n",
    "# expected clickthrough rate subject to fairness constraints\n",
    "# probshowA = platform_opt.optimize(epsilon, M * pi_a, M, T,\n",
    "#                                   P[('1', '1')], P[('-1', '1')],\n",
    "#                                   PLA=problike[1], PLB=problike[-1],\n",
    "#                                   muA = probclick[1], muB=probclick[-1])\n",
    "probshowA = 0.5"
   ]
  },
  {
   "cell_type": "code",
   "execution_count": 47,
   "metadata": {},
   "outputs": [
    {
     "name": "stdout",
     "output_type": "stream",
     "text": [
      "timestep 1\n",
      "timestep 2\n",
      "Number of players left: 200\n",
      "timestep 3\n",
      "Number of players left: 104\n",
      "timestep 4\n",
      "Number of players left: 104\n",
      "timestep 5\n",
      "Number of players left: 104\n",
      "timestep 6\n",
      "Number of players left: 104\n",
      "timestep 7\n",
      "Number of players left: 104\n",
      "timestep 8\n",
      "Number of players left: 104\n",
      "timestep 9\n",
      "Number of players left: 104\n",
      "timestep 10\n",
      "Number of players left: 104\n",
      "timestep 11\n",
      "Number of players left: 104\n",
      "timestep 12\n",
      "Number of players left: 104\n",
      "timestep 13\n",
      "Number of players left: 104\n",
      "timestep 14\n",
      "Number of players left: 104\n",
      "timestep 15\n",
      "Number of players left: 104\n",
      "timestep 16\n",
      "Number of players left: 104\n",
      "timestep 17\n",
      "Number of players left: 104\n",
      "timestep 18\n",
      "Number of players left: 104\n",
      "timestep 19\n",
      "Number of players left: 104\n",
      "timestep 20\n",
      "Number of players left: 104\n",
      "timestep 21\n",
      "Number of players left: 104\n",
      "timestep 22\n",
      "Number of players left: 104\n",
      "timestep 23\n",
      "Number of players left: 104\n",
      "timestep 24\n",
      "Number of players left: 104\n",
      "timestep 25\n",
      "Number of players left: 104\n",
      "timestep 26\n",
      "Number of players left: 104\n",
      "timestep 27\n",
      "Number of players left: 104\n",
      "timestep 28\n",
      "Number of players left: 104\n",
      "timestep 29\n",
      "Number of players left: 104\n",
      "timestep 30\n",
      "Number of players left: 104\n",
      "timestep 31\n",
      "Number of players left: 104\n",
      "timestep 32\n",
      "Number of players left: 104\n",
      "timestep 33\n",
      "Number of players left: 104\n",
      "timestep 34\n",
      "Number of players left: 104\n",
      "timestep 35\n",
      "Number of players left: 104\n",
      "timestep 36\n",
      "Number of players left: 104\n",
      "timestep 37\n",
      "Number of players left: 104\n",
      "timestep 38\n",
      "Number of players left: 104\n",
      "timestep 39\n",
      "Number of players left: 104\n",
      "timestep 40\n",
      "Number of players left: 104\n",
      "timestep 41\n",
      "Number of players left: 104\n",
      "timestep 42\n",
      "Number of players left: 104\n",
      "timestep 43\n",
      "Number of players left: 104\n",
      "timestep 44\n",
      "Number of players left: 104\n",
      "timestep 45\n",
      "Number of players left: 104\n",
      "timestep 46\n",
      "Number of players left: 104\n",
      "timestep 47\n",
      "Number of players left: 104\n",
      "timestep 48\n",
      "Number of players left: 104\n",
      "timestep 49\n",
      "Number of players left: 104\n",
      "timestep 50\n",
      "Number of players left: 104\n",
      "[200, 200, 104, 104, 104, 104, 104, 104, 104, 104, 104, 104, 104, 104, 104, 104, 104, 104, 104, 104, 104, 104, 104, 104, 104, 104, 104, 104, 104, 104, 104, 104, 104, 104, 104, 104, 104, 104, 104, 104, 104, 104, 104, 104, 104, 104, 104, 104, 104, 104]\n",
      "[0.5, 0.5, 0.5384615384615384, 0.5384615384615384, 0.5384615384615384, 0.5384615384615384, 0.5384615384615384, 0.5384615384615384, 0.5384615384615384, 0.5384615384615384, 0.5384615384615384, 0.5384615384615384, 0.5384615384615384, 0.5384615384615384, 0.5384615384615384, 0.5384615384615384, 0.5384615384615384, 0.5384615384615384, 0.5384615384615384, 0.5384615384615384, 0.5384615384615384, 0.5384615384615384, 0.5384615384615384, 0.5384615384615384, 0.5384615384615384, 0.5384615384615384, 0.5384615384615384, 0.5384615384615384, 0.5384615384615384, 0.5384615384615384, 0.5384615384615384, 0.5384615384615384, 0.5384615384615384, 0.5384615384615384, 0.5384615384615384, 0.5384615384615384, 0.5384615384615384, 0.5384615384615384, 0.5384615384615384, 0.5384615384615384, 0.5384615384615384, 0.5384615384615384, 0.5384615384615384, 0.5384615384615384, 0.5384615384615384, 0.5384615384615384, 0.5384615384615384, 0.5384615384615384, 0.5384615384615384, 0.5384615384615384]\n"
     ]
    }
   ],
   "source": [
    "old_u = []\n",
    "time_data_diff = []\n",
    "num_players_in_model = [m]\n",
    "prob_article_A = []\n",
    "t = 1\n",
    "    \n",
    "\n",
    "while (t <= T) and (t == 1 or len(old_u) > 0):\n",
    "    num_shown_A = 0\n",
    "    new_u = []  # list of new players that arrive at the timestep\n",
    "    print('timestep ' + str(t))\n",
    "    if t == 1:  # initial mass of users arrives\n",
    "        for i in range(m): #iterating over the size of the unit mass\n",
    "            g = coin_toss(pi_a) #determine players group according to the true group distribution\n",
    "            a = coin_toss(probshowA) #show article A according to the platform's policy.  (right now, this is just a placeholder)\n",
    "            if a == 1:\n",
    "                num_shown_A = num_shown_A + 1\n",
    "            player = Player(group=g, article=a)\n",
    "            player.clicked = calcclick(P[(player.group,  1)],\n",
    "                                         P[(player.group, -1)],\n",
    "                                         probshowA,\n",
    "                                         v=v[(player.article, player.group)],\n",
    "                                         c=c[(player.article, player.group)])\n",
    "            if player.clicked:  \n",
    "                    if random.uniform(0, 1) <= P[(player.group, player.article)]:\n",
    "                        player.shared = True\n",
    "            old_u.append(player)\n",
    "\n",
    "    else:\n",
    "        for user in old_u:\n",
    "            \n",
    "            if user.shared == 1: # new user only added to the system if the previous user shared the article\n",
    "                if random.uniform(0, 1) <= q[user.group]:  # if next person is drawn by homophily\n",
    "                    new_user = Player(group=user.group)\n",
    "                else:\n",
    "                    new_user = Player(group=-user.group)\n",
    "                new_user.article = user.article\n",
    "                if new_user.article == 1:\n",
    "                    num_shown_A = num_shown_A + 1\n",
    "                new_user.clicked = calcclick(P[(new_user.group,  1)],\n",
    "                                         P[(new_user.group, -1)],\n",
    "                                         probshowA,\n",
    "                                         v=v[(new_user.article, new_user.group)],\n",
    "                                         c=c[(new_user.article, new_user.group)]) #small bug here: this shouldn't be a function of probshowA, right?\n",
    "                # decide if user shares article, according to P.\n",
    "                if new_user.clicked == 1:  \n",
    "                    if random.uniform(0, 1) <= P[(new_user.group, new_user.article)]:\n",
    "                        new_user.shared = True\n",
    "                else:\n",
    "                    new_user.shared = False\n",
    "\n",
    "                #add user to list\n",
    "                new_u.append(new_user)\n",
    "            else: #only add a user to the next round if the previous user shared the article \n",
    "                pass\n",
    "            \n",
    "        num_players_in_model.append(len(new_u)) #tracks how many players are being shown articles at all timesteps\n",
    "        old_u = new_u\n",
    "        \n",
    "        # print(\"Number of players left: \" + str(len(new_u))) #debugging statement\n",
    "        \n",
    "\n",
    "    t = t + 1\n",
    "    if len(old_u) > 0:\n",
    "        prob_article_A.append(num_shown_A / float(len(old_u)))\n",
    "    \n",
    "print(num_players_in_model)\n",
    "print(prob_article_A)"
   ]
  },
  {
   "cell_type": "code",
   "execution_count": 8,
   "metadata": {
    "collapsed": true,
    "jupyter": {
     "outputs_hidden": true,
     "source_hidden": true
    }
   },
   "outputs": [
    {
     "data": {
      "image/png": "[encoded data removed]",
      "text/plain": [
       "<Figure size 432x288 with 1 Axes>"
      ]
     },
     "metadata": {
      "needs_background": "light"
     },
     "output_type": "display_data"
    }
   ],
   "source": [
    "plt.plot(time_data_diff, color='black')\n",
    "plt.title(\"Mass of articles being shown over time\")\n",
    "plt.ylabel(\"learning towards article $a$ (1) and $b$ (-1)\")\n",
    "plt.xlabel(\"timestep t\")\n",
    "plt.ylim((-1,1))\n",
    "plt.axhline(y=0,color='grey')\n",
    "plt.axhline(y=np.average(time_data_diff),color='blue')\n",
    "#plt.axhline(y=epsilon,color='red')\n",
    "#plt.axhline(y=-1 * epsilon,color='red')\n",
    "plt.show()"
   ]
  },
  {
   "cell_type": "code",
   "execution_count": 45,
   "metadata": {},
   "outputs": [
    {
     "data": {
      "image/png": "[encoded data removed]",
      "text/plain": [
       "<Figure size 432x288 with 1 Axes>"
      ]
     },
     "metadata": {
      "needs_background": "light"
     },
     "output_type": "display_data"
    }
   ],
   "source": [
    "plt.plot(prob_article_A, color='black')\n",
    "plt.title(\"Mass of articles being shown over time\")\n",
    "plt.ylabel(\"Proportion of users left being shown article $A$\")\n",
    "plt.xlabel(\"timestep $t$\")\n",
    "plt.ylim((-0.05,1.05))\n",
    "plt.xlim((0,t))\n",
    "plt.show()"
   ]
  },
  {
   "cell_type": "code",
   "execution_count": 46,
   "metadata": {},
   "outputs": [
    {
     "data": {
      "image/png": "[encoded data removed]",
      "text/plain": [
       "<Figure size 432x288 with 1 Axes>"
      ]
     },
     "metadata": {
      "needs_background": "light"
     },
     "output_type": "display_data"
    }
   ],
   "source": [
    "plt.plot(num_players_in_model, color='black')\n",
    "plt.title(\"Number of players remaining in the model\")\n",
    "plt.ylabel(\"Proportion of users left being shown article $A$\")\n",
    "plt.xlabel(\"timestep $t$\")\n",
    "plt.ylim((0,1))\n",
    "plt.xlim((0,t))\n",
    "plt.show()"
   ]
  },
  {
   "cell_type": "code",
   "execution_count": null,
   "metadata": {},
   "outputs": [],
   "source": []
  }
 ],
 "metadata": {
  "kernelspec": {
   "display_name": "Python 3",
   "language": "python",
   "name": "python3"
  },
  "language_info": {
   "codemirror_mode": {
    "name": "ipython",
    "version": 3
   },
   "file_extension": ".py",
   "mimetype": "text/x-python",
   "name": "python",
   "nbconvert_exporter": "python",
   "pygments_lexer": "ipython3",
   "version": "3.8.3"
  }
 },
 "nbformat": 4,
 "nbformat_minor": 4
}
